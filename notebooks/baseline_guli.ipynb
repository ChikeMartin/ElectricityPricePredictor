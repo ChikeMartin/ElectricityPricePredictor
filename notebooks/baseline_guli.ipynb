{
 "cells": [
  {
   "cell_type": "markdown",
   "metadata": {},
   "source": [
    "# SARIMAX"
   ]
  },
  {
   "cell_type": "markdown",
   "metadata": {},
   "source": [
    "## Data preprocessing"
   ]
  },
  {
   "cell_type": "code",
   "execution_count": 4,
   "metadata": {},
   "outputs": [],
   "source": [
    "import numpy as np"
   ]
  },
  {
   "cell_type": "markdown",
   "metadata": {},
   "source": [
    "## Data exploration"
   ]
  },
  {
   "cell_type": "markdown",
   "metadata": {},
   "source": [
    "### Decomposition"
   ]
  },
  {
   "cell_type": "markdown",
   "metadata": {},
   "source": [
    "- components:\n",
    " - Trend\n",
    " - Seaonal\n",
    " - cyclical \n",
    "\n",
    "- choose:\n",
    " - additive or multiplicative decomposition?   plot the residuls of both models and decide  \n",
    "\n",
    "- statsmodel.tsa [Deterministic Processes](https://www.statsmodels.org/stable/tsa.html#)      "
   ]
  },
  {
   "cell_type": "code",
   "execution_count": null,
   "metadata": {},
   "outputs": [],
   "source": [
    "from statsmodels.tsa.seasonal import seasonal_decompose\n",
    "# Additive Decomposition (y = Trend + Seasonal + Residuals)\n",
    "result_add = seasonal_decompose(df['value'], model='additive')\n",
    "result_add.plot();"
   ]
  },
  {
   "cell_type": "code",
   "execution_count": null,
   "metadata": {},
   "outputs": [],
   "source": [
    "# Multiplicative Decomposition (y = Trend * Seasonal * Residuals)\n",
    "result_mul = seasonal_decompose(df['value'], model='multiplicative')\n",
    "result_mul.plot();"
   ]
  },
  {
   "cell_type": "markdown",
   "metadata": {},
   "source": [
    "### Explore stationarity"
   ]
  },
  {
   "cell_type": "code",
   "execution_count": null,
   "metadata": {},
   "outputs": [],
   "source": [
    "fig, axs = plt.subplots(2, 2, figsize=(20,8))\n",
    "# Original series\n",
    "axs[0,0].plot(df.log); axs[0,0].set_title('Original Series')\n",
    "\n",
    "# Normal differencing\n",
    "axs[0,1].plot(df.log.diff(1)); axs[0,1].set_title('1st Order Differencing')\n",
    "\n",
    "# Seasonal differencing\n",
    "axs[1,0].plot(df.log.diff(12))\n",
    "axs[1,0].set_title('Seasonal differencing of period 12')\n",
    "\n",
    "# Sesonal + Normal differencing\n",
    "axs[1,1].plot(df.log.diff(12).diff(1))\n",
    "axs[1,1].set_title('First order diff of seasonal differencing 12');"
   ]
  },
  {
   "cell_type": "code",
   "execution_count": null,
   "metadata": {},
   "outputs": [],
   "source": [
    "# ADF test on lag day\n",
    "adful_t = sm.tsa.adfuller(train_flat, maxlag=24)\n",
    "print(pd.Series(adful_t[0:4], index=['Test Statistic','p-value','#Lags','Observations']))"
   ]
  },
  {
   "cell_type": "code",
   "execution_count": null,
   "metadata": {},
   "outputs": [],
   "source": [
    "# ADF test on lag week\n",
    "adful_t = sm.tsa.adfuller(train_flat, maxlag=24*7)\n",
    "print(pd.Series(adful_t[0:4], index=['Test Statistic','p-value','#Lags','Observations']))"
   ]
  },
  {
   "cell_type": "code",
   "execution_count": null,
   "metadata": {},
   "outputs": [],
   "source": [
    "# ADF test on lag month\n",
    "adful_t = sm.tsa.adfuller(train_flat, maxlag=24*7*30)\n",
    "print(pd.Series(adful_t[0:4], index=['Test Statistic','p-value','#Lags','Observations']))"
   ]
  },
  {
   "cell_type": "markdown",
   "metadata": {},
   "source": [
    "### Autocorrelation"
   ]
  },
  {
   "cell_type": "code",
   "execution_count": null,
   "metadata": {},
   "outputs": [],
   "source": [
    "# plot ACF and PACF\n",
    "from statsmodels.graphics.tsaplots import plot_pacf\n",
    "fig, axes = plt.subplots(1,2, figsize=(16,3))\n",
    "plot_acf(df.value, lags=50, ax=axes[0]);\n",
    "plot_pacf(df.value, lags=50, ax=axes[1], color='r')"
   ]
  },
  {
   "cell_type": "markdown",
   "metadata": {},
   "source": [
    "## hyperparameters"
   ]
  },
  {
   "cell_type": "code",
   "execution_count": null,
   "metadata": {},
   "outputs": [],
   "source": [
    "# grid search the hyper params\n",
    "import pmdarima as pm\n",
    "smodel = pm.auto_arima(train, seasonal=True, m=12, \n",
    "                       start_p=0, max_p=1, max_d=1, start_q=0, max_q=1,\n",
    "                       start_P=0, max_P=2, max_D=1, start_Q=0, max_Q=2, \n",
    "                       trace=True, error_action='ignore', suppress_warnings=True) # The lower AIC the better"
   ]
  },
  {
   "cell_type": "markdown",
   "metadata": {},
   "source": [
    "## SARIMAX Model"
   ]
  },
  {
   "cell_type": "code",
   "execution_count": null,
   "metadata": {},
   "outputs": [],
   "source": [
    "# Create a correct Training/Test split to predict the last 50 points\n",
    "train = df.linearized[0:150]\n",
    "test = df.linearized[150:]"
   ]
  },
  {
   "cell_type": "code",
   "execution_count": null,
   "metadata": {},
   "outputs": [],
   "source": [
    "from statsmodels.tsa.statespace.sarimax import SARIMAX\n",
    "\n",
    "# Build Model\n",
    "sarima = SARIMAX(engod=df['electricity_price'],\n",
    "                 exog=df['day_of_week'],\n",
    "                 order=(3, 0, 0),seasonal_order=(0,1,2,12)\n",
    "                )\n",
    "sarima = sarima.fit()\n",
    "\n",
    "# Forecast\n",
    "results = sarima.get_forecast(len(test), alpha=0.05) # 95% confidence\n",
    "forecast = results.predicted_mean\n",
    "confidence_int = results.conf_int()"
   ]
  },
  {
   "cell_type": "markdown",
   "metadata": {},
   "source": [
    "## Recomposition"
   ]
  },
  {
   "cell_type": "code",
   "execution_count": null,
   "metadata": {},
   "outputs": [],
   "source": [
    "# re-compose back to initial time series\n",
    "\n",
    "forecast_recons = np.exp(forecast)*result_mul.seasonal[150:]\n",
    "train_recons = np.exp(train)*result_mul.seasonal[0:150]\n",
    "test_recons = np.exp(test)*result_mul.seasonal[150:]\n",
    "lower_recons = np.exp(confidence_int)[:,0]*result_mul.seasonal[150:]\n",
    "upper_recons = np.exp(confidence_int)[:,1]*result_mul.seasonal[150:]\n",
    "\n",
    "# plt \n",
    "plot_forecast(forecast_recons, train_recons, test_recons, lower_recons.values, upper_recons.values)"
   ]
  },
  {
   "cell_type": "markdown",
   "metadata": {},
   "source": [
    "## Inference validity"
   ]
  },
  {
   "cell_type": "code",
   "execution_count": null,
   "metadata": {},
   "outputs": [],
   "source": [
    "## plot residuals to see whether their normal distributed\n",
    "residuals = pd.DataFrame(arima.resid)\n",
    "\n",
    "fig, ax = plt.subplots(1,2, figsize=(16,3))\n",
    "residuals.plot(title=\"Residuals\", ax=ax[0])\n",
    "residuals.plot(kind='kde', title='Density', ax=ax[1])\n",
    "plt.show()"
   ]
  },
  {
   "cell_type": "markdown",
   "metadata": {},
   "source": [
    "# Prophet"
   ]
  },
  {
   "cell_type": "markdown",
   "metadata": {},
   "source": [
    "[reference for model_b](https://towardsdatascience.com/multivariate-time-series-forecasting-using-random-forest-2372f3ecbad1)"
   ]
  }
 ],
 "metadata": {
  "kernelspec": {
   "display_name": "Python 3",
   "language": "python",
   "name": "python3"
  },
  "language_info": {
   "codemirror_mode": {
    "name": "ipython",
    "version": 3
   },
   "file_extension": ".py",
   "mimetype": "text/x-python",
   "name": "python",
   "nbconvert_exporter": "python",
   "pygments_lexer": "ipython3",
   "version": "3.7.7"
  },
  "toc": {
   "base_numbering": 1,
   "nav_menu": {},
   "number_sections": true,
   "sideBar": true,
   "skip_h1_title": false,
   "title_cell": "Table of Contents",
   "title_sidebar": "Contents",
   "toc_cell": false,
   "toc_position": {},
   "toc_section_display": true,
   "toc_window_display": false
  }
 },
 "nbformat": 4,
 "nbformat_minor": 4
}
