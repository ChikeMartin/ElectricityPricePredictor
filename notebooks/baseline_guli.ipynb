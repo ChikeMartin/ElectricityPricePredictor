{
 "cells": [
  {
   "cell_type": "markdown",
   "metadata": {},
   "source": [
    "# ARIMA"
   ]
  },
  {
   "cell_type": "markdown",
   "metadata": {},
   "source": [
    "## Decomposition"
   ]
  },
  {
   "cell_type": "markdown",
   "metadata": {},
   "source": [
    "- components:\n",
    " - Trend\n",
    " - Seaonal\n",
    " - cyclical \n",
    "\n",
    "- choose:\n",
    " - additive or multiplicative decomposition?   plot the residuls of both models and decide  \n",
    "\n",
    "- statsmodel.tsa [Deterministic Processes](https://www.statsmodels.org/stable/tsa.html#)      "
   ]
  },
  {
   "cell_type": "markdown",
   "metadata": {},
   "source": [
    "## if non-stationary convert to stationary TS "
   ]
  },
  {
   "cell_type": "markdown",
   "metadata": {},
   "source": [
    "- ADF test\n",
    "- 1st/2nd order diff or log transform\n",
    "- plot and ADF test"
   ]
  },
  {
   "cell_type": "markdown",
   "metadata": {},
   "source": [
    "## hyperparameters"
   ]
  },
  {
   "cell_type": "code",
   "execution_count": null,
   "metadata": {},
   "outputs": [],
   "source": [
    "# plot ACF and PACF"
   ]
  },
  {
   "cell_type": "code",
   "execution_count": null,
   "metadata": {},
   "outputs": [],
   "source": [
    "# grid search the hyper params\n",
    "import pmdarima as pm\n",
    "smodel = pm.auto_arima(df.linearized,\n",
    "                       start_p=0, max_p=2,\n",
    "                       start_q=0, max_q=2,\n",
    "                       seasonal=False,\n",
    "                       trace=True) # The lower AIC the better"
   ]
  },
  {
   "cell_type": "markdown",
   "metadata": {},
   "source": [
    "## ARIMA Model"
   ]
  },
  {
   "cell_type": "code",
   "execution_count": null,
   "metadata": {},
   "outputs": [],
   "source": [
    "# train\n",
    "from statsmodels.tsa.arima_model import ARIMA #statsmodels 0.11\n",
    "#from statsmodels.tsa.arima.model import ARIMA #statsmodels 0.12\n",
    "\n",
    "arima = ARIMA(df.linearized, order=(2,1,1))\n",
    "arima = arima.fit()\n",
    "arima.summary() "
   ]
  },
  {
   "cell_type": "code",
   "execution_count": null,
   "metadata": {},
   "outputs": [],
   "source": [
    "# predict\n",
    "arima.plot_predict(end=250);\n",
    "fig = plt.gcf(); fig.set_size_inches(12, 5);\n",
    "# MA(1) effect only survives for one time step, no forecast errors after one forecast"
   ]
  },
  {
   "cell_type": "code",
   "execution_count": null,
   "metadata": {},
   "outputs": [],
   "source": [
    "# Create a correct Training/Test split to predict the last 50 points\n",
    "train = df.linearized[0:150]\n",
    "test = df.linearized[150:]\n",
    "\n",
    "# Build Model\n",
    "arima = ARIMA(train, order=(0, 1, 1))  \n",
    "arima = arima.fit()\n",
    "\n",
    "# Forecast\n",
    "forecast, std_err, confidence_int = arima.forecast(len(test), alpha=0.05)  # 95% confidence\n",
    "plot_forecast(forecast, train, test, confidence_int[:,0], confidence_int[:,1])"
   ]
  },
  {
   "cell_type": "markdown",
   "metadata": {},
   "source": [
    "## Recomposition"
   ]
  },
  {
   "cell_type": "code",
   "execution_count": null,
   "metadata": {},
   "outputs": [],
   "source": [
    "# re-compose back to initial time series\n",
    "\n",
    "forecast_recons = np.exp(forecast)*result_mul.seasonal[150:]\n",
    "train_recons = np.exp(train)*result_mul.seasonal[0:150]\n",
    "test_recons = np.exp(test)*result_mul.seasonal[150:]\n",
    "lower_recons = np.exp(confidence_int)[:,0]*result_mul.seasonal[150:]\n",
    "upper_recons = np.exp(confidence_int)[:,1]*result_mul.seasonal[150:]\n",
    "\n",
    "# plt \n",
    "plot_forecast(forecast_recons, train_recons, test_recons, lower_recons.values, upper_recons.values)"
   ]
  },
  {
   "cell_type": "markdown",
   "metadata": {},
   "source": [
    "## Inference validity"
   ]
  },
  {
   "cell_type": "code",
   "execution_count": null,
   "metadata": {},
   "outputs": [],
   "source": [
    "## plot residuals to see whether their normal distributed\n",
    "residuals = pd.DataFrame(arima.resid)\n",
    "\n",
    "fig, ax = plt.subplots(1,2, figsize=(16,3))\n",
    "residuals.plot(title=\"Residuals\", ax=ax[0])\n",
    "residuals.plot(kind='kde', title='Density', ax=ax[1])\n",
    "plt.show()"
   ]
  },
  {
   "cell_type": "markdown",
   "metadata": {},
   "source": [
    "# SARIMA"
   ]
  },
  {
   "cell_type": "markdown",
   "metadata": {},
   "source": [
    "# Prophet"
   ]
  },
  {
   "cell_type": "markdown",
   "metadata": {},
   "source": [
    "[reference for model_b](https://towardsdatascience.com/multivariate-time-series-forecasting-using-random-forest-2372f3ecbad1)"
   ]
  }
 ],
 "metadata": {
  "kernelspec": {
   "display_name": "Python 3",
   "language": "python",
   "name": "python3"
  },
  "language_info": {
   "codemirror_mode": {
    "name": "ipython",
    "version": 3
   },
   "file_extension": ".py",
   "mimetype": "text/x-python",
   "name": "python",
   "nbconvert_exporter": "python",
   "pygments_lexer": "ipython3",
   "version": "3.7.7"
  },
  "toc": {
   "base_numbering": 1,
   "nav_menu": {},
   "number_sections": true,
   "sideBar": true,
   "skip_h1_title": false,
   "title_cell": "Table of Contents",
   "title_sidebar": "Contents",
   "toc_cell": false,
   "toc_position": {},
   "toc_section_display": true,
   "toc_window_display": false
  }
 },
 "nbformat": 4,
 "nbformat_minor": 4
}
