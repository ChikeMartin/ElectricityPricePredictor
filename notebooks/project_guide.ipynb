{
 "cells": [
  {
   "cell_type": "markdown",
   "metadata": {},
   "source": [
    "# Forecasting Electricity Prices for DK\n",
    "                                                                 \n",
    "\n",
    "**Project aim: Create a model that can forecast electricity prices for DK with minimum errors as possiple**"
   ]
  },
  {
   "cell_type": "markdown",
   "metadata": {},
   "source": [
    "## Project description"
   ]
  },
  {
   "cell_type": "markdown",
   "metadata": {},
   "source": [
    "### Data Sources"
   ]
  },
  {
   "cell_type": "markdown",
   "metadata": {},
   "source": [
    "**Day-ahead prices by bidding zone**                                     \n",
    "\n",
    "[data from NORD POOL](https://www.nordpoolgroup.com/Market-data1/Dayahead/Area-Prices/ALL1/Hourly/?view=table)                  \n",
    "\n",
    "**Features** \n",
    "\n",
    "[data from ENTSOE](https://transparency.entsoe.eu/load-domain/r2/totalLoadR2/show?name=&defaultValue=true&viewType=TABLE&areaType=BZN&atch=false&dateTime.dateTime=06.11.2020+00:00|CET|DAY&biddingZone.values=CTY|10Y1001A1001A83F!BZN|10Y1001A1001A82H&dateTime.timezone=CET_CEST&dateTime.timezone_input=CET+(UTC+1)+/+CEST+(UTC+2))\n",
    "                   \n",
    "time-step features:                  \n",
    "1. day-ahead prices since 2015\n",
    "2. load since 2015\n",
    "3. transfer capacity since 2015\n",
    "4. generation since 2015???\n",
    "5. weather API ??     \n",
    "\n",
    "\n",
    "features can be used in prediction:                         \n",
    "1. week-ahead load\n",
    "2. week-ahead transfer capacity\n",
    "3. week-ahead weather API ??\n"
   ]
  },
  {
   "cell_type": "markdown",
   "metadata": {},
   "source": [
    "### references"
   ]
  },
  {
   "cell_type": "markdown",
   "metadata": {},
   "source": [
    "- **github repo**            \n",
    "[load forecasting repo on github](https://github.com/nicholasjhana/short-term-energy-demand-forecasting)  \n",
    "This repo compares the performances of LSTM, Prophet and SARIMA on load forcasting    \n",
    "[high quality detailed electricity price predictor repo](https://github.com/dannychua/Electricity-Price-Predictor)                 \n",
    "[comparing different models for load  forecasting](https://towardsdatascience.com/predicting-electricity-demand-in-la-outperforming-the-government-a0921463fde8)         \n",
    "[price forecasting kaggle](https://www.kaggle.com/dimitriosroussis/electricity-price-forecasting-with-dnns-eda#Electricity-Price-Forecasting-with-Deep-Neural-Networks)\n",
    "\n",
    "- **basic concepts**                  \n",
    "[energy forcasting (load and prices)](https://en.wikipedia.org/wiki/Energy_forecasting)\n",
    "\n",
    "- **publications**                           \n",
    "[High-Resolution Electricity Spot Price Forecast for the Danish Power Market](https://sci-hub.se/https://www.mdpi.com/2071-1050/12/10/4267)            \n",
    "This paper presents a **linear model** based on consumption, thermal power production, wind production and previous electricity\n",
    "prices.                     \n",
    "[Electricity Price Forecasting in the Danish Day-Ahead Market Using the TBATS, ANN and ARIMA Methods](https://sci-hub.se/https://www.mdpi.com/1996-1073/12/5/928)                          \n",
    "This paper compared TBATS, ANN and ARIMA methods.                    \n",
    "[A seasonal feedforward neural network to forecast\n",
    "electricity prices](https://sci-hub.se/https://link.springer.com/article/10.1007%2Fs00521-016-2356-y)                   \n",
    "This paper presents a **SAR-NN model** which is an ANN-based autoregressive model. MAPE 3-6%                                       \n",
    "[Statistical and Machine Learning forecasting methods: Concerns and ways forward](https://sci-hub.se/https://journals.plos.org/plosone/article?id=10.1371/journal.pone.0194889)   \n",
    "[Deep Learning-Based Short-Term Load Forecasting for Supporting Demand Response Program in Hybrid Energy System](https://www.mdpi.com/1996-1073/12/17/3359)"
   ]
  },
  {
   "cell_type": "markdown",
   "metadata": {
    "heading_collapsed": true
   },
   "source": [
    "## Data gathering and cleaning (23-25 Nov)"
   ]
  },
  {
   "cell_type": "markdown",
   "metadata": {
    "hidden": true
   },
   "source": [
    "- get data download\n",
    "- clean the data\n",
    "- package the cleaning functions         \n",
    "- store the cleaned dataset\n",
    "- LSTM needs restructuring the data"
   ]
  },
  {
   "cell_type": "markdown",
   "metadata": {
    "hidden": true
   },
   "source": [
    "### day-ahead prices"
   ]
  },
  {
   "cell_type": "code",
   "execution_count": 1,
   "metadata": {
    "hidden": true
   },
   "outputs": [],
   "source": [
    "# API"
   ]
  },
  {
   "cell_type": "markdown",
   "metadata": {
    "heading_collapsed": true
   },
   "source": [
    "## Create performance baseline "
   ]
  },
  {
   "cell_type": "markdown",
   "metadata": {
    "hidden": true
   },
   "source": [
    "Using SARIMA and only day-ahead prices to set performance baseline\n",
    "- use MAPE to evaluate the performance"
   ]
  },
  {
   "cell_type": "markdown",
   "metadata": {
    "heading_collapsed": true
   },
   "source": [
    "## Data exploration (26 Nov)"
   ]
  },
  {
   "cell_type": "markdown",
   "metadata": {
    "hidden": true
   },
   "source": [
    "- feature engineering and packaging them\n",
    "- create a github repo and store the data(raw_data, cleaned_data) and data.py"
   ]
  },
  {
   "cell_type": "markdown",
   "metadata": {
    "heading_collapsed": true
   },
   "source": [
    "## Coding the model on Notebook (27 Nov)"
   ]
  },
  {
   "cell_type": "markdown",
   "metadata": {
    "hidden": true
   },
   "source": [
    "- each person focus on a specific type of model (ARIMA/SARIMA, Facebook Prophet, LSTM(RNN), SVR, KNN etc.)"
   ]
  },
  {
   "cell_type": "markdown",
   "metadata": {
    "heading_collapsed": true,
    "hidden": true
   },
   "source": [
    "### ARIMA/SARIMA"
   ]
  },
  {
   "cell_type": "markdown",
   "metadata": {
    "heading_collapsed": true,
    "hidden": true
   },
   "source": [
    "### Prophet"
   ]
  },
  {
   "cell_type": "markdown",
   "metadata": {
    "heading_collapsed": true,
    "hidden": true
   },
   "source": [
    "### LSTM"
   ]
  },
  {
   "cell_type": "markdown",
   "metadata": {
    "hidden": true
   },
   "source": [
    "- Data windowing\n",
    "- autoregressive LSTM (AR LSTM)             \n",
    "[tensorflow has a notebook on working with time series](https://www.tensorflow.org/tutorials/structured_data/time_series)"
   ]
  },
  {
   "cell_type": "markdown",
   "metadata": {
    "heading_collapsed": true,
    "hidden": true
   },
   "source": [
    "### SVR"
   ]
  },
  {
   "cell_type": "markdown",
   "metadata": {
    "heading_collapsed": true,
    "hidden": true
   },
   "source": [
    "### Bootstrap Aggregating"
   ]
  },
  {
   "cell_type": "markdown",
   "metadata": {
    "heading_collapsed": true
   },
   "source": [
    "## Package the codes (27 Nov)"
   ]
  },
  {
   "cell_type": "markdown",
   "metadata": {
    "hidden": true
   },
   "source": [
    "- package your codes from notebook"
   ]
  },
  {
   "cell_type": "markdown",
   "metadata": {
    "heading_collapsed": true
   },
   "source": [
    "## Train at small scale"
   ]
  },
  {
   "cell_type": "markdown",
   "metadata": {
    "hidden": true
   },
   "source": [
    "- tune your model with a subset of the cleaned dataset"
   ]
  },
  {
   "cell_type": "markdown",
   "metadata": {
    "heading_collapsed": true
   },
   "source": [
    "## Train on GCP at scale"
   ]
  },
  {
   "cell_type": "markdown",
   "metadata": {
    "hidden": true
   },
   "source": [
    "- train and evaluate them with the whole dataset on GCP\n",
    "- if necessary further tunning with whole dataset"
   ]
  },
  {
   "cell_type": "markdown",
   "metadata": {
    "heading_collapsed": true
   },
   "source": [
    "## Deploy the trained model"
   ]
  },
  {
   "cell_type": "markdown",
   "metadata": {
    "hidden": true
   },
   "source": [
    "- Prediction API is deployed on Heroku if small enough or GCR\n",
    "- Website calls the Prediction API and is deployed on Heroku"
   ]
  }
 ],
 "metadata": {
  "kernelspec": {
   "display_name": "Python 3",
   "language": "python",
   "name": "python3"
  },
  "language_info": {
   "codemirror_mode": {
    "name": "ipython",
    "version": 3
   },
   "file_extension": ".py",
   "mimetype": "text/x-python",
   "name": "python",
   "nbconvert_exporter": "python",
   "pygments_lexer": "ipython3",
   "version": "3.7.7"
  },
  "toc": {
   "base_numbering": 1,
   "nav_menu": {},
   "number_sections": true,
   "sideBar": true,
   "skip_h1_title": false,
   "title_cell": "Table of Contents",
   "title_sidebar": "Contents",
   "toc_cell": false,
   "toc_position": {},
   "toc_section_display": true,
   "toc_window_display": false
  },
  "varInspector": {
   "cols": {
    "lenName": 16,
    "lenType": 16,
    "lenVar": 40
   },
   "kernels_config": {
    "python": {
     "delete_cmd_postfix": "",
     "delete_cmd_prefix": "del ",
     "library": "var_list.py",
     "varRefreshCmd": "print(var_dic_list())"
    },
    "r": {
     "delete_cmd_postfix": ") ",
     "delete_cmd_prefix": "rm(",
     "library": "var_list.r",
     "varRefreshCmd": "cat(var_dic_list()) "
    }
   },
   "types_to_exclude": [
    "module",
    "function",
    "builtin_function_or_method",
    "instance",
    "_Feature"
   ],
   "window_display": false
  }
 },
 "nbformat": 4,
 "nbformat_minor": 4
}
