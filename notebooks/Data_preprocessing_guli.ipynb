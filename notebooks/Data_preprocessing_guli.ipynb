{
 "cells": [
  {
   "cell_type": "markdown",
   "metadata": {},
   "source": [
    "# Data Preprocessing"
   ]
  },
  {
   "cell_type": "markdown",
   "metadata": {
    "heading_collapsed": true
   },
   "source": [
    "## get_shifted_price"
   ]
  },
  {
   "cell_type": "code",
   "execution_count": 1,
   "metadata": {
    "hidden": true
   },
   "outputs": [],
   "source": [
    "%load_ext autoreload\n",
    "%autoreload 2"
   ]
  },
  {
   "cell_type": "code",
   "execution_count": 15,
   "metadata": {
    "hidden": true
   },
   "outputs": [
    {
     "data": {
      "text/html": [
       "<div>\n",
       "<style scoped>\n",
       "    .dataframe tbody tr th:only-of-type {\n",
       "        vertical-align: middle;\n",
       "    }\n",
       "\n",
       "    .dataframe tbody tr th {\n",
       "        vertical-align: top;\n",
       "    }\n",
       "\n",
       "    .dataframe thead th {\n",
       "        text-align: right;\n",
       "    }\n",
       "</style>\n",
       "<table border=\"1\" class=\"dataframe\">\n",
       "  <thead>\n",
       "    <tr style=\"text-align: right;\">\n",
       "      <th></th>\n",
       "      <th>price</th>\n",
       "    </tr>\n",
       "    <tr>\n",
       "      <th>time</th>\n",
       "      <th></th>\n",
       "    </tr>\n",
       "  </thead>\n",
       "  <tbody>\n",
       "    <tr>\n",
       "      <th>2015-01-01 00:00:00</th>\n",
       "      <td>25.02</td>\n",
       "    </tr>\n",
       "    <tr>\n",
       "      <th>2015-01-01 01:00:00</th>\n",
       "      <td>18.29</td>\n",
       "    </tr>\n",
       "    <tr>\n",
       "      <th>2015-01-01 02:00:00</th>\n",
       "      <td>16.04</td>\n",
       "    </tr>\n",
       "    <tr>\n",
       "      <th>2015-01-01 03:00:00</th>\n",
       "      <td>14.60</td>\n",
       "    </tr>\n",
       "    <tr>\n",
       "      <th>2015-01-01 04:00:00</th>\n",
       "      <td>14.95</td>\n",
       "    </tr>\n",
       "  </tbody>\n",
       "</table>\n",
       "</div>"
      ],
      "text/plain": [
       "                     price\n",
       "time                      \n",
       "2015-01-01 00:00:00  25.02\n",
       "2015-01-01 01:00:00  18.29\n",
       "2015-01-01 02:00:00  16.04\n",
       "2015-01-01 03:00:00  14.60\n",
       "2015-01-01 04:00:00  14.95"
      ]
     },
     "execution_count": 15,
     "metadata": {},
     "output_type": "execute_result"
    }
   ],
   "source": [
    "from electricity_price_predictor.data_2 import get_price\n",
    "df = get_price()\n",
    "df.head()"
   ]
  },
  {
   "cell_type": "code",
   "execution_count": 16,
   "metadata": {
    "hidden": true
   },
   "outputs": [
    {
     "data": {
      "text/plain": [
       "(51726, 1)"
      ]
     },
     "execution_count": 16,
     "metadata": {},
     "output_type": "execute_result"
    }
   ],
   "source": [
    "df.shape"
   ]
  },
  {
   "cell_type": "code",
   "execution_count": 4,
   "metadata": {
    "hidden": true,
    "scrolled": false
   },
   "outputs": [
    {
     "data": {
      "text/html": [
       "<div>\n",
       "<style scoped>\n",
       "    .dataframe tbody tr th:only-of-type {\n",
       "        vertical-align: middle;\n",
       "    }\n",
       "\n",
       "    .dataframe tbody tr th {\n",
       "        vertical-align: top;\n",
       "    }\n",
       "\n",
       "    .dataframe thead th {\n",
       "        text-align: right;\n",
       "    }\n",
       "</style>\n",
       "<table border=\"1\" class=\"dataframe\">\n",
       "  <thead>\n",
       "    <tr style=\"text-align: right;\">\n",
       "      <th></th>\n",
       "      <th>price</th>\n",
       "    </tr>\n",
       "    <tr>\n",
       "      <th>time</th>\n",
       "      <th></th>\n",
       "    </tr>\n",
       "  </thead>\n",
       "  <tbody>\n",
       "    <tr>\n",
       "      <th>2015-03-29 02:00:00</th>\n",
       "      <td>NaN</td>\n",
       "    </tr>\n",
       "    <tr>\n",
       "      <th>2016-03-27 02:00:00</th>\n",
       "      <td>NaN</td>\n",
       "    </tr>\n",
       "    <tr>\n",
       "      <th>2017-03-26 02:00:00</th>\n",
       "      <td>NaN</td>\n",
       "    </tr>\n",
       "    <tr>\n",
       "      <th>2018-03-25 02:00:00</th>\n",
       "      <td>NaN</td>\n",
       "    </tr>\n",
       "    <tr>\n",
       "      <th>2019-03-31 02:00:00</th>\n",
       "      <td>NaN</td>\n",
       "    </tr>\n",
       "    <tr>\n",
       "      <th>2020-03-29 02:00:00</th>\n",
       "      <td>NaN</td>\n",
       "    </tr>\n",
       "  </tbody>\n",
       "</table>\n",
       "</div>"
      ],
      "text/plain": [
       "                     price\n",
       "time                      \n",
       "2015-03-29 02:00:00    NaN\n",
       "2016-03-27 02:00:00    NaN\n",
       "2017-03-26 02:00:00    NaN\n",
       "2018-03-25 02:00:00    NaN\n",
       "2019-03-31 02:00:00    NaN\n",
       "2020-03-29 02:00:00    NaN"
      ]
     },
     "execution_count": 4,
     "metadata": {},
     "output_type": "execute_result"
    }
   ],
   "source": [
    "df[df.price.isnull()] "
   ]
  },
  {
   "cell_type": "code",
   "execution_count": 4,
   "metadata": {
    "hidden": true,
    "scrolled": false
   },
   "outputs": [
    {
     "data": {
      "text/plain": [
       "2019-10-27 02:00:00    2\n",
       "2020-10-25 02:00:00    2\n",
       "2016-10-30 02:00:00    2\n",
       "2017-10-29 02:00:00    2\n",
       "2015-10-25 02:00:00    2\n",
       "2018-10-28 02:00:00    2\n",
       "2017-05-31 04:00:00    1\n",
       "2020-05-02 05:00:00    1\n",
       "Name: time, dtype: int64"
      ]
     },
     "execution_count": 4,
     "metadata": {},
     "output_type": "execute_result"
    }
   ],
   "source": [
    "df.reset_index()['time'].value_counts().head(8)"
   ]
  },
  {
   "cell_type": "markdown",
   "metadata": {
    "hidden": true
   },
   "source": [
    "**They are likely caused by daylight saving time**"
   ]
  },
  {
   "cell_type": "code",
   "execution_count": 5,
   "metadata": {
    "hidden": true,
    "scrolled": true
   },
   "outputs": [
    {
     "data": {
      "text/html": [
       "<div>\n",
       "<style scoped>\n",
       "    .dataframe tbody tr th:only-of-type {\n",
       "        vertical-align: middle;\n",
       "    }\n",
       "\n",
       "    .dataframe tbody tr th {\n",
       "        vertical-align: top;\n",
       "    }\n",
       "\n",
       "    .dataframe thead th {\n",
       "        text-align: right;\n",
       "    }\n",
       "</style>\n",
       "<table border=\"1\" class=\"dataframe\">\n",
       "  <thead>\n",
       "    <tr style=\"text-align: right;\">\n",
       "      <th></th>\n",
       "      <th>price</th>\n",
       "    </tr>\n",
       "    <tr>\n",
       "      <th>time</th>\n",
       "      <th></th>\n",
       "    </tr>\n",
       "  </thead>\n",
       "  <tbody>\n",
       "    <tr>\n",
       "      <th>2015-10-25 02:00:00</th>\n",
       "      <td>20.82</td>\n",
       "    </tr>\n",
       "    <tr>\n",
       "      <th>2015-10-25 02:00:00</th>\n",
       "      <td>20.77</td>\n",
       "    </tr>\n",
       "  </tbody>\n",
       "</table>\n",
       "</div>"
      ],
      "text/plain": [
       "                     price\n",
       "time                      \n",
       "2015-10-25 02:00:00  20.82\n",
       "2015-10-25 02:00:00  20.77"
      ]
     },
     "execution_count": 5,
     "metadata": {},
     "output_type": "execute_result"
    }
   ],
   "source": [
    "df.loc['2015-10-25 02:00:00']"
   ]
  },
  {
   "cell_type": "code",
   "execution_count": 17,
   "metadata": {
    "hidden": true,
    "scrolled": true
   },
   "outputs": [],
   "source": [
    "df_1 = df.loc['2015-01-01 00:00:00':'2015-03-29 01:00:00']\n",
    "df_2 = df.loc['2015-03-29 02:00:00':'2015-10-25 02:00:00']\n",
    "df_3 = df.loc['2015-10-25 03:00:00':'2016-03-27 01:00:00']\n",
    "df_4 = df.loc['2016-03-27 02:00:00':'2016-10-30 02:00:00']\n",
    "df_5 = df.loc['2016-10-30 03:00:00':'2017-03-26 01:00:00']\n",
    "df_6 = df.loc['2017-03-26 02:00:00':'2017-10-29 02:00:00']\n",
    "df_7 = df.loc['2017-10-29 03:00:00':'2018-03-25 01:00:00']\n",
    "df_8 = df.loc['2018-03-25 02:00:00':'2018-10-28 02:00:00']\n",
    "df_9 = df.loc['2018-10-28 03:00:00':'2019-03-31 01:00:00']\n",
    "df_10 = df.loc['2019-03-31 02:00:00':'2019-10-27 02:00:00']\n",
    "df_11 = df.loc['2019-10-27 03:00:00':'2020-03-29 01:00:00']\n",
    "df_12 = df.loc['2020-03-29 02:00:00':'2020-10-25 02:00:00']\n",
    "df_13 = df.loc['2020-10-25 03:00:00':'2020-11-24 23:00:00']"
   ]
  },
  {
   "cell_type": "code",
   "execution_count": 21,
   "metadata": {
    "hidden": true
   },
   "outputs": [
    {
     "data": {
      "text/html": [
       "<div>\n",
       "<style scoped>\n",
       "    .dataframe tbody tr th:only-of-type {\n",
       "        vertical-align: middle;\n",
       "    }\n",
       "\n",
       "    .dataframe tbody tr th {\n",
       "        vertical-align: top;\n",
       "    }\n",
       "\n",
       "    .dataframe thead th {\n",
       "        text-align: right;\n",
       "    }\n",
       "</style>\n",
       "<table border=\"1\" class=\"dataframe\">\n",
       "  <thead>\n",
       "    <tr style=\"text-align: right;\">\n",
       "      <th></th>\n",
       "      <th>price</th>\n",
       "    </tr>\n",
       "    <tr>\n",
       "      <th>time</th>\n",
       "      <th></th>\n",
       "    </tr>\n",
       "  </thead>\n",
       "  <tbody>\n",
       "    <tr>\n",
       "      <th>2018-03-25 02:00:00</th>\n",
       "      <td>37.85</td>\n",
       "    </tr>\n",
       "    <tr>\n",
       "      <th>2018-03-25 03:00:00</th>\n",
       "      <td>37.28</td>\n",
       "    </tr>\n",
       "    <tr>\n",
       "      <th>2018-03-25 04:00:00</th>\n",
       "      <td>37.51</td>\n",
       "    </tr>\n",
       "    <tr>\n",
       "      <th>2018-03-25 05:00:00</th>\n",
       "      <td>37.99</td>\n",
       "    </tr>\n",
       "    <tr>\n",
       "      <th>2018-03-25 06:00:00</th>\n",
       "      <td>38.67</td>\n",
       "    </tr>\n",
       "    <tr>\n",
       "      <th>...</th>\n",
       "      <td>...</td>\n",
       "    </tr>\n",
       "    <tr>\n",
       "      <th>2018-10-27 23:00:00</th>\n",
       "      <td>44.53</td>\n",
       "    </tr>\n",
       "    <tr>\n",
       "      <th>2018-10-28 00:00:00</th>\n",
       "      <td>43.58</td>\n",
       "    </tr>\n",
       "    <tr>\n",
       "      <th>2018-10-28 01:00:00</th>\n",
       "      <td>41.62</td>\n",
       "    </tr>\n",
       "    <tr>\n",
       "      <th>2018-10-28 02:00:00</th>\n",
       "      <td>41.59</td>\n",
       "    </tr>\n",
       "    <tr>\n",
       "      <th>2018-10-28 02:00:00</th>\n",
       "      <td>NaN</td>\n",
       "    </tr>\n",
       "  </tbody>\n",
       "</table>\n",
       "<p>5210 rows × 1 columns</p>\n",
       "</div>"
      ],
      "text/plain": [
       "                     price\n",
       "time                      \n",
       "2018-03-25 02:00:00  37.85\n",
       "2018-03-25 03:00:00  37.28\n",
       "2018-03-25 04:00:00  37.51\n",
       "2018-03-25 05:00:00  37.99\n",
       "2018-03-25 06:00:00  38.67\n",
       "...                    ...\n",
       "2018-10-27 23:00:00  44.53\n",
       "2018-10-28 00:00:00  43.58\n",
       "2018-10-28 01:00:00  41.62\n",
       "2018-10-28 02:00:00  41.59\n",
       "2018-10-28 02:00:00    NaN\n",
       "\n",
       "[5210 rows x 1 columns]"
      ]
     },
     "execution_count": 21,
     "metadata": {},
     "output_type": "execute_result"
    }
   ],
   "source": [
    "df_8.shift(periods=-1)"
   ]
  },
  {
   "cell_type": "code",
   "execution_count": 20,
   "metadata": {
    "hidden": true
   },
   "outputs": [],
   "source": [
    "import pandas as pd\n",
    "df_shift = [df_2, df_4, df_6, df_8, df_10, df_12]\n",
    "no_shift = [df_1, df_3, df_5, df_7, df_9, df_11, df_13]\n",
    "price_df = df_1\n",
    "for data in no_shift[1:]:\n",
    "    price_df = pd.concat([price_df, data])\n",
    "for data in df_shift:\n",
    "    data = data.shift(periods=-1).dropna()\n",
    "    price_df = pd.concat([price_df, data])"
   ]
  },
  {
   "cell_type": "code",
   "execution_count": 8,
   "metadata": {
    "hidden": true
   },
   "outputs": [
    {
     "data": {
      "text/plain": [
       "price    20.77\n",
       "Name: 2015-10-25 02:00:00, dtype: float64"
      ]
     },
     "execution_count": 8,
     "metadata": {},
     "output_type": "execute_result"
    }
   ],
   "source": [
    "price_df.loc['2015-10-25 02:00:00']"
   ]
  },
  {
   "cell_type": "code",
   "execution_count": 9,
   "metadata": {
    "hidden": true,
    "scrolled": true
   },
   "outputs": [
    {
     "data": {
      "text/plain": [
       "price    0\n",
       "dtype: int64"
      ]
     },
     "execution_count": 9,
     "metadata": {},
     "output_type": "execute_result"
    }
   ],
   "source": [
    "price_df.isnull().sum()"
   ]
  },
  {
   "cell_type": "code",
   "execution_count": 10,
   "metadata": {
    "hidden": true
   },
   "outputs": [
    {
     "data": {
      "text/plain": [
       "2017-05-31 04:00:00    1\n",
       "2019-07-21 08:00:00    1\n",
       "2015-09-20 07:00:00    1\n",
       "2020-08-05 12:00:00    1\n",
       "2018-04-24 12:00:00    1\n",
       "Name: time, dtype: int64"
      ]
     },
     "execution_count": 10,
     "metadata": {},
     "output_type": "execute_result"
    }
   ],
   "source": [
    "price_df.reset_index()['time'].value_counts().head()"
   ]
  },
  {
   "cell_type": "code",
   "execution_count": 21,
   "metadata": {
    "hidden": true
   },
   "outputs": [
    {
     "data": {
      "text/plain": [
       "(51720, 1)"
      ]
     },
     "execution_count": 21,
     "metadata": {},
     "output_type": "execute_result"
    }
   ],
   "source": [
    "price_df.shape"
   ]
  },
  {
   "cell_type": "code",
   "execution_count": 1,
   "metadata": {
    "hidden": true
   },
   "outputs": [],
   "source": [
    "from electricity_price_predictor.data_2 import get_shifted_price"
   ]
  },
  {
   "cell_type": "code",
   "execution_count": 2,
   "metadata": {
    "hidden": true
   },
   "outputs": [],
   "source": [
    "df = get_shifted_price()"
   ]
  },
  {
   "cell_type": "code",
   "execution_count": 4,
   "metadata": {
    "hidden": true
   },
   "outputs": [
    {
     "data": {
      "text/plain": [
       "(51720, 1)"
      ]
     },
     "execution_count": 4,
     "metadata": {},
     "output_type": "execute_result"
    }
   ],
   "source": [
    "df.shape"
   ]
  },
  {
   "cell_type": "markdown",
   "metadata": {},
   "source": [
    "## get_all"
   ]
  },
  {
   "cell_type": "code",
   "execution_count": 3,
   "metadata": {},
   "outputs": [],
   "source": [
    "from electricity_price_predictor.data import get_shifted_load, get_weather, get_shifted_price\n",
    "from electricity_price_predictor.data import get_holidays, get_coal_price, get_wind_prod"
   ]
  },
  {
   "cell_type": "code",
   "execution_count": 4,
   "metadata": {
    "scrolled": true
   },
   "outputs": [
    {
     "data": {
      "text/html": [
       "<div>\n",
       "<style scoped>\n",
       "    .dataframe tbody tr th:only-of-type {\n",
       "        vertical-align: middle;\n",
       "    }\n",
       "\n",
       "    .dataframe tbody tr th {\n",
       "        vertical-align: top;\n",
       "    }\n",
       "\n",
       "    .dataframe thead th {\n",
       "        text-align: right;\n",
       "    }\n",
       "</style>\n",
       "<table border=\"1\" class=\"dataframe\">\n",
       "  <thead>\n",
       "    <tr style=\"text-align: right;\">\n",
       "      <th></th>\n",
       "      <th>load</th>\n",
       "    </tr>\n",
       "    <tr>\n",
       "      <th>time</th>\n",
       "      <th></th>\n",
       "    </tr>\n",
       "  </thead>\n",
       "  <tbody>\n",
       "    <tr>\n",
       "      <th>2015-01-01 11:00:00</th>\n",
       "      <td>2194.0</td>\n",
       "    </tr>\n",
       "    <tr>\n",
       "      <th>2015-01-02 11:00:00</th>\n",
       "      <td>2673.0</td>\n",
       "    </tr>\n",
       "    <tr>\n",
       "      <th>2015-01-03 11:00:00</th>\n",
       "      <td>2405.0</td>\n",
       "    </tr>\n",
       "    <tr>\n",
       "      <th>2015-01-04 11:00:00</th>\n",
       "      <td>2383.0</td>\n",
       "    </tr>\n",
       "    <tr>\n",
       "      <th>2015-01-05 11:00:00</th>\n",
       "      <td>3099.0</td>\n",
       "    </tr>\n",
       "  </tbody>\n",
       "</table>\n",
       "</div>"
      ],
      "text/plain": [
       "                       load\n",
       "time                       \n",
       "2015-01-01 11:00:00  2194.0\n",
       "2015-01-02 11:00:00  2673.0\n",
       "2015-01-03 11:00:00  2405.0\n",
       "2015-01-04 11:00:00  2383.0\n",
       "2015-01-05 11:00:00  3099.0"
      ]
     },
     "execution_count": 4,
     "metadata": {},
     "output_type": "execute_result"
    }
   ],
   "source": [
    "df_load = get_shifted_load()\n",
    "df_load_11 = df_load[df_load.index.hour==11]\n",
    "df_load_11.head()"
   ]
  },
  {
   "cell_type": "code",
   "execution_count": 5,
   "metadata": {
    "scrolled": true
   },
   "outputs": [
    {
     "data": {
      "text/html": [
       "<div>\n",
       "<style scoped>\n",
       "    .dataframe tbody tr th:only-of-type {\n",
       "        vertical-align: middle;\n",
       "    }\n",
       "\n",
       "    .dataframe tbody tr th {\n",
       "        vertical-align: top;\n",
       "    }\n",
       "\n",
       "    .dataframe thead th {\n",
       "        text-align: right;\n",
       "    }\n",
       "</style>\n",
       "<table border=\"1\" class=\"dataframe\">\n",
       "  <thead>\n",
       "    <tr style=\"text-align: right;\">\n",
       "      <th></th>\n",
       "      <th>price</th>\n",
       "    </tr>\n",
       "    <tr>\n",
       "      <th>time</th>\n",
       "      <th></th>\n",
       "    </tr>\n",
       "  </thead>\n",
       "  <tbody>\n",
       "    <tr>\n",
       "      <th>2015-01-01 11:00:00</th>\n",
       "      <td>16.08</td>\n",
       "    </tr>\n",
       "    <tr>\n",
       "      <th>2015-01-02 11:00:00</th>\n",
       "      <td>15.08</td>\n",
       "    </tr>\n",
       "    <tr>\n",
       "      <th>2015-01-03 11:00:00</th>\n",
       "      <td>22.31</td>\n",
       "    </tr>\n",
       "    <tr>\n",
       "      <th>2015-01-04 11:00:00</th>\n",
       "      <td>27.32</td>\n",
       "    </tr>\n",
       "    <tr>\n",
       "      <th>2015-01-05 11:00:00</th>\n",
       "      <td>40.97</td>\n",
       "    </tr>\n",
       "  </tbody>\n",
       "</table>\n",
       "</div>"
      ],
      "text/plain": [
       "                     price\n",
       "time                      \n",
       "2015-01-01 11:00:00  16.08\n",
       "2015-01-02 11:00:00  15.08\n",
       "2015-01-03 11:00:00  22.31\n",
       "2015-01-04 11:00:00  27.32\n",
       "2015-01-05 11:00:00  40.97"
      ]
     },
     "execution_count": 5,
     "metadata": {},
     "output_type": "execute_result"
    }
   ],
   "source": [
    "df_price = get_shifted_price()\n",
    "df_price_11 = df_price[df_price.index.hour==11]\n",
    "df_price_11.head()"
   ]
  },
  {
   "cell_type": "code",
   "execution_count": 6,
   "metadata": {},
   "outputs": [
    {
     "data": {
      "text/html": [
       "<div>\n",
       "<style scoped>\n",
       "    .dataframe tbody tr th:only-of-type {\n",
       "        vertical-align: middle;\n",
       "    }\n",
       "\n",
       "    .dataframe tbody tr th {\n",
       "        vertical-align: top;\n",
       "    }\n",
       "\n",
       "    .dataframe thead th {\n",
       "        text-align: right;\n",
       "    }\n",
       "</style>\n",
       "<table border=\"1\" class=\"dataframe\">\n",
       "  <thead>\n",
       "    <tr style=\"text-align: right;\">\n",
       "      <th></th>\n",
       "      <th>temp</th>\n",
       "      <th>feels_like</th>\n",
       "      <th>humidity</th>\n",
       "      <th>clouds_all</th>\n",
       "      <th>wind_speed</th>\n",
       "    </tr>\n",
       "    <tr>\n",
       "      <th>dt</th>\n",
       "      <th></th>\n",
       "      <th></th>\n",
       "      <th></th>\n",
       "      <th></th>\n",
       "      <th></th>\n",
       "    </tr>\n",
       "  </thead>\n",
       "  <tbody>\n",
       "    <tr>\n",
       "      <th>2015-01-01 11:00:00</th>\n",
       "      <td>6.732469</td>\n",
       "      <td>-0.346708</td>\n",
       "      <td>93.413145</td>\n",
       "      <td>91.036933</td>\n",
       "      <td>8.724397</td>\n",
       "    </tr>\n",
       "    <tr>\n",
       "      <th>2015-01-02 11:00:00</th>\n",
       "      <td>6.849566</td>\n",
       "      <td>-2.364317</td>\n",
       "      <td>80.994869</td>\n",
       "      <td>52.392560</td>\n",
       "      <td>11.233930</td>\n",
       "    </tr>\n",
       "    <tr>\n",
       "      <th>2015-01-03 11:00:00</th>\n",
       "      <td>4.332541</td>\n",
       "      <td>-1.562728</td>\n",
       "      <td>88.760764</td>\n",
       "      <td>38.333790</td>\n",
       "      <td>6.187115</td>\n",
       "    </tr>\n",
       "    <tr>\n",
       "      <th>2015-01-04 11:00:00</th>\n",
       "      <td>3.296271</td>\n",
       "      <td>-2.594814</td>\n",
       "      <td>79.233305</td>\n",
       "      <td>11.509847</td>\n",
       "      <td>5.591671</td>\n",
       "    </tr>\n",
       "    <tr>\n",
       "      <th>2015-01-05 11:00:00</th>\n",
       "      <td>4.498201</td>\n",
       "      <td>1.665528</td>\n",
       "      <td>93.718424</td>\n",
       "      <td>88.775936</td>\n",
       "      <td>2.044551</td>\n",
       "    </tr>\n",
       "  </tbody>\n",
       "</table>\n",
       "</div>"
      ],
      "text/plain": [
       "                         temp  feels_like   humidity  clouds_all  wind_speed\n",
       "dt                                                                          \n",
       "2015-01-01 11:00:00  6.732469   -0.346708  93.413145   91.036933    8.724397\n",
       "2015-01-02 11:00:00  6.849566   -2.364317  80.994869   52.392560   11.233930\n",
       "2015-01-03 11:00:00  4.332541   -1.562728  88.760764   38.333790    6.187115\n",
       "2015-01-04 11:00:00  3.296271   -2.594814  79.233305   11.509847    5.591671\n",
       "2015-01-05 11:00:00  4.498201    1.665528  93.718424   88.775936    2.044551"
      ]
     },
     "execution_count": 6,
     "metadata": {},
     "output_type": "execute_result"
    }
   ],
   "source": [
    "df_weather = get_weather()\n",
    "df_weather_11 = df_weather[df_weather.index.hour==11]\n",
    "df_weather_11.head()"
   ]
  },
  {
   "cell_type": "code",
   "execution_count": 27,
   "metadata": {},
   "outputs": [
    {
     "data": {
      "text/html": [
       "<div>\n",
       "<style scoped>\n",
       "    .dataframe tbody tr th:only-of-type {\n",
       "        vertical-align: middle;\n",
       "    }\n",
       "\n",
       "    .dataframe tbody tr th {\n",
       "        vertical-align: top;\n",
       "    }\n",
       "\n",
       "    .dataframe thead th {\n",
       "        text-align: right;\n",
       "    }\n",
       "</style>\n",
       "<table border=\"1\" class=\"dataframe\">\n",
       "  <thead>\n",
       "    <tr style=\"text-align: right;\">\n",
       "      <th></th>\n",
       "      <th>holiday</th>\n",
       "    </tr>\n",
       "  </thead>\n",
       "  <tbody>\n",
       "    <tr>\n",
       "      <th>2015-01-01</th>\n",
       "      <td>1</td>\n",
       "    </tr>\n",
       "    <tr>\n",
       "      <th>2015-01-02</th>\n",
       "      <td>0</td>\n",
       "    </tr>\n",
       "    <tr>\n",
       "      <th>2015-01-03</th>\n",
       "      <td>0</td>\n",
       "    </tr>\n",
       "    <tr>\n",
       "      <th>2015-01-04</th>\n",
       "      <td>0</td>\n",
       "    </tr>\n",
       "    <tr>\n",
       "      <th>2015-01-05</th>\n",
       "      <td>0</td>\n",
       "    </tr>\n",
       "  </tbody>\n",
       "</table>\n",
       "</div>"
      ],
      "text/plain": [
       "            holiday\n",
       "2015-01-01        1\n",
       "2015-01-02        0\n",
       "2015-01-03        0\n",
       "2015-01-04        0\n",
       "2015-01-05        0"
      ]
     },
     "execution_count": 27,
     "metadata": {},
     "output_type": "execute_result"
    }
   ],
   "source": [
    "df_holidays = get_holidays().drop(columns=['holiday_name'])\n",
    "df_holidays.head()"
   ]
  },
  {
   "cell_type": "code",
   "execution_count": 9,
   "metadata": {},
   "outputs": [
    {
     "data": {
      "text/html": [
       "<div>\n",
       "<style scoped>\n",
       "    .dataframe tbody tr th:only-of-type {\n",
       "        vertical-align: middle;\n",
       "    }\n",
       "\n",
       "    .dataframe tbody tr th {\n",
       "        vertical-align: top;\n",
       "    }\n",
       "\n",
       "    .dataframe thead th {\n",
       "        text-align: right;\n",
       "    }\n",
       "</style>\n",
       "<table border=\"1\" class=\"dataframe\">\n",
       "  <thead>\n",
       "    <tr style=\"text-align: right;\">\n",
       "      <th></th>\n",
       "      <th>total_prod</th>\n",
       "      <th>wind_prod</th>\n",
       "      <th>wind_share</th>\n",
       "    </tr>\n",
       "    <tr>\n",
       "      <th>time</th>\n",
       "      <th></th>\n",
       "      <th></th>\n",
       "      <th></th>\n",
       "    </tr>\n",
       "  </thead>\n",
       "  <tbody>\n",
       "    <tr>\n",
       "      <th>2015-01-01 11:00:00</th>\n",
       "      <td>3909.281833</td>\n",
       "      <td>3183.801317</td>\n",
       "      <td>0.814421</td>\n",
       "    </tr>\n",
       "    <tr>\n",
       "      <th>2015-01-02 11:00:00</th>\n",
       "      <td>4247.975683</td>\n",
       "      <td>3405.313993</td>\n",
       "      <td>0.801632</td>\n",
       "    </tr>\n",
       "    <tr>\n",
       "      <th>2015-01-03 11:00:00</th>\n",
       "      <td>3391.054053</td>\n",
       "      <td>2380.964290</td>\n",
       "      <td>0.702131</td>\n",
       "    </tr>\n",
       "    <tr>\n",
       "      <th>2015-01-04 11:00:00</th>\n",
       "      <td>3606.491107</td>\n",
       "      <td>2268.581247</td>\n",
       "      <td>0.629027</td>\n",
       "    </tr>\n",
       "    <tr>\n",
       "      <th>2015-01-05 11:00:00</th>\n",
       "      <td>2175.075494</td>\n",
       "      <td>234.576723</td>\n",
       "      <td>0.107848</td>\n",
       "    </tr>\n",
       "  </tbody>\n",
       "</table>\n",
       "</div>"
      ],
      "text/plain": [
       "                      total_prod    wind_prod  wind_share\n",
       "time                                                     \n",
       "2015-01-01 11:00:00  3909.281833  3183.801317    0.814421\n",
       "2015-01-02 11:00:00  4247.975683  3405.313993    0.801632\n",
       "2015-01-03 11:00:00  3391.054053  2380.964290    0.702131\n",
       "2015-01-04 11:00:00  3606.491107  2268.581247    0.629027\n",
       "2015-01-05 11:00:00  2175.075494   234.576723    0.107848"
      ]
     },
     "execution_count": 9,
     "metadata": {},
     "output_type": "execute_result"
    }
   ],
   "source": [
    "df_wind = get_wind_prod()\n",
    "df_wind_11 = df_wind[df_wind.index.hour==11]\n",
    "df_wind_11.head()"
   ]
  },
  {
   "cell_type": "code",
   "execution_count": 10,
   "metadata": {},
   "outputs": [
    {
     "data": {
      "text/plain": [
       "'df_coal = get_coal_price()\\ndf_coal_11 = df_coal[df_coal.index.hour==11]\\ndf_coal_11.head()'"
      ]
     },
     "execution_count": 10,
     "metadata": {},
     "output_type": "execute_result"
    }
   ],
   "source": [
    "'''df_coal = get_coal_price()\n",
    "df_coal_11 = df_coal[df_coal.index.hour==11]\n",
    "df_coal_11.head()'''"
   ]
  },
  {
   "cell_type": "code",
   "execution_count": 28,
   "metadata": {},
   "outputs": [
    {
     "data": {
      "text/html": [
       "<div>\n",
       "<style scoped>\n",
       "    .dataframe tbody tr th:only-of-type {\n",
       "        vertical-align: middle;\n",
       "    }\n",
       "\n",
       "    .dataframe tbody tr th {\n",
       "        vertical-align: top;\n",
       "    }\n",
       "\n",
       "    .dataframe thead th {\n",
       "        text-align: right;\n",
       "    }\n",
       "</style>\n",
       "<table border=\"1\" class=\"dataframe\">\n",
       "  <thead>\n",
       "    <tr style=\"text-align: right;\">\n",
       "      <th></th>\n",
       "      <th>holiday</th>\n",
       "    </tr>\n",
       "  </thead>\n",
       "  <tbody>\n",
       "    <tr>\n",
       "      <th>2015-01-01 11:00:00</th>\n",
       "      <td>1</td>\n",
       "    </tr>\n",
       "    <tr>\n",
       "      <th>2015-01-02 11:00:00</th>\n",
       "      <td>0</td>\n",
       "    </tr>\n",
       "    <tr>\n",
       "      <th>2015-01-03 11:00:00</th>\n",
       "      <td>0</td>\n",
       "    </tr>\n",
       "    <tr>\n",
       "      <th>2015-01-04 11:00:00</th>\n",
       "      <td>0</td>\n",
       "    </tr>\n",
       "    <tr>\n",
       "      <th>2015-01-05 11:00:00</th>\n",
       "      <td>0</td>\n",
       "    </tr>\n",
       "  </tbody>\n",
       "</table>\n",
       "</div>"
      ],
      "text/plain": [
       "                     holiday\n",
       "2015-01-01 11:00:00        1\n",
       "2015-01-02 11:00:00        0\n",
       "2015-01-03 11:00:00        0\n",
       "2015-01-04 11:00:00        0\n",
       "2015-01-05 11:00:00        0"
      ]
     },
     "execution_count": 28,
     "metadata": {},
     "output_type": "execute_result"
    }
   ],
   "source": [
    "# change the index of df_holidays so that i can join it with others\n",
    "df_holidays['time']='11:00'\n",
    "df_holidays.time = pd.to_timedelta(df_holidays.time + ':00')\n",
    "df_holidays.index = df_holidays.index + df_holidays.time\n",
    "df_holidays_11 = df_holidays.drop('time', axis=1)\n",
    "df_holidays_11.head()"
   ]
  },
  {
   "cell_type": "code",
   "execution_count": 36,
   "metadata": {},
   "outputs": [
    {
     "data": {
      "text/plain": [
       "(Timestamp('2020-11-23 11:00:00'),\n",
       " Timestamp('2020-11-24 11:00:00'),\n",
       " Timestamp('2020-11-18 11:00:00'),\n",
       " Timestamp('2020-11-23 11:00:00'))"
      ]
     },
     "execution_count": 36,
     "metadata": {},
     "output_type": "execute_result"
    }
   ],
   "source": [
    "# checkout the dates of all the dfs\n",
    "dfs = dict(load=df_load_11, weather=df_weather_11, wind=df_wind_11, holidays=df_holidays_11)\n",
    "dfs['load'].index.max(), dfs['weather'].index.max(), dfs['wind'].index.max(), dfs['holidays'].index.max()"
   ]
  },
  {
   "cell_type": "code",
   "execution_count": 42,
   "metadata": {},
   "outputs": [
    {
     "data": {
      "text/html": [
       "<div>\n",
       "<style scoped>\n",
       "    .dataframe tbody tr th:only-of-type {\n",
       "        vertical-align: middle;\n",
       "    }\n",
       "\n",
       "    .dataframe tbody tr th {\n",
       "        vertical-align: top;\n",
       "    }\n",
       "\n",
       "    .dataframe thead th {\n",
       "        text-align: right;\n",
       "    }\n",
       "</style>\n",
       "<table border=\"1\" class=\"dataframe\">\n",
       "  <thead>\n",
       "    <tr style=\"text-align: right;\">\n",
       "      <th></th>\n",
       "      <th>price</th>\n",
       "      <th>load</th>\n",
       "      <th>temp</th>\n",
       "      <th>feels_like</th>\n",
       "      <th>humidity</th>\n",
       "      <th>clouds_all</th>\n",
       "      <th>wind_speed</th>\n",
       "      <th>total_prod</th>\n",
       "      <th>wind_prod</th>\n",
       "      <th>wind_share</th>\n",
       "      <th>holiday</th>\n",
       "    </tr>\n",
       "  </thead>\n",
       "  <tbody>\n",
       "    <tr>\n",
       "      <th>2015-01-01 11:00:00</th>\n",
       "      <td>16.08</td>\n",
       "      <td>2194.0</td>\n",
       "      <td>6.732469</td>\n",
       "      <td>-0.346708</td>\n",
       "      <td>93.413145</td>\n",
       "      <td>91.036933</td>\n",
       "      <td>8.724397</td>\n",
       "      <td>3909.281833</td>\n",
       "      <td>3183.801317</td>\n",
       "      <td>0.814421</td>\n",
       "      <td>1.0</td>\n",
       "    </tr>\n",
       "    <tr>\n",
       "      <th>2015-01-02 11:00:00</th>\n",
       "      <td>15.08</td>\n",
       "      <td>2673.0</td>\n",
       "      <td>6.849566</td>\n",
       "      <td>-2.364317</td>\n",
       "      <td>80.994869</td>\n",
       "      <td>52.392560</td>\n",
       "      <td>11.233930</td>\n",
       "      <td>4247.975683</td>\n",
       "      <td>3405.313993</td>\n",
       "      <td>0.801632</td>\n",
       "      <td>0.0</td>\n",
       "    </tr>\n",
       "    <tr>\n",
       "      <th>2015-01-03 11:00:00</th>\n",
       "      <td>22.31</td>\n",
       "      <td>2405.0</td>\n",
       "      <td>4.332541</td>\n",
       "      <td>-1.562728</td>\n",
       "      <td>88.760764</td>\n",
       "      <td>38.333790</td>\n",
       "      <td>6.187115</td>\n",
       "      <td>3391.054053</td>\n",
       "      <td>2380.964290</td>\n",
       "      <td>0.702131</td>\n",
       "      <td>0.0</td>\n",
       "    </tr>\n",
       "    <tr>\n",
       "      <th>2015-01-04 11:00:00</th>\n",
       "      <td>27.32</td>\n",
       "      <td>2383.0</td>\n",
       "      <td>3.296271</td>\n",
       "      <td>-2.594814</td>\n",
       "      <td>79.233305</td>\n",
       "      <td>11.509847</td>\n",
       "      <td>5.591671</td>\n",
       "      <td>3606.491107</td>\n",
       "      <td>2268.581247</td>\n",
       "      <td>0.629027</td>\n",
       "      <td>0.0</td>\n",
       "    </tr>\n",
       "    <tr>\n",
       "      <th>2015-01-05 11:00:00</th>\n",
       "      <td>40.97</td>\n",
       "      <td>3099.0</td>\n",
       "      <td>4.498201</td>\n",
       "      <td>1.665528</td>\n",
       "      <td>93.718424</td>\n",
       "      <td>88.775936</td>\n",
       "      <td>2.044551</td>\n",
       "      <td>2175.075494</td>\n",
       "      <td>234.576723</td>\n",
       "      <td>0.107848</td>\n",
       "      <td>0.0</td>\n",
       "    </tr>\n",
       "  </tbody>\n",
       "</table>\n",
       "</div>"
      ],
      "text/plain": [
       "                     price    load      temp  feels_like   humidity  \\\n",
       "2015-01-01 11:00:00  16.08  2194.0  6.732469   -0.346708  93.413145   \n",
       "2015-01-02 11:00:00  15.08  2673.0  6.849566   -2.364317  80.994869   \n",
       "2015-01-03 11:00:00  22.31  2405.0  4.332541   -1.562728  88.760764   \n",
       "2015-01-04 11:00:00  27.32  2383.0  3.296271   -2.594814  79.233305   \n",
       "2015-01-05 11:00:00  40.97  3099.0  4.498201    1.665528  93.718424   \n",
       "\n",
       "                     clouds_all  wind_speed   total_prod    wind_prod  \\\n",
       "2015-01-01 11:00:00   91.036933    8.724397  3909.281833  3183.801317   \n",
       "2015-01-02 11:00:00   52.392560   11.233930  4247.975683  3405.313993   \n",
       "2015-01-03 11:00:00   38.333790    6.187115  3391.054053  2380.964290   \n",
       "2015-01-04 11:00:00   11.509847    5.591671  3606.491107  2268.581247   \n",
       "2015-01-05 11:00:00   88.775936    2.044551  2175.075494   234.576723   \n",
       "\n",
       "                     wind_share  holiday  \n",
       "2015-01-01 11:00:00    0.814421      1.0  \n",
       "2015-01-02 11:00:00    0.801632      0.0  \n",
       "2015-01-03 11:00:00    0.702131      0.0  \n",
       "2015-01-04 11:00:00    0.629027      0.0  \n",
       "2015-01-05 11:00:00    0.107848      0.0  "
      ]
     },
     "execution_count": 42,
     "metadata": {},
     "output_type": "execute_result"
    }
   ],
   "source": [
    "# merge all features \n",
    "df_all = df_price_11\n",
    "for df in dfs.values():\n",
    "    df_all = df_all.join(df, how='outer')\n",
    "df_all.head()"
   ]
  },
  {
   "cell_type": "code",
   "execution_count": 44,
   "metadata": {},
   "outputs": [
    {
     "data": {
      "text/html": [
       "<div>\n",
       "<style scoped>\n",
       "    .dataframe tbody tr th:only-of-type {\n",
       "        vertical-align: middle;\n",
       "    }\n",
       "\n",
       "    .dataframe tbody tr th {\n",
       "        vertical-align: top;\n",
       "    }\n",
       "\n",
       "    .dataframe thead th {\n",
       "        text-align: right;\n",
       "    }\n",
       "</style>\n",
       "<table border=\"1\" class=\"dataframe\">\n",
       "  <thead>\n",
       "    <tr style=\"text-align: right;\">\n",
       "      <th></th>\n",
       "      <th>price</th>\n",
       "      <th>load</th>\n",
       "      <th>temp</th>\n",
       "      <th>feels_like</th>\n",
       "      <th>humidity</th>\n",
       "      <th>clouds_all</th>\n",
       "      <th>wind_speed</th>\n",
       "      <th>total_prod</th>\n",
       "      <th>wind_prod</th>\n",
       "      <th>wind_share</th>\n",
       "      <th>holiday</th>\n",
       "    </tr>\n",
       "  </thead>\n",
       "  <tbody>\n",
       "    <tr>\n",
       "      <th>2020-11-19 11:00:00</th>\n",
       "      <td>1.42</td>\n",
       "      <td>3096.0</td>\n",
       "      <td>7.141363</td>\n",
       "      <td>1.014544</td>\n",
       "      <td>84.060269</td>\n",
       "      <td>67.603834</td>\n",
       "      <td>7.053969</td>\n",
       "      <td>NaN</td>\n",
       "      <td>NaN</td>\n",
       "      <td>NaN</td>\n",
       "      <td>0.0</td>\n",
       "    </tr>\n",
       "    <tr>\n",
       "      <th>2020-11-20 11:00:00</th>\n",
       "      <td>47.91</td>\n",
       "      <td>3111.0</td>\n",
       "      <td>4.535774</td>\n",
       "      <td>0.488244</td>\n",
       "      <td>78.095125</td>\n",
       "      <td>3.494573</td>\n",
       "      <td>3.174649</td>\n",
       "      <td>NaN</td>\n",
       "      <td>NaN</td>\n",
       "      <td>NaN</td>\n",
       "      <td>0.0</td>\n",
       "    </tr>\n",
       "    <tr>\n",
       "      <th>2020-11-21 11:00:00</th>\n",
       "      <td>1.05</td>\n",
       "      <td>2669.0</td>\n",
       "      <td>9.070523</td>\n",
       "      <td>3.714197</td>\n",
       "      <td>94.182973</td>\n",
       "      <td>91.303568</td>\n",
       "      <td>7.056021</td>\n",
       "      <td>NaN</td>\n",
       "      <td>NaN</td>\n",
       "      <td>NaN</td>\n",
       "      <td>0.0</td>\n",
       "    </tr>\n",
       "    <tr>\n",
       "      <th>2020-11-22 11:00:00</th>\n",
       "      <td>1.16</td>\n",
       "      <td>2417.0</td>\n",
       "      <td>8.228828</td>\n",
       "      <td>1.824805</td>\n",
       "      <td>74.997025</td>\n",
       "      <td>18.003835</td>\n",
       "      <td>7.283847</td>\n",
       "      <td>NaN</td>\n",
       "      <td>NaN</td>\n",
       "      <td>NaN</td>\n",
       "      <td>0.0</td>\n",
       "    </tr>\n",
       "    <tr>\n",
       "      <th>2020-11-23 11:00:00</th>\n",
       "      <td>4.95</td>\n",
       "      <td>3167.0</td>\n",
       "      <td>7.591355</td>\n",
       "      <td>1.841106</td>\n",
       "      <td>80.983497</td>\n",
       "      <td>18.861248</td>\n",
       "      <td>6.475636</td>\n",
       "      <td>NaN</td>\n",
       "      <td>NaN</td>\n",
       "      <td>NaN</td>\n",
       "      <td>0.0</td>\n",
       "    </tr>\n",
       "    <tr>\n",
       "      <th>2020-11-24 11:00:00</th>\n",
       "      <td>NaN</td>\n",
       "      <td>NaN</td>\n",
       "      <td>9.836759</td>\n",
       "      <td>5.031297</td>\n",
       "      <td>93.302050</td>\n",
       "      <td>90.986737</td>\n",
       "      <td>6.487594</td>\n",
       "      <td>NaN</td>\n",
       "      <td>NaN</td>\n",
       "      <td>NaN</td>\n",
       "      <td>NaN</td>\n",
       "    </tr>\n",
       "  </tbody>\n",
       "</table>\n",
       "</div>"
      ],
      "text/plain": [
       "                     price    load      temp  feels_like   humidity  \\\n",
       "2020-11-19 11:00:00   1.42  3096.0  7.141363    1.014544  84.060269   \n",
       "2020-11-20 11:00:00  47.91  3111.0  4.535774    0.488244  78.095125   \n",
       "2020-11-21 11:00:00   1.05  2669.0  9.070523    3.714197  94.182973   \n",
       "2020-11-22 11:00:00   1.16  2417.0  8.228828    1.824805  74.997025   \n",
       "2020-11-23 11:00:00   4.95  3167.0  7.591355    1.841106  80.983497   \n",
       "2020-11-24 11:00:00    NaN     NaN  9.836759    5.031297  93.302050   \n",
       "\n",
       "                     clouds_all  wind_speed  total_prod  wind_prod  \\\n",
       "2020-11-19 11:00:00   67.603834    7.053969         NaN        NaN   \n",
       "2020-11-20 11:00:00    3.494573    3.174649         NaN        NaN   \n",
       "2020-11-21 11:00:00   91.303568    7.056021         NaN        NaN   \n",
       "2020-11-22 11:00:00   18.003835    7.283847         NaN        NaN   \n",
       "2020-11-23 11:00:00   18.861248    6.475636         NaN        NaN   \n",
       "2020-11-24 11:00:00   90.986737    6.487594         NaN        NaN   \n",
       "\n",
       "                     wind_share  holiday  \n",
       "2020-11-19 11:00:00         NaN      0.0  \n",
       "2020-11-20 11:00:00         NaN      0.0  \n",
       "2020-11-21 11:00:00         NaN      0.0  \n",
       "2020-11-22 11:00:00         NaN      0.0  \n",
       "2020-11-23 11:00:00         NaN      0.0  \n",
       "2020-11-24 11:00:00         NaN      NaN  "
      ]
     },
     "execution_count": 44,
     "metadata": {},
     "output_type": "execute_result"
    }
   ],
   "source": [
    "df_all.tail(6)"
   ]
  },
  {
   "cell_type": "code",
   "execution_count": 46,
   "metadata": {},
   "outputs": [
    {
     "data": {
      "text/plain": [
       "price         0\n",
       "load          0\n",
       "temp          0\n",
       "feels_like    0\n",
       "humidity      0\n",
       "clouds_all    0\n",
       "wind_speed    0\n",
       "total_prod    0\n",
       "wind_prod     0\n",
       "wind_share    0\n",
       "holiday       0\n",
       "dtype: int64"
      ]
     },
     "execution_count": 46,
     "metadata": {},
     "output_type": "execute_result"
    }
   ],
   "source": [
    "# wind production data is only available till 2020-11-18, so cut the date\n",
    "df_all = df_all[df_all.index < '2020-11-19 00:00:00']\n",
    "df_all.isnull().sum()"
   ]
  },
  {
   "cell_type": "code",
   "execution_count": 48,
   "metadata": {},
   "outputs": [
    {
     "data": {
      "text/html": [
       "<div>\n",
       "<style scoped>\n",
       "    .dataframe tbody tr th:only-of-type {\n",
       "        vertical-align: middle;\n",
       "    }\n",
       "\n",
       "    .dataframe tbody tr th {\n",
       "        vertical-align: top;\n",
       "    }\n",
       "\n",
       "    .dataframe thead th {\n",
       "        text-align: right;\n",
       "    }\n",
       "</style>\n",
       "<table border=\"1\" class=\"dataframe\">\n",
       "  <thead>\n",
       "    <tr style=\"text-align: right;\">\n",
       "      <th></th>\n",
       "      <th>price</th>\n",
       "      <th>load</th>\n",
       "      <th>temp</th>\n",
       "      <th>feels_like</th>\n",
       "      <th>humidity</th>\n",
       "      <th>clouds_all</th>\n",
       "      <th>wind_speed</th>\n",
       "      <th>total_prod</th>\n",
       "      <th>wind_prod</th>\n",
       "      <th>wind_share</th>\n",
       "      <th>holiday</th>\n",
       "    </tr>\n",
       "  </thead>\n",
       "  <tbody>\n",
       "    <tr>\n",
       "      <th>2015-01-01 11:00:00</th>\n",
       "      <td>16.08</td>\n",
       "      <td>2194.0</td>\n",
       "      <td>6.732469</td>\n",
       "      <td>-0.346708</td>\n",
       "      <td>93.413145</td>\n",
       "      <td>91.036933</td>\n",
       "      <td>8.724397</td>\n",
       "      <td>3909.281833</td>\n",
       "      <td>3183.801317</td>\n",
       "      <td>0.814421</td>\n",
       "      <td>1.0</td>\n",
       "    </tr>\n",
       "    <tr>\n",
       "      <th>2015-01-02 11:00:00</th>\n",
       "      <td>15.08</td>\n",
       "      <td>2673.0</td>\n",
       "      <td>6.849566</td>\n",
       "      <td>-2.364317</td>\n",
       "      <td>80.994869</td>\n",
       "      <td>52.392560</td>\n",
       "      <td>11.233930</td>\n",
       "      <td>4247.975683</td>\n",
       "      <td>3405.313993</td>\n",
       "      <td>0.801632</td>\n",
       "      <td>0.0</td>\n",
       "    </tr>\n",
       "    <tr>\n",
       "      <th>2015-01-03 11:00:00</th>\n",
       "      <td>22.31</td>\n",
       "      <td>2405.0</td>\n",
       "      <td>4.332541</td>\n",
       "      <td>-1.562728</td>\n",
       "      <td>88.760764</td>\n",
       "      <td>38.333790</td>\n",
       "      <td>6.187115</td>\n",
       "      <td>3391.054053</td>\n",
       "      <td>2380.964290</td>\n",
       "      <td>0.702131</td>\n",
       "      <td>0.0</td>\n",
       "    </tr>\n",
       "    <tr>\n",
       "      <th>2015-01-04 11:00:00</th>\n",
       "      <td>27.32</td>\n",
       "      <td>2383.0</td>\n",
       "      <td>3.296271</td>\n",
       "      <td>-2.594814</td>\n",
       "      <td>79.233305</td>\n",
       "      <td>11.509847</td>\n",
       "      <td>5.591671</td>\n",
       "      <td>3606.491107</td>\n",
       "      <td>2268.581247</td>\n",
       "      <td>0.629027</td>\n",
       "      <td>0.0</td>\n",
       "    </tr>\n",
       "    <tr>\n",
       "      <th>2015-01-05 11:00:00</th>\n",
       "      <td>40.97</td>\n",
       "      <td>3099.0</td>\n",
       "      <td>4.498201</td>\n",
       "      <td>1.665528</td>\n",
       "      <td>93.718424</td>\n",
       "      <td>88.775936</td>\n",
       "      <td>2.044551</td>\n",
       "      <td>2175.075494</td>\n",
       "      <td>234.576723</td>\n",
       "      <td>0.107848</td>\n",
       "      <td>0.0</td>\n",
       "    </tr>\n",
       "  </tbody>\n",
       "</table>\n",
       "</div>"
      ],
      "text/plain": [
       "                     price    load      temp  feels_like   humidity  \\\n",
       "2015-01-01 11:00:00  16.08  2194.0  6.732469   -0.346708  93.413145   \n",
       "2015-01-02 11:00:00  15.08  2673.0  6.849566   -2.364317  80.994869   \n",
       "2015-01-03 11:00:00  22.31  2405.0  4.332541   -1.562728  88.760764   \n",
       "2015-01-04 11:00:00  27.32  2383.0  3.296271   -2.594814  79.233305   \n",
       "2015-01-05 11:00:00  40.97  3099.0  4.498201    1.665528  93.718424   \n",
       "\n",
       "                     clouds_all  wind_speed   total_prod    wind_prod  \\\n",
       "2015-01-01 11:00:00   91.036933    8.724397  3909.281833  3183.801317   \n",
       "2015-01-02 11:00:00   52.392560   11.233930  4247.975683  3405.313993   \n",
       "2015-01-03 11:00:00   38.333790    6.187115  3391.054053  2380.964290   \n",
       "2015-01-04 11:00:00   11.509847    5.591671  3606.491107  2268.581247   \n",
       "2015-01-05 11:00:00   88.775936    2.044551  2175.075494   234.576723   \n",
       "\n",
       "                     wind_share  holiday  \n",
       "2015-01-01 11:00:00    0.814421      1.0  \n",
       "2015-01-02 11:00:00    0.801632      0.0  \n",
       "2015-01-03 11:00:00    0.702131      0.0  \n",
       "2015-01-04 11:00:00    0.629027      0.0  \n",
       "2015-01-05 11:00:00    0.107848      0.0  "
      ]
     },
     "execution_count": 48,
     "metadata": {},
     "output_type": "execute_result"
    }
   ],
   "source": [
    "from electricity_price_predictor.data import get_all\n",
    "get_all().head()"
   ]
  },
  {
   "cell_type": "markdown",
   "metadata": {},
   "source": [
    "## update weather df to 11.30.2020"
   ]
  },
  {
   "cell_type": "code",
   "execution_count": null,
   "metadata": {},
   "outputs": [],
   "source": []
  }
 ],
 "metadata": {
  "kernelspec": {
   "display_name": "Python 3",
   "language": "python",
   "name": "python3"
  },
  "language_info": {
   "codemirror_mode": {
    "name": "ipython",
    "version": 3
   },
   "file_extension": ".py",
   "mimetype": "text/x-python",
   "name": "python",
   "nbconvert_exporter": "python",
   "pygments_lexer": "ipython3",
   "version": "3.7.7"
  },
  "toc": {
   "base_numbering": 1,
   "nav_menu": {},
   "number_sections": true,
   "sideBar": true,
   "skip_h1_title": false,
   "title_cell": "Table of Contents",
   "title_sidebar": "Contents",
   "toc_cell": false,
   "toc_position": {},
   "toc_section_display": true,
   "toc_window_display": true
  }
 },
 "nbformat": 4,
 "nbformat_minor": 4
}
