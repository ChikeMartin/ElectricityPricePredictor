{
 "cells": [
  {
   "cell_type": "code",
   "execution_count": 10,
   "metadata": {
    "ExecuteTime": {
     "end_time": "2020-11-30T09:34:22.133389Z",
     "start_time": "2020-11-30T09:34:17.652267Z"
    },
    "collapsed": true
   },
   "outputs": [
    {
     "name": "stdout",
     "output_type": "stream",
     "text": [
      "Collecting flask"
     ]
    },
    {
     "name": "stderr",
     "output_type": "stream",
     "text": [
      "WARNING: You are using pip version 19.2.3, however version 20.2.4 is available.\n",
      "You should consider upgrading via the 'python -m pip install --upgrade pip' command.\n"
     ]
    },
    {
     "name": "stdout",
     "output_type": "stream",
     "text": [
      "\n",
      "  Using cached https://files.pythonhosted.org/packages/f2/28/2a03252dfb9ebf377f40fba6a7841b47083260bf8bd8e737b0c6952df83f/Flask-1.1.2-py2.py3-none-any.whl\n",
      "Collecting Werkzeug>=0.15 (from flask)\n",
      "  Using cached https://files.pythonhosted.org/packages/cc/94/5f7079a0e00bd6863ef8f1da638721e9da21e5bacee597595b318f71d62e/Werkzeug-1.0.1-py2.py3-none-any.whl\n",
      "Requirement already satisfied: click>=5.1 in c:\\users\\gesi\\.venvs\\energy_price\\lib\\site-packages (from flask) (7.1.2)\n",
      "Collecting itsdangerous>=0.24 (from flask)\n",
      "  Using cached https://files.pythonhosted.org/packages/76/ae/44b03b253d6fade317f32c24d100b3b35c2239807046a4c953c7b89fa49e/itsdangerous-1.1.0-py2.py3-none-any.whl\n",
      "Requirement already satisfied: Jinja2>=2.10.1 in c:\\users\\gesi\\.venvs\\energy_price\\lib\\site-packages (from flask) (2.11.2)\n",
      "Requirement already satisfied: MarkupSafe>=0.23 in c:\\users\\gesi\\.venvs\\energy_price\\lib\\site-packages (from Jinja2>=2.10.1->flask) (1.1.1)\n",
      "Installing collected packages: Werkzeug, itsdangerous, flask\n",
      "Successfully installed Werkzeug-1.0.1 flask-1.1.2 itsdangerous-1.1.0\n"
     ]
    }
   ],
   "source": [
    "!pip install flask"
   ]
  },
  {
   "cell_type": "code",
   "execution_count": 2,
   "metadata": {
    "ExecuteTime": {
     "end_time": "2020-11-30T09:26:47.372560Z",
     "start_time": "2020-11-30T09:25:23.517028Z"
    },
    "collapsed": true
   },
   "outputs": [
    {
     "name": "stdout",
     "output_type": "stream",
     "text": [
      "Collecting streamlit\n",
      "  Downloading https://files.pythonhosted.org/packages/f9/91/5b62c39a4e382e1c376405e73891c4426af576f507281bc2bb896ac1d028/streamlit-0.71.0-py2.py3-none-any.whl (7.4MB)\n",
      "Collecting altair>=3.2.0 (from streamlit)\n",
      "  Downloading https://files.pythonhosted.org/packages/01/55/0bb2226e34f21fa549c3f4557b4f154a5632f61132a969da17c95ca8eab9/altair-4.1.0-py3-none-any.whl (727kB)\n",
      "Collecting boto3 (from streamlit)\n",
      "  Downloading https://files.pythonhosted.org/packages/59/7f/4ade91fbb684c6f28a6e56028d9f9d2de4297761850d083579779f07c0de/boto3-1.16.25-py2.py3-none-any.whl (129kB)\n",
      "Requirement already satisfied: python-dateutil in c:\\users\\gesi\\.venvs\\energy_price\\lib\\site-packages (from streamlit) (2.8.1)\n",
      "Requirement already satisfied: tornado>=5.0 in c:\\users\\gesi\\.venvs\\energy_price\\lib\\site-packages (from streamlit) (6.1)\n",
      "Collecting pydeck>=0.1.dev5 (from streamlit)\n",
      "  Downloading https://files.pythonhosted.org/packages/9e/9d/8fbf1f56cc5891e6c3295bf94fc176e9ab0a3ffdd090cc8b354ac2640f9a/pydeck-0.5.0-py2.py3-none-any.whl (4.5MB)\n",
      "Collecting gitpython (from streamlit)\n",
      "  Downloading https://files.pythonhosted.org/packages/24/d1/a7f8fe3df258549b303415157328bfcc63e9b11d06a7ad7a3327f3d32606/GitPython-3.1.11-py3-none-any.whl (159kB)\n",
      "Collecting astor (from streamlit)\n",
      "  Downloading https://files.pythonhosted.org/packages/c3/88/97eef84f48fa04fbd6750e62dcceafba6c63c81b7ac1420856c8dcc0a3f9/astor-0.8.1-py2.py3-none-any.whl\n",
      "Collecting click>=7.0 (from streamlit)\n",
      "  Using cached https://files.pythonhosted.org/packages/d2/3d/fa76db83bf75c4f8d338c2fd15c8d33fdd7ad23a9b5e57eb6c5de26b430e/click-7.1.2-py2.py3-none-any.whl\n",
      "Requirement already satisfied: requests in c:\\users\\gesi\\.venvs\\energy_price\\lib\\site-packages (from streamlit) (2.25.0)\n",
      "Requirement already satisfied: pillow>=6.2.0 in c:\\users\\gesi\\.venvs\\energy_price\\lib\\site-packages (from streamlit) (8.0.1)\n",
      "Requirement already satisfied: pandas>=0.21.0 in c:\\users\\gesi\\.venvs\\energy_price\\lib\\site-packages (from streamlit) (1.1.4)\n",
      "Collecting protobuf!=3.11,>=3.6.0 (from streamlit)\n",
      "  Downloading https://files.pythonhosted.org/packages/1d/f4/089025cfa3ee62f89cae73f4d36daf46f339c6df61becfe4b24f3aeb3c0d/protobuf-3.14.0-cp37-cp37m-win_amd64.whl (798kB)\n",
      "Requirement already satisfied: packaging in c:\\users\\gesi\\.venvs\\energy_price\\lib\\site-packages (from streamlit) (20.4)\n",
      "Collecting pyarrow (from streamlit)\n",
      "  Downloading https://files.pythonhosted.org/packages/d8/c6/f847631e56f4a8143ccceb0c89f927d4e2f32eea22b300acd21b51f22562/pyarrow-2.0.0-cp37-cp37m-win_amd64.whl (10.7MB)\n",
      "Collecting cachetools>=4.0 (from streamlit)\n",
      "  Using cached https://files.pythonhosted.org/packages/cd/5c/f3aa86b6d5482f3051b433c7616668a9b96fbe49a622210e2c9781938a5c/cachetools-4.1.1-py3-none-any.whl\n",
      "Collecting blinker (from streamlit)\n",
      "  Downloading https://files.pythonhosted.org/packages/1b/51/e2a9f3b757eb802f61dc1f2b09c8c99f6eb01cf06416c0671253536517b6/blinker-1.4.tar.gz (111kB)\n",
      "Collecting tzlocal (from streamlit)\n",
      "  Downloading https://files.pythonhosted.org/packages/5d/94/d47b0fd5988e6b7059de05720a646a2930920fff247a826f61674d436ba4/tzlocal-2.1-py2.py3-none-any.whl\n",
      "Requirement already satisfied: toml in c:\\users\\gesi\\.venvs\\energy_price\\lib\\site-packages (from streamlit) (0.10.2)\n",
      "Collecting watchdog (from streamlit)\n",
      "  Downloading https://files.pythonhosted.org/packages/6f/10/500580a0987363a0d9e1f3dd5cb1bba94a47e19266c6ce9dfb6cdd455758/watchdog-0.10.4.tar.gz (98kB)\n",
      "Collecting base58 (from streamlit)\n",
      "  Downloading https://files.pythonhosted.org/packages/3c/03/58572025c77b9e6027155b272a1b96298e711cd4f95c24967f7137ab0c4b/base58-2.0.1-py3-none-any.whl\n",
      "Requirement already satisfied: numpy in c:\\users\\gesi\\.venvs\\energy_price\\lib\\site-packages (from streamlit) (1.19.3)\n",
      "Collecting botocore>=1.13.44 (from streamlit)\n",
      "  Downloading https://files.pythonhosted.org/packages/ef/d5/c0c33ca15e31062220ac5964f3492409eaf90a5cf5399503cd8264f2f8e9/botocore-1.19.25-py2.py3-none-any.whl (6.9MB)\n",
      "Collecting validators (from streamlit)\n",
      "  Downloading https://files.pythonhosted.org/packages/41/4a/3360ff3cf2b4a1b9721ac1fbff5f84663f41047d9874b3aa1ac82e862c44/validators-0.18.1-py3-none-any.whl\n",
      "Collecting enum-compat (from streamlit)\n",
      "  Downloading https://files.pythonhosted.org/packages/55/ae/467bc4509246283bb59746e21a1a2f5a8aecbef56b1fa6eaca78cd438c8b/enum_compat-0.0.3-py3-none-any.whl\n",
      "Requirement already satisfied: entrypoints in c:\\users\\gesi\\.venvs\\energy_price\\lib\\site-packages (from altair>=3.2.0->streamlit) (0.3)\n",
      "Collecting toolz (from altair>=3.2.0->streamlit)\n",
      "  Downloading https://files.pythonhosted.org/packages/12/f5/537e55f8ba664ff2a26f26913010fb0fcb98b6bbadc6158af888184fd0b7/toolz-0.11.1-py3-none-any.whl (55kB)\n",
      "Requirement already satisfied: jsonschema in c:\\users\\gesi\\.venvs\\energy_price\\lib\\site-packages (from altair>=3.2.0->streamlit) (3.2.0)\n",
      "Requirement already satisfied: jinja2 in c:\\users\\gesi\\.venvs\\energy_price\\lib\\site-packages (from altair>=3.2.0->streamlit) (2.11.2)\n",
      "Collecting s3transfer<0.4.0,>=0.3.0 (from boto3->streamlit)\n",
      "  Downloading https://files.pythonhosted.org/packages/69/79/e6afb3d8b0b4e96cefbdc690f741d7dd24547ff1f94240c997a26fa908d3/s3transfer-0.3.3-py2.py3-none-any.whl (69kB)\n",
      "Collecting jmespath<1.0.0,>=0.7.1 (from boto3->streamlit)\n",
      "  Using cached https://files.pythonhosted.org/packages/07/cb/5f001272b6faeb23c1c9e0acc04d48eaaf5c862c17709d20e3469c6e0139/jmespath-0.10.0-py2.py3-none-any.whl\n",
      "Requirement already satisfied: six>=1.5 in c:\\users\\gesi\\.venvs\\energy_price\\lib\\site-packages (from python-dateutil->streamlit) (1.15.0)\n",
      "Requirement already satisfied: traitlets>=4.3.2 in c:\\users\\gesi\\.venvs\\energy_price\\lib\\site-packages (from pydeck>=0.1.dev5->streamlit) (5.0.5)\n",
      "Collecting ipywidgets>=7.0.0 (from pydeck>=0.1.dev5->streamlit)\n",
      "  Using cached https://files.pythonhosted.org/packages/56/a0/dbcf5881bb2f51e8db678211907f16ea0a182b232c591a6d6f276985ca95/ipywidgets-7.5.1-py2.py3-none-any.whl\n",
      "Requirement already satisfied: ipykernel>=5.1.2; python_version >= \"3.4\" in c:\\users\\gesi\\.venvs\\energy_price\\lib\\site-packages (from pydeck>=0.1.dev5->streamlit) (5.3.4)\n",
      "Collecting gitdb<5,>=4.0.1 (from gitpython->streamlit)\n",
      "  Downloading https://files.pythonhosted.org/packages/48/11/d1800bca0a3bae820b84b7d813ad1eff15a48a64caea9c823fc8c1b119e8/gitdb-4.0.5-py3-none-any.whl (63kB)\n",
      "Requirement already satisfied: certifi>=2017.4.17 in c:\\users\\gesi\\.venvs\\energy_price\\lib\\site-packages (from requests->streamlit) (2020.11.8)\n",
      "Requirement already satisfied: urllib3<1.27,>=1.21.1 in c:\\users\\gesi\\.venvs\\energy_price\\lib\\site-packages (from requests->streamlit) (1.26.2)\n",
      "Requirement already satisfied: chardet<4,>=3.0.2 in c:\\users\\gesi\\.venvs\\energy_price\\lib\\site-packages (from requests->streamlit) (3.0.4)\n",
      "Requirement already satisfied: idna<3,>=2.5 in c:\\users\\gesi\\.venvs\\energy_price\\lib\\site-packages (from requests->streamlit) (2.10)\n",
      "Requirement already satisfied: pytz>=2017.2 in c:\\users\\gesi\\.venvs\\energy_price\\lib\\site-packages (from pandas>=0.21.0->streamlit) (2020.4)\n",
      "Requirement already satisfied: pyparsing>=2.0.2 in c:\\users\\gesi\\.venvs\\energy_price\\lib\\site-packages (from packaging->streamlit) (2.4.7)\n",
      "Collecting pathtools>=0.1.1 (from watchdog->streamlit)\n",
      "  Downloading https://files.pythonhosted.org/packages/e7/7f/470d6fcdf23f9f3518f6b0b76be9df16dcc8630ad409947f8be2eb0ed13a/pathtools-0.1.2.tar.gz\n",
      "Requirement already satisfied: decorator>=3.4.0 in c:\\users\\gesi\\.venvs\\energy_price\\lib\\site-packages (from validators->streamlit) (4.4.2)\n",
      "Requirement already satisfied: attrs>=17.4.0 in c:\\users\\gesi\\.venvs\\energy_price\\lib\\site-packages (from jsonschema->altair>=3.2.0->streamlit) (20.3.0)\n",
      "Requirement already satisfied: setuptools in c:\\users\\gesi\\.venvs\\energy_price\\lib\\site-packages (from jsonschema->altair>=3.2.0->streamlit) (41.2.0)\n",
      "Requirement already satisfied: pyrsistent>=0.14.0 in c:\\users\\gesi\\.venvs\\energy_price\\lib\\site-packages (from jsonschema->altair>=3.2.0->streamlit) (0.17.3)\n",
      "Requirement already satisfied: importlib-metadata; python_version < \"3.8\" in c:\\users\\gesi\\.venvs\\energy_price\\lib\\site-packages (from jsonschema->altair>=3.2.0->streamlit) (3.0.0)\n",
      "Requirement already satisfied: MarkupSafe>=0.23 in c:\\users\\gesi\\.venvs\\energy_price\\lib\\site-packages (from jinja2->altair>=3.2.0->streamlit) (1.1.1)\n",
      "Requirement already satisfied: ipython-genutils in c:\\users\\gesi\\.venvs\\energy_price\\lib\\site-packages (from traitlets>=4.3.2->pydeck>=0.1.dev5->streamlit) (0.2.0)\n",
      "Requirement already satisfied: nbformat>=4.2.0 in c:\\users\\gesi\\.venvs\\energy_price\\lib\\site-packages (from ipywidgets>=7.0.0->pydeck>=0.1.dev5->streamlit) (5.0.8)\n",
      "Requirement already satisfied: ipython>=4.0.0; python_version >= \"3.3\" in c:\\users\\gesi\\.venvs\\energy_price\\lib\\site-packages (from ipywidgets>=7.0.0->pydeck>=0.1.dev5->streamlit) (7.19.0)\n",
      "Collecting widgetsnbextension~=3.5.0 (from ipywidgets>=7.0.0->pydeck>=0.1.dev5->streamlit)\n",
      "  Using cached https://files.pythonhosted.org/packages/6c/7b/7ac231c20d2d33c445eaacf8a433f4e22c60677eb9776c7c5262d7ddee2d/widgetsnbextension-3.5.1-py2.py3-none-any.whl\n",
      "Requirement already satisfied: jupyter-client in c:\\users\\gesi\\.venvs\\energy_price\\lib\\site-packages (from ipykernel>=5.1.2; python_version >= \"3.4\"->pydeck>=0.1.dev5->streamlit) (6.1.7)\n",
      "Collecting smmap<4,>=3.0.1 (from gitdb<5,>=4.0.1->gitpython->streamlit)\n",
      "  Downloading https://files.pythonhosted.org/packages/b0/9a/4d409a6234eb940e6a78dfdfc66156e7522262f5f2fecca07dc55915952d/smmap-3.0.4-py2.py3-none-any.whl\n",
      "Requirement already satisfied: zipp>=0.5 in c:\\users\\gesi\\.venvs\\energy_price\\lib\\site-packages (from importlib-metadata; python_version < \"3.8\"->jsonschema->altair>=3.2.0->streamlit) (3.4.0)\n",
      "Requirement already satisfied: jupyter-core in c:\\users\\gesi\\.venvs\\energy_price\\lib\\site-packages (from nbformat>=4.2.0->ipywidgets>=7.0.0->pydeck>=0.1.dev5->streamlit) (4.7.0)\n",
      "Requirement already satisfied: pickleshare in c:\\users\\gesi\\.venvs\\energy_price\\lib\\site-packages (from ipython>=4.0.0; python_version >= \"3.3\"->ipywidgets>=7.0.0->pydeck>=0.1.dev5->streamlit) (0.7.5)\n",
      "Requirement already satisfied: backcall in c:\\users\\gesi\\.venvs\\energy_price\\lib\\site-packages (from ipython>=4.0.0; python_version >= \"3.3\"->ipywidgets>=7.0.0->pydeck>=0.1.dev5->streamlit) (0.2.0)\n",
      "Requirement already satisfied: prompt-toolkit!=3.0.0,!=3.0.1,<3.1.0,>=2.0.0 in c:\\users\\gesi\\.venvs\\energy_price\\lib\\site-packages (from ipython>=4.0.0; python_version >= \"3.3\"->ipywidgets>=7.0.0->pydeck>=0.1.dev5->streamlit) (3.0.8)\n",
      "Requirement already satisfied: pygments in c:\\users\\gesi\\.venvs\\energy_price\\lib\\site-packages (from ipython>=4.0.0; python_version >= \"3.3\"->ipywidgets>=7.0.0->pydeck>=0.1.dev5->streamlit) (2.7.2)\n",
      "Requirement already satisfied: colorama; sys_platform == \"win32\" in c:\\users\\gesi\\.venvs\\energy_price\\lib\\site-packages (from ipython>=4.0.0; python_version >= \"3.3\"->ipywidgets>=7.0.0->pydeck>=0.1.dev5->streamlit) (0.4.4)\n"
     ]
    },
    {
     "name": "stderr",
     "output_type": "stream",
     "text": [
      "WARNING: You are using pip version 19.2.3, however version 20.2.4 is available.\n",
      "You should consider upgrading via the 'python -m pip install --upgrade pip' command.\n"
     ]
    },
    {
     "name": "stdout",
     "output_type": "stream",
     "text": [
      "Requirement already satisfied: jedi>=0.10 in c:\\users\\gesi\\.venvs\\energy_price\\lib\\site-packages (from ipython>=4.0.0; python_version >= \"3.3\"->ipywidgets>=7.0.0->pydeck>=0.1.dev5->streamlit) (0.17.2)\n",
      "Requirement already satisfied: notebook>=4.4.1 in c:\\users\\gesi\\.venvs\\energy_price\\lib\\site-packages (from widgetsnbextension~=3.5.0->ipywidgets>=7.0.0->pydeck>=0.1.dev5->streamlit) (6.1.5)\n",
      "Requirement already satisfied: pyzmq>=13 in c:\\users\\gesi\\.venvs\\energy_price\\lib\\site-packages (from jupyter-client->ipykernel>=5.1.2; python_version >= \"3.4\"->pydeck>=0.1.dev5->streamlit) (20.0.0)\n",
      "Requirement already satisfied: pywin32>=1.0; sys_platform == \"win32\" in c:\\users\\gesi\\.venvs\\energy_price\\lib\\site-packages (from jupyter-core->nbformat>=4.2.0->ipywidgets>=7.0.0->pydeck>=0.1.dev5->streamlit) (300)\n",
      "Requirement already satisfied: wcwidth in c:\\users\\gesi\\.venvs\\energy_price\\lib\\site-packages (from prompt-toolkit!=3.0.0,!=3.0.1,<3.1.0,>=2.0.0->ipython>=4.0.0; python_version >= \"3.3\"->ipywidgets>=7.0.0->pydeck>=0.1.dev5->streamlit) (0.2.5)\n",
      "Requirement already satisfied: parso<0.8.0,>=0.7.0 in c:\\users\\gesi\\.venvs\\energy_price\\lib\\site-packages (from jedi>=0.10->ipython>=4.0.0; python_version >= \"3.3\"->ipywidgets>=7.0.0->pydeck>=0.1.dev5->streamlit) (0.7.1)\n",
      "Requirement already satisfied: argon2-cffi in c:\\users\\gesi\\.venvs\\energy_price\\lib\\site-packages (from notebook>=4.4.1->widgetsnbextension~=3.5.0->ipywidgets>=7.0.0->pydeck>=0.1.dev5->streamlit) (20.1.0)\n",
      "Requirement already satisfied: prometheus-client in c:\\users\\gesi\\.venvs\\energy_price\\lib\\site-packages (from notebook>=4.4.1->widgetsnbextension~=3.5.0->ipywidgets>=7.0.0->pydeck>=0.1.dev5->streamlit) (0.9.0)\n",
      "Requirement already satisfied: nbconvert in c:\\users\\gesi\\.venvs\\energy_price\\lib\\site-packages (from notebook>=4.4.1->widgetsnbextension~=3.5.0->ipywidgets>=7.0.0->pydeck>=0.1.dev5->streamlit) (6.0.7)\n",
      "Requirement already satisfied: terminado>=0.8.3 in c:\\users\\gesi\\.venvs\\energy_price\\lib\\site-packages (from notebook>=4.4.1->widgetsnbextension~=3.5.0->ipywidgets>=7.0.0->pydeck>=0.1.dev5->streamlit) (0.9.1)\n",
      "Requirement already satisfied: Send2Trash in c:\\users\\gesi\\.venvs\\energy_price\\lib\\site-packages (from notebook>=4.4.1->widgetsnbextension~=3.5.0->ipywidgets>=7.0.0->pydeck>=0.1.dev5->streamlit) (1.5.0)\n",
      "Requirement already satisfied: cffi>=1.0.0 in c:\\users\\gesi\\.venvs\\energy_price\\lib\\site-packages (from argon2-cffi->notebook>=4.4.1->widgetsnbextension~=3.5.0->ipywidgets>=7.0.0->pydeck>=0.1.dev5->streamlit) (1.14.3)\n",
      "Requirement already satisfied: defusedxml in c:\\users\\gesi\\.venvs\\energy_price\\lib\\site-packages (from nbconvert->notebook>=4.4.1->widgetsnbextension~=3.5.0->ipywidgets>=7.0.0->pydeck>=0.1.dev5->streamlit) (0.6.0)\n",
      "Requirement already satisfied: jupyterlab-pygments in c:\\users\\gesi\\.venvs\\energy_price\\lib\\site-packages (from nbconvert->notebook>=4.4.1->widgetsnbextension~=3.5.0->ipywidgets>=7.0.0->pydeck>=0.1.dev5->streamlit) (0.1.2)\n",
      "Requirement already satisfied: mistune<2,>=0.8.1 in c:\\users\\gesi\\.venvs\\energy_price\\lib\\site-packages (from nbconvert->notebook>=4.4.1->widgetsnbextension~=3.5.0->ipywidgets>=7.0.0->pydeck>=0.1.dev5->streamlit) (0.8.4)\n",
      "Requirement already satisfied: pandocfilters>=1.4.1 in c:\\users\\gesi\\.venvs\\energy_price\\lib\\site-packages (from nbconvert->notebook>=4.4.1->widgetsnbextension~=3.5.0->ipywidgets>=7.0.0->pydeck>=0.1.dev5->streamlit) (1.4.3)\n",
      "Requirement already satisfied: bleach in c:\\users\\gesi\\.venvs\\energy_price\\lib\\site-packages (from nbconvert->notebook>=4.4.1->widgetsnbextension~=3.5.0->ipywidgets>=7.0.0->pydeck>=0.1.dev5->streamlit) (3.2.1)\n",
      "Requirement already satisfied: testpath in c:\\users\\gesi\\.venvs\\energy_price\\lib\\site-packages (from nbconvert->notebook>=4.4.1->widgetsnbextension~=3.5.0->ipywidgets>=7.0.0->pydeck>=0.1.dev5->streamlit) (0.4.4)\n",
      "Requirement already satisfied: nbclient<0.6.0,>=0.5.0 in c:\\users\\gesi\\.venvs\\energy_price\\lib\\site-packages (from nbconvert->notebook>=4.4.1->widgetsnbextension~=3.5.0->ipywidgets>=7.0.0->pydeck>=0.1.dev5->streamlit) (0.5.1)\n",
      "Requirement already satisfied: pywinpty>=0.5; os_name == \"nt\" in c:\\users\\gesi\\.venvs\\energy_price\\lib\\site-packages (from terminado>=0.8.3->notebook>=4.4.1->widgetsnbextension~=3.5.0->ipywidgets>=7.0.0->pydeck>=0.1.dev5->streamlit) (0.5.7)\n",
      "Requirement already satisfied: pycparser in c:\\users\\gesi\\.venvs\\energy_price\\lib\\site-packages (from cffi>=1.0.0->argon2-cffi->notebook>=4.4.1->widgetsnbextension~=3.5.0->ipywidgets>=7.0.0->pydeck>=0.1.dev5->streamlit) (2.20)\n",
      "Requirement already satisfied: webencodings in c:\\users\\gesi\\.venvs\\energy_price\\lib\\site-packages (from bleach->nbconvert->notebook>=4.4.1->widgetsnbextension~=3.5.0->ipywidgets>=7.0.0->pydeck>=0.1.dev5->streamlit) (0.5.1)\n",
      "Requirement already satisfied: async-generator in c:\\users\\gesi\\.venvs\\energy_price\\lib\\site-packages (from nbclient<0.6.0,>=0.5.0->nbconvert->notebook>=4.4.1->widgetsnbextension~=3.5.0->ipywidgets>=7.0.0->pydeck>=0.1.dev5->streamlit) (1.10)\n",
      "Requirement already satisfied: nest-asyncio in c:\\users\\gesi\\.venvs\\energy_price\\lib\\site-packages (from nbclient<0.6.0,>=0.5.0->nbconvert->notebook>=4.4.1->widgetsnbextension~=3.5.0->ipywidgets>=7.0.0->pydeck>=0.1.dev5->streamlit) (1.4.3)\n",
      "Installing collected packages: toolz, altair, jmespath, botocore, s3transfer, boto3, widgetsnbextension, ipywidgets, pydeck, smmap, gitdb, gitpython, astor, click, protobuf, pyarrow, cachetools, blinker, tzlocal, pathtools, watchdog, base58, validators, enum-compat, streamlit\n",
      "  Running setup.py install for blinker: started\n",
      "    Running setup.py install for blinker: finished with status 'done'\n",
      "  Running setup.py install for pathtools: started\n",
      "    Running setup.py install for pathtools: finished with status 'done'"
     ]
    }
   ],
   "source": [
    "!pip install streamlit"
   ]
  },
  {
   "cell_type": "code",
   "execution_count": 3,
   "metadata": {
    "ExecuteTime": {
     "end_time": "2020-11-30T09:28:02.773649Z",
     "start_time": "2020-11-30T09:28:01.231843Z"
    }
   },
   "outputs": [],
   "source": [
    "import streamlit as st\n",
    "import numpy as np \n",
    "import pandas as pd"
   ]
  },
  {
   "cell_type": "code",
   "execution_count": 4,
   "metadata": {
    "ExecuteTime": {
     "end_time": "2020-11-30T09:28:15.287065Z",
     "start_time": "2020-11-30T09:28:15.262966Z"
    }
   },
   "outputs": [
    {
     "data": {
      "text/plain": [
       "<streamlit.delta_generator.DeltaGenerator at 0x2a5e20f5088>"
      ]
     },
     "execution_count": 4,
     "metadata": {},
     "output_type": "execute_result"
    }
   ],
   "source": [
    "st.markdown(\"\"\"# This is a header\n",
    "## This is a sub header\n",
    "This is text\"\"\")"
   ]
  },
  {
   "cell_type": "code",
   "execution_count": 5,
   "metadata": {
    "ExecuteTime": {
     "end_time": "2020-11-30T09:29:27.571919Z",
     "start_time": "2020-11-30T09:29:27.560922Z"
    }
   },
   "outputs": [],
   "source": [
    "df = pd.DataFrame({\n",
    "          'first column': list(range(1, 11)),\n",
    "          'second column': np.arange(10, 101, 10)\n",
    "        })"
   ]
  },
  {
   "cell_type": "code",
   "execution_count": 6,
   "metadata": {
    "ExecuteTime": {
     "end_time": "2020-11-30T09:29:38.391909Z",
     "start_time": "2020-11-30T09:29:38.385373Z"
    }
   },
   "outputs": [],
   "source": [
    "# this slider allows the user to select a number of lines\n",
    "# to display in the dataframe\n",
    "# the selected value is returned by st.slider\n",
    "line_count = st.slider('Select a line count', 1, 10, 3)"
   ]
  },
  {
   "cell_type": "code",
   "execution_count": 7,
   "metadata": {
    "ExecuteTime": {
     "end_time": "2020-11-30T09:30:03.504826Z",
     "start_time": "2020-11-30T09:30:03.496826Z"
    }
   },
   "outputs": [],
   "source": [
    "# and used in order to select the displayed lines\n",
    "head_df = df.head(line_count)"
   ]
  },
  {
   "cell_type": "code",
   "execution_count": 8,
   "metadata": {
    "ExecuteTime": {
     "end_time": "2020-11-30T09:30:10.240178Z",
     "start_time": "2020-11-30T09:30:10.221096Z"
    },
    "scrolled": true
   },
   "outputs": [
    {
     "data": {
      "text/html": [
       "<div>\n",
       "<style scoped>\n",
       "    .dataframe tbody tr th:only-of-type {\n",
       "        vertical-align: middle;\n",
       "    }\n",
       "\n",
       "    .dataframe tbody tr th {\n",
       "        vertical-align: top;\n",
       "    }\n",
       "\n",
       "    .dataframe thead th {\n",
       "        text-align: right;\n",
       "    }\n",
       "</style>\n",
       "<table border=\"1\" class=\"dataframe\">\n",
       "  <thead>\n",
       "    <tr style=\"text-align: right;\">\n",
       "      <th></th>\n",
       "      <th>first column</th>\n",
       "      <th>second column</th>\n",
       "    </tr>\n",
       "  </thead>\n",
       "  <tbody>\n",
       "    <tr>\n",
       "      <th>0</th>\n",
       "      <td>1</td>\n",
       "      <td>10</td>\n",
       "    </tr>\n",
       "    <tr>\n",
       "      <th>1</th>\n",
       "      <td>2</td>\n",
       "      <td>20</td>\n",
       "    </tr>\n",
       "    <tr>\n",
       "      <th>2</th>\n",
       "      <td>3</td>\n",
       "      <td>30</td>\n",
       "    </tr>\n",
       "  </tbody>\n",
       "</table>\n",
       "</div>"
      ],
      "text/plain": [
       "   first column  second column\n",
       "0             1             10\n",
       "1             2             20\n",
       "2             3             30"
      ]
     },
     "execution_count": 8,
     "metadata": {},
     "output_type": "execute_result"
    }
   ],
   "source": [
    "head_df"
   ]
  }
 ],
 "metadata": {
  "kernelspec": {
   "display_name": "Python 3",
   "language": "python",
   "name": "python3"
  },
  "language_info": {
   "codemirror_mode": {
    "name": "ipython",
    "version": 3
   },
   "file_extension": ".py",
   "mimetype": "text/x-python",
   "name": "python",
   "nbconvert_exporter": "python",
   "pygments_lexer": "ipython3",
   "version": "3.7.7"
  },
  "toc": {
   "base_numbering": 1,
   "nav_menu": {},
   "number_sections": true,
   "sideBar": true,
   "skip_h1_title": false,
   "title_cell": "Table of Contents",
   "title_sidebar": "Contents",
   "toc_cell": false,
   "toc_position": {},
   "toc_section_display": true,
   "toc_window_display": false
  },
  "varInspector": {
   "cols": {
    "lenName": 16,
    "lenType": 16,
    "lenVar": 40
   },
   "kernels_config": {
    "python": {
     "delete_cmd_postfix": "",
     "delete_cmd_prefix": "del ",
     "library": "var_list.py",
     "varRefreshCmd": "print(var_dic_list())"
    },
    "r": {
     "delete_cmd_postfix": ") ",
     "delete_cmd_prefix": "rm(",
     "library": "var_list.r",
     "varRefreshCmd": "cat(var_dic_list()) "
    }
   },
   "types_to_exclude": [
    "module",
    "function",
    "builtin_function_or_method",
    "instance",
    "_Feature"
   ],
   "window_display": false
  }
 },
 "nbformat": 4,
 "nbformat_minor": 4
}
