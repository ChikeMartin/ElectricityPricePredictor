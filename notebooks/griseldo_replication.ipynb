{
 "cells": [
  {
   "cell_type": "markdown",
   "metadata": {},
   "source": [
    "## Replication of electricity price forecasting"
   ]
  },
  {
   "cell_type": "markdown",
   "metadata": {},
   "source": [
    "### Days of the week/ Holidays"
   ]
  },
  {
   "cell_type": "code",
   "execution_count": 1,
   "metadata": {
    "ExecuteTime": {
     "end_time": "2020-11-26T16:27:13.639048Z",
     "start_time": "2020-11-26T16:27:09.198636Z"
    }
   },
   "outputs": [],
   "source": [
    "import pandas as pd\n",
    "import matplotlib.pyplot as plt\n",
    "import seaborn as sns\n",
    "from datetime import date\n",
    "import holidays\n",
    "import statsmodels.api as sm\n",
    "import statsmodels.formula.api as smf"
   ]
  },
  {
   "cell_type": "code",
   "execution_count": 2,
   "metadata": {
    "ExecuteTime": {
     "end_time": "2020-11-26T16:27:13.654729Z",
     "start_time": "2020-11-26T16:27:13.642051Z"
    }
   },
   "outputs": [],
   "source": [
    "from electricity_price_predictor.data import get_shifted_price, get_shifted_load"
   ]
  },
  {
   "cell_type": "code",
   "execution_count": 3,
   "metadata": {
    "ExecuteTime": {
     "end_time": "2020-11-26T16:27:14.794088Z",
     "start_time": "2020-11-26T16:27:13.658830Z"
    }
   },
   "outputs": [],
   "source": [
    "price = get_shifted_price()"
   ]
  },
  {
   "cell_type": "code",
   "execution_count": 4,
   "metadata": {
    "ExecuteTime": {
     "end_time": "2020-11-26T16:27:14.854453Z",
     "start_time": "2020-11-26T16:27:14.803826Z"
    }
   },
   "outputs": [],
   "source": [
    "price = price.loc[: '2020-11-23 16:00:00']"
   ]
  },
  {
   "cell_type": "code",
   "execution_count": 5,
   "metadata": {
    "ExecuteTime": {
     "end_time": "2020-11-26T16:27:15.986274Z",
     "start_time": "2020-11-26T16:27:14.866856Z"
    }
   },
   "outputs": [],
   "source": [
    "load = get_shifted_load()"
   ]
  },
  {
   "cell_type": "code",
   "execution_count": 6,
   "metadata": {
    "ExecuteTime": {
     "end_time": "2020-11-26T16:27:16.001291Z",
     "start_time": "2020-11-26T16:27:15.990956Z"
    }
   },
   "outputs": [],
   "source": [
    "# pd.date_range(start = '2015-01-01', end = '2020-11-22' ).difference(load.index)"
   ]
  },
  {
   "cell_type": "code",
   "execution_count": 7,
   "metadata": {
    "ExecuteTime": {
     "end_time": "2020-11-26T16:27:16.084967Z",
     "start_time": "2020-11-26T16:27:16.006310Z"
    }
   },
   "outputs": [],
   "source": [
    "merged = price.merge(load, how='inner', on='time')"
   ]
  },
  {
   "cell_type": "code",
   "execution_count": 8,
   "metadata": {
    "ExecuteTime": {
     "end_time": "2020-11-26T16:27:16.145558Z",
     "start_time": "2020-11-26T16:27:16.092664Z"
    }
   },
   "outputs": [],
   "source": [
    "merged_D = merged.resample('D').mean()"
   ]
  },
  {
   "cell_type": "code",
   "execution_count": 9,
   "metadata": {
    "ExecuteTime": {
     "end_time": "2020-11-26T16:27:16.191174Z",
     "start_time": "2020-11-26T16:27:16.153219Z"
    }
   },
   "outputs": [
    {
     "data": {
      "text/plain": [
       "price    0\n",
       "load     0\n",
       "dtype: int64"
      ]
     },
     "execution_count": 9,
     "metadata": {},
     "output_type": "execute_result"
    }
   ],
   "source": [
    "merged_D.isnull().sum()"
   ]
  },
  {
   "cell_type": "code",
   "execution_count": 10,
   "metadata": {
    "ExecuteTime": {
     "end_time": "2020-11-26T16:27:16.218245Z",
     "start_time": "2020-11-26T16:27:16.202206Z"
    }
   },
   "outputs": [],
   "source": [
    "#create an object with all the holidays in denmakr\n",
    "denmark_holidays = holidays.CountryHoliday('DK')"
   ]
  },
  {
   "cell_type": "code",
   "execution_count": 11,
   "metadata": {
    "ExecuteTime": {
     "end_time": "2020-11-26T16:27:16.246173Z",
     "start_time": "2020-11-26T16:27:16.225882Z"
    }
   },
   "outputs": [],
   "source": [
    "def get_holidays(start='1/1/2015', stop='31/12/2020', country='DK', frequency='D'):\n",
    "    \"\"\"\n",
    "    Takes in a start and stop date and a country.\n",
    "    \n",
    "    Produces a dataframe with a daily date time index and columns:\n",
    "    day_of_week - numerical day of the week identifier 0 for monday\n",
    "    holiday_bool - boolean true or false for holiday\n",
    "    holiday_name - name of the holiday if holiday_bool is true\n",
    "    \n",
    "    Returns a dataframe\n",
    "    \"\"\"\n",
    "    \n",
    "    #generate the range of daily dates\n",
    "    dates = pd.date_range(start=start, end=stop, freq=frequency)\n",
    "    \n",
    "    #create the holiday object\n",
    "    country_holidays = holidays.CountryHoliday(country)\n",
    "\n",
    "    #create a list for the holiday bool and name\n",
    "    holiday_list = []\n",
    "    \n",
    "    #loop through the dates\n",
    "    for date in dates:\n",
    "        #true if holiday in object, false otherwise\n",
    "        holiday_bool = date in country_holidays\n",
    "        holiday_names = country_holidays.get(date)\n",
    "        \n",
    "        holiday_list.append([holiday_bool, holiday_names])\n",
    "        \n",
    "    #create return dataframe\n",
    "    holidays_data = pd.DataFrame(holiday_list, index=dates, columns=['holiday_bool', 'holiday_name'])\n",
    "                  \n",
    "    return holidays_data"
   ]
  },
  {
   "cell_type": "code",
   "execution_count": 12,
   "metadata": {
    "ExecuteTime": {
     "end_time": "2020-11-26T16:27:16.382221Z",
     "start_time": "2020-11-26T16:27:16.255336Z"
    }
   },
   "outputs": [],
   "source": [
    "hld_df = get_holidays()"
   ]
  },
  {
   "cell_type": "code",
   "execution_count": 13,
   "metadata": {
    "ExecuteTime": {
     "end_time": "2020-11-26T16:27:16.411007Z",
     "start_time": "2020-11-26T16:27:16.389604Z"
    }
   },
   "outputs": [],
   "source": [
    "hld_df = hld_df.loc[: '2020-11-23']"
   ]
  },
  {
   "cell_type": "code",
   "execution_count": 14,
   "metadata": {
    "ExecuteTime": {
     "end_time": "2020-11-26T16:27:16.469993Z",
     "start_time": "2020-11-26T16:27:16.417290Z"
    }
   },
   "outputs": [
    {
     "data": {
      "text/html": [
       "<div>\n",
       "<style scoped>\n",
       "    .dataframe tbody tr th:only-of-type {\n",
       "        vertical-align: middle;\n",
       "    }\n",
       "\n",
       "    .dataframe tbody tr th {\n",
       "        vertical-align: top;\n",
       "    }\n",
       "\n",
       "    .dataframe thead th {\n",
       "        text-align: right;\n",
       "    }\n",
       "</style>\n",
       "<table border=\"1\" class=\"dataframe\">\n",
       "  <thead>\n",
       "    <tr style=\"text-align: right;\">\n",
       "      <th></th>\n",
       "      <th>holiday_bool</th>\n",
       "      <th>holiday_name</th>\n",
       "    </tr>\n",
       "  </thead>\n",
       "  <tbody>\n",
       "    <tr>\n",
       "      <th>2015-01-01</th>\n",
       "      <td>True</td>\n",
       "      <td>Nytårsdag</td>\n",
       "    </tr>\n",
       "    <tr>\n",
       "      <th>2015-01-02</th>\n",
       "      <td>False</td>\n",
       "      <td>None</td>\n",
       "    </tr>\n",
       "    <tr>\n",
       "      <th>2015-01-03</th>\n",
       "      <td>False</td>\n",
       "      <td>None</td>\n",
       "    </tr>\n",
       "    <tr>\n",
       "      <th>2015-01-04</th>\n",
       "      <td>False</td>\n",
       "      <td>None</td>\n",
       "    </tr>\n",
       "    <tr>\n",
       "      <th>2015-01-05</th>\n",
       "      <td>False</td>\n",
       "      <td>None</td>\n",
       "    </tr>\n",
       "    <tr>\n",
       "      <th>...</th>\n",
       "      <td>...</td>\n",
       "      <td>...</td>\n",
       "    </tr>\n",
       "    <tr>\n",
       "      <th>2020-11-19</th>\n",
       "      <td>False</td>\n",
       "      <td>None</td>\n",
       "    </tr>\n",
       "    <tr>\n",
       "      <th>2020-11-20</th>\n",
       "      <td>False</td>\n",
       "      <td>None</td>\n",
       "    </tr>\n",
       "    <tr>\n",
       "      <th>2020-11-21</th>\n",
       "      <td>False</td>\n",
       "      <td>None</td>\n",
       "    </tr>\n",
       "    <tr>\n",
       "      <th>2020-11-22</th>\n",
       "      <td>False</td>\n",
       "      <td>None</td>\n",
       "    </tr>\n",
       "    <tr>\n",
       "      <th>2020-11-23</th>\n",
       "      <td>False</td>\n",
       "      <td>None</td>\n",
       "    </tr>\n",
       "  </tbody>\n",
       "</table>\n",
       "<p>2154 rows × 2 columns</p>\n",
       "</div>"
      ],
      "text/plain": [
       "            holiday_bool holiday_name\n",
       "2015-01-01          True    Nytårsdag\n",
       "2015-01-02         False         None\n",
       "2015-01-03         False         None\n",
       "2015-01-04         False         None\n",
       "2015-01-05         False         None\n",
       "...                  ...          ...\n",
       "2020-11-19         False         None\n",
       "2020-11-20         False         None\n",
       "2020-11-21         False         None\n",
       "2020-11-22         False         None\n",
       "2020-11-23         False         None\n",
       "\n",
       "[2154 rows x 2 columns]"
      ]
     },
     "execution_count": 14,
     "metadata": {},
     "output_type": "execute_result"
    }
   ],
   "source": [
    "hld_df"
   ]
  },
  {
   "cell_type": "code",
   "execution_count": 15,
   "metadata": {
    "ExecuteTime": {
     "end_time": "2020-11-26T16:27:16.485420Z",
     "start_time": "2020-11-26T16:27:16.474998Z"
    }
   },
   "outputs": [],
   "source": [
    "# def get_holidays(start='1/1/2015', stop='31/12/2020', country='DK'):\n",
    "#     \"\"\"\n",
    "#     Takes in a start and stop date and a country.\n",
    "    \n",
    "#     Produces a dataframe with a daily date time index and columns:\n",
    "#     day_of_week - numerical day of the week identifier 0 for monday\n",
    "#     holiday_bool - boolean true or false for holiday\n",
    "#     holiday_name - name of the holiday if holiday_bool is true\n",
    "    \n",
    "#     Returns a dataframe\n",
    "#     \"\"\"\n",
    "    \n",
    "#     #generate the range of daily dates\n",
    "#     dates = pd.date_range(start=start, end=stop)\n",
    "    \n",
    "#     #create the holiday object\n",
    "#     country_holidays = holidays.CountryHoliday(country)\n",
    "    \n",
    "#     #create a dataframe of weekday categories\n",
    "#     days = pd.DataFrame(list(dates.weekday), index=dates, columns=['weekday_id'])\n",
    "\n",
    "#     #create a list for the holiday bool and name\n",
    "#     holiday_list = []\n",
    "    \n",
    "#     #loop through the dates\n",
    "#     for date in dates:\n",
    "#         #true if holiday in object, false otherwise\n",
    "#         holiday_bool = date in country_holidays\n",
    "#         holiday_names = country_holidays.get(date)\n",
    "        \n",
    "#         holiday_list.append([holiday_bool, holiday_names])\n",
    "        \n",
    "#     #create return dataframe\n",
    "#     holidays_data = pd.DataFrame(holiday_list, index=dates, columns=['holiday_bool', 'holiday_name'])\n",
    "          \n",
    "#     #join the days and the holidays_data dataframes\n",
    "#     data = pd.concat([days, holidays_data], axis=1)\n",
    "                 \n",
    "                    \n",
    "#     return data"
   ]
  },
  {
   "cell_type": "code",
   "execution_count": 16,
   "metadata": {
    "ExecuteTime": {
     "end_time": "2020-11-26T16:27:16.517195Z",
     "start_time": "2020-11-26T16:27:16.494250Z"
    }
   },
   "outputs": [],
   "source": [
    "# holiday_df = get_holidays()"
   ]
  },
  {
   "cell_type": "code",
   "execution_count": 17,
   "metadata": {
    "ExecuteTime": {
     "end_time": "2020-11-26T16:27:16.532796Z",
     "start_time": "2020-11-26T16:27:16.521733Z"
    }
   },
   "outputs": [],
   "source": [
    "# holiday_df = holiday_df.loc[: '2020-11-23']"
   ]
  },
  {
   "cell_type": "code",
   "execution_count": 18,
   "metadata": {
    "ExecuteTime": {
     "end_time": "2020-11-26T16:27:16.561086Z",
     "start_time": "2020-11-26T16:27:16.539808Z"
    }
   },
   "outputs": [],
   "source": [
    "def get_days_dummies(start='1/1/2015', stop='31/12/2020', frequency='D'):\n",
    "    \"\"\"\n",
    "    Takes in a start and stop date and frequency.\n",
    "    \n",
    "    Produces a dataframe with a date time index at the frequency input and columns:\n",
    "    weekday_id - numerical day of the week identifier 0 for monday\n",
    "    \n",
    "    Returns a dataframe\n",
    "    \"\"\"\n",
    "    \n",
    "    #generate the range of daily dates\n",
    "    dates = pd.date_range(start=start, end=stop, freq=frequency)\n",
    "    \n",
    "    #create a dataframe of weekday categories\n",
    "    days = pd.DataFrame(list(dates.weekday), index=dates, columns=['weekday_id'])\n",
    "    \n",
    "    days = pd.get_dummies(days['weekday_id'])\n",
    "    \n",
    "    columns = ['mon', 'tue', 'wed', 'thur', 'fri', 'sat', 'sun']\n",
    "    \n",
    "    days.columns = columns\n",
    "    \n",
    "    return days"
   ]
  },
  {
   "cell_type": "code",
   "execution_count": 19,
   "metadata": {
    "ExecuteTime": {
     "end_time": "2020-11-26T16:27:16.589565Z",
     "start_time": "2020-11-26T16:27:16.567377Z"
    }
   },
   "outputs": [],
   "source": [
    "dow_df = get_days_dummies(start='2015-01-01', stop='2020-12-31')"
   ]
  },
  {
   "cell_type": "code",
   "execution_count": 20,
   "metadata": {
    "ExecuteTime": {
     "end_time": "2020-11-26T16:27:16.605631Z",
     "start_time": "2020-11-26T16:27:16.595185Z"
    }
   },
   "outputs": [],
   "source": [
    "dow_df = dow_df.loc[: '2020-11-23']"
   ]
  },
  {
   "cell_type": "code",
   "execution_count": 21,
   "metadata": {
    "ExecuteTime": {
     "end_time": "2020-11-26T16:27:16.666520Z",
     "start_time": "2020-11-26T16:27:16.609955Z"
    }
   },
   "outputs": [
    {
     "data": {
      "text/html": [
       "<div>\n",
       "<style scoped>\n",
       "    .dataframe tbody tr th:only-of-type {\n",
       "        vertical-align: middle;\n",
       "    }\n",
       "\n",
       "    .dataframe tbody tr th {\n",
       "        vertical-align: top;\n",
       "    }\n",
       "\n",
       "    .dataframe thead th {\n",
       "        text-align: right;\n",
       "    }\n",
       "</style>\n",
       "<table border=\"1\" class=\"dataframe\">\n",
       "  <thead>\n",
       "    <tr style=\"text-align: right;\">\n",
       "      <th></th>\n",
       "      <th>mon</th>\n",
       "      <th>tue</th>\n",
       "      <th>wed</th>\n",
       "      <th>thur</th>\n",
       "      <th>fri</th>\n",
       "      <th>sat</th>\n",
       "      <th>sun</th>\n",
       "    </tr>\n",
       "  </thead>\n",
       "  <tbody>\n",
       "    <tr>\n",
       "      <th>2015-01-01</th>\n",
       "      <td>0</td>\n",
       "      <td>0</td>\n",
       "      <td>0</td>\n",
       "      <td>1</td>\n",
       "      <td>0</td>\n",
       "      <td>0</td>\n",
       "      <td>0</td>\n",
       "    </tr>\n",
       "    <tr>\n",
       "      <th>2015-01-02</th>\n",
       "      <td>0</td>\n",
       "      <td>0</td>\n",
       "      <td>0</td>\n",
       "      <td>0</td>\n",
       "      <td>1</td>\n",
       "      <td>0</td>\n",
       "      <td>0</td>\n",
       "    </tr>\n",
       "    <tr>\n",
       "      <th>2015-01-03</th>\n",
       "      <td>0</td>\n",
       "      <td>0</td>\n",
       "      <td>0</td>\n",
       "      <td>0</td>\n",
       "      <td>0</td>\n",
       "      <td>1</td>\n",
       "      <td>0</td>\n",
       "    </tr>\n",
       "    <tr>\n",
       "      <th>2015-01-04</th>\n",
       "      <td>0</td>\n",
       "      <td>0</td>\n",
       "      <td>0</td>\n",
       "      <td>0</td>\n",
       "      <td>0</td>\n",
       "      <td>0</td>\n",
       "      <td>1</td>\n",
       "    </tr>\n",
       "    <tr>\n",
       "      <th>2015-01-05</th>\n",
       "      <td>1</td>\n",
       "      <td>0</td>\n",
       "      <td>0</td>\n",
       "      <td>0</td>\n",
       "      <td>0</td>\n",
       "      <td>0</td>\n",
       "      <td>0</td>\n",
       "    </tr>\n",
       "    <tr>\n",
       "      <th>...</th>\n",
       "      <td>...</td>\n",
       "      <td>...</td>\n",
       "      <td>...</td>\n",
       "      <td>...</td>\n",
       "      <td>...</td>\n",
       "      <td>...</td>\n",
       "      <td>...</td>\n",
       "    </tr>\n",
       "    <tr>\n",
       "      <th>2020-11-19</th>\n",
       "      <td>0</td>\n",
       "      <td>0</td>\n",
       "      <td>0</td>\n",
       "      <td>1</td>\n",
       "      <td>0</td>\n",
       "      <td>0</td>\n",
       "      <td>0</td>\n",
       "    </tr>\n",
       "    <tr>\n",
       "      <th>2020-11-20</th>\n",
       "      <td>0</td>\n",
       "      <td>0</td>\n",
       "      <td>0</td>\n",
       "      <td>0</td>\n",
       "      <td>1</td>\n",
       "      <td>0</td>\n",
       "      <td>0</td>\n",
       "    </tr>\n",
       "    <tr>\n",
       "      <th>2020-11-21</th>\n",
       "      <td>0</td>\n",
       "      <td>0</td>\n",
       "      <td>0</td>\n",
       "      <td>0</td>\n",
       "      <td>0</td>\n",
       "      <td>1</td>\n",
       "      <td>0</td>\n",
       "    </tr>\n",
       "    <tr>\n",
       "      <th>2020-11-22</th>\n",
       "      <td>0</td>\n",
       "      <td>0</td>\n",
       "      <td>0</td>\n",
       "      <td>0</td>\n",
       "      <td>0</td>\n",
       "      <td>0</td>\n",
       "      <td>1</td>\n",
       "    </tr>\n",
       "    <tr>\n",
       "      <th>2020-11-23</th>\n",
       "      <td>1</td>\n",
       "      <td>0</td>\n",
       "      <td>0</td>\n",
       "      <td>0</td>\n",
       "      <td>0</td>\n",
       "      <td>0</td>\n",
       "      <td>0</td>\n",
       "    </tr>\n",
       "  </tbody>\n",
       "</table>\n",
       "<p>2154 rows × 7 columns</p>\n",
       "</div>"
      ],
      "text/plain": [
       "            mon  tue  wed  thur  fri  sat  sun\n",
       "2015-01-01    0    0    0     1    0    0    0\n",
       "2015-01-02    0    0    0     0    1    0    0\n",
       "2015-01-03    0    0    0     0    0    1    0\n",
       "2015-01-04    0    0    0     0    0    0    1\n",
       "2015-01-05    1    0    0     0    0    0    0\n",
       "...         ...  ...  ...   ...  ...  ...  ...\n",
       "2020-11-19    0    0    0     1    0    0    0\n",
       "2020-11-20    0    0    0     0    1    0    0\n",
       "2020-11-21    0    0    0     0    0    1    0\n",
       "2020-11-22    0    0    0     0    0    0    1\n",
       "2020-11-23    1    0    0     0    0    0    0\n",
       "\n",
       "[2154 rows x 7 columns]"
      ]
     },
     "execution_count": 21,
     "metadata": {},
     "output_type": "execute_result"
    }
   ],
   "source": [
    "dow_df"
   ]
  },
  {
   "cell_type": "code",
   "execution_count": 22,
   "metadata": {
    "ExecuteTime": {
     "end_time": "2020-11-26T16:27:16.679395Z",
     "start_time": "2020-11-26T16:27:16.672693Z"
    }
   },
   "outputs": [],
   "source": [
    "# merged_all = merged_D.merge(holiday_df, how='left',left_index=True, right_index=True)"
   ]
  },
  {
   "cell_type": "code",
   "execution_count": 23,
   "metadata": {
    "ExecuteTime": {
     "end_time": "2020-11-26T16:27:16.725096Z",
     "start_time": "2020-11-26T16:27:16.694363Z"
    }
   },
   "outputs": [],
   "source": [
    "merged_all = merged_D.merge(dow_df, how='left',left_index=True, right_index=True)"
   ]
  },
  {
   "cell_type": "code",
   "execution_count": 24,
   "metadata": {
    "ExecuteTime": {
     "end_time": "2020-11-26T16:27:16.755808Z",
     "start_time": "2020-11-26T16:27:16.737326Z"
    }
   },
   "outputs": [],
   "source": [
    "merged_all_1 = merged_all.merge(hld_df, how='left',left_index=True, right_index=True)"
   ]
  },
  {
   "cell_type": "code",
   "execution_count": 25,
   "metadata": {
    "ExecuteTime": {
     "end_time": "2020-11-26T16:27:16.771297Z",
     "start_time": "2020-11-26T16:27:16.761812Z"
    }
   },
   "outputs": [],
   "source": [
    " merged_all_1['holiday_bool'] = merged_all_1['holiday_bool'].astype('int')"
   ]
  },
  {
   "cell_type": "code",
   "execution_count": 26,
   "metadata": {
    "ExecuteTime": {
     "end_time": "2020-11-26T16:27:16.845536Z",
     "start_time": "2020-11-26T16:27:16.777322Z"
    }
   },
   "outputs": [
    {
     "data": {
      "text/html": [
       "<div>\n",
       "<style scoped>\n",
       "    .dataframe tbody tr th:only-of-type {\n",
       "        vertical-align: middle;\n",
       "    }\n",
       "\n",
       "    .dataframe tbody tr th {\n",
       "        vertical-align: top;\n",
       "    }\n",
       "\n",
       "    .dataframe thead th {\n",
       "        text-align: right;\n",
       "    }\n",
       "</style>\n",
       "<table border=\"1\" class=\"dataframe\">\n",
       "  <thead>\n",
       "    <tr style=\"text-align: right;\">\n",
       "      <th></th>\n",
       "      <th>price</th>\n",
       "      <th>load</th>\n",
       "      <th>mon</th>\n",
       "      <th>tue</th>\n",
       "      <th>wed</th>\n",
       "      <th>thur</th>\n",
       "      <th>fri</th>\n",
       "      <th>sat</th>\n",
       "      <th>sun</th>\n",
       "      <th>holiday_bool</th>\n",
       "      <th>holiday_name</th>\n",
       "    </tr>\n",
       "    <tr>\n",
       "      <th>time</th>\n",
       "      <th></th>\n",
       "      <th></th>\n",
       "      <th></th>\n",
       "      <th></th>\n",
       "      <th></th>\n",
       "      <th></th>\n",
       "      <th></th>\n",
       "      <th></th>\n",
       "      <th></th>\n",
       "      <th></th>\n",
       "      <th></th>\n",
       "    </tr>\n",
       "  </thead>\n",
       "  <tbody>\n",
       "    <tr>\n",
       "      <th>2015-01-01</th>\n",
       "      <td>16.310417</td>\n",
       "      <td>2114.208333</td>\n",
       "      <td>0</td>\n",
       "      <td>0</td>\n",
       "      <td>0</td>\n",
       "      <td>1</td>\n",
       "      <td>0</td>\n",
       "      <td>0</td>\n",
       "      <td>0</td>\n",
       "      <td>1</td>\n",
       "      <td>Nytårsdag</td>\n",
       "    </tr>\n",
       "    <tr>\n",
       "      <th>2015-01-02</th>\n",
       "      <td>4.970417</td>\n",
       "      <td>2360.416667</td>\n",
       "      <td>0</td>\n",
       "      <td>0</td>\n",
       "      <td>0</td>\n",
       "      <td>0</td>\n",
       "      <td>1</td>\n",
       "      <td>0</td>\n",
       "      <td>0</td>\n",
       "      <td>0</td>\n",
       "      <td>None</td>\n",
       "    </tr>\n",
       "    <tr>\n",
       "      <th>2015-01-03</th>\n",
       "      <td>15.291667</td>\n",
       "      <td>2196.791667</td>\n",
       "      <td>0</td>\n",
       "      <td>0</td>\n",
       "      <td>0</td>\n",
       "      <td>0</td>\n",
       "      <td>0</td>\n",
       "      <td>1</td>\n",
       "      <td>0</td>\n",
       "      <td>0</td>\n",
       "      <td>None</td>\n",
       "    </tr>\n",
       "    <tr>\n",
       "      <th>2015-01-04</th>\n",
       "      <td>21.064167</td>\n",
       "      <td>2142.250000</td>\n",
       "      <td>0</td>\n",
       "      <td>0</td>\n",
       "      <td>0</td>\n",
       "      <td>0</td>\n",
       "      <td>0</td>\n",
       "      <td>0</td>\n",
       "      <td>1</td>\n",
       "      <td>0</td>\n",
       "      <td>None</td>\n",
       "    </tr>\n",
       "    <tr>\n",
       "      <th>2015-01-05</th>\n",
       "      <td>37.997500</td>\n",
       "      <td>2601.625000</td>\n",
       "      <td>1</td>\n",
       "      <td>0</td>\n",
       "      <td>0</td>\n",
       "      <td>0</td>\n",
       "      <td>0</td>\n",
       "      <td>0</td>\n",
       "      <td>0</td>\n",
       "      <td>0</td>\n",
       "      <td>None</td>\n",
       "    </tr>\n",
       "    <tr>\n",
       "      <th>...</th>\n",
       "      <td>...</td>\n",
       "      <td>...</td>\n",
       "      <td>...</td>\n",
       "      <td>...</td>\n",
       "      <td>...</td>\n",
       "      <td>...</td>\n",
       "      <td>...</td>\n",
       "      <td>...</td>\n",
       "      <td>...</td>\n",
       "      <td>...</td>\n",
       "      <td>...</td>\n",
       "    </tr>\n",
       "    <tr>\n",
       "      <th>2020-11-19</th>\n",
       "      <td>1.047083</td>\n",
       "      <td>2705.500000</td>\n",
       "      <td>0</td>\n",
       "      <td>0</td>\n",
       "      <td>0</td>\n",
       "      <td>1</td>\n",
       "      <td>0</td>\n",
       "      <td>0</td>\n",
       "      <td>0</td>\n",
       "      <td>0</td>\n",
       "      <td>None</td>\n",
       "    </tr>\n",
       "    <tr>\n",
       "      <th>2020-11-20</th>\n",
       "      <td>33.003750</td>\n",
       "      <td>2715.333333</td>\n",
       "      <td>0</td>\n",
       "      <td>0</td>\n",
       "      <td>0</td>\n",
       "      <td>0</td>\n",
       "      <td>1</td>\n",
       "      <td>0</td>\n",
       "      <td>0</td>\n",
       "      <td>0</td>\n",
       "      <td>None</td>\n",
       "    </tr>\n",
       "    <tr>\n",
       "      <th>2020-11-21</th>\n",
       "      <td>1.046250</td>\n",
       "      <td>2429.583333</td>\n",
       "      <td>0</td>\n",
       "      <td>0</td>\n",
       "      <td>0</td>\n",
       "      <td>0</td>\n",
       "      <td>0</td>\n",
       "      <td>1</td>\n",
       "      <td>0</td>\n",
       "      <td>0</td>\n",
       "      <td>None</td>\n",
       "    </tr>\n",
       "    <tr>\n",
       "      <th>2020-11-22</th>\n",
       "      <td>1.158333</td>\n",
       "      <td>2330.458333</td>\n",
       "      <td>0</td>\n",
       "      <td>0</td>\n",
       "      <td>0</td>\n",
       "      <td>0</td>\n",
       "      <td>0</td>\n",
       "      <td>0</td>\n",
       "      <td>1</td>\n",
       "      <td>0</td>\n",
       "      <td>None</td>\n",
       "    </tr>\n",
       "    <tr>\n",
       "      <th>2020-11-23</th>\n",
       "      <td>7.206471</td>\n",
       "      <td>2766.000000</td>\n",
       "      <td>1</td>\n",
       "      <td>0</td>\n",
       "      <td>0</td>\n",
       "      <td>0</td>\n",
       "      <td>0</td>\n",
       "      <td>0</td>\n",
       "      <td>0</td>\n",
       "      <td>0</td>\n",
       "      <td>None</td>\n",
       "    </tr>\n",
       "  </tbody>\n",
       "</table>\n",
       "<p>2154 rows × 11 columns</p>\n",
       "</div>"
      ],
      "text/plain": [
       "                price         load  mon  tue  wed  thur  fri  sat  sun  \\\n",
       "time                                                                     \n",
       "2015-01-01  16.310417  2114.208333    0    0    0     1    0    0    0   \n",
       "2015-01-02   4.970417  2360.416667    0    0    0     0    1    0    0   \n",
       "2015-01-03  15.291667  2196.791667    0    0    0     0    0    1    0   \n",
       "2015-01-04  21.064167  2142.250000    0    0    0     0    0    0    1   \n",
       "2015-01-05  37.997500  2601.625000    1    0    0     0    0    0    0   \n",
       "...               ...          ...  ...  ...  ...   ...  ...  ...  ...   \n",
       "2020-11-19   1.047083  2705.500000    0    0    0     1    0    0    0   \n",
       "2020-11-20  33.003750  2715.333333    0    0    0     0    1    0    0   \n",
       "2020-11-21   1.046250  2429.583333    0    0    0     0    0    1    0   \n",
       "2020-11-22   1.158333  2330.458333    0    0    0     0    0    0    1   \n",
       "2020-11-23   7.206471  2766.000000    1    0    0     0    0    0    0   \n",
       "\n",
       "            holiday_bool holiday_name  \n",
       "time                                   \n",
       "2015-01-01             1    Nytårsdag  \n",
       "2015-01-02             0         None  \n",
       "2015-01-03             0         None  \n",
       "2015-01-04             0         None  \n",
       "2015-01-05             0         None  \n",
       "...                  ...          ...  \n",
       "2020-11-19             0         None  \n",
       "2020-11-20             0         None  \n",
       "2020-11-21             0         None  \n",
       "2020-11-22             0         None  \n",
       "2020-11-23             0         None  \n",
       "\n",
       "[2154 rows x 11 columns]"
      ]
     },
     "execution_count": 26,
     "metadata": {},
     "output_type": "execute_result"
    }
   ],
   "source": [
    "merged_all_1"
   ]
  },
  {
   "cell_type": "code",
   "execution_count": 27,
   "metadata": {
    "ExecuteTime": {
     "end_time": "2020-11-26T16:27:16.861068Z",
     "start_time": "2020-11-26T16:27:16.851040Z"
    }
   },
   "outputs": [],
   "source": [
    "# X = merged_all_1.drop(columns=['price','holiday_name', 'holiday_bool'])\n",
    "\n",
    "# df['weather/temp/snow'], df['coal_price'], df['dow'], df['holidays'], df['month']"
   ]
  },
  {
   "cell_type": "code",
   "execution_count": 46,
   "metadata": {
    "ExecuteTime": {
     "end_time": "2020-11-26T16:31:16.815327Z",
     "start_time": "2020-11-26T16:31:16.767909Z"
    }
   },
   "outputs": [],
   "source": [
    "model2 = smf.ols(formula='price ~ load_norm + mon + tue + wed + thur + fri + sat + sun + holiday_bool', data=merged_all_1).fit()"
   ]
  },
  {
   "cell_type": "markdown",
   "metadata": {},
   "source": [
    "check VIF "
   ]
  },
  {
   "cell_type": "code",
   "execution_count": 47,
   "metadata": {
    "ExecuteTime": {
     "end_time": "2020-11-26T16:31:18.502951Z",
     "start_time": "2020-11-26T16:31:18.463893Z"
    }
   },
   "outputs": [
    {
     "data": {
      "text/html": [
       "<table class=\"simpletable\">\n",
       "<caption>OLS Regression Results</caption>\n",
       "<tr>\n",
       "  <th>Dep. Variable:</th>          <td>price</td>      <th>  R-squared:         </th> <td>   0.086</td> \n",
       "</tr>\n",
       "<tr>\n",
       "  <th>Model:</th>                   <td>OLS</td>       <th>  Adj. R-squared:    </th> <td>   0.082</td> \n",
       "</tr>\n",
       "<tr>\n",
       "  <th>Method:</th>             <td>Least Squares</td>  <th>  F-statistic:       </th> <td>   25.17</td> \n",
       "</tr>\n",
       "<tr>\n",
       "  <th>Date:</th>             <td>Thu, 26 Nov 2020</td> <th>  Prob (F-statistic):</th> <td>2.18e-37</td> \n",
       "</tr>\n",
       "<tr>\n",
       "  <th>Time:</th>                 <td>17:31:18</td>     <th>  Log-Likelihood:    </th> <td> -8427.7</td> \n",
       "</tr>\n",
       "<tr>\n",
       "  <th>No. Observations:</th>      <td>  2154</td>      <th>  AIC:               </th> <td>1.687e+04</td>\n",
       "</tr>\n",
       "<tr>\n",
       "  <th>Df Residuals:</th>          <td>  2145</td>      <th>  BIC:               </th> <td>1.692e+04</td>\n",
       "</tr>\n",
       "<tr>\n",
       "  <th>Df Model:</th>              <td>     8</td>      <th>                     </th>     <td> </td>    \n",
       "</tr>\n",
       "<tr>\n",
       "  <th>Covariance Type:</th>      <td>nonrobust</td>    <th>                     </th>     <td> </td>    \n",
       "</tr>\n",
       "</table>\n",
       "<table class=\"simpletable\">\n",
       "<tr>\n",
       "        <td></td>          <th>coef</th>     <th>std err</th>      <th>t</th>      <th>P>|t|</th>  <th>[0.025</th>    <th>0.975]</th>  \n",
       "</tr>\n",
       "<tr>\n",
       "  <th>Intercept</th>    <td>   23.7974</td> <td>    0.885</td> <td>   26.904</td> <td> 0.000</td> <td>   22.063</td> <td>   25.532</td>\n",
       "</tr>\n",
       "<tr>\n",
       "  <th>load_norm</th>    <td>    8.1383</td> <td>    1.887</td> <td>    4.313</td> <td> 0.000</td> <td>    4.438</td> <td>   11.838</td>\n",
       "</tr>\n",
       "<tr>\n",
       "  <th>mon</th>          <td>    4.5697</td> <td>    0.691</td> <td>    6.610</td> <td> 0.000</td> <td>    3.214</td> <td>    5.926</td>\n",
       "</tr>\n",
       "<tr>\n",
       "  <th>tue</th>          <td>    4.6649</td> <td>    0.711</td> <td>    6.562</td> <td> 0.000</td> <td>    3.271</td> <td>    6.059</td>\n",
       "</tr>\n",
       "<tr>\n",
       "  <th>wed</th>          <td>    4.6079</td> <td>    0.714</td> <td>    6.455</td> <td> 0.000</td> <td>    3.208</td> <td>    6.008</td>\n",
       "</tr>\n",
       "<tr>\n",
       "  <th>thur</th>         <td>    4.7435</td> <td>    0.712</td> <td>    6.659</td> <td> 0.000</td> <td>    3.347</td> <td>    6.141</td>\n",
       "</tr>\n",
       "<tr>\n",
       "  <th>fri</th>          <td>    5.0113</td> <td>    0.663</td> <td>    7.554</td> <td> 0.000</td> <td>    3.710</td> <td>    6.312</td>\n",
       "</tr>\n",
       "<tr>\n",
       "  <th>sat</th>          <td>    0.9969</td> <td>    0.687</td> <td>    1.452</td> <td> 0.147</td> <td>   -0.350</td> <td>    2.344</td>\n",
       "</tr>\n",
       "<tr>\n",
       "  <th>sun</th>          <td>   -0.7968</td> <td>    0.692</td> <td>   -1.151</td> <td> 0.250</td> <td>   -2.154</td> <td>    0.561</td>\n",
       "</tr>\n",
       "<tr>\n",
       "  <th>holiday_bool</th> <td>   -6.7930</td> <td>    1.551</td> <td>   -4.379</td> <td> 0.000</td> <td>   -9.835</td> <td>   -3.751</td>\n",
       "</tr>\n",
       "</table>\n",
       "<table class=\"simpletable\">\n",
       "<tr>\n",
       "  <th>Omnibus:</th>       <td>28.908</td> <th>  Durbin-Watson:     </th> <td>   0.397</td>\n",
       "</tr>\n",
       "<tr>\n",
       "  <th>Prob(Omnibus):</th> <td> 0.000</td> <th>  Jarque-Bera (JB):  </th> <td>  32.861</td>\n",
       "</tr>\n",
       "<tr>\n",
       "  <th>Skew:</th>          <td> 0.227</td> <th>  Prob(JB):          </th> <td>7.32e-08</td>\n",
       "</tr>\n",
       "<tr>\n",
       "  <th>Kurtosis:</th>      <td> 3.399</td> <th>  Cond. No.          </th> <td>4.13e+15</td>\n",
       "</tr>\n",
       "</table><br/><br/>Notes:<br/>[1] Standard Errors assume that the covariance matrix of the errors is correctly specified.<br/>[2] The smallest eigenvalue is 1.78e-28. This might indicate that there are<br/>strong multicollinearity problems or that the design matrix is singular."
      ],
      "text/plain": [
       "<class 'statsmodels.iolib.summary.Summary'>\n",
       "\"\"\"\n",
       "                            OLS Regression Results                            \n",
       "==============================================================================\n",
       "Dep. Variable:                  price   R-squared:                       0.086\n",
       "Model:                            OLS   Adj. R-squared:                  0.082\n",
       "Method:                 Least Squares   F-statistic:                     25.17\n",
       "Date:                Thu, 26 Nov 2020   Prob (F-statistic):           2.18e-37\n",
       "Time:                        17:31:18   Log-Likelihood:                -8427.7\n",
       "No. Observations:                2154   AIC:                         1.687e+04\n",
       "Df Residuals:                    2145   BIC:                         1.692e+04\n",
       "Df Model:                           8                                         \n",
       "Covariance Type:            nonrobust                                         \n",
       "================================================================================\n",
       "                   coef    std err          t      P>|t|      [0.025      0.975]\n",
       "--------------------------------------------------------------------------------\n",
       "Intercept       23.7974      0.885     26.904      0.000      22.063      25.532\n",
       "load_norm        8.1383      1.887      4.313      0.000       4.438      11.838\n",
       "mon              4.5697      0.691      6.610      0.000       3.214       5.926\n",
       "tue              4.6649      0.711      6.562      0.000       3.271       6.059\n",
       "wed              4.6079      0.714      6.455      0.000       3.208       6.008\n",
       "thur             4.7435      0.712      6.659      0.000       3.347       6.141\n",
       "fri              5.0113      0.663      7.554      0.000       3.710       6.312\n",
       "sat              0.9969      0.687      1.452      0.147      -0.350       2.344\n",
       "sun             -0.7968      0.692     -1.151      0.250      -2.154       0.561\n",
       "holiday_bool    -6.7930      1.551     -4.379      0.000      -9.835      -3.751\n",
       "==============================================================================\n",
       "Omnibus:                       28.908   Durbin-Watson:                   0.397\n",
       "Prob(Omnibus):                  0.000   Jarque-Bera (JB):               32.861\n",
       "Skew:                           0.227   Prob(JB):                     7.32e-08\n",
       "Kurtosis:                       3.399   Cond. No.                     4.13e+15\n",
       "==============================================================================\n",
       "\n",
       "Notes:\n",
       "[1] Standard Errors assume that the covariance matrix of the errors is correctly specified.\n",
       "[2] The smallest eigenvalue is 1.78e-28. This might indicate that there are\n",
       "strong multicollinearity problems or that the design matrix is singular.\n",
       "\"\"\""
      ]
     },
     "execution_count": 47,
     "metadata": {},
     "output_type": "execute_result"
    }
   ],
   "source": [
    "model2.summary()"
   ]
  },
  {
   "cell_type": "code",
   "execution_count": 30,
   "metadata": {
    "ExecuteTime": {
     "end_time": "2020-11-26T16:27:16.968138Z",
     "start_time": "2020-11-26T16:27:16.958133Z"
    }
   },
   "outputs": [],
   "source": [
    "X = merged_all_1['load']\n",
    "y = merged_all_1['price']"
   ]
  },
  {
   "cell_type": "code",
   "execution_count": 31,
   "metadata": {
    "ExecuteTime": {
     "end_time": "2020-11-26T16:27:17.030827Z",
     "start_time": "2020-11-26T16:27:16.973131Z"
    },
    "scrolled": true
   },
   "outputs": [
    {
     "data": {
      "text/html": [
       "<table class=\"simpletable\">\n",
       "<caption>OLS Regression Results</caption>\n",
       "<tr>\n",
       "  <th>Dep. Variable:</th>          <td>price</td>      <th>  R-squared (uncentered):</th>      <td>   0.867</td> \n",
       "</tr>\n",
       "<tr>\n",
       "  <th>Model:</th>                   <td>OLS</td>       <th>  Adj. R-squared (uncentered):</th> <td>   0.867</td> \n",
       "</tr>\n",
       "<tr>\n",
       "  <th>Method:</th>             <td>Least Squares</td>  <th>  F-statistic:       </th>          <td>1.401e+04</td>\n",
       "</tr>\n",
       "<tr>\n",
       "  <th>Date:</th>             <td>Thu, 26 Nov 2020</td> <th>  Prob (F-statistic):</th>           <td>  0.00</td>  \n",
       "</tr>\n",
       "<tr>\n",
       "  <th>Time:</th>                 <td>17:27:16</td>     <th>  Log-Likelihood:    </th>          <td> -8455.1</td> \n",
       "</tr>\n",
       "<tr>\n",
       "  <th>No. Observations:</th>      <td>  2154</td>      <th>  AIC:               </th>          <td>1.691e+04</td>\n",
       "</tr>\n",
       "<tr>\n",
       "  <th>Df Residuals:</th>          <td>  2153</td>      <th>  BIC:               </th>          <td>1.692e+04</td>\n",
       "</tr>\n",
       "<tr>\n",
       "  <th>Df Model:</th>              <td>     1</td>      <th>                     </th>              <td> </td>    \n",
       "</tr>\n",
       "<tr>\n",
       "  <th>Covariance Type:</th>      <td>nonrobust</td>    <th>                     </th>              <td> </td>    \n",
       "</tr>\n",
       "</table>\n",
       "<table class=\"simpletable\">\n",
       "<tr>\n",
       "    <td></td>      <th>coef</th>     <th>std err</th>      <th>t</th>      <th>P>|t|</th>  <th>[0.025</th>    <th>0.975]</th>  \n",
       "</tr>\n",
       "<tr>\n",
       "  <th>load</th> <td>    0.0136</td> <td>    0.000</td> <td>  118.377</td> <td> 0.000</td> <td>    0.013</td> <td>    0.014</td>\n",
       "</tr>\n",
       "</table>\n",
       "<table class=\"simpletable\">\n",
       "<tr>\n",
       "  <th>Omnibus:</th>       <td>25.225</td> <th>  Durbin-Watson:     </th> <td>   0.399</td>\n",
       "</tr>\n",
       "<tr>\n",
       "  <th>Prob(Omnibus):</th> <td> 0.000</td> <th>  Jarque-Bera (JB):  </th> <td>  33.155</td>\n",
       "</tr>\n",
       "<tr>\n",
       "  <th>Skew:</th>          <td> 0.158</td> <th>  Prob(JB):          </th> <td>6.32e-08</td>\n",
       "</tr>\n",
       "<tr>\n",
       "  <th>Kurtosis:</th>      <td> 3.520</td> <th>  Cond. No.          </th> <td>    1.00</td>\n",
       "</tr>\n",
       "</table><br/><br/>Notes:<br/>[1] R² is computed without centering (uncentered) since the model does not contain a constant.<br/>[2] Standard Errors assume that the covariance matrix of the errors is correctly specified."
      ],
      "text/plain": [
       "<class 'statsmodels.iolib.summary.Summary'>\n",
       "\"\"\"\n",
       "                                 OLS Regression Results                                \n",
       "=======================================================================================\n",
       "Dep. Variable:                  price   R-squared (uncentered):                   0.867\n",
       "Model:                            OLS   Adj. R-squared (uncentered):              0.867\n",
       "Method:                 Least Squares   F-statistic:                          1.401e+04\n",
       "Date:                Thu, 26 Nov 2020   Prob (F-statistic):                        0.00\n",
       "Time:                        17:27:16   Log-Likelihood:                         -8455.1\n",
       "No. Observations:                2154   AIC:                                  1.691e+04\n",
       "Df Residuals:                    2153   BIC:                                  1.692e+04\n",
       "Df Model:                           1                                                  \n",
       "Covariance Type:            nonrobust                                                  \n",
       "==============================================================================\n",
       "                 coef    std err          t      P>|t|      [0.025      0.975]\n",
       "------------------------------------------------------------------------------\n",
       "load           0.0136      0.000    118.377      0.000       0.013       0.014\n",
       "==============================================================================\n",
       "Omnibus:                       25.225   Durbin-Watson:                   0.399\n",
       "Prob(Omnibus):                  0.000   Jarque-Bera (JB):               33.155\n",
       "Skew:                           0.158   Prob(JB):                     6.32e-08\n",
       "Kurtosis:                       3.520   Cond. No.                         1.00\n",
       "==============================================================================\n",
       "\n",
       "Notes:\n",
       "[1] R² is computed without centering (uncentered) since the model does not contain a constant.\n",
       "[2] Standard Errors assume that the covariance matrix of the errors is correctly specified.\n",
       "\"\"\""
      ]
     },
     "execution_count": 31,
     "metadata": {},
     "output_type": "execute_result"
    }
   ],
   "source": [
    "model = sm.OLS(y,X).fit()\n",
    "model.summary()"
   ]
  },
  {
   "cell_type": "code",
   "execution_count": 43,
   "metadata": {
    "ExecuteTime": {
     "end_time": "2020-11-26T16:27:33.397748Z",
     "start_time": "2020-11-26T16:27:33.383811Z"
    }
   },
   "outputs": [
    {
     "data": {
      "text/plain": [
       "load    0.013627\n",
       "dtype: float64"
      ]
     },
     "execution_count": 43,
     "metadata": {},
     "output_type": "execute_result"
    }
   ],
   "source": [
    "model.params"
   ]
  },
  {
   "cell_type": "code",
   "execution_count": 32,
   "metadata": {
    "ExecuteTime": {
     "end_time": "2020-11-26T16:27:17.625185Z",
     "start_time": "2020-11-26T16:27:17.037315Z"
    }
   },
   "outputs": [],
   "source": [
    "from sklearn.preprocessing import MinMaxScaler\n",
    "from sklearn.linear_model import LinearRegression\n",
    "# from sklearn.metrics import "
   ]
  },
  {
   "cell_type": "code",
   "execution_count": 33,
   "metadata": {
    "ExecuteTime": {
     "end_time": "2020-11-26T16:27:17.685124Z",
     "start_time": "2020-11-26T16:27:17.630787Z"
    }
   },
   "outputs": [],
   "source": [
    "normalizer = MinMaxScaler()\n",
    "normalizer.fit(merged_all_1[['load']])\n",
    "merged_all_1['load_norm'] = normalizer.transform(merged_all_1[['load']])"
   ]
  },
  {
   "cell_type": "code",
   "execution_count": 34,
   "metadata": {
    "ExecuteTime": {
     "end_time": "2020-11-26T16:27:17.773600Z",
     "start_time": "2020-11-26T16:27:17.691822Z"
    }
   },
   "outputs": [
    {
     "data": {
      "text/html": [
       "<div>\n",
       "<style scoped>\n",
       "    .dataframe tbody tr th:only-of-type {\n",
       "        vertical-align: middle;\n",
       "    }\n",
       "\n",
       "    .dataframe tbody tr th {\n",
       "        vertical-align: top;\n",
       "    }\n",
       "\n",
       "    .dataframe thead th {\n",
       "        text-align: right;\n",
       "    }\n",
       "</style>\n",
       "<table border=\"1\" class=\"dataframe\">\n",
       "  <thead>\n",
       "    <tr style=\"text-align: right;\">\n",
       "      <th></th>\n",
       "      <th>price</th>\n",
       "      <th>load</th>\n",
       "      <th>mon</th>\n",
       "      <th>tue</th>\n",
       "      <th>wed</th>\n",
       "      <th>thur</th>\n",
       "      <th>fri</th>\n",
       "      <th>sat</th>\n",
       "      <th>sun</th>\n",
       "      <th>holiday_bool</th>\n",
       "      <th>holiday_name</th>\n",
       "      <th>load_norm</th>\n",
       "    </tr>\n",
       "    <tr>\n",
       "      <th>time</th>\n",
       "      <th></th>\n",
       "      <th></th>\n",
       "      <th></th>\n",
       "      <th></th>\n",
       "      <th></th>\n",
       "      <th></th>\n",
       "      <th></th>\n",
       "      <th></th>\n",
       "      <th></th>\n",
       "      <th></th>\n",
       "      <th></th>\n",
       "      <th></th>\n",
       "    </tr>\n",
       "  </thead>\n",
       "  <tbody>\n",
       "    <tr>\n",
       "      <th>2015-01-01</th>\n",
       "      <td>16.310417</td>\n",
       "      <td>2114.208333</td>\n",
       "      <td>0</td>\n",
       "      <td>0</td>\n",
       "      <td>0</td>\n",
       "      <td>1</td>\n",
       "      <td>0</td>\n",
       "      <td>0</td>\n",
       "      <td>0</td>\n",
       "      <td>1</td>\n",
       "      <td>Nytårsdag</td>\n",
       "      <td>0.391026</td>\n",
       "    </tr>\n",
       "    <tr>\n",
       "      <th>2015-01-02</th>\n",
       "      <td>4.970417</td>\n",
       "      <td>2360.416667</td>\n",
       "      <td>0</td>\n",
       "      <td>0</td>\n",
       "      <td>0</td>\n",
       "      <td>0</td>\n",
       "      <td>1</td>\n",
       "      <td>0</td>\n",
       "      <td>0</td>\n",
       "      <td>0</td>\n",
       "      <td>None</td>\n",
       "      <td>0.567083</td>\n",
       "    </tr>\n",
       "    <tr>\n",
       "      <th>2015-01-03</th>\n",
       "      <td>15.291667</td>\n",
       "      <td>2196.791667</td>\n",
       "      <td>0</td>\n",
       "      <td>0</td>\n",
       "      <td>0</td>\n",
       "      <td>0</td>\n",
       "      <td>0</td>\n",
       "      <td>1</td>\n",
       "      <td>0</td>\n",
       "      <td>0</td>\n",
       "      <td>None</td>\n",
       "      <td>0.450079</td>\n",
       "    </tr>\n",
       "    <tr>\n",
       "      <th>2015-01-04</th>\n",
       "      <td>21.064167</td>\n",
       "      <td>2142.250000</td>\n",
       "      <td>0</td>\n",
       "      <td>0</td>\n",
       "      <td>0</td>\n",
       "      <td>0</td>\n",
       "      <td>0</td>\n",
       "      <td>0</td>\n",
       "      <td>1</td>\n",
       "      <td>0</td>\n",
       "      <td>None</td>\n",
       "      <td>0.411078</td>\n",
       "    </tr>\n",
       "    <tr>\n",
       "      <th>2015-01-05</th>\n",
       "      <td>37.997500</td>\n",
       "      <td>2601.625000</td>\n",
       "      <td>1</td>\n",
       "      <td>0</td>\n",
       "      <td>0</td>\n",
       "      <td>0</td>\n",
       "      <td>0</td>\n",
       "      <td>0</td>\n",
       "      <td>0</td>\n",
       "      <td>0</td>\n",
       "      <td>None</td>\n",
       "      <td>0.739564</td>\n",
       "    </tr>\n",
       "    <tr>\n",
       "      <th>...</th>\n",
       "      <td>...</td>\n",
       "      <td>...</td>\n",
       "      <td>...</td>\n",
       "      <td>...</td>\n",
       "      <td>...</td>\n",
       "      <td>...</td>\n",
       "      <td>...</td>\n",
       "      <td>...</td>\n",
       "      <td>...</td>\n",
       "      <td>...</td>\n",
       "      <td>...</td>\n",
       "      <td>...</td>\n",
       "    </tr>\n",
       "    <tr>\n",
       "      <th>2020-11-19</th>\n",
       "      <td>1.047083</td>\n",
       "      <td>2705.500000</td>\n",
       "      <td>0</td>\n",
       "      <td>0</td>\n",
       "      <td>0</td>\n",
       "      <td>1</td>\n",
       "      <td>0</td>\n",
       "      <td>0</td>\n",
       "      <td>0</td>\n",
       "      <td>0</td>\n",
       "      <td>None</td>\n",
       "      <td>0.813843</td>\n",
       "    </tr>\n",
       "    <tr>\n",
       "      <th>2020-11-20</th>\n",
       "      <td>33.003750</td>\n",
       "      <td>2715.333333</td>\n",
       "      <td>0</td>\n",
       "      <td>0</td>\n",
       "      <td>0</td>\n",
       "      <td>0</td>\n",
       "      <td>1</td>\n",
       "      <td>0</td>\n",
       "      <td>0</td>\n",
       "      <td>0</td>\n",
       "      <td>None</td>\n",
       "      <td>0.820874</td>\n",
       "    </tr>\n",
       "    <tr>\n",
       "      <th>2020-11-21</th>\n",
       "      <td>1.046250</td>\n",
       "      <td>2429.583333</td>\n",
       "      <td>0</td>\n",
       "      <td>0</td>\n",
       "      <td>0</td>\n",
       "      <td>0</td>\n",
       "      <td>0</td>\n",
       "      <td>1</td>\n",
       "      <td>0</td>\n",
       "      <td>0</td>\n",
       "      <td>None</td>\n",
       "      <td>0.616542</td>\n",
       "    </tr>\n",
       "    <tr>\n",
       "      <th>2020-11-22</th>\n",
       "      <td>1.158333</td>\n",
       "      <td>2330.458333</td>\n",
       "      <td>0</td>\n",
       "      <td>0</td>\n",
       "      <td>0</td>\n",
       "      <td>0</td>\n",
       "      <td>0</td>\n",
       "      <td>0</td>\n",
       "      <td>1</td>\n",
       "      <td>0</td>\n",
       "      <td>None</td>\n",
       "      <td>0.545660</td>\n",
       "    </tr>\n",
       "    <tr>\n",
       "      <th>2020-11-23</th>\n",
       "      <td>7.206471</td>\n",
       "      <td>2766.000000</td>\n",
       "      <td>1</td>\n",
       "      <td>0</td>\n",
       "      <td>0</td>\n",
       "      <td>0</td>\n",
       "      <td>0</td>\n",
       "      <td>0</td>\n",
       "      <td>0</td>\n",
       "      <td>0</td>\n",
       "      <td>None</td>\n",
       "      <td>0.857105</td>\n",
       "    </tr>\n",
       "  </tbody>\n",
       "</table>\n",
       "<p>2154 rows × 12 columns</p>\n",
       "</div>"
      ],
      "text/plain": [
       "                price         load  mon  tue  wed  thur  fri  sat  sun  \\\n",
       "time                                                                     \n",
       "2015-01-01  16.310417  2114.208333    0    0    0     1    0    0    0   \n",
       "2015-01-02   4.970417  2360.416667    0    0    0     0    1    0    0   \n",
       "2015-01-03  15.291667  2196.791667    0    0    0     0    0    1    0   \n",
       "2015-01-04  21.064167  2142.250000    0    0    0     0    0    0    1   \n",
       "2015-01-05  37.997500  2601.625000    1    0    0     0    0    0    0   \n",
       "...               ...          ...  ...  ...  ...   ...  ...  ...  ...   \n",
       "2020-11-19   1.047083  2705.500000    0    0    0     1    0    0    0   \n",
       "2020-11-20  33.003750  2715.333333    0    0    0     0    1    0    0   \n",
       "2020-11-21   1.046250  2429.583333    0    0    0     0    0    1    0   \n",
       "2020-11-22   1.158333  2330.458333    0    0    0     0    0    0    1   \n",
       "2020-11-23   7.206471  2766.000000    1    0    0     0    0    0    0   \n",
       "\n",
       "            holiday_bool holiday_name  load_norm  \n",
       "time                                              \n",
       "2015-01-01             1    Nytårsdag   0.391026  \n",
       "2015-01-02             0         None   0.567083  \n",
       "2015-01-03             0         None   0.450079  \n",
       "2015-01-04             0         None   0.411078  \n",
       "2015-01-05             0         None   0.739564  \n",
       "...                  ...          ...        ...  \n",
       "2020-11-19             0         None   0.813843  \n",
       "2020-11-20             0         None   0.820874  \n",
       "2020-11-21             0         None   0.616542  \n",
       "2020-11-22             0         None   0.545660  \n",
       "2020-11-23             0         None   0.857105  \n",
       "\n",
       "[2154 rows x 12 columns]"
      ]
     },
     "execution_count": 34,
     "metadata": {},
     "output_type": "execute_result"
    }
   ],
   "source": [
    "merged_all_1"
   ]
  },
  {
   "cell_type": "code",
   "execution_count": 35,
   "metadata": {
    "ExecuteTime": {
     "end_time": "2020-11-26T16:27:17.803638Z",
     "start_time": "2020-11-26T16:27:17.780549Z"
    }
   },
   "outputs": [],
   "source": [
    "X=merged_all_1[['load', 'mon', 'tue', 'wed', 'thur','fri','sat','sun','holiday_bool']]\n",
    "y = merged_all_1['price']"
   ]
  },
  {
   "cell_type": "code",
   "execution_count": 36,
   "metadata": {
    "ExecuteTime": {
     "end_time": "2020-11-26T16:27:17.834437Z",
     "start_time": "2020-11-26T16:27:17.809704Z"
    }
   },
   "outputs": [
    {
     "data": {
      "text/plain": [
       "array([[2.11420833e+03, 0.00000000e+00, 0.00000000e+00, ...,\n",
       "        0.00000000e+00, 0.00000000e+00, 1.00000000e+00],\n",
       "       [2.36041667e+03, 0.00000000e+00, 0.00000000e+00, ...,\n",
       "        0.00000000e+00, 0.00000000e+00, 0.00000000e+00],\n",
       "       [2.19679167e+03, 0.00000000e+00, 0.00000000e+00, ...,\n",
       "        1.00000000e+00, 0.00000000e+00, 0.00000000e+00],\n",
       "       ...,\n",
       "       [2.42958333e+03, 0.00000000e+00, 0.00000000e+00, ...,\n",
       "        1.00000000e+00, 0.00000000e+00, 0.00000000e+00],\n",
       "       [2.33045833e+03, 0.00000000e+00, 0.00000000e+00, ...,\n",
       "        0.00000000e+00, 1.00000000e+00, 0.00000000e+00],\n",
       "       [2.76600000e+03, 1.00000000e+00, 0.00000000e+00, ...,\n",
       "        0.00000000e+00, 0.00000000e+00, 0.00000000e+00]])"
      ]
     },
     "execution_count": 36,
     "metadata": {},
     "output_type": "execute_result"
    }
   ],
   "source": [
    "X.values"
   ]
  },
  {
   "cell_type": "code",
   "execution_count": 37,
   "metadata": {
    "ExecuteTime": {
     "end_time": "2020-11-26T16:27:17.864051Z",
     "start_time": "2020-11-26T16:27:17.840444Z"
    },
    "scrolled": true
   },
   "outputs": [],
   "source": [
    "reg = LinearRegression().fit(X.values, y.values)"
   ]
  },
  {
   "cell_type": "code",
   "execution_count": 38,
   "metadata": {
    "ExecuteTime": {
     "end_time": "2020-11-26T16:27:17.893211Z",
     "start_time": "2020-11-26T16:27:17.868478Z"
    }
   },
   "outputs": [
    {
     "data": {
      "text/plain": [
       "0.08581406191574337"
      ]
     },
     "execution_count": 38,
     "metadata": {},
     "output_type": "execute_result"
    }
   ],
   "source": [
    "reg.score(X, y.values)"
   ]
  },
  {
   "cell_type": "code",
   "execution_count": 39,
   "metadata": {
    "ExecuteTime": {
     "end_time": "2020-11-26T16:27:17.924411Z",
     "start_time": "2020-11-26T16:27:17.897700Z"
    }
   },
   "outputs": [],
   "source": [
    "predictions = reg.predict(X)"
   ]
  },
  {
   "cell_type": "code",
   "execution_count": 40,
   "metadata": {
    "ExecuteTime": {
     "end_time": "2020-11-26T16:27:17.940247Z",
     "start_time": "2020-11-26T16:27:17.929264Z"
    }
   },
   "outputs": [
    {
     "data": {
      "text/plain": [
       "array([24.9302422 , 33.42378596, 28.45719764, ..., 29.81192373,\n",
       "       27.44138713, 35.34253726])"
      ]
     },
     "execution_count": 40,
     "metadata": {},
     "output_type": "execute_result"
    }
   ],
   "source": [
    "predictions"
   ]
  },
  {
   "cell_type": "code",
   "execution_count": 41,
   "metadata": {
    "ExecuteTime": {
     "end_time": "2020-11-26T16:27:17.969114Z",
     "start_time": "2020-11-26T16:27:17.943316Z"
    }
   },
   "outputs": [
    {
     "data": {
      "text/plain": [
       "array([ -8.61982553, -28.45336929, -13.16553097, ..., -28.76567373,\n",
       "       -26.28305379, -28.13606667])"
      ]
     },
     "execution_count": 41,
     "metadata": {},
     "output_type": "execute_result"
    }
   ],
   "source": [
    "y.values-predictions"
   ]
  },
  {
   "cell_type": "code",
   "execution_count": 42,
   "metadata": {
    "ExecuteTime": {
     "end_time": "2020-11-26T16:27:17.984545Z",
     "start_time": "2020-11-26T16:27:17.972706Z"
    }
   },
   "outputs": [
    {
     "ename": "SyntaxError",
     "evalue": "invalid syntax (<ipython-input-42-806951d49420>, line 1)",
     "output_type": "error",
     "traceback": [
      "\u001b[1;36m  File \u001b[1;32m\"<ipython-input-42-806951d49420>\"\u001b[1;36m, line \u001b[1;32m1\u001b[0m\n\u001b[1;33m    for x, y in zip()\u001b[0m\n\u001b[1;37m                     ^\u001b[0m\n\u001b[1;31mSyntaxError\u001b[0m\u001b[1;31m:\u001b[0m invalid syntax\n"
     ]
    }
   ],
   "source": [
    "for x, y in zip()"
   ]
  },
  {
   "cell_type": "markdown",
   "metadata": {},
   "source": [
    "transform_to_windows\n",
    "converts the data from row data into windowed rows where each row is a day with 24 columns representing each hour of the day."
   ]
  }
 ],
 "metadata": {
  "kernelspec": {
   "display_name": "Python 3",
   "language": "python",
   "name": "python3"
  },
  "language_info": {
   "codemirror_mode": {
    "name": "ipython",
    "version": 3
   },
   "file_extension": ".py",
   "mimetype": "text/x-python",
   "name": "python",
   "nbconvert_exporter": "python",
   "pygments_lexer": "ipython3",
   "version": "3.7.7"
  },
  "toc": {
   "base_numbering": 1,
   "nav_menu": {},
   "number_sections": true,
   "sideBar": true,
   "skip_h1_title": false,
   "title_cell": "Table of Contents",
   "title_sidebar": "Contents",
   "toc_cell": false,
   "toc_position": {},
   "toc_section_display": true,
   "toc_window_display": false
  },
  "varInspector": {
   "cols": {
    "lenName": 16,
    "lenType": 16,
    "lenVar": 40
   },
   "kernels_config": {
    "python": {
     "delete_cmd_postfix": "",
     "delete_cmd_prefix": "del ",
     "library": "var_list.py",
     "varRefreshCmd": "print(var_dic_list())"
    },
    "r": {
     "delete_cmd_postfix": ") ",
     "delete_cmd_prefix": "rm(",
     "library": "var_list.r",
     "varRefreshCmd": "cat(var_dic_list()) "
    }
   },
   "types_to_exclude": [
    "module",
    "function",
    "builtin_function_or_method",
    "instance",
    "_Feature"
   ],
   "window_display": false
  }
 },
 "nbformat": 4,
 "nbformat_minor": 4
}
