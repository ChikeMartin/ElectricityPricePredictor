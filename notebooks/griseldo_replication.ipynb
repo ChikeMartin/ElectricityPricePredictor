{
 "cells": [
  {
   "cell_type": "markdown",
   "metadata": {},
   "source": [
    "## Replication of electricity price forecasting"
   ]
  },
  {
   "cell_type": "markdown",
   "metadata": {},
   "source": [
    "### Days of the week/ Holidays"
   ]
  },
  {
   "cell_type": "code",
   "execution_count": 1,
   "metadata": {
    "ExecuteTime": {
     "end_time": "2020-11-27T15:23:58.551595Z",
     "start_time": "2020-11-27T15:23:52.833510Z"
    }
   },
   "outputs": [],
   "source": [
    "from electricity_price_predictor.data import get_shifted_load, get_shifted_price, get_weather, get_holidays, get_days_dummies, get_coal_price\n",
    "from sklearn.preprocessing import MinMaxScaler\n",
    "from sklearn.linear_model import LinearRegression\n",
    "import statsmodels.api as sm\n",
    "import statsmodels.formula.api as smf\n",
    "import pandas as pd\n",
    "import seaborn as sns\n",
    "import matplotlib.pyplot as plt\n",
    "from statsmodels.stats.outliers_influence import variance_inflation_factor as vif"
   ]
  },
  {
   "cell_type": "code",
   "execution_count": 2,
   "metadata": {
    "ExecuteTime": {
     "end_time": "2020-11-27T15:23:58.767732Z",
     "start_time": "2020-11-27T15:23:58.748578Z"
    }
   },
   "outputs": [],
   "source": [
    "last_date = '2020-11-23 16:00:00'\n",
    "first_date = '2015-11-25 00:00:00'"
   ]
  },
  {
   "cell_type": "code",
   "execution_count": 3,
   "metadata": {
    "ExecuteTime": {
     "end_time": "2020-11-27T15:26:47.813886Z",
     "start_time": "2020-11-27T15:23:58.917015Z"
    }
   },
   "outputs": [],
   "source": [
    "dayofweek = get_days_dummies().loc[first_date:last_date]\n",
    "holidays = get_holidays().loc[first_date:last_date]\n",
    "weather = get_weather().loc[first_date:last_date]\n",
    "price = get_shifted_price().loc[first_date:last_date]\n",
    "load = get_shifted_load().loc[first_date:last_date]\n",
    "coal = get_coal_price().loc[first_date:last_date]"
   ]
  },
  {
   "cell_type": "code",
   "execution_count": 4,
   "metadata": {
    "ExecuteTime": {
     "end_time": "2020-11-27T15:27:01.818391Z",
     "start_time": "2020-11-27T15:27:01.753339Z"
    }
   },
   "outputs": [],
   "source": [
    "# merge price and load into one df\n",
    "df = price.merge(load, on='time')"
   ]
  },
  {
   "cell_type": "markdown",
   "metadata": {},
   "source": [
    "## Downsample"
   ]
  },
  {
   "cell_type": "code",
   "execution_count": null,
   "metadata": {
    "ExecuteTime": {
     "end_time": "2020-11-27T15:21:21.417652Z",
     "start_time": "2020-11-27T15:21:21.365722Z"
    }
   },
   "outputs": [],
   "source": [
    "weather_D = weather[weather.index.hour==11]\n",
    "weather "
   ]
  },
  {
   "cell_type": "code",
   "execution_count": 5,
   "metadata": {
    "ExecuteTime": {
     "end_time": "2020-11-27T15:27:03.694010Z",
     "start_time": "2020-11-27T15:27:03.657605Z"
    }
   },
   "outputs": [],
   "source": [
    "weather = weather.resample('D').mean()\n",
    "weather = weather.reset_index().drop('dt', axis=1)"
   ]
  },
  {
   "cell_type": "code",
   "execution_count": null,
   "metadata": {
    "ExecuteTime": {
     "end_time": "2020-11-27T15:22:37.502281Z",
     "start_time": "2020-11-27T15:22:37.468011Z"
    }
   },
   "outputs": [],
   "source": [
    "weather"
   ]
  },
  {
   "cell_type": "code",
   "execution_count": 6,
   "metadata": {
    "ExecuteTime": {
     "end_time": "2020-11-27T15:27:05.893565Z",
     "start_time": "2020-11-27T15:27:05.857756Z"
    }
   },
   "outputs": [],
   "source": [
    "df = df.resample('D').mean()\n",
    "df = df.reset_index().drop('time', axis=1)"
   ]
  },
  {
   "cell_type": "code",
   "execution_count": 7,
   "metadata": {
    "ExecuteTime": {
     "end_time": "2020-11-27T15:27:07.218705Z",
     "start_time": "2020-11-27T15:27:07.197418Z"
    }
   },
   "outputs": [],
   "source": [
    "dayofweek = dayofweek.reset_index().drop('index', axis=1)\n",
    "holidays = holidays.reset_index().drop('index', axis=1)"
   ]
  },
  {
   "cell_type": "code",
   "execution_count": 8,
   "metadata": {
    "ExecuteTime": {
     "end_time": "2020-11-27T15:27:07.944441Z",
     "start_time": "2020-11-27T15:27:07.905893Z"
    }
   },
   "outputs": [],
   "source": [
    "coal = coal.resample('D').mean()\n",
    "coal = coal.reset_index().drop('time', axis=1)"
   ]
  },
  {
   "cell_type": "code",
   "execution_count": 9,
   "metadata": {
    "ExecuteTime": {
     "end_time": "2020-11-27T15:27:09.365466Z",
     "start_time": "2020-11-27T15:27:09.346430Z"
    }
   },
   "outputs": [
    {
     "name": "stdout",
     "output_type": "stream",
     "text": [
      "'holidays:' (1826, 2)\n",
      "'day of week:' (1826, 7)\n",
      "'weather:' (1826, 5)\n",
      "'price, load:' (1826, 2)\n",
      "'coal:' (1826, 1)\n"
     ]
    }
   ],
   "source": [
    "print(f\"'holidays:' {holidays.shape}\")\n",
    "print(f\"'day of week:' {dayofweek.shape}\")\n",
    "print(f\"'weather:' {weather.shape}\")\n",
    "print(f\"'price, load:' {df.shape}\")\n",
    "print(f\"'coal:' {coal.shape}\")"
   ]
  },
  {
   "cell_type": "markdown",
   "metadata": {},
   "source": [
    "## Merging dataframes"
   ]
  },
  {
   "cell_type": "code",
   "execution_count": 10,
   "metadata": {
    "ExecuteTime": {
     "end_time": "2020-11-27T15:27:14.339099Z",
     "start_time": "2020-11-27T15:27:14.315318Z"
    }
   },
   "outputs": [],
   "source": [
    "df = df.join(coal).join(\n",
    "    holidays).join(\n",
    "    dayofweek).join(\n",
    "    weather).drop('holiday_name', axis=1)\n",
    "\n",
    "df['holiday_bool'] = df['holiday_bool'].astype('int64')"
   ]
  },
  {
   "cell_type": "code",
   "execution_count": null,
   "metadata": {
    "ExecuteTime": {
     "end_time": "2020-11-27T12:57:28.733087Z",
     "start_time": "2020-11-27T12:57:28.713031Z"
    }
   },
   "outputs": [],
   "source": [
    "# df = df.merge(\n",
    "#     holidays, right_index= True, left_index=True).merge(\n",
    "#     dayofweek, right_index= True, left_index=True).merge(\n",
    "#     weather, right_index= True, left_index= True).merge(\n",
    "#     coal, right_index=True, left_index=True).drop('holiday_name', axis=1)\n",
    "\n",
    "# df['holiday_bool'] = df['holiday_bool'].astype('int64')"
   ]
  },
  {
   "cell_type": "code",
   "execution_count": 11,
   "metadata": {
    "ExecuteTime": {
     "end_time": "2020-11-27T15:27:16.106015Z",
     "start_time": "2020-11-27T15:27:16.027664Z"
    },
    "collapsed": true
   },
   "outputs": [
    {
     "data": {
      "text/html": [
       "<div>\n",
       "<style scoped>\n",
       "    .dataframe tbody tr th:only-of-type {\n",
       "        vertical-align: middle;\n",
       "    }\n",
       "\n",
       "    .dataframe tbody tr th {\n",
       "        vertical-align: top;\n",
       "    }\n",
       "\n",
       "    .dataframe thead th {\n",
       "        text-align: right;\n",
       "    }\n",
       "</style>\n",
       "<table border=\"1\" class=\"dataframe\">\n",
       "  <thead>\n",
       "    <tr style=\"text-align: right;\">\n",
       "      <th></th>\n",
       "      <th>price</th>\n",
       "      <th>load</th>\n",
       "      <th>coal_price</th>\n",
       "      <th>holiday_bool</th>\n",
       "      <th>mon</th>\n",
       "      <th>tue</th>\n",
       "      <th>wed</th>\n",
       "      <th>thur</th>\n",
       "      <th>fri</th>\n",
       "      <th>sat</th>\n",
       "      <th>sun</th>\n",
       "      <th>temp</th>\n",
       "      <th>feels_like</th>\n",
       "      <th>humidity</th>\n",
       "      <th>clouds_all</th>\n",
       "      <th>wind_speed</th>\n",
       "    </tr>\n",
       "  </thead>\n",
       "  <tbody>\n",
       "    <tr>\n",
       "      <th>0</th>\n",
       "      <td>32.537083</td>\n",
       "      <td>2588.416667</td>\n",
       "      <td>46.05</td>\n",
       "      <td>0</td>\n",
       "      <td>0</td>\n",
       "      <td>0</td>\n",
       "      <td>1</td>\n",
       "      <td>0</td>\n",
       "      <td>0</td>\n",
       "      <td>0</td>\n",
       "      <td>0</td>\n",
       "      <td>4.781124</td>\n",
       "      <td>1.426813</td>\n",
       "      <td>94.787551</td>\n",
       "      <td>60.941129</td>\n",
       "      <td>2.915235</td>\n",
       "    </tr>\n",
       "    <tr>\n",
       "      <th>1</th>\n",
       "      <td>33.248333</td>\n",
       "      <td>2601.625000</td>\n",
       "      <td>46.35</td>\n",
       "      <td>0</td>\n",
       "      <td>0</td>\n",
       "      <td>0</td>\n",
       "      <td>0</td>\n",
       "      <td>1</td>\n",
       "      <td>0</td>\n",
       "      <td>0</td>\n",
       "      <td>0</td>\n",
       "      <td>3.307241</td>\n",
       "      <td>-0.246577</td>\n",
       "      <td>88.873078</td>\n",
       "      <td>23.614085</td>\n",
       "      <td>2.606222</td>\n",
       "    </tr>\n",
       "    <tr>\n",
       "      <th>2</th>\n",
       "      <td>22.573333</td>\n",
       "      <td>2513.583333</td>\n",
       "      <td>46.45</td>\n",
       "      <td>0</td>\n",
       "      <td>0</td>\n",
       "      <td>0</td>\n",
       "      <td>0</td>\n",
       "      <td>0</td>\n",
       "      <td>1</td>\n",
       "      <td>0</td>\n",
       "      <td>0</td>\n",
       "      <td>6.981943</td>\n",
       "      <td>1.428417</td>\n",
       "      <td>93.255776</td>\n",
       "      <td>85.358695</td>\n",
       "      <td>6.620643</td>\n",
       "    </tr>\n",
       "    <tr>\n",
       "      <th>3</th>\n",
       "      <td>20.322083</td>\n",
       "      <td>2085.666667</td>\n",
       "      <td>46.45</td>\n",
       "      <td>0</td>\n",
       "      <td>0</td>\n",
       "      <td>0</td>\n",
       "      <td>0</td>\n",
       "      <td>0</td>\n",
       "      <td>0</td>\n",
       "      <td>1</td>\n",
       "      <td>0</td>\n",
       "      <td>5.368526</td>\n",
       "      <td>-0.016180</td>\n",
       "      <td>88.564411</td>\n",
       "      <td>67.243748</td>\n",
       "      <td>5.721742</td>\n",
       "    </tr>\n",
       "    <tr>\n",
       "      <th>4</th>\n",
       "      <td>12.707917</td>\n",
       "      <td>2050.125000</td>\n",
       "      <td>46.45</td>\n",
       "      <td>0</td>\n",
       "      <td>0</td>\n",
       "      <td>0</td>\n",
       "      <td>0</td>\n",
       "      <td>0</td>\n",
       "      <td>0</td>\n",
       "      <td>0</td>\n",
       "      <td>1</td>\n",
       "      <td>6.278432</td>\n",
       "      <td>-0.801260</td>\n",
       "      <td>86.465926</td>\n",
       "      <td>75.811254</td>\n",
       "      <td>8.294217</td>\n",
       "    </tr>\n",
       "    <tr>\n",
       "      <th>...</th>\n",
       "      <td>...</td>\n",
       "      <td>...</td>\n",
       "      <td>...</td>\n",
       "      <td>...</td>\n",
       "      <td>...</td>\n",
       "      <td>...</td>\n",
       "      <td>...</td>\n",
       "      <td>...</td>\n",
       "      <td>...</td>\n",
       "      <td>...</td>\n",
       "      <td>...</td>\n",
       "      <td>...</td>\n",
       "      <td>...</td>\n",
       "      <td>...</td>\n",
       "      <td>...</td>\n",
       "      <td>...</td>\n",
       "    </tr>\n",
       "    <tr>\n",
       "      <th>1821</th>\n",
       "      <td>1.047083</td>\n",
       "      <td>2705.500000</td>\n",
       "      <td>52.75</td>\n",
       "      <td>0</td>\n",
       "      <td>0</td>\n",
       "      <td>0</td>\n",
       "      <td>0</td>\n",
       "      <td>1</td>\n",
       "      <td>0</td>\n",
       "      <td>0</td>\n",
       "      <td>0</td>\n",
       "      <td>7.011803</td>\n",
       "      <td>0.472592</td>\n",
       "      <td>75.156521</td>\n",
       "      <td>28.890113</td>\n",
       "      <td>7.285472</td>\n",
       "    </tr>\n",
       "    <tr>\n",
       "      <th>1822</th>\n",
       "      <td>33.003750</td>\n",
       "      <td>2715.333333</td>\n",
       "      <td>53.00</td>\n",
       "      <td>0</td>\n",
       "      <td>0</td>\n",
       "      <td>0</td>\n",
       "      <td>0</td>\n",
       "      <td>0</td>\n",
       "      <td>1</td>\n",
       "      <td>0</td>\n",
       "      <td>0</td>\n",
       "      <td>4.028544</td>\n",
       "      <td>-0.088680</td>\n",
       "      <td>78.171198</td>\n",
       "      <td>21.466404</td>\n",
       "      <td>3.165625</td>\n",
       "    </tr>\n",
       "    <tr>\n",
       "      <th>1823</th>\n",
       "      <td>1.046250</td>\n",
       "      <td>2429.583333</td>\n",
       "      <td>53.00</td>\n",
       "      <td>0</td>\n",
       "      <td>0</td>\n",
       "      <td>0</td>\n",
       "      <td>0</td>\n",
       "      <td>0</td>\n",
       "      <td>0</td>\n",
       "      <td>1</td>\n",
       "      <td>0</td>\n",
       "      <td>8.117413</td>\n",
       "      <td>3.327187</td>\n",
       "      <td>93.313982</td>\n",
       "      <td>50.146651</td>\n",
       "      <td>5.922855</td>\n",
       "    </tr>\n",
       "    <tr>\n",
       "      <th>1824</th>\n",
       "      <td>1.158333</td>\n",
       "      <td>2330.458333</td>\n",
       "      <td>53.00</td>\n",
       "      <td>0</td>\n",
       "      <td>0</td>\n",
       "      <td>0</td>\n",
       "      <td>0</td>\n",
       "      <td>0</td>\n",
       "      <td>0</td>\n",
       "      <td>0</td>\n",
       "      <td>1</td>\n",
       "      <td>7.777668</td>\n",
       "      <td>2.726794</td>\n",
       "      <td>82.615943</td>\n",
       "      <td>28.811757</td>\n",
       "      <td>5.605095</td>\n",
       "    </tr>\n",
       "    <tr>\n",
       "      <th>1825</th>\n",
       "      <td>7.206471</td>\n",
       "      <td>2766.000000</td>\n",
       "      <td>52.95</td>\n",
       "      <td>0</td>\n",
       "      <td>1</td>\n",
       "      <td>0</td>\n",
       "      <td>0</td>\n",
       "      <td>0</td>\n",
       "      <td>0</td>\n",
       "      <td>0</td>\n",
       "      <td>0</td>\n",
       "      <td>6.801682</td>\n",
       "      <td>1.989907</td>\n",
       "      <td>84.026915</td>\n",
       "      <td>28.955145</td>\n",
       "      <td>5.060591</td>\n",
       "    </tr>\n",
       "  </tbody>\n",
       "</table>\n",
       "<p>1826 rows × 16 columns</p>\n",
       "</div>"
      ],
      "text/plain": [
       "          price         load  coal_price  holiday_bool  mon  tue  wed  thur  \\\n",
       "0     32.537083  2588.416667       46.05             0    0    0    1     0   \n",
       "1     33.248333  2601.625000       46.35             0    0    0    0     1   \n",
       "2     22.573333  2513.583333       46.45             0    0    0    0     0   \n",
       "3     20.322083  2085.666667       46.45             0    0    0    0     0   \n",
       "4     12.707917  2050.125000       46.45             0    0    0    0     0   \n",
       "...         ...          ...         ...           ...  ...  ...  ...   ...   \n",
       "1821   1.047083  2705.500000       52.75             0    0    0    0     1   \n",
       "1822  33.003750  2715.333333       53.00             0    0    0    0     0   \n",
       "1823   1.046250  2429.583333       53.00             0    0    0    0     0   \n",
       "1824   1.158333  2330.458333       53.00             0    0    0    0     0   \n",
       "1825   7.206471  2766.000000       52.95             0    1    0    0     0   \n",
       "\n",
       "      fri  sat  sun      temp  feels_like   humidity  clouds_all  wind_speed  \n",
       "0       0    0    0  4.781124    1.426813  94.787551   60.941129    2.915235  \n",
       "1       0    0    0  3.307241   -0.246577  88.873078   23.614085    2.606222  \n",
       "2       1    0    0  6.981943    1.428417  93.255776   85.358695    6.620643  \n",
       "3       0    1    0  5.368526   -0.016180  88.564411   67.243748    5.721742  \n",
       "4       0    0    1  6.278432   -0.801260  86.465926   75.811254    8.294217  \n",
       "...   ...  ...  ...       ...         ...        ...         ...         ...  \n",
       "1821    0    0    0  7.011803    0.472592  75.156521   28.890113    7.285472  \n",
       "1822    1    0    0  4.028544   -0.088680  78.171198   21.466404    3.165625  \n",
       "1823    0    1    0  8.117413    3.327187  93.313982   50.146651    5.922855  \n",
       "1824    0    0    1  7.777668    2.726794  82.615943   28.811757    5.605095  \n",
       "1825    0    0    0  6.801682    1.989907  84.026915   28.955145    5.060591  \n",
       "\n",
       "[1826 rows x 16 columns]"
      ]
     },
     "execution_count": 11,
     "metadata": {},
     "output_type": "execute_result"
    }
   ],
   "source": [
    "df"
   ]
  },
  {
   "cell_type": "code",
   "execution_count": 12,
   "metadata": {
    "ExecuteTime": {
     "end_time": "2020-11-27T15:27:58.943539Z",
     "start_time": "2020-11-27T15:27:58.921443Z"
    }
   },
   "outputs": [],
   "source": [
    "def shift_by_days(data, num_days):\n",
    "    \"\"\"\n",
    "    Input a timeseries of the form 24 hourly measurements per day\n",
    "    \n",
    "    Output returns \n",
    "    \n",
    "    \"\"\"\n",
    "    data_shifted = data.shift(num_days)\n",
    "    \n",
    "    return data_shifted"
   ]
  },
  {
   "cell_type": "code",
   "execution_count": 13,
   "metadata": {
    "ExecuteTime": {
     "end_time": "2020-11-27T15:28:00.277872Z",
     "start_time": "2020-11-27T15:28:00.262639Z"
    }
   },
   "outputs": [],
   "source": [
    "df['price_t_1'] = shift_by_days(df['price'], 1)"
   ]
  },
  {
   "cell_type": "code",
   "execution_count": 14,
   "metadata": {
    "ExecuteTime": {
     "end_time": "2020-11-27T15:28:01.827291Z",
     "start_time": "2020-11-27T15:28:01.804658Z"
    }
   },
   "outputs": [],
   "source": [
    "df['price_t_7'] = shift_by_days(df['price'], 7)"
   ]
  },
  {
   "cell_type": "code",
   "execution_count": 15,
   "metadata": {
    "ExecuteTime": {
     "end_time": "2020-11-27T15:28:03.439468Z",
     "start_time": "2020-11-27T15:28:03.425495Z"
    }
   },
   "outputs": [],
   "source": [
    "df = df.dropna()"
   ]
  },
  {
   "cell_type": "code",
   "execution_count": 31,
   "metadata": {
    "ExecuteTime": {
     "end_time": "2020-11-27T15:43:06.777998Z",
     "start_time": "2020-11-27T15:43:06.717915Z"
    },
    "collapsed": true
   },
   "outputs": [
    {
     "data": {
      "text/html": [
       "<div>\n",
       "<style scoped>\n",
       "    .dataframe tbody tr th:only-of-type {\n",
       "        vertical-align: middle;\n",
       "    }\n",
       "\n",
       "    .dataframe tbody tr th {\n",
       "        vertical-align: top;\n",
       "    }\n",
       "\n",
       "    .dataframe thead th {\n",
       "        text-align: right;\n",
       "    }\n",
       "</style>\n",
       "<table border=\"1\" class=\"dataframe\">\n",
       "  <thead>\n",
       "    <tr style=\"text-align: right;\">\n",
       "      <th></th>\n",
       "      <th>price</th>\n",
       "      <th>load</th>\n",
       "      <th>coal_price</th>\n",
       "      <th>holiday_bool</th>\n",
       "      <th>mon</th>\n",
       "      <th>tue</th>\n",
       "      <th>wed</th>\n",
       "      <th>thur</th>\n",
       "      <th>fri</th>\n",
       "      <th>sat</th>\n",
       "      <th>sun</th>\n",
       "      <th>temp</th>\n",
       "      <th>feels_like</th>\n",
       "      <th>humidity</th>\n",
       "      <th>clouds_all</th>\n",
       "      <th>wind_speed</th>\n",
       "      <th>price_t_1</th>\n",
       "      <th>price_t_7</th>\n",
       "    </tr>\n",
       "  </thead>\n",
       "  <tbody>\n",
       "    <tr>\n",
       "      <th>7</th>\n",
       "      <td>23.992500</td>\n",
       "      <td>2545.416667</td>\n",
       "      <td>45.55</td>\n",
       "      <td>0</td>\n",
       "      <td>0</td>\n",
       "      <td>0</td>\n",
       "      <td>1</td>\n",
       "      <td>0</td>\n",
       "      <td>0</td>\n",
       "      <td>0</td>\n",
       "      <td>0</td>\n",
       "      <td>8.224211</td>\n",
       "      <td>4.011582</td>\n",
       "      <td>90.504803</td>\n",
       "      <td>81.208875</td>\n",
       "      <td>4.961631</td>\n",
       "      <td>23.686250</td>\n",
       "      <td>32.537083</td>\n",
       "    </tr>\n",
       "    <tr>\n",
       "      <th>8</th>\n",
       "      <td>25.597500</td>\n",
       "      <td>2598.250000</td>\n",
       "      <td>45.85</td>\n",
       "      <td>0</td>\n",
       "      <td>0</td>\n",
       "      <td>0</td>\n",
       "      <td>0</td>\n",
       "      <td>1</td>\n",
       "      <td>0</td>\n",
       "      <td>0</td>\n",
       "      <td>0</td>\n",
       "      <td>8.811838</td>\n",
       "      <td>5.446127</td>\n",
       "      <td>96.349046</td>\n",
       "      <td>91.698916</td>\n",
       "      <td>4.242559</td>\n",
       "      <td>23.992500</td>\n",
       "      <td>33.248333</td>\n",
       "    </tr>\n",
       "    <tr>\n",
       "      <th>9</th>\n",
       "      <td>20.534167</td>\n",
       "      <td>2383.041667</td>\n",
       "      <td>45.90</td>\n",
       "      <td>0</td>\n",
       "      <td>0</td>\n",
       "      <td>0</td>\n",
       "      <td>0</td>\n",
       "      <td>0</td>\n",
       "      <td>1</td>\n",
       "      <td>0</td>\n",
       "      <td>0</td>\n",
       "      <td>8.082088</td>\n",
       "      <td>1.172631</td>\n",
       "      <td>83.590467</td>\n",
       "      <td>70.398758</td>\n",
       "      <td>8.400877</td>\n",
       "      <td>25.597500</td>\n",
       "      <td>22.573333</td>\n",
       "    </tr>\n",
       "    <tr>\n",
       "      <th>10</th>\n",
       "      <td>15.230417</td>\n",
       "      <td>2102.416667</td>\n",
       "      <td>45.90</td>\n",
       "      <td>0</td>\n",
       "      <td>0</td>\n",
       "      <td>0</td>\n",
       "      <td>0</td>\n",
       "      <td>0</td>\n",
       "      <td>0</td>\n",
       "      <td>1</td>\n",
       "      <td>0</td>\n",
       "      <td>9.696045</td>\n",
       "      <td>0.805741</td>\n",
       "      <td>86.093783</td>\n",
       "      <td>92.803450</td>\n",
       "      <td>11.859096</td>\n",
       "      <td>20.534167</td>\n",
       "      <td>20.322083</td>\n",
       "    </tr>\n",
       "    <tr>\n",
       "      <th>11</th>\n",
       "      <td>11.293333</td>\n",
       "      <td>1997.833333</td>\n",
       "      <td>45.90</td>\n",
       "      <td>0</td>\n",
       "      <td>0</td>\n",
       "      <td>0</td>\n",
       "      <td>0</td>\n",
       "      <td>0</td>\n",
       "      <td>0</td>\n",
       "      <td>0</td>\n",
       "      <td>1</td>\n",
       "      <td>9.734235</td>\n",
       "      <td>1.591350</td>\n",
       "      <td>85.900014</td>\n",
       "      <td>83.595588</td>\n",
       "      <td>10.818547</td>\n",
       "      <td>15.230417</td>\n",
       "      <td>12.707917</td>\n",
       "    </tr>\n",
       "    <tr>\n",
       "      <th>...</th>\n",
       "      <td>...</td>\n",
       "      <td>...</td>\n",
       "      <td>...</td>\n",
       "      <td>...</td>\n",
       "      <td>...</td>\n",
       "      <td>...</td>\n",
       "      <td>...</td>\n",
       "      <td>...</td>\n",
       "      <td>...</td>\n",
       "      <td>...</td>\n",
       "      <td>...</td>\n",
       "      <td>...</td>\n",
       "      <td>...</td>\n",
       "      <td>...</td>\n",
       "      <td>...</td>\n",
       "      <td>...</td>\n",
       "      <td>...</td>\n",
       "      <td>...</td>\n",
       "    </tr>\n",
       "    <tr>\n",
       "      <th>1821</th>\n",
       "      <td>1.047083</td>\n",
       "      <td>2705.500000</td>\n",
       "      <td>52.75</td>\n",
       "      <td>0</td>\n",
       "      <td>0</td>\n",
       "      <td>0</td>\n",
       "      <td>0</td>\n",
       "      <td>1</td>\n",
       "      <td>0</td>\n",
       "      <td>0</td>\n",
       "      <td>0</td>\n",
       "      <td>7.011803</td>\n",
       "      <td>0.472592</td>\n",
       "      <td>75.156521</td>\n",
       "      <td>28.890113</td>\n",
       "      <td>7.285472</td>\n",
       "      <td>0.991667</td>\n",
       "      <td>35.625417</td>\n",
       "    </tr>\n",
       "    <tr>\n",
       "      <th>1822</th>\n",
       "      <td>33.003750</td>\n",
       "      <td>2715.333333</td>\n",
       "      <td>53.00</td>\n",
       "      <td>0</td>\n",
       "      <td>0</td>\n",
       "      <td>0</td>\n",
       "      <td>0</td>\n",
       "      <td>0</td>\n",
       "      <td>1</td>\n",
       "      <td>0</td>\n",
       "      <td>0</td>\n",
       "      <td>4.028544</td>\n",
       "      <td>-0.088680</td>\n",
       "      <td>78.171198</td>\n",
       "      <td>21.466404</td>\n",
       "      <td>3.165625</td>\n",
       "      <td>1.047083</td>\n",
       "      <td>38.207917</td>\n",
       "    </tr>\n",
       "    <tr>\n",
       "      <th>1823</th>\n",
       "      <td>1.046250</td>\n",
       "      <td>2429.583333</td>\n",
       "      <td>53.00</td>\n",
       "      <td>0</td>\n",
       "      <td>0</td>\n",
       "      <td>0</td>\n",
       "      <td>0</td>\n",
       "      <td>0</td>\n",
       "      <td>0</td>\n",
       "      <td>1</td>\n",
       "      <td>0</td>\n",
       "      <td>8.117413</td>\n",
       "      <td>3.327187</td>\n",
       "      <td>93.313982</td>\n",
       "      <td>50.146651</td>\n",
       "      <td>5.922855</td>\n",
       "      <td>33.003750</td>\n",
       "      <td>31.870000</td>\n",
       "    </tr>\n",
       "    <tr>\n",
       "      <th>1824</th>\n",
       "      <td>1.158333</td>\n",
       "      <td>2330.458333</td>\n",
       "      <td>53.00</td>\n",
       "      <td>0</td>\n",
       "      <td>0</td>\n",
       "      <td>0</td>\n",
       "      <td>0</td>\n",
       "      <td>0</td>\n",
       "      <td>0</td>\n",
       "      <td>0</td>\n",
       "      <td>1</td>\n",
       "      <td>7.777668</td>\n",
       "      <td>2.726794</td>\n",
       "      <td>82.615943</td>\n",
       "      <td>28.811757</td>\n",
       "      <td>5.605095</td>\n",
       "      <td>1.046250</td>\n",
       "      <td>3.430000</td>\n",
       "    </tr>\n",
       "    <tr>\n",
       "      <th>1825</th>\n",
       "      <td>7.206471</td>\n",
       "      <td>2766.000000</td>\n",
       "      <td>52.95</td>\n",
       "      <td>0</td>\n",
       "      <td>1</td>\n",
       "      <td>0</td>\n",
       "      <td>0</td>\n",
       "      <td>0</td>\n",
       "      <td>0</td>\n",
       "      <td>0</td>\n",
       "      <td>0</td>\n",
       "      <td>6.801682</td>\n",
       "      <td>1.989907</td>\n",
       "      <td>84.026915</td>\n",
       "      <td>28.955145</td>\n",
       "      <td>5.060591</td>\n",
       "      <td>1.158333</td>\n",
       "      <td>13.201250</td>\n",
       "    </tr>\n",
       "  </tbody>\n",
       "</table>\n",
       "<p>1819 rows × 18 columns</p>\n",
       "</div>"
      ],
      "text/plain": [
       "          price         load  coal_price  holiday_bool  mon  tue  wed  thur  \\\n",
       "7     23.992500  2545.416667       45.55             0    0    0    1     0   \n",
       "8     25.597500  2598.250000       45.85             0    0    0    0     1   \n",
       "9     20.534167  2383.041667       45.90             0    0    0    0     0   \n",
       "10    15.230417  2102.416667       45.90             0    0    0    0     0   \n",
       "11    11.293333  1997.833333       45.90             0    0    0    0     0   \n",
       "...         ...          ...         ...           ...  ...  ...  ...   ...   \n",
       "1821   1.047083  2705.500000       52.75             0    0    0    0     1   \n",
       "1822  33.003750  2715.333333       53.00             0    0    0    0     0   \n",
       "1823   1.046250  2429.583333       53.00             0    0    0    0     0   \n",
       "1824   1.158333  2330.458333       53.00             0    0    0    0     0   \n",
       "1825   7.206471  2766.000000       52.95             0    1    0    0     0   \n",
       "\n",
       "      fri  sat  sun      temp  feels_like   humidity  clouds_all  wind_speed  \\\n",
       "7       0    0    0  8.224211    4.011582  90.504803   81.208875    4.961631   \n",
       "8       0    0    0  8.811838    5.446127  96.349046   91.698916    4.242559   \n",
       "9       1    0    0  8.082088    1.172631  83.590467   70.398758    8.400877   \n",
       "10      0    1    0  9.696045    0.805741  86.093783   92.803450   11.859096   \n",
       "11      0    0    1  9.734235    1.591350  85.900014   83.595588   10.818547   \n",
       "...   ...  ...  ...       ...         ...        ...         ...         ...   \n",
       "1821    0    0    0  7.011803    0.472592  75.156521   28.890113    7.285472   \n",
       "1822    1    0    0  4.028544   -0.088680  78.171198   21.466404    3.165625   \n",
       "1823    0    1    0  8.117413    3.327187  93.313982   50.146651    5.922855   \n",
       "1824    0    0    1  7.777668    2.726794  82.615943   28.811757    5.605095   \n",
       "1825    0    0    0  6.801682    1.989907  84.026915   28.955145    5.060591   \n",
       "\n",
       "      price_t_1  price_t_7  \n",
       "7     23.686250  32.537083  \n",
       "8     23.992500  33.248333  \n",
       "9     25.597500  22.573333  \n",
       "10    20.534167  20.322083  \n",
       "11    15.230417  12.707917  \n",
       "...         ...        ...  \n",
       "1821   0.991667  35.625417  \n",
       "1822   1.047083  38.207917  \n",
       "1823  33.003750  31.870000  \n",
       "1824   1.046250   3.430000  \n",
       "1825   1.158333  13.201250  \n",
       "\n",
       "[1819 rows x 18 columns]"
      ]
     },
     "execution_count": 31,
     "metadata": {},
     "output_type": "execute_result"
    }
   ],
   "source": [
    "df"
   ]
  },
  {
   "cell_type": "code",
   "execution_count": 78,
   "metadata": {
    "ExecuteTime": {
     "end_time": "2020-11-27T16:04:05.895643Z",
     "start_time": "2020-11-27T16:04:05.879631Z"
    }
   },
   "outputs": [],
   "source": [
    "df_new = df[[ 'coal_price', 'holiday_bool', 'feels_like',\n",
    "       'clouds_all', 'wind_speed' ]]"
   ]
  },
  {
   "cell_type": "code",
   "execution_count": 80,
   "metadata": {
    "ExecuteTime": {
     "end_time": "2020-11-27T16:05:01.270281Z",
     "start_time": "2020-11-27T16:05:01.006289Z"
    },
    "collapsed": true
   },
   "outputs": [
    {
     "data": {
      "text/html": [
       "<style  type=\"text/css\" >\n",
       "#T_4dd1c752_30ca_11eb_b0b6_c49ded1d5ddfrow0_col0,#T_4dd1c752_30ca_11eb_b0b6_c49ded1d5ddfrow1_col1,#T_4dd1c752_30ca_11eb_b0b6_c49ded1d5ddfrow2_col2,#T_4dd1c752_30ca_11eb_b0b6_c49ded1d5ddfrow3_col3,#T_4dd1c752_30ca_11eb_b0b6_c49ded1d5ddfrow4_col4,#T_4dd1c752_30ca_11eb_b0b6_c49ded1d5ddfrow5_col5,#T_4dd1c752_30ca_11eb_b0b6_c49ded1d5ddfrow6_col6,#T_4dd1c752_30ca_11eb_b0b6_c49ded1d5ddfrow7_col7,#T_4dd1c752_30ca_11eb_b0b6_c49ded1d5ddfrow8_col8,#T_4dd1c752_30ca_11eb_b0b6_c49ded1d5ddfrow9_col9,#T_4dd1c752_30ca_11eb_b0b6_c49ded1d5ddfrow10_col10,#T_4dd1c752_30ca_11eb_b0b6_c49ded1d5ddfrow11_col11,#T_4dd1c752_30ca_11eb_b0b6_c49ded1d5ddfrow12_col12,#T_4dd1c752_30ca_11eb_b0b6_c49ded1d5ddfrow13_col13,#T_4dd1c752_30ca_11eb_b0b6_c49ded1d5ddfrow14_col14,#T_4dd1c752_30ca_11eb_b0b6_c49ded1d5ddfrow15_col15,#T_4dd1c752_30ca_11eb_b0b6_c49ded1d5ddfrow16_col16,#T_4dd1c752_30ca_11eb_b0b6_c49ded1d5ddfrow17_col17,#T_4dd1c752_30ca_11eb_b0b6_c49ded1d5ddfrow18_col18{\n",
       "            background-color:  #b40426;\n",
       "            color:  #f1f1f1;\n",
       "        }#T_4dd1c752_30ca_11eb_b0b6_c49ded1d5ddfrow0_col1{\n",
       "            background-color:  #d1dae9;\n",
       "            color:  #000000;\n",
       "        }#T_4dd1c752_30ca_11eb_b0b6_c49ded1d5ddfrow0_col2,#T_4dd1c752_30ca_11eb_b0b6_c49ded1d5ddfrow16_col2{\n",
       "            background-color:  #f4c5ad;\n",
       "            color:  #000000;\n",
       "        }#T_4dd1c752_30ca_11eb_b0b6_c49ded1d5ddfrow0_col3,#T_4dd1c752_30ca_11eb_b0b6_c49ded1d5ddfrow4_col16{\n",
       "            background-color:  #4f69d9;\n",
       "            color:  #000000;\n",
       "        }#T_4dd1c752_30ca_11eb_b0b6_c49ded1d5ddfrow0_col4,#T_4dd1c752_30ca_11eb_b0b6_c49ded1d5ddfrow4_col17,#T_4dd1c752_30ca_11eb_b0b6_c49ded1d5ddfrow17_col4,#T_4dd1c752_30ca_11eb_b0b6_c49ded1d5ddfrow17_col6{\n",
       "            background-color:  #7ea1fa;\n",
       "            color:  #000000;\n",
       "        }#T_4dd1c752_30ca_11eb_b0b6_c49ded1d5ddfrow0_col5,#T_4dd1c752_30ca_11eb_b0b6_c49ded1d5ddfrow0_col6,#T_4dd1c752_30ca_11eb_b0b6_c49ded1d5ddfrow7_col3,#T_4dd1c752_30ca_11eb_b0b6_c49ded1d5ddfrow12_col15,#T_4dd1c752_30ca_11eb_b0b6_c49ded1d5ddfrow16_col6,#T_4dd1c752_30ca_11eb_b0b6_c49ded1d5ddfrow16_col7,#T_4dd1c752_30ca_11eb_b0b6_c49ded1d5ddfrow17_col5,#T_4dd1c752_30ca_11eb_b0b6_c49ded1d5ddfrow18_col7{\n",
       "            background-color:  #7da0f9;\n",
       "            color:  #000000;\n",
       "        }#T_4dd1c752_30ca_11eb_b0b6_c49ded1d5ddfrow0_col7,#T_4dd1c752_30ca_11eb_b0b6_c49ded1d5ddfrow3_col4,#T_4dd1c752_30ca_11eb_b0b6_c49ded1d5ddfrow16_col8,#T_4dd1c752_30ca_11eb_b0b6_c49ded1d5ddfrow17_col7{\n",
       "            background-color:  #7b9ff9;\n",
       "            color:  #000000;\n",
       "        }#T_4dd1c752_30ca_11eb_b0b6_c49ded1d5ddfrow0_col8,#T_4dd1c752_30ca_11eb_b0b6_c49ded1d5ddfrow4_col14,#T_4dd1c752_30ca_11eb_b0b6_c49ded1d5ddfrow15_col11,#T_4dd1c752_30ca_11eb_b0b6_c49ded1d5ddfrow18_col14{\n",
       "            background-color:  #7a9df8;\n",
       "            color:  #000000;\n",
       "        }#T_4dd1c752_30ca_11eb_b0b6_c49ded1d5ddfrow0_col9,#T_4dd1c752_30ca_11eb_b0b6_c49ded1d5ddfrow3_col13,#T_4dd1c752_30ca_11eb_b0b6_c49ded1d5ddfrow13_col17,#T_4dd1c752_30ca_11eb_b0b6_c49ded1d5ddfrow17_col8,#T_4dd1c752_30ca_11eb_b0b6_c49ded1d5ddfrow17_col9{\n",
       "            background-color:  #799cf8;\n",
       "            color:  #000000;\n",
       "        }#T_4dd1c752_30ca_11eb_b0b6_c49ded1d5ddfrow0_col10,#T_4dd1c752_30ca_11eb_b0b6_c49ded1d5ddfrow15_col4{\n",
       "            background-color:  #6f92f3;\n",
       "            color:  #000000;\n",
       "        }#T_4dd1c752_30ca_11eb_b0b6_c49ded1d5ddfrow0_col11,#T_4dd1c752_30ca_11eb_b0b6_c49ded1d5ddfrow3_col10,#T_4dd1c752_30ca_11eb_b0b6_c49ded1d5ddfrow4_col0,#T_4dd1c752_30ca_11eb_b0b6_c49ded1d5ddfrow13_col0{\n",
       "            background-color:  #b1cbfc;\n",
       "            color:  #000000;\n",
       "        }#T_4dd1c752_30ca_11eb_b0b6_c49ded1d5ddfrow0_col12,#T_4dd1c752_30ca_11eb_b0b6_c49ded1d5ddfrow5_col15,#T_4dd1c752_30ca_11eb_b0b6_c49ded1d5ddfrow6_col15,#T_4dd1c752_30ca_11eb_b0b6_c49ded1d5ddfrow14_col0,#T_4dd1c752_30ca_11eb_b0b6_c49ded1d5ddfrow16_col12{\n",
       "            background-color:  #c1d4f4;\n",
       "            color:  #000000;\n",
       "        }#T_4dd1c752_30ca_11eb_b0b6_c49ded1d5ddfrow0_col13,#T_4dd1c752_30ca_11eb_b0b6_c49ded1d5ddfrow2_col10,#T_4dd1c752_30ca_11eb_b0b6_c49ded1d5ddfrow5_col11,#T_4dd1c752_30ca_11eb_b0b6_c49ded1d5ddfrow6_col12,#T_4dd1c752_30ca_11eb_b0b6_c49ded1d5ddfrow7_col12,#T_4dd1c752_30ca_11eb_b0b6_c49ded1d5ddfrow8_col11,#T_4dd1c752_30ca_11eb_b0b6_c49ded1d5ddfrow11_col10,#T_4dd1c752_30ca_11eb_b0b6_c49ded1d5ddfrow11_col16,#T_4dd1c752_30ca_11eb_b0b6_c49ded1d5ddfrow12_col10,#T_4dd1c752_30ca_11eb_b0b6_c49ded1d5ddfrow13_col9,#T_4dd1c752_30ca_11eb_b0b6_c49ded1d5ddfrow14_col9,#T_4dd1c752_30ca_11eb_b0b6_c49ded1d5ddfrow14_col17{\n",
       "            background-color:  #9fbfff;\n",
       "            color:  #000000;\n",
       "        }#T_4dd1c752_30ca_11eb_b0b6_c49ded1d5ddfrow0_col14,#T_4dd1c752_30ca_11eb_b0b6_c49ded1d5ddfrow1_col14{\n",
       "            background-color:  #a6c4fe;\n",
       "            color:  #000000;\n",
       "        }#T_4dd1c752_30ca_11eb_b0b6_c49ded1d5ddfrow0_col15,#T_4dd1c752_30ca_11eb_b0b6_c49ded1d5ddfrow3_col5,#T_4dd1c752_30ca_11eb_b0b6_c49ded1d5ddfrow3_col6,#T_4dd1c752_30ca_11eb_b0b6_c49ded1d5ddfrow12_col2,#T_4dd1c752_30ca_11eb_b0b6_c49ded1d5ddfrow14_col11{\n",
       "            background-color:  #5977e3;\n",
       "            color:  #000000;\n",
       "        }#T_4dd1c752_30ca_11eb_b0b6_c49ded1d5ddfrow0_col16{\n",
       "            background-color:  #e97a5f;\n",
       "            color:  #000000;\n",
       "        }#T_4dd1c752_30ca_11eb_b0b6_c49ded1d5ddfrow0_col17{\n",
       "            background-color:  #f7b497;\n",
       "            color:  #000000;\n",
       "        }#T_4dd1c752_30ca_11eb_b0b6_c49ded1d5ddfrow0_col18{\n",
       "            background-color:  #d85646;\n",
       "            color:  #000000;\n",
       "        }#T_4dd1c752_30ca_11eb_b0b6_c49ded1d5ddfrow1_col0{\n",
       "            background-color:  #d4dbe6;\n",
       "            color:  #000000;\n",
       "        }#T_4dd1c752_30ca_11eb_b0b6_c49ded1d5ddfrow1_col2,#T_4dd1c752_30ca_11eb_b0b6_c49ded1d5ddfrow18_col10{\n",
       "            background-color:  #506bda;\n",
       "            color:  #000000;\n",
       "        }#T_4dd1c752_30ca_11eb_b0b6_c49ded1d5ddfrow1_col3,#T_4dd1c752_30ca_11eb_b0b6_c49ded1d5ddfrow1_col9,#T_4dd1c752_30ca_11eb_b0b6_c49ded1d5ddfrow1_col10,#T_4dd1c752_30ca_11eb_b0b6_c49ded1d5ddfrow1_col11,#T_4dd1c752_30ca_11eb_b0b6_c49ded1d5ddfrow1_col12,#T_4dd1c752_30ca_11eb_b0b6_c49ded1d5ddfrow3_col2,#T_4dd1c752_30ca_11eb_b0b6_c49ded1d5ddfrow4_col5,#T_4dd1c752_30ca_11eb_b0b6_c49ded1d5ddfrow4_col6,#T_4dd1c752_30ca_11eb_b0b6_c49ded1d5ddfrow4_col7,#T_4dd1c752_30ca_11eb_b0b6_c49ded1d5ddfrow4_col8,#T_4dd1c752_30ca_11eb_b0b6_c49ded1d5ddfrow5_col6,#T_4dd1c752_30ca_11eb_b0b6_c49ded1d5ddfrow5_col7,#T_4dd1c752_30ca_11eb_b0b6_c49ded1d5ddfrow5_col8,#T_4dd1c752_30ca_11eb_b0b6_c49ded1d5ddfrow6_col5,#T_4dd1c752_30ca_11eb_b0b6_c49ded1d5ddfrow6_col7,#T_4dd1c752_30ca_11eb_b0b6_c49ded1d5ddfrow6_col8,#T_4dd1c752_30ca_11eb_b0b6_c49ded1d5ddfrow7_col5,#T_4dd1c752_30ca_11eb_b0b6_c49ded1d5ddfrow7_col6,#T_4dd1c752_30ca_11eb_b0b6_c49ded1d5ddfrow7_col8,#T_4dd1c752_30ca_11eb_b0b6_c49ded1d5ddfrow8_col5,#T_4dd1c752_30ca_11eb_b0b6_c49ded1d5ddfrow8_col6,#T_4dd1c752_30ca_11eb_b0b6_c49ded1d5ddfrow8_col7,#T_4dd1c752_30ca_11eb_b0b6_c49ded1d5ddfrow9_col5,#T_4dd1c752_30ca_11eb_b0b6_c49ded1d5ddfrow9_col6,#T_4dd1c752_30ca_11eb_b0b6_c49ded1d5ddfrow9_col7,#T_4dd1c752_30ca_11eb_b0b6_c49ded1d5ddfrow9_col8,#T_4dd1c752_30ca_11eb_b0b6_c49ded1d5ddfrow10_col1,#T_4dd1c752_30ca_11eb_b0b6_c49ded1d5ddfrow10_col5,#T_4dd1c752_30ca_11eb_b0b6_c49ded1d5ddfrow10_col6,#T_4dd1c752_30ca_11eb_b0b6_c49ded1d5ddfrow10_col7,#T_4dd1c752_30ca_11eb_b0b6_c49ded1d5ddfrow10_col8,#T_4dd1c752_30ca_11eb_b0b6_c49ded1d5ddfrow10_col17,#T_4dd1c752_30ca_11eb_b0b6_c49ded1d5ddfrow11_col1,#T_4dd1c752_30ca_11eb_b0b6_c49ded1d5ddfrow11_col13,#T_4dd1c752_30ca_11eb_b0b6_c49ded1d5ddfrow11_col14,#T_4dd1c752_30ca_11eb_b0b6_c49ded1d5ddfrow15_col0,#T_4dd1c752_30ca_11eb_b0b6_c49ded1d5ddfrow15_col16,#T_4dd1c752_30ca_11eb_b0b6_c49ded1d5ddfrow15_col18,#T_4dd1c752_30ca_11eb_b0b6_c49ded1d5ddfrow16_col4,#T_4dd1c752_30ca_11eb_b0b6_c49ded1d5ddfrow18_col15{\n",
       "            background-color:  #3b4cc0;\n",
       "            color:  #f1f1f1;\n",
       "        }#T_4dd1c752_30ca_11eb_b0b6_c49ded1d5ddfrow1_col4,#T_4dd1c752_30ca_11eb_b0b6_c49ded1d5ddfrow2_col9,#T_4dd1c752_30ca_11eb_b0b6_c49ded1d5ddfrow9_col13,#T_4dd1c752_30ca_11eb_b0b6_c49ded1d5ddfrow12_col9{\n",
       "            background-color:  #98b9ff;\n",
       "            color:  #000000;\n",
       "        }#T_4dd1c752_30ca_11eb_b0b6_c49ded1d5ddfrow1_col5,#T_4dd1c752_30ca_11eb_b0b6_c49ded1d5ddfrow1_col17,#T_4dd1c752_30ca_11eb_b0b6_c49ded1d5ddfrow2_col1,#T_4dd1c752_30ca_11eb_b0b6_c49ded1d5ddfrow16_col9{\n",
       "            background-color:  #a7c5fe;\n",
       "            color:  #000000;\n",
       "        }#T_4dd1c752_30ca_11eb_b0b6_c49ded1d5ddfrow1_col6{\n",
       "            background-color:  #aac7fd;\n",
       "            color:  #000000;\n",
       "        }#T_4dd1c752_30ca_11eb_b0b6_c49ded1d5ddfrow1_col7{\n",
       "            background-color:  #a5c3fe;\n",
       "            color:  #000000;\n",
       "        }#T_4dd1c752_30ca_11eb_b0b6_c49ded1d5ddfrow1_col8,#T_4dd1c752_30ca_11eb_b0b6_c49ded1d5ddfrow3_col14,#T_4dd1c752_30ca_11eb_b0b6_c49ded1d5ddfrow4_col10,#T_4dd1c752_30ca_11eb_b0b6_c49ded1d5ddfrow5_col10,#T_4dd1c752_30ca_11eb_b0b6_c49ded1d5ddfrow6_col10,#T_4dd1c752_30ca_11eb_b0b6_c49ded1d5ddfrow7_col10,#T_4dd1c752_30ca_11eb_b0b6_c49ded1d5ddfrow8_col10,#T_4dd1c752_30ca_11eb_b0b6_c49ded1d5ddfrow9_col10,#T_4dd1c752_30ca_11eb_b0b6_c49ded1d5ddfrow10_col0,#T_4dd1c752_30ca_11eb_b0b6_c49ded1d5ddfrow10_col18,#T_4dd1c752_30ca_11eb_b0b6_c49ded1d5ddfrow16_col5,#T_4dd1c752_30ca_11eb_b0b6_c49ded1d5ddfrow18_col9{\n",
       "            background-color:  #7699f6;\n",
       "            color:  #000000;\n",
       "        }#T_4dd1c752_30ca_11eb_b0b6_c49ded1d5ddfrow1_col13,#T_4dd1c752_30ca_11eb_b0b6_c49ded1d5ddfrow8_col18{\n",
       "            background-color:  #cdd9ec;\n",
       "            color:  #000000;\n",
       "        }#T_4dd1c752_30ca_11eb_b0b6_c49ded1d5ddfrow1_col15,#T_4dd1c752_30ca_11eb_b0b6_c49ded1d5ddfrow13_col18{\n",
       "            background-color:  #c9d7f0;\n",
       "            color:  #000000;\n",
       "        }#T_4dd1c752_30ca_11eb_b0b6_c49ded1d5ddfrow1_col16,#T_4dd1c752_30ca_11eb_b0b6_c49ded1d5ddfrow4_col11,#T_4dd1c752_30ca_11eb_b0b6_c49ded1d5ddfrow9_col12,#T_4dd1c752_30ca_11eb_b0b6_c49ded1d5ddfrow10_col12{\n",
       "            background-color:  #9dbdff;\n",
       "            color:  #000000;\n",
       "        }#T_4dd1c752_30ca_11eb_b0b6_c49ded1d5ddfrow1_col18{\n",
       "            background-color:  #efcfbf;\n",
       "            color:  #000000;\n",
       "        }#T_4dd1c752_30ca_11eb_b0b6_c49ded1d5ddfrow2_col0{\n",
       "            background-color:  #f5a081;\n",
       "            color:  #000000;\n",
       "        }#T_4dd1c752_30ca_11eb_b0b6_c49ded1d5ddfrow2_col3,#T_4dd1c752_30ca_11eb_b0b6_c49ded1d5ddfrow11_col4,#T_4dd1c752_30ca_11eb_b0b6_c49ded1d5ddfrow12_col4,#T_4dd1c752_30ca_11eb_b0b6_c49ded1d5ddfrow13_col7,#T_4dd1c752_30ca_11eb_b0b6_c49ded1d5ddfrow14_col7{\n",
       "            background-color:  #6c8ff1;\n",
       "            color:  #000000;\n",
       "        }#T_4dd1c752_30ca_11eb_b0b6_c49ded1d5ddfrow2_col4,#T_4dd1c752_30ca_11eb_b0b6_c49ded1d5ddfrow3_col8{\n",
       "            background-color:  #7093f3;\n",
       "            color:  #000000;\n",
       "        }#T_4dd1c752_30ca_11eb_b0b6_c49ded1d5ddfrow2_col5,#T_4dd1c752_30ca_11eb_b0b6_c49ded1d5ddfrow12_col8,#T_4dd1c752_30ca_11eb_b0b6_c49ded1d5ddfrow14_col5{\n",
       "            background-color:  #688aef;\n",
       "            color:  #000000;\n",
       "        }#T_4dd1c752_30ca_11eb_b0b6_c49ded1d5ddfrow2_col6,#T_4dd1c752_30ca_11eb_b0b6_c49ded1d5ddfrow2_col7,#T_4dd1c752_30ca_11eb_b0b6_c49ded1d5ddfrow2_col8,#T_4dd1c752_30ca_11eb_b0b6_c49ded1d5ddfrow3_col1,#T_4dd1c752_30ca_11eb_b0b6_c49ded1d5ddfrow11_col5,#T_4dd1c752_30ca_11eb_b0b6_c49ded1d5ddfrow11_col8,#T_4dd1c752_30ca_11eb_b0b6_c49ded1d5ddfrow12_col3,#T_4dd1c752_30ca_11eb_b0b6_c49ded1d5ddfrow13_col6,#T_4dd1c752_30ca_11eb_b0b6_c49ded1d5ddfrow13_col8{\n",
       "            background-color:  #6788ee;\n",
       "            color:  #000000;\n",
       "        }#T_4dd1c752_30ca_11eb_b0b6_c49ded1d5ddfrow2_col11,#T_4dd1c752_30ca_11eb_b0b6_c49ded1d5ddfrow2_col12,#T_4dd1c752_30ca_11eb_b0b6_c49ded1d5ddfrow12_col16{\n",
       "            background-color:  #adc9fd;\n",
       "            color:  #000000;\n",
       "        }#T_4dd1c752_30ca_11eb_b0b6_c49ded1d5ddfrow2_col13,#T_4dd1c752_30ca_11eb_b0b6_c49ded1d5ddfrow7_col13,#T_4dd1c752_30ca_11eb_b0b6_c49ded1d5ddfrow8_col16,#T_4dd1c752_30ca_11eb_b0b6_c49ded1d5ddfrow10_col13{\n",
       "            background-color:  #96b7ff;\n",
       "            color:  #000000;\n",
       "        }#T_4dd1c752_30ca_11eb_b0b6_c49ded1d5ddfrow2_col14,#T_4dd1c752_30ca_11eb_b0b6_c49ded1d5ddfrow13_col15,#T_4dd1c752_30ca_11eb_b0b6_c49ded1d5ddfrow17_col12{\n",
       "            background-color:  #bad0f8;\n",
       "            color:  #000000;\n",
       "        }#T_4dd1c752_30ca_11eb_b0b6_c49ded1d5ddfrow2_col15,#T_4dd1c752_30ca_11eb_b0b6_c49ded1d5ddfrow5_col0,#T_4dd1c752_30ca_11eb_b0b6_c49ded1d5ddfrow6_col0,#T_4dd1c752_30ca_11eb_b0b6_c49ded1d5ddfrow14_col18,#T_4dd1c752_30ca_11eb_b0b6_c49ded1d5ddfrow16_col1{\n",
       "            background-color:  #b6cefa;\n",
       "            color:  #000000;\n",
       "        }#T_4dd1c752_30ca_11eb_b0b6_c49ded1d5ddfrow2_col16{\n",
       "            background-color:  #f7af91;\n",
       "            color:  #000000;\n",
       "        }#T_4dd1c752_30ca_11eb_b0b6_c49ded1d5ddfrow2_col17{\n",
       "            background-color:  #f7b79b;\n",
       "            color:  #000000;\n",
       "        }#T_4dd1c752_30ca_11eb_b0b6_c49ded1d5ddfrow2_col18{\n",
       "            background-color:  #f0cdbb;\n",
       "            color:  #000000;\n",
       "        }#T_4dd1c752_30ca_11eb_b0b6_c49ded1d5ddfrow3_col0,#T_4dd1c752_30ca_11eb_b0b6_c49ded1d5ddfrow4_col3,#T_4dd1c752_30ca_11eb_b0b6_c49ded1d5ddfrow18_col8{\n",
       "            background-color:  #82a6fb;\n",
       "            color:  #000000;\n",
       "        }#T_4dd1c752_30ca_11eb_b0b6_c49ded1d5ddfrow3_col7,#T_4dd1c752_30ca_11eb_b0b6_c49ded1d5ddfrow4_col9,#T_4dd1c752_30ca_11eb_b0b6_c49ded1d5ddfrow5_col9,#T_4dd1c752_30ca_11eb_b0b6_c49ded1d5ddfrow6_col9,#T_4dd1c752_30ca_11eb_b0b6_c49ded1d5ddfrow7_col9,#T_4dd1c752_30ca_11eb_b0b6_c49ded1d5ddfrow8_col9,#T_4dd1c752_30ca_11eb_b0b6_c49ded1d5ddfrow10_col9,#T_4dd1c752_30ca_11eb_b0b6_c49ded1d5ddfrow15_col5,#T_4dd1c752_30ca_11eb_b0b6_c49ded1d5ddfrow15_col6,#T_4dd1c752_30ca_11eb_b0b6_c49ded1d5ddfrow17_col10{\n",
       "            background-color:  #6e90f2;\n",
       "            color:  #000000;\n",
       "        }#T_4dd1c752_30ca_11eb_b0b6_c49ded1d5ddfrow3_col9,#T_4dd1c752_30ca_11eb_b0b6_c49ded1d5ddfrow7_col14,#T_4dd1c752_30ca_11eb_b0b6_c49ded1d5ddfrow9_col0{\n",
       "            background-color:  #88abfd;\n",
       "            color:  #000000;\n",
       "        }#T_4dd1c752_30ca_11eb_b0b6_c49ded1d5ddfrow3_col11,#T_4dd1c752_30ca_11eb_b0b6_c49ded1d5ddfrow9_col16{\n",
       "            background-color:  #94b6ff;\n",
       "            color:  #000000;\n",
       "        }#T_4dd1c752_30ca_11eb_b0b6_c49ded1d5ddfrow3_col12,#T_4dd1c752_30ca_11eb_b0b6_c49ded1d5ddfrow15_col13{\n",
       "            background-color:  #8fb1fe;\n",
       "            color:  #000000;\n",
       "        }#T_4dd1c752_30ca_11eb_b0b6_c49ded1d5ddfrow3_col15{\n",
       "            background-color:  #c5d6f2;\n",
       "            color:  #000000;\n",
       "        }#T_4dd1c752_30ca_11eb_b0b6_c49ded1d5ddfrow3_col16,#T_4dd1c752_30ca_11eb_b0b6_c49ded1d5ddfrow12_col5,#T_4dd1c752_30ca_11eb_b0b6_c49ded1d5ddfrow14_col4{\n",
       "            background-color:  #6687ed;\n",
       "            color:  #000000;\n",
       "        }#T_4dd1c752_30ca_11eb_b0b6_c49ded1d5ddfrow3_col17{\n",
       "            background-color:  #5b7ae5;\n",
       "            color:  #000000;\n",
       "        }#T_4dd1c752_30ca_11eb_b0b6_c49ded1d5ddfrow3_col18,#T_4dd1c752_30ca_11eb_b0b6_c49ded1d5ddfrow7_col11,#T_4dd1c752_30ca_11eb_b0b6_c49ded1d5ddfrow9_col18{\n",
       "            background-color:  #a1c0ff;\n",
       "            color:  #000000;\n",
       "        }#T_4dd1c752_30ca_11eb_b0b6_c49ded1d5ddfrow4_col1{\n",
       "            background-color:  #c0d4f5;\n",
       "            color:  #000000;\n",
       "        }#T_4dd1c752_30ca_11eb_b0b6_c49ded1d5ddfrow4_col2,#T_4dd1c752_30ca_11eb_b0b6_c49ded1d5ddfrow5_col2{\n",
       "            background-color:  #465ecf;\n",
       "            color:  #f1f1f1;\n",
       "        }#T_4dd1c752_30ca_11eb_b0b6_c49ded1d5ddfrow4_col12,#T_4dd1c752_30ca_11eb_b0b6_c49ded1d5ddfrow17_col13{\n",
       "            background-color:  #9abbff;\n",
       "            color:  #000000;\n",
       "        }#T_4dd1c752_30ca_11eb_b0b6_c49ded1d5ddfrow4_col13,#T_4dd1c752_30ca_11eb_b0b6_c49ded1d5ddfrow9_col14,#T_4dd1c752_30ca_11eb_b0b6_c49ded1d5ddfrow10_col3{\n",
       "            background-color:  #8caffe;\n",
       "            color:  #000000;\n",
       "        }#T_4dd1c752_30ca_11eb_b0b6_c49ded1d5ddfrow4_col15,#T_4dd1c752_30ca_11eb_b0b6_c49ded1d5ddfrow14_col1{\n",
       "            background-color:  #bcd2f7;\n",
       "            color:  #000000;\n",
       "        }#T_4dd1c752_30ca_11eb_b0b6_c49ded1d5ddfrow4_col18,#T_4dd1c752_30ca_11eb_b0b6_c49ded1d5ddfrow9_col15{\n",
       "            background-color:  #b9d0f9;\n",
       "            color:  #000000;\n",
       "        }#T_4dd1c752_30ca_11eb_b0b6_c49ded1d5ddfrow5_col1{\n",
       "            background-color:  #cfdaea;\n",
       "            color:  #000000;\n",
       "        }#T_4dd1c752_30ca_11eb_b0b6_c49ded1d5ddfrow5_col3,#T_4dd1c752_30ca_11eb_b0b6_c49ded1d5ddfrow6_col3,#T_4dd1c752_30ca_11eb_b0b6_c49ded1d5ddfrow11_col6,#T_4dd1c752_30ca_11eb_b0b6_c49ded1d5ddfrow11_col7,#T_4dd1c752_30ca_11eb_b0b6_c49ded1d5ddfrow12_col6,#T_4dd1c752_30ca_11eb_b0b6_c49ded1d5ddfrow12_col7,#T_4dd1c752_30ca_11eb_b0b6_c49ded1d5ddfrow13_col4,#T_4dd1c752_30ca_11eb_b0b6_c49ded1d5ddfrow14_col3,#T_4dd1c752_30ca_11eb_b0b6_c49ded1d5ddfrow14_col6,#T_4dd1c752_30ca_11eb_b0b6_c49ded1d5ddfrow15_col7,#T_4dd1c752_30ca_11eb_b0b6_c49ded1d5ddfrow15_col17,#T_4dd1c752_30ca_11eb_b0b6_c49ded1d5ddfrow18_col4{\n",
       "            background-color:  #6a8bef;\n",
       "            color:  #000000;\n",
       "        }#T_4dd1c752_30ca_11eb_b0b6_c49ded1d5ddfrow5_col4,#T_4dd1c752_30ca_11eb_b0b6_c49ded1d5ddfrow6_col4,#T_4dd1c752_30ca_11eb_b0b6_c49ded1d5ddfrow7_col4,#T_4dd1c752_30ca_11eb_b0b6_c49ded1d5ddfrow8_col4,#T_4dd1c752_30ca_11eb_b0b6_c49ded1d5ddfrow9_col1,#T_4dd1c752_30ca_11eb_b0b6_c49ded1d5ddfrow9_col4,#T_4dd1c752_30ca_11eb_b0b6_c49ded1d5ddfrow10_col4{\n",
       "            background-color:  #4358cb;\n",
       "            color:  #f1f1f1;\n",
       "        }#T_4dd1c752_30ca_11eb_b0b6_c49ded1d5ddfrow5_col12,#T_4dd1c752_30ca_11eb_b0b6_c49ded1d5ddfrow13_col16,#T_4dd1c752_30ca_11eb_b0b6_c49ded1d5ddfrow14_col10{\n",
       "            background-color:  #9bbcff;\n",
       "            color:  #000000;\n",
       "        }#T_4dd1c752_30ca_11eb_b0b6_c49ded1d5ddfrow5_col13{\n",
       "            background-color:  #8badfd;\n",
       "            color:  #000000;\n",
       "        }#T_4dd1c752_30ca_11eb_b0b6_c49ded1d5ddfrow5_col14,#T_4dd1c752_30ca_11eb_b0b6_c49ded1d5ddfrow5_col17,#T_4dd1c752_30ca_11eb_b0b6_c49ded1d5ddfrow15_col3{\n",
       "            background-color:  #85a8fc;\n",
       "            color:  #000000;\n",
       "        }#T_4dd1c752_30ca_11eb_b0b6_c49ded1d5ddfrow5_col16,#T_4dd1c752_30ca_11eb_b0b6_c49ded1d5ddfrow6_col13,#T_4dd1c752_30ca_11eb_b0b6_c49ded1d5ddfrow8_col13,#T_4dd1c752_30ca_11eb_b0b6_c49ded1d5ddfrow11_col17,#T_4dd1c752_30ca_11eb_b0b6_c49ded1d5ddfrow18_col6{\n",
       "            background-color:  #92b4fe;\n",
       "            color:  #000000;\n",
       "        }#T_4dd1c752_30ca_11eb_b0b6_c49ded1d5ddfrow5_col18{\n",
       "            background-color:  #dddcdc;\n",
       "            color:  #000000;\n",
       "        }#T_4dd1c752_30ca_11eb_b0b6_c49ded1d5ddfrow6_col1{\n",
       "            background-color:  #d2dbe8;\n",
       "            color:  #000000;\n",
       "        }#T_4dd1c752_30ca_11eb_b0b6_c49ded1d5ddfrow6_col2,#T_4dd1c752_30ca_11eb_b0b6_c49ded1d5ddfrow7_col2,#T_4dd1c752_30ca_11eb_b0b6_c49ded1d5ddfrow8_col2,#T_4dd1c752_30ca_11eb_b0b6_c49ded1d5ddfrow9_col2,#T_4dd1c752_30ca_11eb_b0b6_c49ded1d5ddfrow10_col2{\n",
       "            background-color:  #455cce;\n",
       "            color:  #f1f1f1;\n",
       "        }#T_4dd1c752_30ca_11eb_b0b6_c49ded1d5ddfrow6_col11,#T_4dd1c752_30ca_11eb_b0b6_c49ded1d5ddfrow13_col10{\n",
       "            background-color:  #a2c1ff;\n",
       "            color:  #000000;\n",
       "        }#T_4dd1c752_30ca_11eb_b0b6_c49ded1d5ddfrow6_col14,#T_4dd1c752_30ca_11eb_b0b6_c49ded1d5ddfrow6_col17,#T_4dd1c752_30ca_11eb_b0b6_c49ded1d5ddfrow14_col2{\n",
       "            background-color:  #86a9fc;\n",
       "            color:  #000000;\n",
       "        }#T_4dd1c752_30ca_11eb_b0b6_c49ded1d5ddfrow6_col16,#T_4dd1c752_30ca_11eb_b0b6_c49ded1d5ddfrow7_col16,#T_4dd1c752_30ca_11eb_b0b6_c49ded1d5ddfrow11_col9{\n",
       "            background-color:  #97b8ff;\n",
       "            color:  #000000;\n",
       "        }#T_4dd1c752_30ca_11eb_b0b6_c49ded1d5ddfrow6_col18{\n",
       "            background-color:  #d6dce4;\n",
       "            color:  #000000;\n",
       "        }#T_4dd1c752_30ca_11eb_b0b6_c49ded1d5ddfrow7_col0,#T_4dd1c752_30ca_11eb_b0b6_c49ded1d5ddfrow15_col14{\n",
       "            background-color:  #b5cdfa;\n",
       "            color:  #000000;\n",
       "        }#T_4dd1c752_30ca_11eb_b0b6_c49ded1d5ddfrow7_col1{\n",
       "            background-color:  #cedaeb;\n",
       "            color:  #000000;\n",
       "        }#T_4dd1c752_30ca_11eb_b0b6_c49ded1d5ddfrow7_col15{\n",
       "            background-color:  #bfd3f6;\n",
       "            color:  #000000;\n",
       "        }#T_4dd1c752_30ca_11eb_b0b6_c49ded1d5ddfrow7_col17{\n",
       "            background-color:  #84a7fc;\n",
       "            color:  #000000;\n",
       "        }#T_4dd1c752_30ca_11eb_b0b6_c49ded1d5ddfrow7_col18{\n",
       "            background-color:  #cad8ef;\n",
       "            color:  #000000;\n",
       "        }#T_4dd1c752_30ca_11eb_b0b6_c49ded1d5ddfrow8_col0{\n",
       "            background-color:  #b3cdfb;\n",
       "            color:  #000000;\n",
       "        }#T_4dd1c752_30ca_11eb_b0b6_c49ded1d5ddfrow8_col1{\n",
       "            background-color:  #abc8fd;\n",
       "            color:  #000000;\n",
       "        }#T_4dd1c752_30ca_11eb_b0b6_c49ded1d5ddfrow8_col3,#T_4dd1c752_30ca_11eb_b0b6_c49ded1d5ddfrow8_col14,#T_4dd1c752_30ca_11eb_b0b6_c49ded1d5ddfrow10_col14,#T_4dd1c752_30ca_11eb_b0b6_c49ded1d5ddfrow16_col15{\n",
       "            background-color:  #80a3fa;\n",
       "            color:  #000000;\n",
       "        }#T_4dd1c752_30ca_11eb_b0b6_c49ded1d5ddfrow8_col12,#T_4dd1c752_30ca_11eb_b0b6_c49ded1d5ddfrow9_col11,#T_4dd1c752_30ca_11eb_b0b6_c49ded1d5ddfrow10_col11,#T_4dd1c752_30ca_11eb_b0b6_c49ded1d5ddfrow11_col15,#T_4dd1c752_30ca_11eb_b0b6_c49ded1d5ddfrow15_col10,#T_4dd1c752_30ca_11eb_b0b6_c49ded1d5ddfrow18_col5{\n",
       "            background-color:  #9ebeff;\n",
       "            color:  #000000;\n",
       "        }#T_4dd1c752_30ca_11eb_b0b6_c49ded1d5ddfrow8_col15,#T_4dd1c752_30ca_11eb_b0b6_c49ded1d5ddfrow11_col0,#T_4dd1c752_30ca_11eb_b0b6_c49ded1d5ddfrow14_col16,#T_4dd1c752_30ca_11eb_b0b6_c49ded1d5ddfrow16_col11,#T_4dd1c752_30ca_11eb_b0b6_c49ded1d5ddfrow16_col14,#T_4dd1c752_30ca_11eb_b0b6_c49ded1d5ddfrow17_col15{\n",
       "            background-color:  #b7cff9;\n",
       "            color:  #000000;\n",
       "        }#T_4dd1c752_30ca_11eb_b0b6_c49ded1d5ddfrow8_col17,#T_4dd1c752_30ca_11eb_b0b6_c49ded1d5ddfrow16_col10{\n",
       "            background-color:  #81a4fb;\n",
       "            color:  #000000;\n",
       "        }#T_4dd1c752_30ca_11eb_b0b6_c49ded1d5ddfrow9_col3{\n",
       "            background-color:  #6485ec;\n",
       "            color:  #000000;\n",
       "        }#T_4dd1c752_30ca_11eb_b0b6_c49ded1d5ddfrow9_col17{\n",
       "            background-color:  #4e68d8;\n",
       "            color:  #000000;\n",
       "        }#T_4dd1c752_30ca_11eb_b0b6_c49ded1d5ddfrow10_col15,#T_4dd1c752_30ca_11eb_b0b6_c49ded1d5ddfrow17_col11{\n",
       "            background-color:  #bbd1f8;\n",
       "            color:  #000000;\n",
       "        }#T_4dd1c752_30ca_11eb_b0b6_c49ded1d5ddfrow10_col16,#T_4dd1c752_30ca_11eb_b0b6_c49ded1d5ddfrow17_col3{\n",
       "            background-color:  #6282ea;\n",
       "            color:  #000000;\n",
       "        }#T_4dd1c752_30ca_11eb_b0b6_c49ded1d5ddfrow11_col2{\n",
       "            background-color:  #5875e1;\n",
       "            color:  #000000;\n",
       "        }#T_4dd1c752_30ca_11eb_b0b6_c49ded1d5ddfrow11_col3{\n",
       "            background-color:  #6b8df0;\n",
       "            color:  #000000;\n",
       "        }#T_4dd1c752_30ca_11eb_b0b6_c49ded1d5ddfrow11_col12,#T_4dd1c752_30ca_11eb_b0b6_c49ded1d5ddfrow12_col11{\n",
       "            background-color:  #b70d28;\n",
       "            color:  #f1f1f1;\n",
       "        }#T_4dd1c752_30ca_11eb_b0b6_c49ded1d5ddfrow11_col18{\n",
       "            background-color:  #e7d7ce;\n",
       "            color:  #000000;\n",
       "        }#T_4dd1c752_30ca_11eb_b0b6_c49ded1d5ddfrow12_col0{\n",
       "            background-color:  #c7d7f0;\n",
       "            color:  #000000;\n",
       "        }#T_4dd1c752_30ca_11eb_b0b6_c49ded1d5ddfrow12_col1,#T_4dd1c752_30ca_11eb_b0b6_c49ded1d5ddfrow12_col14{\n",
       "            background-color:  #3d50c3;\n",
       "            color:  #f1f1f1;\n",
       "        }#T_4dd1c752_30ca_11eb_b0b6_c49ded1d5ddfrow12_col13{\n",
       "            background-color:  #485fd1;\n",
       "            color:  #f1f1f1;\n",
       "        }#T_4dd1c752_30ca_11eb_b0b6_c49ded1d5ddfrow12_col17,#T_4dd1c752_30ca_11eb_b0b6_c49ded1d5ddfrow15_col9{\n",
       "            background-color:  #93b5fe;\n",
       "            color:  #000000;\n",
       "        }#T_4dd1c752_30ca_11eb_b0b6_c49ded1d5ddfrow12_col18{\n",
       "            background-color:  #f3c8b2;\n",
       "            color:  #000000;\n",
       "        }#T_4dd1c752_30ca_11eb_b0b6_c49ded1d5ddfrow13_col1{\n",
       "            background-color:  #d5dbe5;\n",
       "            color:  #000000;\n",
       "        }#T_4dd1c752_30ca_11eb_b0b6_c49ded1d5ddfrow13_col2{\n",
       "            background-color:  #4a63d3;\n",
       "            color:  #f1f1f1;\n",
       "        }#T_4dd1c752_30ca_11eb_b0b6_c49ded1d5ddfrow13_col3{\n",
       "            background-color:  #5d7ce6;\n",
       "            color:  #000000;\n",
       "        }#T_4dd1c752_30ca_11eb_b0b6_c49ded1d5ddfrow13_col5,#T_4dd1c752_30ca_11eb_b0b6_c49ded1d5ddfrow15_col8{\n",
       "            background-color:  #5f7fe8;\n",
       "            color:  #000000;\n",
       "        }#T_4dd1c752_30ca_11eb_b0b6_c49ded1d5ddfrow13_col11{\n",
       "            background-color:  #4961d2;\n",
       "            color:  #f1f1f1;\n",
       "        }#T_4dd1c752_30ca_11eb_b0b6_c49ded1d5ddfrow13_col12,#T_4dd1c752_30ca_11eb_b0b6_c49ded1d5ddfrow15_col12{\n",
       "            background-color:  #5470de;\n",
       "            color:  #000000;\n",
       "        }#T_4dd1c752_30ca_11eb_b0b6_c49ded1d5ddfrow13_col14{\n",
       "            background-color:  #f49a7b;\n",
       "            color:  #000000;\n",
       "        }#T_4dd1c752_30ca_11eb_b0b6_c49ded1d5ddfrow14_col8{\n",
       "            background-color:  #6384eb;\n",
       "            color:  #000000;\n",
       "        }#T_4dd1c752_30ca_11eb_b0b6_c49ded1d5ddfrow14_col12,#T_4dd1c752_30ca_11eb_b0b6_c49ded1d5ddfrow16_col3{\n",
       "            background-color:  #5a78e4;\n",
       "            color:  #000000;\n",
       "        }#T_4dd1c752_30ca_11eb_b0b6_c49ded1d5ddfrow14_col13{\n",
       "            background-color:  #f39577;\n",
       "            color:  #000000;\n",
       "        }#T_4dd1c752_30ca_11eb_b0b6_c49ded1d5ddfrow14_col15{\n",
       "            background-color:  #dcdddd;\n",
       "            color:  #000000;\n",
       "        }#T_4dd1c752_30ca_11eb_b0b6_c49ded1d5ddfrow15_col1{\n",
       "            background-color:  #aec9fc;\n",
       "            color:  #000000;\n",
       "        }#T_4dd1c752_30ca_11eb_b0b6_c49ded1d5ddfrow15_col2{\n",
       "            background-color:  #3c4ec2;\n",
       "            color:  #f1f1f1;\n",
       "        }#T_4dd1c752_30ca_11eb_b0b6_c49ded1d5ddfrow16_col0{\n",
       "            background-color:  #e46e56;\n",
       "            color:  #000000;\n",
       "        }#T_4dd1c752_30ca_11eb_b0b6_c49ded1d5ddfrow16_col13{\n",
       "            background-color:  #a9c6fd;\n",
       "            color:  #000000;\n",
       "        }#T_4dd1c752_30ca_11eb_b0b6_c49ded1d5ddfrow16_col17,#T_4dd1c752_30ca_11eb_b0b6_c49ded1d5ddfrow18_col17{\n",
       "            background-color:  #f6bfa6;\n",
       "            color:  #000000;\n",
       "        }#T_4dd1c752_30ca_11eb_b0b6_c49ded1d5ddfrow16_col18{\n",
       "            background-color:  #d24b40;\n",
       "            color:  #f1f1f1;\n",
       "        }#T_4dd1c752_30ca_11eb_b0b6_c49ded1d5ddfrow17_col0{\n",
       "            background-color:  #f59f80;\n",
       "            color:  #000000;\n",
       "        }#T_4dd1c752_30ca_11eb_b0b6_c49ded1d5ddfrow17_col1{\n",
       "            background-color:  #cbd8ee;\n",
       "            color:  #000000;\n",
       "        }#T_4dd1c752_30ca_11eb_b0b6_c49ded1d5ddfrow17_col2{\n",
       "            background-color:  #f4c6af;\n",
       "            color:  #000000;\n",
       "        }#T_4dd1c752_30ca_11eb_b0b6_c49ded1d5ddfrow17_col14,#T_4dd1c752_30ca_11eb_b0b6_c49ded1d5ddfrow18_col2{\n",
       "            background-color:  #afcafc;\n",
       "            color:  #000000;\n",
       "        }#T_4dd1c752_30ca_11eb_b0b6_c49ded1d5ddfrow17_col16{\n",
       "            background-color:  #f7b89c;\n",
       "            color:  #000000;\n",
       "        }#T_4dd1c752_30ca_11eb_b0b6_c49ded1d5ddfrow17_col18{\n",
       "            background-color:  #f59d7e;\n",
       "            color:  #000000;\n",
       "        }#T_4dd1c752_30ca_11eb_b0b6_c49ded1d5ddfrow18_col0{\n",
       "            background-color:  #dc5d4a;\n",
       "            color:  #000000;\n",
       "        }#T_4dd1c752_30ca_11eb_b0b6_c49ded1d5ddfrow18_col1{\n",
       "            background-color:  #e3d9d3;\n",
       "            color:  #000000;\n",
       "        }#T_4dd1c752_30ca_11eb_b0b6_c49ded1d5ddfrow18_col3{\n",
       "            background-color:  #516ddb;\n",
       "            color:  #000000;\n",
       "        }#T_4dd1c752_30ca_11eb_b0b6_c49ded1d5ddfrow18_col11{\n",
       "            background-color:  #d7dce3;\n",
       "            color:  #000000;\n",
       "        }#T_4dd1c752_30ca_11eb_b0b6_c49ded1d5ddfrow18_col12{\n",
       "            background-color:  #ead5c9;\n",
       "            color:  #000000;\n",
       "        }#T_4dd1c752_30ca_11eb_b0b6_c49ded1d5ddfrow18_col13{\n",
       "            background-color:  #a3c2fe;\n",
       "            color:  #000000;\n",
       "        }#T_4dd1c752_30ca_11eb_b0b6_c49ded1d5ddfrow18_col16{\n",
       "            background-color:  #d95847;\n",
       "            color:  #000000;\n",
       "        }</style><table id=\"T_4dd1c752_30ca_11eb_b0b6_c49ded1d5ddf\" ><thead>    <tr>        <th class=\"blank level0\" ></th>        <th class=\"col_heading level0 col0\" >price</th>        <th class=\"col_heading level0 col1\" >load</th>        <th class=\"col_heading level0 col2\" >coal_price</th>        <th class=\"col_heading level0 col3\" >holiday_bool</th>        <th class=\"col_heading level0 col4\" >mon</th>        <th class=\"col_heading level0 col5\" >tue</th>        <th class=\"col_heading level0 col6\" >wed</th>        <th class=\"col_heading level0 col7\" >thur</th>        <th class=\"col_heading level0 col8\" >fri</th>        <th class=\"col_heading level0 col9\" >sat</th>        <th class=\"col_heading level0 col10\" >sun</th>        <th class=\"col_heading level0 col11\" >temp</th>        <th class=\"col_heading level0 col12\" >feels_like</th>        <th class=\"col_heading level0 col13\" >humidity</th>        <th class=\"col_heading level0 col14\" >clouds_all</th>        <th class=\"col_heading level0 col15\" >wind_speed</th>        <th class=\"col_heading level0 col16\" >price_t_1</th>        <th class=\"col_heading level0 col17\" >price_t_7</th>        <th class=\"col_heading level0 col18\" >pred_price</th>    </tr></thead><tbody>\n",
       "                <tr>\n",
       "                        <th id=\"T_4dd1c752_30ca_11eb_b0b6_c49ded1d5ddflevel0_row0\" class=\"row_heading level0 row0\" >price</th>\n",
       "                        <td id=\"T_4dd1c752_30ca_11eb_b0b6_c49ded1d5ddfrow0_col0\" class=\"data row0 col0\" >1.000000</td>\n",
       "                        <td id=\"T_4dd1c752_30ca_11eb_b0b6_c49ded1d5ddfrow0_col1\" class=\"data row0 col1\" >0.218302</td>\n",
       "                        <td id=\"T_4dd1c752_30ca_11eb_b0b6_c49ded1d5ddfrow0_col2\" class=\"data row0 col2\" >0.607520</td>\n",
       "                        <td id=\"T_4dd1c752_30ca_11eb_b0b6_c49ded1d5ddfrow0_col3\" class=\"data row0 col3\" >-0.147637</td>\n",
       "                        <td id=\"T_4dd1c752_30ca_11eb_b0b6_c49ded1d5ddfrow0_col4\" class=\"data row0 col4\" >0.048783</td>\n",
       "                        <td id=\"T_4dd1c752_30ca_11eb_b0b6_c49ded1d5ddfrow0_col5\" class=\"data row0 col5\" >0.071923</td>\n",
       "                        <td id=\"T_4dd1c752_30ca_11eb_b0b6_c49ded1d5ddfrow0_col6\" class=\"data row0 col6\" >0.072566</td>\n",
       "                        <td id=\"T_4dd1c752_30ca_11eb_b0b6_c49ded1d5ddfrow0_col7\" class=\"data row0 col7\" >0.067684</td>\n",
       "                        <td id=\"T_4dd1c752_30ca_11eb_b0b6_c49ded1d5ddfrow0_col8\" class=\"data row0 col8\" >0.061930</td>\n",
       "                        <td id=\"T_4dd1c752_30ca_11eb_b0b6_c49ded1d5ddfrow0_col9\" class=\"data row0 col9\" >-0.122812</td>\n",
       "                        <td id=\"T_4dd1c752_30ca_11eb_b0b6_c49ded1d5ddfrow0_col10\" class=\"data row0 col10\" >-0.199957</td>\n",
       "                        <td id=\"T_4dd1c752_30ca_11eb_b0b6_c49ded1d5ddfrow0_col11\" class=\"data row0 col11\" >0.076624</td>\n",
       "                        <td id=\"T_4dd1c752_30ca_11eb_b0b6_c49ded1d5ddfrow0_col12\" class=\"data row0 col12\" >0.152971</td>\n",
       "                        <td id=\"T_4dd1c752_30ca_11eb_b0b6_c49ded1d5ddfrow0_col13\" class=\"data row0 col13\" >0.049673</td>\n",
       "                        <td id=\"T_4dd1c752_30ca_11eb_b0b6_c49ded1d5ddfrow0_col14\" class=\"data row0 col14\" >0.123872</td>\n",
       "                        <td id=\"T_4dd1c752_30ca_11eb_b0b6_c49ded1d5ddfrow0_col15\" class=\"data row0 col15\" >-0.470013</td>\n",
       "                        <td id=\"T_4dd1c752_30ca_11eb_b0b6_c49ded1d5ddfrow0_col16\" class=\"data row0 col16\" >0.773211</td>\n",
       "                        <td id=\"T_4dd1c752_30ca_11eb_b0b6_c49ded1d5ddfrow0_col17\" class=\"data row0 col17\" >0.613691</td>\n",
       "                        <td id=\"T_4dd1c752_30ca_11eb_b0b6_c49ded1d5ddfrow0_col18\" class=\"data row0 col18\" >0.825428</td>\n",
       "            </tr>\n",
       "            <tr>\n",
       "                        <th id=\"T_4dd1c752_30ca_11eb_b0b6_c49ded1d5ddflevel0_row1\" class=\"row_heading level0 row1\" >load</th>\n",
       "                        <td id=\"T_4dd1c752_30ca_11eb_b0b6_c49ded1d5ddfrow1_col0\" class=\"data row1 col0\" >0.218302</td>\n",
       "                        <td id=\"T_4dd1c752_30ca_11eb_b0b6_c49ded1d5ddfrow1_col1\" class=\"data row1 col1\" >1.000000</td>\n",
       "                        <td id=\"T_4dd1c752_30ca_11eb_b0b6_c49ded1d5ddfrow1_col2\" class=\"data row1 col2\" >0.035383</td>\n",
       "                        <td id=\"T_4dd1c752_30ca_11eb_b0b6_c49ded1d5ddfrow1_col3\" class=\"data row1 col3\" >-0.233062</td>\n",
       "                        <td id=\"T_4dd1c752_30ca_11eb_b0b6_c49ded1d5ddfrow1_col4\" class=\"data row1 col4\" >0.139348</td>\n",
       "                        <td id=\"T_4dd1c752_30ca_11eb_b0b6_c49ded1d5ddfrow1_col5\" class=\"data row1 col5\" >0.212039</td>\n",
       "                        <td id=\"T_4dd1c752_30ca_11eb_b0b6_c49ded1d5ddfrow1_col6\" class=\"data row1 col6\" >0.222700</td>\n",
       "                        <td id=\"T_4dd1c752_30ca_11eb_b0b6_c49ded1d5ddfrow1_col7\" class=\"data row1 col7\" >0.206638</td>\n",
       "                        <td id=\"T_4dd1c752_30ca_11eb_b0b6_c49ded1d5ddfrow1_col8\" class=\"data row1 col8\" >0.048598</td>\n",
       "                        <td id=\"T_4dd1c752_30ca_11eb_b0b6_c49ded1d5ddfrow1_col9\" class=\"data row1 col9\" >-0.393445</td>\n",
       "                        <td id=\"T_4dd1c752_30ca_11eb_b0b6_c49ded1d5ddfrow1_col10\" class=\"data row1 col10\" >-0.435537</td>\n",
       "                        <td id=\"T_4dd1c752_30ca_11eb_b0b6_c49ded1d5ddfrow1_col11\" class=\"data row1 col11\" >-0.432190</td>\n",
       "                        <td id=\"T_4dd1c752_30ca_11eb_b0b6_c49ded1d5ddfrow1_col12\" class=\"data row1 col12\" >-0.419994</td>\n",
       "                        <td id=\"T_4dd1c752_30ca_11eb_b0b6_c49ded1d5ddfrow1_col13\" class=\"data row1 col13\" >0.241147</td>\n",
       "                        <td id=\"T_4dd1c752_30ca_11eb_b0b6_c49ded1d5ddfrow1_col14\" class=\"data row1 col14\" >0.123846</td>\n",
       "                        <td id=\"T_4dd1c752_30ca_11eb_b0b6_c49ded1d5ddfrow1_col15\" class=\"data row1 col15\" >0.062013</td>\n",
       "                        <td id=\"T_4dd1c752_30ca_11eb_b0b6_c49ded1d5ddfrow1_col16\" class=\"data row1 col16\" >0.094290</td>\n",
       "                        <td id=\"T_4dd1c752_30ca_11eb_b0b6_c49ded1d5ddfrow1_col17\" class=\"data row1 col17\" >0.190856</td>\n",
       "                        <td id=\"T_4dd1c752_30ca_11eb_b0b6_c49ded1d5ddfrow1_col18\" class=\"data row1 col18\" >0.316128</td>\n",
       "            </tr>\n",
       "            <tr>\n",
       "                        <th id=\"T_4dd1c752_30ca_11eb_b0b6_c49ded1d5ddflevel0_row2\" class=\"row_heading level0 row2\" >coal_price</th>\n",
       "                        <td id=\"T_4dd1c752_30ca_11eb_b0b6_c49ded1d5ddfrow2_col0\" class=\"data row2 col0\" >0.607520</td>\n",
       "                        <td id=\"T_4dd1c752_30ca_11eb_b0b6_c49ded1d5ddfrow2_col1\" class=\"data row2 col1\" >0.035383</td>\n",
       "                        <td id=\"T_4dd1c752_30ca_11eb_b0b6_c49ded1d5ddfrow2_col2\" class=\"data row2 col2\" >1.000000</td>\n",
       "                        <td id=\"T_4dd1c752_30ca_11eb_b0b6_c49ded1d5ddfrow2_col3\" class=\"data row2 col3\" >-0.040381</td>\n",
       "                        <td id=\"T_4dd1c752_30ca_11eb_b0b6_c49ded1d5ddfrow2_col4\" class=\"data row2 col4\" >0.001564</td>\n",
       "                        <td id=\"T_4dd1c752_30ca_11eb_b0b6_c49ded1d5ddfrow2_col5\" class=\"data row2 col5\" >0.002648</td>\n",
       "                        <td id=\"T_4dd1c752_30ca_11eb_b0b6_c49ded1d5ddfrow2_col6\" class=\"data row2 col6\" >-0.001147</td>\n",
       "                        <td id=\"T_4dd1c752_30ca_11eb_b0b6_c49ded1d5ddfrow2_col7\" class=\"data row2 col7\" >-0.000522</td>\n",
       "                        <td id=\"T_4dd1c752_30ca_11eb_b0b6_c49ded1d5ddfrow2_col8\" class=\"data row2 col8\" >-0.000846</td>\n",
       "                        <td id=\"T_4dd1c752_30ca_11eb_b0b6_c49ded1d5ddfrow2_col9\" class=\"data row2 col9\" >-0.000846</td>\n",
       "                        <td id=\"T_4dd1c752_30ca_11eb_b0b6_c49ded1d5ddfrow2_col10\" class=\"data row2 col10\" >-0.000846</td>\n",
       "                        <td id=\"T_4dd1c752_30ca_11eb_b0b6_c49ded1d5ddfrow2_col11\" class=\"data row2 col11\" >0.058212</td>\n",
       "                        <td id=\"T_4dd1c752_30ca_11eb_b0b6_c49ded1d5ddfrow2_col12\" class=\"data row2 col12\" >0.062689</td>\n",
       "                        <td id=\"T_4dd1c752_30ca_11eb_b0b6_c49ded1d5ddfrow2_col13\" class=\"data row2 col13\" >0.014061</td>\n",
       "                        <td id=\"T_4dd1c752_30ca_11eb_b0b6_c49ded1d5ddfrow2_col14\" class=\"data row2 col14\" >0.200672</td>\n",
       "                        <td id=\"T_4dd1c752_30ca_11eb_b0b6_c49ded1d5ddfrow2_col15\" class=\"data row2 col15\" >-0.034388</td>\n",
       "                        <td id=\"T_4dd1c752_30ca_11eb_b0b6_c49ded1d5ddfrow2_col16\" class=\"data row2 col16\" >0.606757</td>\n",
       "                        <td id=\"T_4dd1c752_30ca_11eb_b0b6_c49ded1d5ddfrow2_col17\" class=\"data row2 col17\" >0.604548</td>\n",
       "                        <td id=\"T_4dd1c752_30ca_11eb_b0b6_c49ded1d5ddfrow2_col18\" class=\"data row2 col18\" >0.322780</td>\n",
       "            </tr>\n",
       "            <tr>\n",
       "                        <th id=\"T_4dd1c752_30ca_11eb_b0b6_c49ded1d5ddflevel0_row3\" class=\"row_heading level0 row3\" >holiday_bool</th>\n",
       "                        <td id=\"T_4dd1c752_30ca_11eb_b0b6_c49ded1d5ddfrow3_col0\" class=\"data row3 col0\" >-0.147637</td>\n",
       "                        <td id=\"T_4dd1c752_30ca_11eb_b0b6_c49ded1d5ddfrow3_col1\" class=\"data row3 col1\" >-0.233062</td>\n",
       "                        <td id=\"T_4dd1c752_30ca_11eb_b0b6_c49ded1d5ddfrow3_col2\" class=\"data row3 col2\" >-0.040381</td>\n",
       "                        <td id=\"T_4dd1c752_30ca_11eb_b0b6_c49ded1d5ddfrow3_col3\" class=\"data row3 col3\" >1.000000</td>\n",
       "                        <td id=\"T_4dd1c752_30ca_11eb_b0b6_c49ded1d5ddfrow3_col4\" class=\"data row3 col4\" >0.038906</td>\n",
       "                        <td id=\"T_4dd1c752_30ca_11eb_b0b6_c49ded1d5ddfrow3_col5\" class=\"data row3 col5\" >-0.048828</td>\n",
       "                        <td id=\"T_4dd1c752_30ca_11eb_b0b6_c49ded1d5ddfrow3_col6\" class=\"data row3 col6\" >-0.049040</td>\n",
       "                        <td id=\"T_4dd1c752_30ca_11eb_b0b6_c49ded1d5ddfrow3_col7\" class=\"data row3 col7\" >0.021317</td>\n",
       "                        <td id=\"T_4dd1c752_30ca_11eb_b0b6_c49ded1d5ddfrow3_col8\" class=\"data row3 col8\" >0.030111</td>\n",
       "                        <td id=\"T_4dd1c752_30ca_11eb_b0b6_c49ded1d5ddfrow3_col9\" class=\"data row3 col9\" >-0.066629</td>\n",
       "                        <td id=\"T_4dd1c752_30ca_11eb_b0b6_c49ded1d5ddfrow3_col10\" class=\"data row3 col10\" >0.074084</td>\n",
       "                        <td id=\"T_4dd1c752_30ca_11eb_b0b6_c49ded1d5ddfrow3_col11\" class=\"data row3 col11\" >-0.044039</td>\n",
       "                        <td id=\"T_4dd1c752_30ca_11eb_b0b6_c49ded1d5ddfrow3_col12\" class=\"data row3 col12\" >-0.058359</td>\n",
       "                        <td id=\"T_4dd1c752_30ca_11eb_b0b6_c49ded1d5ddfrow3_col13\" class=\"data row3 col13\" >-0.098003</td>\n",
       "                        <td id=\"T_4dd1c752_30ca_11eb_b0b6_c49ded1d5ddfrow3_col14\" class=\"data row3 col14\" >-0.048117</td>\n",
       "                        <td id=\"T_4dd1c752_30ca_11eb_b0b6_c49ded1d5ddfrow3_col15\" class=\"data row3 col15\" >0.046600</td>\n",
       "                        <td id=\"T_4dd1c752_30ca_11eb_b0b6_c49ded1d5ddfrow3_col16\" class=\"data row3 col16\" >-0.107392</td>\n",
       "                        <td id=\"T_4dd1c752_30ca_11eb_b0b6_c49ded1d5ddfrow3_col17\" class=\"data row3 col17\" >-0.074727</td>\n",
       "                        <td id=\"T_4dd1c752_30ca_11eb_b0b6_c49ded1d5ddfrow3_col18\" class=\"data row3 col18\" >-0.136980</td>\n",
       "            </tr>\n",
       "            <tr>\n",
       "                        <th id=\"T_4dd1c752_30ca_11eb_b0b6_c49ded1d5ddflevel0_row4\" class=\"row_heading level0 row4\" >mon</th>\n",
       "                        <td id=\"T_4dd1c752_30ca_11eb_b0b6_c49ded1d5ddfrow4_col0\" class=\"data row4 col0\" >0.048783</td>\n",
       "                        <td id=\"T_4dd1c752_30ca_11eb_b0b6_c49ded1d5ddfrow4_col1\" class=\"data row4 col1\" >0.139348</td>\n",
       "                        <td id=\"T_4dd1c752_30ca_11eb_b0b6_c49ded1d5ddfrow4_col2\" class=\"data row4 col2\" >0.001564</td>\n",
       "                        <td id=\"T_4dd1c752_30ca_11eb_b0b6_c49ded1d5ddfrow4_col3\" class=\"data row4 col3\" >0.038906</td>\n",
       "                        <td id=\"T_4dd1c752_30ca_11eb_b0b6_c49ded1d5ddfrow4_col4\" class=\"data row4 col4\" >1.000000</td>\n",
       "                        <td id=\"T_4dd1c752_30ca_11eb_b0b6_c49ded1d5ddfrow4_col5\" class=\"data row4 col5\" >-0.166399</td>\n",
       "                        <td id=\"T_4dd1c752_30ca_11eb_b0b6_c49ded1d5ddfrow4_col6\" class=\"data row4 col6\" >-0.166774</td>\n",
       "                        <td id=\"T_4dd1c752_30ca_11eb_b0b6_c49ded1d5ddfrow4_col7\" class=\"data row4 col7\" >-0.166774</td>\n",
       "                        <td id=\"T_4dd1c752_30ca_11eb_b0b6_c49ded1d5ddfrow4_col8\" class=\"data row4 col8\" >-0.166774</td>\n",
       "                        <td id=\"T_4dd1c752_30ca_11eb_b0b6_c49ded1d5ddfrow4_col9\" class=\"data row4 col9\" >-0.166774</td>\n",
       "                        <td id=\"T_4dd1c752_30ca_11eb_b0b6_c49ded1d5ddfrow4_col10\" class=\"data row4 col10\" >-0.166774</td>\n",
       "                        <td id=\"T_4dd1c752_30ca_11eb_b0b6_c49ded1d5ddfrow4_col11\" class=\"data row4 col11\" >-0.011524</td>\n",
       "                        <td id=\"T_4dd1c752_30ca_11eb_b0b6_c49ded1d5ddfrow4_col12\" class=\"data row4 col12\" >-0.012589</td>\n",
       "                        <td id=\"T_4dd1c752_30ca_11eb_b0b6_c49ded1d5ddfrow4_col13\" class=\"data row4 col13\" >-0.022037</td>\n",
       "                        <td id=\"T_4dd1c752_30ca_11eb_b0b6_c49ded1d5ddfrow4_col14\" class=\"data row4 col14\" >-0.033242</td>\n",
       "                        <td id=\"T_4dd1c752_30ca_11eb_b0b6_c49ded1d5ddfrow4_col15\" class=\"data row4 col15\" >-0.000251</td>\n",
       "                        <td id=\"T_4dd1c752_30ca_11eb_b0b6_c49ded1d5ddfrow4_col16\" class=\"data row4 col16\" >-0.200435</td>\n",
       "                        <td id=\"T_4dd1c752_30ca_11eb_b0b6_c49ded1d5ddfrow4_col17\" class=\"data row4 col17\" >0.048499</td>\n",
       "                        <td id=\"T_4dd1c752_30ca_11eb_b0b6_c49ded1d5ddfrow4_col18\" class=\"data row4 col18\" >-0.019098</td>\n",
       "            </tr>\n",
       "            <tr>\n",
       "                        <th id=\"T_4dd1c752_30ca_11eb_b0b6_c49ded1d5ddflevel0_row5\" class=\"row_heading level0 row5\" >tue</th>\n",
       "                        <td id=\"T_4dd1c752_30ca_11eb_b0b6_c49ded1d5ddfrow5_col0\" class=\"data row5 col0\" >0.071923</td>\n",
       "                        <td id=\"T_4dd1c752_30ca_11eb_b0b6_c49ded1d5ddfrow5_col1\" class=\"data row5 col1\" >0.212039</td>\n",
       "                        <td id=\"T_4dd1c752_30ca_11eb_b0b6_c49ded1d5ddfrow5_col2\" class=\"data row5 col2\" >0.002648</td>\n",
       "                        <td id=\"T_4dd1c752_30ca_11eb_b0b6_c49ded1d5ddfrow5_col3\" class=\"data row5 col3\" >-0.048828</td>\n",
       "                        <td id=\"T_4dd1c752_30ca_11eb_b0b6_c49ded1d5ddfrow5_col4\" class=\"data row5 col4\" >-0.166399</td>\n",
       "                        <td id=\"T_4dd1c752_30ca_11eb_b0b6_c49ded1d5ddfrow5_col5\" class=\"data row5 col5\" >1.000000</td>\n",
       "                        <td id=\"T_4dd1c752_30ca_11eb_b0b6_c49ded1d5ddfrow5_col6\" class=\"data row5 col6\" >-0.166399</td>\n",
       "                        <td id=\"T_4dd1c752_30ca_11eb_b0b6_c49ded1d5ddfrow5_col7\" class=\"data row5 col7\" >-0.166399</td>\n",
       "                        <td id=\"T_4dd1c752_30ca_11eb_b0b6_c49ded1d5ddfrow5_col8\" class=\"data row5 col8\" >-0.166399</td>\n",
       "                        <td id=\"T_4dd1c752_30ca_11eb_b0b6_c49ded1d5ddfrow5_col9\" class=\"data row5 col9\" >-0.166399</td>\n",
       "                        <td id=\"T_4dd1c752_30ca_11eb_b0b6_c49ded1d5ddfrow5_col10\" class=\"data row5 col10\" >-0.166399</td>\n",
       "                        <td id=\"T_4dd1c752_30ca_11eb_b0b6_c49ded1d5ddfrow5_col11\" class=\"data row5 col11\" >-0.000908</td>\n",
       "                        <td id=\"T_4dd1c752_30ca_11eb_b0b6_c49ded1d5ddfrow5_col12\" class=\"data row5 col12\" >-0.006004</td>\n",
       "                        <td id=\"T_4dd1c752_30ca_11eb_b0b6_c49ded1d5ddfrow5_col13\" class=\"data row5 col13\" >-0.029273</td>\n",
       "                        <td id=\"T_4dd1c752_30ca_11eb_b0b6_c49ded1d5ddfrow5_col14\" class=\"data row5 col14\" >0.005296</td>\n",
       "                        <td id=\"T_4dd1c752_30ca_11eb_b0b6_c49ded1d5ddfrow5_col15\" class=\"data row5 col15\" >0.022565</td>\n",
       "                        <td id=\"T_4dd1c752_30ca_11eb_b0b6_c49ded1d5ddfrow5_col16\" class=\"data row5 col16\" >0.051735</td>\n",
       "                        <td id=\"T_4dd1c752_30ca_11eb_b0b6_c49ded1d5ddfrow5_col17\" class=\"data row5 col17\" >0.073061</td>\n",
       "                        <td id=\"T_4dd1c752_30ca_11eb_b0b6_c49ded1d5ddfrow5_col18\" class=\"data row5 col18\" >0.183836</td>\n",
       "            </tr>\n",
       "            <tr>\n",
       "                        <th id=\"T_4dd1c752_30ca_11eb_b0b6_c49ded1d5ddflevel0_row6\" class=\"row_heading level0 row6\" >wed</th>\n",
       "                        <td id=\"T_4dd1c752_30ca_11eb_b0b6_c49ded1d5ddfrow6_col0\" class=\"data row6 col0\" >0.072566</td>\n",
       "                        <td id=\"T_4dd1c752_30ca_11eb_b0b6_c49ded1d5ddfrow6_col1\" class=\"data row6 col1\" >0.222700</td>\n",
       "                        <td id=\"T_4dd1c752_30ca_11eb_b0b6_c49ded1d5ddfrow6_col2\" class=\"data row6 col2\" >-0.001147</td>\n",
       "                        <td id=\"T_4dd1c752_30ca_11eb_b0b6_c49ded1d5ddfrow6_col3\" class=\"data row6 col3\" >-0.049040</td>\n",
       "                        <td id=\"T_4dd1c752_30ca_11eb_b0b6_c49ded1d5ddfrow6_col4\" class=\"data row6 col4\" >-0.166774</td>\n",
       "                        <td id=\"T_4dd1c752_30ca_11eb_b0b6_c49ded1d5ddfrow6_col5\" class=\"data row6 col5\" >-0.166399</td>\n",
       "                        <td id=\"T_4dd1c752_30ca_11eb_b0b6_c49ded1d5ddfrow6_col6\" class=\"data row6 col6\" >1.000000</td>\n",
       "                        <td id=\"T_4dd1c752_30ca_11eb_b0b6_c49ded1d5ddfrow6_col7\" class=\"data row6 col7\" >-0.166774</td>\n",
       "                        <td id=\"T_4dd1c752_30ca_11eb_b0b6_c49ded1d5ddfrow6_col8\" class=\"data row6 col8\" >-0.166774</td>\n",
       "                        <td id=\"T_4dd1c752_30ca_11eb_b0b6_c49ded1d5ddfrow6_col9\" class=\"data row6 col9\" >-0.166774</td>\n",
       "                        <td id=\"T_4dd1c752_30ca_11eb_b0b6_c49ded1d5ddfrow6_col10\" class=\"data row6 col10\" >-0.166774</td>\n",
       "                        <td id=\"T_4dd1c752_30ca_11eb_b0b6_c49ded1d5ddfrow6_col11\" class=\"data row6 col11\" >0.010363</td>\n",
       "                        <td id=\"T_4dd1c752_30ca_11eb_b0b6_c49ded1d5ddfrow6_col12\" class=\"data row6 col12\" >0.007235</td>\n",
       "                        <td id=\"T_4dd1c752_30ca_11eb_b0b6_c49ded1d5ddfrow6_col13\" class=\"data row6 col13\" >-0.000873</td>\n",
       "                        <td id=\"T_4dd1c752_30ca_11eb_b0b6_c49ded1d5ddfrow6_col14\" class=\"data row6 col14\" >0.009964</td>\n",
       "                        <td id=\"T_4dd1c752_30ca_11eb_b0b6_c49ded1d5ddfrow6_col15\" class=\"data row6 col15\" >0.022657</td>\n",
       "                        <td id=\"T_4dd1c752_30ca_11eb_b0b6_c49ded1d5ddfrow6_col16\" class=\"data row6 col16\" >0.070497</td>\n",
       "                        <td id=\"T_4dd1c752_30ca_11eb_b0b6_c49ded1d5ddfrow6_col17\" class=\"data row6 col17\" >0.074968</td>\n",
       "                        <td id=\"T_4dd1c752_30ca_11eb_b0b6_c49ded1d5ddfrow6_col18\" class=\"data row6 col18\" >0.142479</td>\n",
       "            </tr>\n",
       "            <tr>\n",
       "                        <th id=\"T_4dd1c752_30ca_11eb_b0b6_c49ded1d5ddflevel0_row7\" class=\"row_heading level0 row7\" >thur</th>\n",
       "                        <td id=\"T_4dd1c752_30ca_11eb_b0b6_c49ded1d5ddfrow7_col0\" class=\"data row7 col0\" >0.067684</td>\n",
       "                        <td id=\"T_4dd1c752_30ca_11eb_b0b6_c49ded1d5ddfrow7_col1\" class=\"data row7 col1\" >0.206638</td>\n",
       "                        <td id=\"T_4dd1c752_30ca_11eb_b0b6_c49ded1d5ddfrow7_col2\" class=\"data row7 col2\" >-0.000522</td>\n",
       "                        <td id=\"T_4dd1c752_30ca_11eb_b0b6_c49ded1d5ddfrow7_col3\" class=\"data row7 col3\" >0.021317</td>\n",
       "                        <td id=\"T_4dd1c752_30ca_11eb_b0b6_c49ded1d5ddfrow7_col4\" class=\"data row7 col4\" >-0.166774</td>\n",
       "                        <td id=\"T_4dd1c752_30ca_11eb_b0b6_c49ded1d5ddfrow7_col5\" class=\"data row7 col5\" >-0.166399</td>\n",
       "                        <td id=\"T_4dd1c752_30ca_11eb_b0b6_c49ded1d5ddfrow7_col6\" class=\"data row7 col6\" >-0.166774</td>\n",
       "                        <td id=\"T_4dd1c752_30ca_11eb_b0b6_c49ded1d5ddfrow7_col7\" class=\"data row7 col7\" >1.000000</td>\n",
       "                        <td id=\"T_4dd1c752_30ca_11eb_b0b6_c49ded1d5ddfrow7_col8\" class=\"data row7 col8\" >-0.166774</td>\n",
       "                        <td id=\"T_4dd1c752_30ca_11eb_b0b6_c49ded1d5ddfrow7_col9\" class=\"data row7 col9\" >-0.166774</td>\n",
       "                        <td id=\"T_4dd1c752_30ca_11eb_b0b6_c49ded1d5ddfrow7_col10\" class=\"data row7 col10\" >-0.166774</td>\n",
       "                        <td id=\"T_4dd1c752_30ca_11eb_b0b6_c49ded1d5ddfrow7_col11\" class=\"data row7 col11\" >0.008622</td>\n",
       "                        <td id=\"T_4dd1c752_30ca_11eb_b0b6_c49ded1d5ddfrow7_col12\" class=\"data row7 col12\" >0.007363</td>\n",
       "                        <td id=\"T_4dd1c752_30ca_11eb_b0b6_c49ded1d5ddfrow7_col13\" class=\"data row7 col13\" >0.016364</td>\n",
       "                        <td id=\"T_4dd1c752_30ca_11eb_b0b6_c49ded1d5ddfrow7_col14\" class=\"data row7 col14\" >0.016873</td>\n",
       "                        <td id=\"T_4dd1c752_30ca_11eb_b0b6_c49ded1d5ddfrow7_col15\" class=\"data row7 col15\" >0.009668</td>\n",
       "                        <td id=\"T_4dd1c752_30ca_11eb_b0b6_c49ded1d5ddfrow7_col16\" class=\"data row7 col16\" >0.072345</td>\n",
       "                        <td id=\"T_4dd1c752_30ca_11eb_b0b6_c49ded1d5ddfrow7_col17\" class=\"data row7 col17\" >0.070129</td>\n",
       "                        <td id=\"T_4dd1c752_30ca_11eb_b0b6_c49ded1d5ddfrow7_col18\" class=\"data row7 col18\" >0.073203</td>\n",
       "            </tr>\n",
       "            <tr>\n",
       "                        <th id=\"T_4dd1c752_30ca_11eb_b0b6_c49ded1d5ddflevel0_row8\" class=\"row_heading level0 row8\" >fri</th>\n",
       "                        <td id=\"T_4dd1c752_30ca_11eb_b0b6_c49ded1d5ddfrow8_col0\" class=\"data row8 col0\" >0.061930</td>\n",
       "                        <td id=\"T_4dd1c752_30ca_11eb_b0b6_c49ded1d5ddfrow8_col1\" class=\"data row8 col1\" >0.048598</td>\n",
       "                        <td id=\"T_4dd1c752_30ca_11eb_b0b6_c49ded1d5ddfrow8_col2\" class=\"data row8 col2\" >-0.000846</td>\n",
       "                        <td id=\"T_4dd1c752_30ca_11eb_b0b6_c49ded1d5ddfrow8_col3\" class=\"data row8 col3\" >0.030111</td>\n",
       "                        <td id=\"T_4dd1c752_30ca_11eb_b0b6_c49ded1d5ddfrow8_col4\" class=\"data row8 col4\" >-0.166774</td>\n",
       "                        <td id=\"T_4dd1c752_30ca_11eb_b0b6_c49ded1d5ddfrow8_col5\" class=\"data row8 col5\" >-0.166399</td>\n",
       "                        <td id=\"T_4dd1c752_30ca_11eb_b0b6_c49ded1d5ddfrow8_col6\" class=\"data row8 col6\" >-0.166774</td>\n",
       "                        <td id=\"T_4dd1c752_30ca_11eb_b0b6_c49ded1d5ddfrow8_col7\" class=\"data row8 col7\" >-0.166774</td>\n",
       "                        <td id=\"T_4dd1c752_30ca_11eb_b0b6_c49ded1d5ddfrow8_col8\" class=\"data row8 col8\" >1.000000</td>\n",
       "                        <td id=\"T_4dd1c752_30ca_11eb_b0b6_c49ded1d5ddfrow8_col9\" class=\"data row8 col9\" >-0.166774</td>\n",
       "                        <td id=\"T_4dd1c752_30ca_11eb_b0b6_c49ded1d5ddfrow8_col10\" class=\"data row8 col10\" >-0.166774</td>\n",
       "                        <td id=\"T_4dd1c752_30ca_11eb_b0b6_c49ded1d5ddfrow8_col11\" class=\"data row8 col11\" >0.000981</td>\n",
       "                        <td id=\"T_4dd1c752_30ca_11eb_b0b6_c49ded1d5ddfrow8_col12\" class=\"data row8 col12\" >0.005334</td>\n",
       "                        <td id=\"T_4dd1c752_30ca_11eb_b0b6_c49ded1d5ddfrow8_col13\" class=\"data row8 col13\" >-0.001431</td>\n",
       "                        <td id=\"T_4dd1c752_30ca_11eb_b0b6_c49ded1d5ddfrow8_col14\" class=\"data row8 col14\" >-0.012685</td>\n",
       "                        <td id=\"T_4dd1c752_30ca_11eb_b0b6_c49ded1d5ddfrow8_col15\" class=\"data row8 col15\" >-0.028730</td>\n",
       "                        <td id=\"T_4dd1c752_30ca_11eb_b0b6_c49ded1d5ddfrow8_col16\" class=\"data row8 col16\" >0.067459</td>\n",
       "                        <td id=\"T_4dd1c752_30ca_11eb_b0b6_c49ded1d5ddfrow8_col17\" class=\"data row8 col17\" >0.059064</td>\n",
       "                        <td id=\"T_4dd1c752_30ca_11eb_b0b6_c49ded1d5ddfrow8_col18\" class=\"data row8 col18\" >0.090375</td>\n",
       "            </tr>\n",
       "            <tr>\n",
       "                        <th id=\"T_4dd1c752_30ca_11eb_b0b6_c49ded1d5ddflevel0_row9\" class=\"row_heading level0 row9\" >sat</th>\n",
       "                        <td id=\"T_4dd1c752_30ca_11eb_b0b6_c49ded1d5ddfrow9_col0\" class=\"data row9 col0\" >-0.122812</td>\n",
       "                        <td id=\"T_4dd1c752_30ca_11eb_b0b6_c49ded1d5ddfrow9_col1\" class=\"data row9 col1\" >-0.393445</td>\n",
       "                        <td id=\"T_4dd1c752_30ca_11eb_b0b6_c49ded1d5ddfrow9_col2\" class=\"data row9 col2\" >-0.000846</td>\n",
       "                        <td id=\"T_4dd1c752_30ca_11eb_b0b6_c49ded1d5ddfrow9_col3\" class=\"data row9 col3\" >-0.066629</td>\n",
       "                        <td id=\"T_4dd1c752_30ca_11eb_b0b6_c49ded1d5ddfrow9_col4\" class=\"data row9 col4\" >-0.166774</td>\n",
       "                        <td id=\"T_4dd1c752_30ca_11eb_b0b6_c49ded1d5ddfrow9_col5\" class=\"data row9 col5\" >-0.166399</td>\n",
       "                        <td id=\"T_4dd1c752_30ca_11eb_b0b6_c49ded1d5ddfrow9_col6\" class=\"data row9 col6\" >-0.166774</td>\n",
       "                        <td id=\"T_4dd1c752_30ca_11eb_b0b6_c49ded1d5ddfrow9_col7\" class=\"data row9 col7\" >-0.166774</td>\n",
       "                        <td id=\"T_4dd1c752_30ca_11eb_b0b6_c49ded1d5ddfrow9_col8\" class=\"data row9 col8\" >-0.166774</td>\n",
       "                        <td id=\"T_4dd1c752_30ca_11eb_b0b6_c49ded1d5ddfrow9_col9\" class=\"data row9 col9\" >1.000000</td>\n",
       "                        <td id=\"T_4dd1c752_30ca_11eb_b0b6_c49ded1d5ddfrow9_col10\" class=\"data row9 col10\" >-0.166774</td>\n",
       "                        <td id=\"T_4dd1c752_30ca_11eb_b0b6_c49ded1d5ddfrow9_col11\" class=\"data row9 col11\" >-0.004566</td>\n",
       "                        <td id=\"T_4dd1c752_30ca_11eb_b0b6_c49ded1d5ddfrow9_col12\" class=\"data row9 col12\" >-0.000024</td>\n",
       "                        <td id=\"T_4dd1c752_30ca_11eb_b0b6_c49ded1d5ddfrow9_col13\" class=\"data row9 col13\" >0.025873</td>\n",
       "                        <td id=\"T_4dd1c752_30ca_11eb_b0b6_c49ded1d5ddfrow9_col14\" class=\"data row9 col14\" >0.030191</td>\n",
       "                        <td id=\"T_4dd1c752_30ca_11eb_b0b6_c49ded1d5ddfrow9_col15\" class=\"data row9 col15\" >-0.020993</td>\n",
       "                        <td id=\"T_4dd1c752_30ca_11eb_b0b6_c49ded1d5ddfrow9_col16\" class=\"data row9 col16\" >0.061700</td>\n",
       "                        <td id=\"T_4dd1c752_30ca_11eb_b0b6_c49ded1d5ddfrow9_col17\" class=\"data row9 col17\" >-0.123451</td>\n",
       "                        <td id=\"T_4dd1c752_30ca_11eb_b0b6_c49ded1d5ddfrow9_col18\" class=\"data row9 col18\" >-0.133994</td>\n",
       "            </tr>\n",
       "            <tr>\n",
       "                        <th id=\"T_4dd1c752_30ca_11eb_b0b6_c49ded1d5ddflevel0_row10\" class=\"row_heading level0 row10\" >sun</th>\n",
       "                        <td id=\"T_4dd1c752_30ca_11eb_b0b6_c49ded1d5ddfrow10_col0\" class=\"data row10 col0\" >-0.199957</td>\n",
       "                        <td id=\"T_4dd1c752_30ca_11eb_b0b6_c49ded1d5ddfrow10_col1\" class=\"data row10 col1\" >-0.435537</td>\n",
       "                        <td id=\"T_4dd1c752_30ca_11eb_b0b6_c49ded1d5ddfrow10_col2\" class=\"data row10 col2\" >-0.000846</td>\n",
       "                        <td id=\"T_4dd1c752_30ca_11eb_b0b6_c49ded1d5ddfrow10_col3\" class=\"data row10 col3\" >0.074084</td>\n",
       "                        <td id=\"T_4dd1c752_30ca_11eb_b0b6_c49ded1d5ddfrow10_col4\" class=\"data row10 col4\" >-0.166774</td>\n",
       "                        <td id=\"T_4dd1c752_30ca_11eb_b0b6_c49ded1d5ddfrow10_col5\" class=\"data row10 col5\" >-0.166399</td>\n",
       "                        <td id=\"T_4dd1c752_30ca_11eb_b0b6_c49ded1d5ddfrow10_col6\" class=\"data row10 col6\" >-0.166774</td>\n",
       "                        <td id=\"T_4dd1c752_30ca_11eb_b0b6_c49ded1d5ddfrow10_col7\" class=\"data row10 col7\" >-0.166774</td>\n",
       "                        <td id=\"T_4dd1c752_30ca_11eb_b0b6_c49ded1d5ddfrow10_col8\" class=\"data row10 col8\" >-0.166774</td>\n",
       "                        <td id=\"T_4dd1c752_30ca_11eb_b0b6_c49ded1d5ddfrow10_col9\" class=\"data row10 col9\" >-0.166774</td>\n",
       "                        <td id=\"T_4dd1c752_30ca_11eb_b0b6_c49ded1d5ddfrow10_col10\" class=\"data row10 col10\" >1.000000</td>\n",
       "                        <td id=\"T_4dd1c752_30ca_11eb_b0b6_c49ded1d5ddfrow10_col11\" class=\"data row10 col11\" >-0.002969</td>\n",
       "                        <td id=\"T_4dd1c752_30ca_11eb_b0b6_c49ded1d5ddfrow10_col12\" class=\"data row10 col12\" >-0.001324</td>\n",
       "                        <td id=\"T_4dd1c752_30ca_11eb_b0b6_c49ded1d5ddfrow10_col13\" class=\"data row10 col13\" >0.011330</td>\n",
       "                        <td id=\"T_4dd1c752_30ca_11eb_b0b6_c49ded1d5ddfrow10_col14\" class=\"data row10 col14\" >-0.016388</td>\n",
       "                        <td id=\"T_4dd1c752_30ca_11eb_b0b6_c49ded1d5ddfrow10_col15\" class=\"data row10 col15\" >-0.004879</td>\n",
       "                        <td id=\"T_4dd1c752_30ca_11eb_b0b6_c49ded1d5ddfrow10_col16\" class=\"data row10 col16\" >-0.123218</td>\n",
       "                        <td id=\"T_4dd1c752_30ca_11eb_b0b6_c49ded1d5ddfrow10_col17\" class=\"data row10 col17\" >-0.202153</td>\n",
       "                        <td id=\"T_4dd1c752_30ca_11eb_b0b6_c49ded1d5ddfrow10_col18\" class=\"data row10 col18\" >-0.332132</td>\n",
       "            </tr>\n",
       "            <tr>\n",
       "                        <th id=\"T_4dd1c752_30ca_11eb_b0b6_c49ded1d5ddflevel0_row11\" class=\"row_heading level0 row11\" >temp</th>\n",
       "                        <td id=\"T_4dd1c752_30ca_11eb_b0b6_c49ded1d5ddfrow11_col0\" class=\"data row11 col0\" >0.076624</td>\n",
       "                        <td id=\"T_4dd1c752_30ca_11eb_b0b6_c49ded1d5ddfrow11_col1\" class=\"data row11 col1\" >-0.432190</td>\n",
       "                        <td id=\"T_4dd1c752_30ca_11eb_b0b6_c49ded1d5ddfrow11_col2\" class=\"data row11 col2\" >0.058212</td>\n",
       "                        <td id=\"T_4dd1c752_30ca_11eb_b0b6_c49ded1d5ddfrow11_col3\" class=\"data row11 col3\" >-0.044039</td>\n",
       "                        <td id=\"T_4dd1c752_30ca_11eb_b0b6_c49ded1d5ddfrow11_col4\" class=\"data row11 col4\" >-0.011524</td>\n",
       "                        <td id=\"T_4dd1c752_30ca_11eb_b0b6_c49ded1d5ddfrow11_col5\" class=\"data row11 col5\" >-0.000908</td>\n",
       "                        <td id=\"T_4dd1c752_30ca_11eb_b0b6_c49ded1d5ddfrow11_col6\" class=\"data row11 col6\" >0.010363</td>\n",
       "                        <td id=\"T_4dd1c752_30ca_11eb_b0b6_c49ded1d5ddfrow11_col7\" class=\"data row11 col7\" >0.008622</td>\n",
       "                        <td id=\"T_4dd1c752_30ca_11eb_b0b6_c49ded1d5ddfrow11_col8\" class=\"data row11 col8\" >0.000981</td>\n",
       "                        <td id=\"T_4dd1c752_30ca_11eb_b0b6_c49ded1d5ddfrow11_col9\" class=\"data row11 col9\" >-0.004566</td>\n",
       "                        <td id=\"T_4dd1c752_30ca_11eb_b0b6_c49ded1d5ddfrow11_col10\" class=\"data row11 col10\" >-0.002969</td>\n",
       "                        <td id=\"T_4dd1c752_30ca_11eb_b0b6_c49ded1d5ddfrow11_col11\" class=\"data row11 col11\" >1.000000</td>\n",
       "                        <td id=\"T_4dd1c752_30ca_11eb_b0b6_c49ded1d5ddfrow11_col12\" class=\"data row11 col12\" >0.985954</td>\n",
       "                        <td id=\"T_4dd1c752_30ca_11eb_b0b6_c49ded1d5ddfrow11_col13\" class=\"data row11 col13\" >-0.360770</td>\n",
       "                        <td id=\"T_4dd1c752_30ca_11eb_b0b6_c49ded1d5ddfrow11_col14\" class=\"data row11 col14\" >-0.289169</td>\n",
       "                        <td id=\"T_4dd1c752_30ca_11eb_b0b6_c49ded1d5ddfrow11_col15\" class=\"data row11 col15\" >-0.149427</td>\n",
       "                        <td id=\"T_4dd1c752_30ca_11eb_b0b6_c49ded1d5ddfrow11_col16\" class=\"data row11 col16\" >0.102522</td>\n",
       "                        <td id=\"T_4dd1c752_30ca_11eb_b0b6_c49ded1d5ddfrow11_col17\" class=\"data row11 col17\" >0.116860</td>\n",
       "                        <td id=\"T_4dd1c752_30ca_11eb_b0b6_c49ded1d5ddfrow11_col18\" class=\"data row11 col18\" >0.251858</td>\n",
       "            </tr>\n",
       "            <tr>\n",
       "                        <th id=\"T_4dd1c752_30ca_11eb_b0b6_c49ded1d5ddflevel0_row12\" class=\"row_heading level0 row12\" >feels_like</th>\n",
       "                        <td id=\"T_4dd1c752_30ca_11eb_b0b6_c49ded1d5ddfrow12_col0\" class=\"data row12 col0\" >0.152971</td>\n",
       "                        <td id=\"T_4dd1c752_30ca_11eb_b0b6_c49ded1d5ddfrow12_col1\" class=\"data row12 col1\" >-0.419994</td>\n",
       "                        <td id=\"T_4dd1c752_30ca_11eb_b0b6_c49ded1d5ddfrow12_col2\" class=\"data row12 col2\" >0.062689</td>\n",
       "                        <td id=\"T_4dd1c752_30ca_11eb_b0b6_c49ded1d5ddfrow12_col3\" class=\"data row12 col3\" >-0.058359</td>\n",
       "                        <td id=\"T_4dd1c752_30ca_11eb_b0b6_c49ded1d5ddfrow12_col4\" class=\"data row12 col4\" >-0.012589</td>\n",
       "                        <td id=\"T_4dd1c752_30ca_11eb_b0b6_c49ded1d5ddfrow12_col5\" class=\"data row12 col5\" >-0.006004</td>\n",
       "                        <td id=\"T_4dd1c752_30ca_11eb_b0b6_c49ded1d5ddfrow12_col6\" class=\"data row12 col6\" >0.007235</td>\n",
       "                        <td id=\"T_4dd1c752_30ca_11eb_b0b6_c49ded1d5ddfrow12_col7\" class=\"data row12 col7\" >0.007363</td>\n",
       "                        <td id=\"T_4dd1c752_30ca_11eb_b0b6_c49ded1d5ddfrow12_col8\" class=\"data row12 col8\" >0.005334</td>\n",
       "                        <td id=\"T_4dd1c752_30ca_11eb_b0b6_c49ded1d5ddfrow12_col9\" class=\"data row12 col9\" >-0.000024</td>\n",
       "                        <td id=\"T_4dd1c752_30ca_11eb_b0b6_c49ded1d5ddfrow12_col10\" class=\"data row12 col10\" >-0.001324</td>\n",
       "                        <td id=\"T_4dd1c752_30ca_11eb_b0b6_c49ded1d5ddfrow12_col11\" class=\"data row12 col11\" >0.985954</td>\n",
       "                        <td id=\"T_4dd1c752_30ca_11eb_b0b6_c49ded1d5ddfrow12_col12\" class=\"data row12 col12\" >1.000000</td>\n",
       "                        <td id=\"T_4dd1c752_30ca_11eb_b0b6_c49ded1d5ddfrow12_col13\" class=\"data row12 col13\" >-0.299982</td>\n",
       "                        <td id=\"T_4dd1c752_30ca_11eb_b0b6_c49ded1d5ddfrow12_col14\" class=\"data row12 col14\" >-0.275313</td>\n",
       "                        <td id=\"T_4dd1c752_30ca_11eb_b0b6_c49ded1d5ddfrow12_col15\" class=\"data row12 col15\" >-0.302187</td>\n",
       "                        <td id=\"T_4dd1c752_30ca_11eb_b0b6_c49ded1d5ddfrow12_col16\" class=\"data row12 col16\" >0.152592</td>\n",
       "                        <td id=\"T_4dd1c752_30ca_11eb_b0b6_c49ded1d5ddfrow12_col17\" class=\"data row12 col17\" >0.121794</td>\n",
       "                        <td id=\"T_4dd1c752_30ca_11eb_b0b6_c49ded1d5ddfrow12_col18\" class=\"data row12 col18\" >0.364277</td>\n",
       "            </tr>\n",
       "            <tr>\n",
       "                        <th id=\"T_4dd1c752_30ca_11eb_b0b6_c49ded1d5ddflevel0_row13\" class=\"row_heading level0 row13\" >humidity</th>\n",
       "                        <td id=\"T_4dd1c752_30ca_11eb_b0b6_c49ded1d5ddfrow13_col0\" class=\"data row13 col0\" >0.049673</td>\n",
       "                        <td id=\"T_4dd1c752_30ca_11eb_b0b6_c49ded1d5ddfrow13_col1\" class=\"data row13 col1\" >0.241147</td>\n",
       "                        <td id=\"T_4dd1c752_30ca_11eb_b0b6_c49ded1d5ddfrow13_col2\" class=\"data row13 col2\" >0.014061</td>\n",
       "                        <td id=\"T_4dd1c752_30ca_11eb_b0b6_c49ded1d5ddfrow13_col3\" class=\"data row13 col3\" >-0.098003</td>\n",
       "                        <td id=\"T_4dd1c752_30ca_11eb_b0b6_c49ded1d5ddfrow13_col4\" class=\"data row13 col4\" >-0.022037</td>\n",
       "                        <td id=\"T_4dd1c752_30ca_11eb_b0b6_c49ded1d5ddfrow13_col5\" class=\"data row13 col5\" >-0.029273</td>\n",
       "                        <td id=\"T_4dd1c752_30ca_11eb_b0b6_c49ded1d5ddfrow13_col6\" class=\"data row13 col6\" >-0.000873</td>\n",
       "                        <td id=\"T_4dd1c752_30ca_11eb_b0b6_c49ded1d5ddfrow13_col7\" class=\"data row13 col7\" >0.016364</td>\n",
       "                        <td id=\"T_4dd1c752_30ca_11eb_b0b6_c49ded1d5ddfrow13_col8\" class=\"data row13 col8\" >-0.001431</td>\n",
       "                        <td id=\"T_4dd1c752_30ca_11eb_b0b6_c49ded1d5ddfrow13_col9\" class=\"data row13 col9\" >0.025873</td>\n",
       "                        <td id=\"T_4dd1c752_30ca_11eb_b0b6_c49ded1d5ddfrow13_col10\" class=\"data row13 col10\" >0.011330</td>\n",
       "                        <td id=\"T_4dd1c752_30ca_11eb_b0b6_c49ded1d5ddfrow13_col11\" class=\"data row13 col11\" >-0.360770</td>\n",
       "                        <td id=\"T_4dd1c752_30ca_11eb_b0b6_c49ded1d5ddfrow13_col12\" class=\"data row13 col12\" >-0.299982</td>\n",
       "                        <td id=\"T_4dd1c752_30ca_11eb_b0b6_c49ded1d5ddfrow13_col13\" class=\"data row13 col13\" >1.000000</td>\n",
       "                        <td id=\"T_4dd1c752_30ca_11eb_b0b6_c49ded1d5ddfrow13_col14\" class=\"data row13 col14\" >0.674144</td>\n",
       "                        <td id=\"T_4dd1c752_30ca_11eb_b0b6_c49ded1d5ddfrow13_col15\" class=\"data row13 col15\" >-0.011452</td>\n",
       "                        <td id=\"T_4dd1c752_30ca_11eb_b0b6_c49ded1d5ddfrow13_col16\" class=\"data row13 col16\" >0.087667</td>\n",
       "                        <td id=\"T_4dd1c752_30ca_11eb_b0b6_c49ded1d5ddfrow13_col17\" class=\"data row13 col17\" >0.028623</td>\n",
       "                        <td id=\"T_4dd1c752_30ca_11eb_b0b6_c49ded1d5ddfrow13_col18\" class=\"data row13 col18\" >0.066399</td>\n",
       "            </tr>\n",
       "            <tr>\n",
       "                        <th id=\"T_4dd1c752_30ca_11eb_b0b6_c49ded1d5ddflevel0_row14\" class=\"row_heading level0 row14\" >clouds_all</th>\n",
       "                        <td id=\"T_4dd1c752_30ca_11eb_b0b6_c49ded1d5ddfrow14_col0\" class=\"data row14 col0\" >0.123872</td>\n",
       "                        <td id=\"T_4dd1c752_30ca_11eb_b0b6_c49ded1d5ddfrow14_col1\" class=\"data row14 col1\" >0.123846</td>\n",
       "                        <td id=\"T_4dd1c752_30ca_11eb_b0b6_c49ded1d5ddfrow14_col2\" class=\"data row14 col2\" >0.200672</td>\n",
       "                        <td id=\"T_4dd1c752_30ca_11eb_b0b6_c49ded1d5ddfrow14_col3\" class=\"data row14 col3\" >-0.048117</td>\n",
       "                        <td id=\"T_4dd1c752_30ca_11eb_b0b6_c49ded1d5ddfrow14_col4\" class=\"data row14 col4\" >-0.033242</td>\n",
       "                        <td id=\"T_4dd1c752_30ca_11eb_b0b6_c49ded1d5ddfrow14_col5\" class=\"data row14 col5\" >0.005296</td>\n",
       "                        <td id=\"T_4dd1c752_30ca_11eb_b0b6_c49ded1d5ddfrow14_col6\" class=\"data row14 col6\" >0.009964</td>\n",
       "                        <td id=\"T_4dd1c752_30ca_11eb_b0b6_c49ded1d5ddfrow14_col7\" class=\"data row14 col7\" >0.016873</td>\n",
       "                        <td id=\"T_4dd1c752_30ca_11eb_b0b6_c49ded1d5ddfrow14_col8\" class=\"data row14 col8\" >-0.012685</td>\n",
       "                        <td id=\"T_4dd1c752_30ca_11eb_b0b6_c49ded1d5ddfrow14_col9\" class=\"data row14 col9\" >0.030191</td>\n",
       "                        <td id=\"T_4dd1c752_30ca_11eb_b0b6_c49ded1d5ddfrow14_col10\" class=\"data row14 col10\" >-0.016388</td>\n",
       "                        <td id=\"T_4dd1c752_30ca_11eb_b0b6_c49ded1d5ddfrow14_col11\" class=\"data row14 col11\" >-0.289169</td>\n",
       "                        <td id=\"T_4dd1c752_30ca_11eb_b0b6_c49ded1d5ddfrow14_col12\" class=\"data row14 col12\" >-0.275313</td>\n",
       "                        <td id=\"T_4dd1c752_30ca_11eb_b0b6_c49ded1d5ddfrow14_col13\" class=\"data row14 col13\" >0.674144</td>\n",
       "                        <td id=\"T_4dd1c752_30ca_11eb_b0b6_c49ded1d5ddfrow14_col14\" class=\"data row14 col14\" >1.000000</td>\n",
       "                        <td id=\"T_4dd1c752_30ca_11eb_b0b6_c49ded1d5ddfrow14_col15\" class=\"data row14 col15\" >0.181169</td>\n",
       "                        <td id=\"T_4dd1c752_30ca_11eb_b0b6_c49ded1d5ddfrow14_col16\" class=\"data row14 col16\" >0.192802</td>\n",
       "                        <td id=\"T_4dd1c752_30ca_11eb_b0b6_c49ded1d5ddfrow14_col17\" class=\"data row14 col17\" >0.160712</td>\n",
       "                        <td id=\"T_4dd1c752_30ca_11eb_b0b6_c49ded1d5ddfrow14_col18\" class=\"data row14 col18\" >-0.034941</td>\n",
       "            </tr>\n",
       "            <tr>\n",
       "                        <th id=\"T_4dd1c752_30ca_11eb_b0b6_c49ded1d5ddflevel0_row15\" class=\"row_heading level0 row15\" >wind_speed</th>\n",
       "                        <td id=\"T_4dd1c752_30ca_11eb_b0b6_c49ded1d5ddfrow15_col0\" class=\"data row15 col0\" >-0.470013</td>\n",
       "                        <td id=\"T_4dd1c752_30ca_11eb_b0b6_c49ded1d5ddfrow15_col1\" class=\"data row15 col1\" >0.062013</td>\n",
       "                        <td id=\"T_4dd1c752_30ca_11eb_b0b6_c49ded1d5ddfrow15_col2\" class=\"data row15 col2\" >-0.034388</td>\n",
       "                        <td id=\"T_4dd1c752_30ca_11eb_b0b6_c49ded1d5ddfrow15_col3\" class=\"data row15 col3\" >0.046600</td>\n",
       "                        <td id=\"T_4dd1c752_30ca_11eb_b0b6_c49ded1d5ddfrow15_col4\" class=\"data row15 col4\" >-0.000251</td>\n",
       "                        <td id=\"T_4dd1c752_30ca_11eb_b0b6_c49ded1d5ddfrow15_col5\" class=\"data row15 col5\" >0.022565</td>\n",
       "                        <td id=\"T_4dd1c752_30ca_11eb_b0b6_c49ded1d5ddfrow15_col6\" class=\"data row15 col6\" >0.022657</td>\n",
       "                        <td id=\"T_4dd1c752_30ca_11eb_b0b6_c49ded1d5ddfrow15_col7\" class=\"data row15 col7\" >0.009668</td>\n",
       "                        <td id=\"T_4dd1c752_30ca_11eb_b0b6_c49ded1d5ddfrow15_col8\" class=\"data row15 col8\" >-0.028730</td>\n",
       "                        <td id=\"T_4dd1c752_30ca_11eb_b0b6_c49ded1d5ddfrow15_col9\" class=\"data row15 col9\" >-0.020993</td>\n",
       "                        <td id=\"T_4dd1c752_30ca_11eb_b0b6_c49ded1d5ddfrow15_col10\" class=\"data row15 col10\" >-0.004879</td>\n",
       "                        <td id=\"T_4dd1c752_30ca_11eb_b0b6_c49ded1d5ddfrow15_col11\" class=\"data row15 col11\" >-0.149427</td>\n",
       "                        <td id=\"T_4dd1c752_30ca_11eb_b0b6_c49ded1d5ddfrow15_col12\" class=\"data row15 col12\" >-0.302187</td>\n",
       "                        <td id=\"T_4dd1c752_30ca_11eb_b0b6_c49ded1d5ddfrow15_col13\" class=\"data row15 col13\" >-0.011452</td>\n",
       "                        <td id=\"T_4dd1c752_30ca_11eb_b0b6_c49ded1d5ddfrow15_col14\" class=\"data row15 col14\" >0.181169</td>\n",
       "                        <td id=\"T_4dd1c752_30ca_11eb_b0b6_c49ded1d5ddfrow15_col15\" class=\"data row15 col15\" >1.000000</td>\n",
       "                        <td id=\"T_4dd1c752_30ca_11eb_b0b6_c49ded1d5ddfrow15_col16\" class=\"data row15 col16\" >-0.287322</td>\n",
       "                        <td id=\"T_4dd1c752_30ca_11eb_b0b6_c49ded1d5ddfrow15_col17\" class=\"data row15 col17\" >-0.023463</td>\n",
       "                        <td id=\"T_4dd1c752_30ca_11eb_b0b6_c49ded1d5ddfrow15_col18\" class=\"data row15 col18\" >-0.635879</td>\n",
       "            </tr>\n",
       "            <tr>\n",
       "                        <th id=\"T_4dd1c752_30ca_11eb_b0b6_c49ded1d5ddflevel0_row16\" class=\"row_heading level0 row16\" >price_t_1</th>\n",
       "                        <td id=\"T_4dd1c752_30ca_11eb_b0b6_c49ded1d5ddfrow16_col0\" class=\"data row16 col0\" >0.773211</td>\n",
       "                        <td id=\"T_4dd1c752_30ca_11eb_b0b6_c49ded1d5ddfrow16_col1\" class=\"data row16 col1\" >0.094290</td>\n",
       "                        <td id=\"T_4dd1c752_30ca_11eb_b0b6_c49ded1d5ddfrow16_col2\" class=\"data row16 col2\" >0.606757</td>\n",
       "                        <td id=\"T_4dd1c752_30ca_11eb_b0b6_c49ded1d5ddfrow16_col3\" class=\"data row16 col3\" >-0.107392</td>\n",
       "                        <td id=\"T_4dd1c752_30ca_11eb_b0b6_c49ded1d5ddfrow16_col4\" class=\"data row16 col4\" >-0.200435</td>\n",
       "                        <td id=\"T_4dd1c752_30ca_11eb_b0b6_c49ded1d5ddfrow16_col5\" class=\"data row16 col5\" >0.051735</td>\n",
       "                        <td id=\"T_4dd1c752_30ca_11eb_b0b6_c49ded1d5ddfrow16_col6\" class=\"data row16 col6\" >0.070497</td>\n",
       "                        <td id=\"T_4dd1c752_30ca_11eb_b0b6_c49ded1d5ddfrow16_col7\" class=\"data row16 col7\" >0.072345</td>\n",
       "                        <td id=\"T_4dd1c752_30ca_11eb_b0b6_c49ded1d5ddfrow16_col8\" class=\"data row16 col8\" >0.067459</td>\n",
       "                        <td id=\"T_4dd1c752_30ca_11eb_b0b6_c49ded1d5ddfrow16_col9\" class=\"data row16 col9\" >0.061700</td>\n",
       "                        <td id=\"T_4dd1c752_30ca_11eb_b0b6_c49ded1d5ddfrow16_col10\" class=\"data row16 col10\" >-0.123218</td>\n",
       "                        <td id=\"T_4dd1c752_30ca_11eb_b0b6_c49ded1d5ddfrow16_col11\" class=\"data row16 col11\" >0.102522</td>\n",
       "                        <td id=\"T_4dd1c752_30ca_11eb_b0b6_c49ded1d5ddfrow16_col12\" class=\"data row16 col12\" >0.152592</td>\n",
       "                        <td id=\"T_4dd1c752_30ca_11eb_b0b6_c49ded1d5ddfrow16_col13\" class=\"data row16 col13\" >0.087667</td>\n",
       "                        <td id=\"T_4dd1c752_30ca_11eb_b0b6_c49ded1d5ddfrow16_col14\" class=\"data row16 col14\" >0.192802</td>\n",
       "                        <td id=\"T_4dd1c752_30ca_11eb_b0b6_c49ded1d5ddfrow16_col15\" class=\"data row16 col15\" >-0.287322</td>\n",
       "                        <td id=\"T_4dd1c752_30ca_11eb_b0b6_c49ded1d5ddfrow16_col16\" class=\"data row16 col16\" >1.000000</td>\n",
       "                        <td id=\"T_4dd1c752_30ca_11eb_b0b6_c49ded1d5ddfrow16_col17\" class=\"data row16 col17\" >0.569652</td>\n",
       "                        <td id=\"T_4dd1c752_30ca_11eb_b0b6_c49ded1d5ddfrow16_col18\" class=\"data row16 col18\" >0.857292</td>\n",
       "            </tr>\n",
       "            <tr>\n",
       "                        <th id=\"T_4dd1c752_30ca_11eb_b0b6_c49ded1d5ddflevel0_row17\" class=\"row_heading level0 row17\" >price_t_7</th>\n",
       "                        <td id=\"T_4dd1c752_30ca_11eb_b0b6_c49ded1d5ddfrow17_col0\" class=\"data row17 col0\" >0.613691</td>\n",
       "                        <td id=\"T_4dd1c752_30ca_11eb_b0b6_c49ded1d5ddfrow17_col1\" class=\"data row17 col1\" >0.190856</td>\n",
       "                        <td id=\"T_4dd1c752_30ca_11eb_b0b6_c49ded1d5ddfrow17_col2\" class=\"data row17 col2\" >0.604548</td>\n",
       "                        <td id=\"T_4dd1c752_30ca_11eb_b0b6_c49ded1d5ddfrow17_col3\" class=\"data row17 col3\" >-0.074727</td>\n",
       "                        <td id=\"T_4dd1c752_30ca_11eb_b0b6_c49ded1d5ddfrow17_col4\" class=\"data row17 col4\" >0.048499</td>\n",
       "                        <td id=\"T_4dd1c752_30ca_11eb_b0b6_c49ded1d5ddfrow17_col5\" class=\"data row17 col5\" >0.073061</td>\n",
       "                        <td id=\"T_4dd1c752_30ca_11eb_b0b6_c49ded1d5ddfrow17_col6\" class=\"data row17 col6\" >0.074968</td>\n",
       "                        <td id=\"T_4dd1c752_30ca_11eb_b0b6_c49ded1d5ddfrow17_col7\" class=\"data row17 col7\" >0.070129</td>\n",
       "                        <td id=\"T_4dd1c752_30ca_11eb_b0b6_c49ded1d5ddfrow17_col8\" class=\"data row17 col8\" >0.059064</td>\n",
       "                        <td id=\"T_4dd1c752_30ca_11eb_b0b6_c49ded1d5ddfrow17_col9\" class=\"data row17 col9\" >-0.123451</td>\n",
       "                        <td id=\"T_4dd1c752_30ca_11eb_b0b6_c49ded1d5ddfrow17_col10\" class=\"data row17 col10\" >-0.202153</td>\n",
       "                        <td id=\"T_4dd1c752_30ca_11eb_b0b6_c49ded1d5ddfrow17_col11\" class=\"data row17 col11\" >0.116860</td>\n",
       "                        <td id=\"T_4dd1c752_30ca_11eb_b0b6_c49ded1d5ddfrow17_col12\" class=\"data row17 col12\" >0.121794</td>\n",
       "                        <td id=\"T_4dd1c752_30ca_11eb_b0b6_c49ded1d5ddfrow17_col13\" class=\"data row17 col13\" >0.028623</td>\n",
       "                        <td id=\"T_4dd1c752_30ca_11eb_b0b6_c49ded1d5ddfrow17_col14\" class=\"data row17 col14\" >0.160712</td>\n",
       "                        <td id=\"T_4dd1c752_30ca_11eb_b0b6_c49ded1d5ddfrow17_col15\" class=\"data row17 col15\" >-0.023463</td>\n",
       "                        <td id=\"T_4dd1c752_30ca_11eb_b0b6_c49ded1d5ddfrow17_col16\" class=\"data row17 col16\" >0.569652</td>\n",
       "                        <td id=\"T_4dd1c752_30ca_11eb_b0b6_c49ded1d5ddfrow17_col17\" class=\"data row17 col17\" >1.000000</td>\n",
       "                        <td id=\"T_4dd1c752_30ca_11eb_b0b6_c49ded1d5ddfrow17_col18\" class=\"data row17 col18\" >0.572348</td>\n",
       "            </tr>\n",
       "            <tr>\n",
       "                        <th id=\"T_4dd1c752_30ca_11eb_b0b6_c49ded1d5ddflevel0_row18\" class=\"row_heading level0 row18\" >pred_price</th>\n",
       "                        <td id=\"T_4dd1c752_30ca_11eb_b0b6_c49ded1d5ddfrow18_col0\" class=\"data row18 col0\" >0.825428</td>\n",
       "                        <td id=\"T_4dd1c752_30ca_11eb_b0b6_c49ded1d5ddfrow18_col1\" class=\"data row18 col1\" >0.316128</td>\n",
       "                        <td id=\"T_4dd1c752_30ca_11eb_b0b6_c49ded1d5ddfrow18_col2\" class=\"data row18 col2\" >0.322780</td>\n",
       "                        <td id=\"T_4dd1c752_30ca_11eb_b0b6_c49ded1d5ddfrow18_col3\" class=\"data row18 col3\" >-0.136980</td>\n",
       "                        <td id=\"T_4dd1c752_30ca_11eb_b0b6_c49ded1d5ddfrow18_col4\" class=\"data row18 col4\" >-0.019098</td>\n",
       "                        <td id=\"T_4dd1c752_30ca_11eb_b0b6_c49ded1d5ddfrow18_col5\" class=\"data row18 col5\" >0.183836</td>\n",
       "                        <td id=\"T_4dd1c752_30ca_11eb_b0b6_c49ded1d5ddfrow18_col6\" class=\"data row18 col6\" >0.142479</td>\n",
       "                        <td id=\"T_4dd1c752_30ca_11eb_b0b6_c49ded1d5ddfrow18_col7\" class=\"data row18 col7\" >0.073203</td>\n",
       "                        <td id=\"T_4dd1c752_30ca_11eb_b0b6_c49ded1d5ddfrow18_col8\" class=\"data row18 col8\" >0.090375</td>\n",
       "                        <td id=\"T_4dd1c752_30ca_11eb_b0b6_c49ded1d5ddfrow18_col9\" class=\"data row18 col9\" >-0.133994</td>\n",
       "                        <td id=\"T_4dd1c752_30ca_11eb_b0b6_c49ded1d5ddfrow18_col10\" class=\"data row18 col10\" >-0.332132</td>\n",
       "                        <td id=\"T_4dd1c752_30ca_11eb_b0b6_c49ded1d5ddfrow18_col11\" class=\"data row18 col11\" >0.251858</td>\n",
       "                        <td id=\"T_4dd1c752_30ca_11eb_b0b6_c49ded1d5ddfrow18_col12\" class=\"data row18 col12\" >0.364277</td>\n",
       "                        <td id=\"T_4dd1c752_30ca_11eb_b0b6_c49ded1d5ddfrow18_col13\" class=\"data row18 col13\" >0.066399</td>\n",
       "                        <td id=\"T_4dd1c752_30ca_11eb_b0b6_c49ded1d5ddfrow18_col14\" class=\"data row18 col14\" >-0.034941</td>\n",
       "                        <td id=\"T_4dd1c752_30ca_11eb_b0b6_c49ded1d5ddfrow18_col15\" class=\"data row18 col15\" >-0.635879</td>\n",
       "                        <td id=\"T_4dd1c752_30ca_11eb_b0b6_c49ded1d5ddfrow18_col16\" class=\"data row18 col16\" >0.857292</td>\n",
       "                        <td id=\"T_4dd1c752_30ca_11eb_b0b6_c49ded1d5ddfrow18_col17\" class=\"data row18 col17\" >0.572348</td>\n",
       "                        <td id=\"T_4dd1c752_30ca_11eb_b0b6_c49ded1d5ddfrow18_col18\" class=\"data row18 col18\" >1.000000</td>\n",
       "            </tr>\n",
       "    </tbody></table>"
      ],
      "text/plain": [
       "<pandas.io.formats.style.Styler at 0x206113b01c8>"
      ]
     },
     "execution_count": 80,
     "metadata": {},
     "output_type": "execute_result"
    }
   ],
   "source": [
    "df.corr().style.background_gradient(cmap='coolwarm')"
   ]
  },
  {
   "cell_type": "code",
   "execution_count": null,
   "metadata": {
    "ExecuteTime": {
     "end_time": "2020-11-27T14:11:29.169377Z",
     "start_time": "2020-11-27T14:11:29.012567Z"
    }
   },
   "outputs": [],
   "source": [
    "df1 = pd.DataFrame()\n",
    "df1[\"vif_index\"] = [vif(df.values, i) for i in range(df.shape[1])]\n",
    "df1[\"features\"] = df.columns\n",
    "df1[['features', 'vif_index']].sort_values(by='vif_index', ascending=False)"
   ]
  },
  {
   "cell_type": "code",
   "execution_count": 79,
   "metadata": {
    "ExecuteTime": {
     "end_time": "2020-11-27T16:04:08.552026Z",
     "start_time": "2020-11-27T16:04:08.512507Z"
    }
   },
   "outputs": [
    {
     "data": {
      "text/html": [
       "<div>\n",
       "<style scoped>\n",
       "    .dataframe tbody tr th:only-of-type {\n",
       "        vertical-align: middle;\n",
       "    }\n",
       "\n",
       "    .dataframe tbody tr th {\n",
       "        vertical-align: top;\n",
       "    }\n",
       "\n",
       "    .dataframe thead th {\n",
       "        text-align: right;\n",
       "    }\n",
       "</style>\n",
       "<table border=\"1\" class=\"dataframe\">\n",
       "  <thead>\n",
       "    <tr style=\"text-align: right;\">\n",
       "      <th></th>\n",
       "      <th>features</th>\n",
       "      <th>vif_index</th>\n",
       "    </tr>\n",
       "  </thead>\n",
       "  <tbody>\n",
       "    <tr>\n",
       "      <th>0</th>\n",
       "      <td>coal_price</td>\n",
       "      <td>11.553314</td>\n",
       "    </tr>\n",
       "    <tr>\n",
       "      <th>3</th>\n",
       "      <td>clouds_all</td>\n",
       "      <td>7.329885</td>\n",
       "    </tr>\n",
       "    <tr>\n",
       "      <th>4</th>\n",
       "      <td>wind_speed</td>\n",
       "      <td>6.325441</td>\n",
       "    </tr>\n",
       "    <tr>\n",
       "      <th>2</th>\n",
       "      <td>feels_like</td>\n",
       "      <td>1.785227</td>\n",
       "    </tr>\n",
       "    <tr>\n",
       "      <th>1</th>\n",
       "      <td>holiday_bool</td>\n",
       "      <td>1.039336</td>\n",
       "    </tr>\n",
       "  </tbody>\n",
       "</table>\n",
       "</div>"
      ],
      "text/plain": [
       "       features  vif_index\n",
       "0    coal_price  11.553314\n",
       "3    clouds_all   7.329885\n",
       "4    wind_speed   6.325441\n",
       "2    feels_like   1.785227\n",
       "1  holiday_bool   1.039336"
      ]
     },
     "execution_count": 79,
     "metadata": {},
     "output_type": "execute_result"
    }
   ],
   "source": [
    "df1 = pd.DataFrame()\n",
    "df1[\"vif_index\"] = [vif(df_new.values, i) for i in range(df_new.shape[1])]\n",
    "df1[\"features\"] = df_new.columns\n",
    "df1[['features', 'vif_index']].sort_values(by='vif_index', ascending=False)"
   ]
  },
  {
   "cell_type": "markdown",
   "metadata": {},
   "source": [
    "## Define features and scale"
   ]
  },
  {
   "cell_type": "code",
   "execution_count": 16,
   "metadata": {
    "ExecuteTime": {
     "end_time": "2020-11-27T15:28:17.577030Z",
     "start_time": "2020-11-27T15:28:17.567470Z"
    }
   },
   "outputs": [],
   "source": [
    "X = df.drop(['price', 'feels_like'], axis=1)\n",
    "y = df.price"
   ]
  },
  {
   "cell_type": "code",
   "execution_count": 17,
   "metadata": {
    "ExecuteTime": {
     "end_time": "2020-11-27T15:28:18.925508Z",
     "start_time": "2020-11-27T15:28:18.899515Z"
    }
   },
   "outputs": [],
   "source": [
    "scaler = MinMaxScaler()\n",
    "X_scaled = scaler.fit_transform(X)"
   ]
  },
  {
   "cell_type": "markdown",
   "metadata": {},
   "source": [
    "## Data visualization"
   ]
  },
  {
   "cell_type": "code",
   "execution_count": null,
   "metadata": {
    "ExecuteTime": {
     "end_time": "2020-11-27T14:49:22.233685Z",
     "start_time": "2020-11-27T14:49:22.152849Z"
    }
   },
   "outputs": [],
   "source": [
    "df.describe().applymap(lambda x: round(x))"
   ]
  },
  {
   "cell_type": "code",
   "execution_count": null,
   "metadata": {
    "ExecuteTime": {
     "end_time": "2020-11-27T14:49:31.479540Z",
     "start_time": "2020-11-27T14:49:31.331292Z"
    }
   },
   "outputs": [],
   "source": [
    "df[['price']].boxplot()"
   ]
  },
  {
   "cell_type": "code",
   "execution_count": 69,
   "metadata": {
    "ExecuteTime": {
     "end_time": "2020-11-27T16:01:16.914690Z",
     "start_time": "2020-11-27T16:01:16.391636Z"
    },
    "collapsed": true
   },
   "outputs": [
    {
     "data": {
      "text/plain": [
       "<AxesSubplot:title={'center':'Seaborn'}, xlabel='price', ylabel='Count'>"
      ]
     },
     "execution_count": 69,
     "metadata": {},
     "output_type": "execute_result"
    },
    {
     "data": {
      "image/png": "[encoded data removed]",
      "text/plain": [
       "<Figure size 720x360 with 1 Axes>"
      ]
     },
     "metadata": {
      "needs_background": "light"
     },
     "output_type": "display_data"
    }
   ],
   "source": [
    "plt.figure(figsize=(10, 5))\n",
    "\n",
    "\n",
    "plt.title('Seaborn')\n",
    "sns.histplot(df['price'], kde=True);\n",
    "sns.histplot(df['coal_price'], kde=True)"
   ]
  },
  {
   "cell_type": "code",
   "execution_count": 70,
   "metadata": {
    "ExecuteTime": {
     "end_time": "2020-11-27T16:01:21.417394Z",
     "start_time": "2020-11-27T16:01:20.279578Z"
    },
    "collapsed": true
   },
   "outputs": [
    {
     "name": "stderr",
     "output_type": "stream",
     "text": [
      "c:\\users\\gesi\\.venvs\\energy_price\\lib\\site-packages\\seaborn\\_decorators.py:43: FutureWarning: Pass the following variables as keyword args: x, y. From version 0.12, the only valid positional argument will be `data`, and passing other arguments without an explicit keyword will result in an error or misinterpretation.\n",
      "  FutureWarning\n",
      "c:\\users\\gesi\\.venvs\\energy_price\\lib\\site-packages\\seaborn\\_decorators.py:43: FutureWarning: Pass the following variables as keyword args: x, y. From version 0.12, the only valid positional argument will be `data`, and passing other arguments without an explicit keyword will result in an error or misinterpretation.\n",
      "  FutureWarning\n"
     ]
    },
    {
     "data": {
      "text/plain": [
       "<AxesSubplot:xlabel='coal_price', ylabel='price'>"
      ]
     },
     "execution_count": 70,
     "metadata": {},
     "output_type": "execute_result"
    },
    {
     "data": {
      "image/png": "[encoded data removed]",
      "text/plain": [
       "<Figure size 1080x720 with 2 Axes>"
      ]
     },
     "metadata": {
      "needs_background": "light"
     },
     "output_type": "display_data"
    }
   ],
   "source": [
    "plt.figure(figsize=(15,10))\n",
    "plt.subplot(2,2,1)\n",
    "sns.regplot('price_t_1', 'price', data=df, ci=95)\n",
    "plt.subplot(2,2,2)\n",
    "sns.regplot('coal_price', 'price', data=df.sample(10), ci=95)"
   ]
  },
  {
   "cell_type": "code",
   "execution_count": 68,
   "metadata": {
    "ExecuteTime": {
     "end_time": "2020-11-27T16:01:02.178497Z",
     "start_time": "2020-11-27T16:01:01.856461Z"
    },
    "collapsed": true
   },
   "outputs": [
    {
     "data": {
      "text/plain": [
       "<AxesSubplot:xlabel='coal_price', ylabel='price'>"
      ]
     },
     "execution_count": 68,
     "metadata": {},
     "output_type": "execute_result"
    },
    {
     "data": {
      "image/png": "[encoded data removed]",
      "text/plain": [
       "<Figure size 432x288 with 1 Axes>"
      ]
     },
     "metadata": {
      "needs_background": "light"
     },
     "output_type": "display_data"
    }
   ],
   "source": [
    "sns.scatterplot(x='coal_price', y='price', data=df)"
   ]
  },
  {
   "cell_type": "code",
   "execution_count": 71,
   "metadata": {
    "ExecuteTime": {
     "end_time": "2020-11-27T16:01:26.337612Z",
     "start_time": "2020-11-27T16:01:25.719933Z"
    },
    "collapsed": true
   },
   "outputs": [
    {
     "name": "stderr",
     "output_type": "stream",
     "text": [
      "c:\\users\\gesi\\.venvs\\energy_price\\lib\\site-packages\\seaborn\\_decorators.py:43: FutureWarning: Pass the following variables as keyword args: x, y. From version 0.12, the only valid positional argument will be `data`, and passing other arguments without an explicit keyword will result in an error or misinterpretation.\n",
      "  FutureWarning\n"
     ]
    },
    {
     "data": {
      "text/plain": [
       "<AxesSubplot:xlabel='coal_price', ylabel='price'>"
      ]
     },
     "execution_count": 71,
     "metadata": {},
     "output_type": "execute_result"
    },
    {
     "data": {
      "image/png": "[encoded data removed]",
      "text/plain": [
       "<Figure size 432x288 with 1 Axes>"
      ]
     },
     "metadata": {
      "needs_background": "light"
     },
     "output_type": "display_data"
    }
   ],
   "source": [
    "sns.regplot('coal_price', 'price', data=df)"
   ]
  },
  {
   "cell_type": "markdown",
   "metadata": {},
   "source": [
    "## Model\n"
   ]
  },
  {
   "cell_type": "markdown",
   "metadata": {},
   "source": [
    "### LinearReg Sklearn"
   ]
  },
  {
   "cell_type": "code",
   "execution_count": 18,
   "metadata": {
    "ExecuteTime": {
     "end_time": "2020-11-27T15:28:24.977272Z",
     "start_time": "2020-11-27T15:28:24.961003Z"
    }
   },
   "outputs": [
    {
     "data": {
      "text/plain": [
       "0.801362902727311"
      ]
     },
     "execution_count": 18,
     "metadata": {},
     "output_type": "execute_result"
    }
   ],
   "source": [
    "model_2 = LinearRegression()\n",
    "model_2.fit(X_scaled, y)\n",
    "model_2.score(X_scaled, y)  # R2"
   ]
  },
  {
   "cell_type": "code",
   "execution_count": 19,
   "metadata": {
    "ExecuteTime": {
     "end_time": "2020-11-27T15:28:29.947949Z",
     "start_time": "2020-11-27T15:28:29.923411Z"
    }
   },
   "outputs": [
    {
     "data": {
      "text/plain": [
       "array([ 2.22744776e-01,  1.14970535e+01, -5.02527546e+00, -3.60726627e+14,\n",
       "       -3.60726627e+14, -3.60726627e+14, -3.60726627e+14, -3.60726627e+14,\n",
       "       -3.60726627e+14, -3.60726627e+14, -4.23865699e+00, -4.20988281e+00,\n",
       "        2.88772666e+00, -2.86792688e+01,  4.31571785e+01,  1.58170472e+01])"
      ]
     },
     "execution_count": 19,
     "metadata": {},
     "output_type": "execute_result"
    }
   ],
   "source": [
    "model_2.coef_"
   ]
  },
  {
   "cell_type": "markdown",
   "metadata": {},
   "source": [
    "### smf statsmodels"
   ]
  },
  {
   "cell_type": "code",
   "execution_count": 20,
   "metadata": {
    "ExecuteTime": {
     "end_time": "2020-11-27T15:28:32.363497Z",
     "start_time": "2020-11-27T15:28:32.348449Z"
    }
   },
   "outputs": [],
   "source": [
    "col = df.columns[1:]"
   ]
  },
  {
   "cell_type": "code",
   "execution_count": 21,
   "metadata": {
    "ExecuteTime": {
     "end_time": "2020-11-27T15:28:33.791304Z",
     "start_time": "2020-11-27T15:28:33.771411Z"
    }
   },
   "outputs": [
    {
     "data": {
      "text/plain": [
       "'price ~ load + coal_price + holiday_bool + mon + tue + wed + thur + fri + sat + sun + temp + feels_like + humidity + clouds_all + wind_speed + price_t_1 + price_t_7'"
      ]
     },
     "execution_count": 21,
     "metadata": {},
     "output_type": "execute_result"
    }
   ],
   "source": [
    "formula = ' + '.join(col)\n",
    "formula = f\"price ~ {formula}\"\n",
    "formula"
   ]
  },
  {
   "cell_type": "code",
   "execution_count": 99,
   "metadata": {
    "ExecuteTime": {
     "end_time": "2020-11-27T16:38:19.633694Z",
     "start_time": "2020-11-27T16:38:19.556301Z"
    },
    "collapsed": true
   },
   "outputs": [
    {
     "data": {
      "text/html": [
       "<table class=\"simpletable\">\n",
       "<caption>OLS Regression Results</caption>\n",
       "<tr>\n",
       "  <th>Dep. Variable:</th>          <td>price</td>      <th>  R-squared:         </th> <td>   0.801</td> \n",
       "</tr>\n",
       "<tr>\n",
       "  <th>Model:</th>                   <td>OLS</td>       <th>  Adj. R-squared:    </th> <td>   0.799</td> \n",
       "</tr>\n",
       "<tr>\n",
       "  <th>Method:</th>             <td>Least Squares</td>  <th>  F-statistic:       </th> <td>   483.6</td> \n",
       "</tr>\n",
       "<tr>\n",
       "  <th>Date:</th>             <td>Fri, 27 Nov 2020</td> <th>  Prob (F-statistic):</th>  <td>  0.00</td>  \n",
       "</tr>\n",
       "<tr>\n",
       "  <th>Time:</th>                 <td>17:38:19</td>     <th>  Log-Likelihood:    </th> <td> -5752.3</td> \n",
       "</tr>\n",
       "<tr>\n",
       "  <th>No. Observations:</th>      <td>  1819</td>      <th>  AIC:               </th> <td>1.154e+04</td>\n",
       "</tr>\n",
       "<tr>\n",
       "  <th>Df Residuals:</th>          <td>  1803</td>      <th>  BIC:               </th> <td>1.162e+04</td>\n",
       "</tr>\n",
       "<tr>\n",
       "  <th>Df Model:</th>              <td>    15</td>      <th>                     </th>     <td> </td>    \n",
       "</tr>\n",
       "<tr>\n",
       "  <th>Covariance Type:</th>      <td>nonrobust</td>    <th>                     </th>     <td> </td>    \n",
       "</tr>\n",
       "</table>\n",
       "<table class=\"simpletable\">\n",
       "<tr>\n",
       "        <td></td>          <th>coef</th>     <th>std err</th>      <th>t</th>      <th>P>|t|</th>  <th>[0.025</th>    <th>0.975]</th>  \n",
       "</tr>\n",
       "<tr>\n",
       "  <th>Intercept</th>    <td>   19.3845</td> <td>    3.755</td> <td>    5.162</td> <td> 0.000</td> <td>   12.020</td> <td>   26.749</td>\n",
       "</tr>\n",
       "<tr>\n",
       "  <th>load</th>         <td>   -0.0008</td> <td>    0.001</td> <td>   -0.857</td> <td> 0.392</td> <td>   -0.003</td> <td>    0.001</td>\n",
       "</tr>\n",
       "<tr>\n",
       "  <th>mon</th>          <td>    7.0704</td> <td>    0.675</td> <td>   10.474</td> <td> 0.000</td> <td>    5.747</td> <td>    8.394</td>\n",
       "</tr>\n",
       "<tr>\n",
       "  <th>tue</th>          <td>    4.0812</td> <td>    0.690</td> <td>    5.918</td> <td> 0.000</td> <td>    2.729</td> <td>    5.434</td>\n",
       "</tr>\n",
       "<tr>\n",
       "  <th>wed</th>          <td>    3.8793</td> <td>    0.692</td> <td>    5.606</td> <td> 0.000</td> <td>    2.522</td> <td>    5.236</td>\n",
       "</tr>\n",
       "<tr>\n",
       "  <th>thur</th>         <td>    3.7656</td> <td>    0.699</td> <td>    5.389</td> <td> 0.000</td> <td>    2.395</td> <td>    5.136</td>\n",
       "</tr>\n",
       "<tr>\n",
       "  <th>fri</th>          <td>    3.2109</td> <td>    0.645</td> <td>    4.980</td> <td> 0.000</td> <td>    1.946</td> <td>    4.475</td>\n",
       "</tr>\n",
       "<tr>\n",
       "  <th>sat</th>          <td>   -1.8838</td> <td>    0.583</td> <td>   -3.232</td> <td> 0.001</td> <td>   -3.027</td> <td>   -0.741</td>\n",
       "</tr>\n",
       "<tr>\n",
       "  <th>sun</th>          <td>   -0.7391</td> <td>    0.575</td> <td>   -1.287</td> <td> 0.198</td> <td>   -1.866</td> <td>    0.388</td>\n",
       "</tr>\n",
       "<tr>\n",
       "  <th>holiday_bool</th> <td>   -5.1646</td> <td>    0.830</td> <td>   -6.223</td> <td> 0.000</td> <td>   -6.792</td> <td>   -3.537</td>\n",
       "</tr>\n",
       "<tr>\n",
       "  <th>coal_price</th>   <td>    0.2022</td> <td>    0.014</td> <td>   14.176</td> <td> 0.000</td> <td>    0.174</td> <td>    0.230</td>\n",
       "</tr>\n",
       "<tr>\n",
       "  <th>humidity</th>     <td>   -0.0773</td> <td>    0.028</td> <td>   -2.807</td> <td> 0.005</td> <td>   -0.131</td> <td>   -0.023</td>\n",
       "</tr>\n",
       "<tr>\n",
       "  <th>temp</th>         <td>   -1.5104</td> <td>    0.706</td> <td>   -2.141</td> <td> 0.032</td> <td>   -2.894</td> <td>   -0.127</td>\n",
       "</tr>\n",
       "<tr>\n",
       "  <th>wind_speed</th>   <td>   -1.8333</td> <td>    0.416</td> <td>   -4.405</td> <td> 0.000</td> <td>   -2.650</td> <td>   -1.017</td>\n",
       "</tr>\n",
       "<tr>\n",
       "  <th>feels_like</th>   <td>    1.1190</td> <td>    0.581</td> <td>    1.925</td> <td> 0.054</td> <td>   -0.021</td> <td>    2.259</td>\n",
       "</tr>\n",
       "<tr>\n",
       "  <th>price_t_1</th>    <td>    0.4652</td> <td>    0.016</td> <td>   28.795</td> <td> 0.000</td> <td>    0.434</td> <td>    0.497</td>\n",
       "</tr>\n",
       "<tr>\n",
       "  <th>price_t_7</th>    <td>    0.1704</td> <td>    0.015</td> <td>   11.327</td> <td> 0.000</td> <td>    0.141</td> <td>    0.200</td>\n",
       "</tr>\n",
       "</table>\n",
       "<table class=\"simpletable\">\n",
       "<tr>\n",
       "  <th>Omnibus:</th>       <td>111.783</td> <th>  Durbin-Watson:     </th> <td>   1.700</td>\n",
       "</tr>\n",
       "<tr>\n",
       "  <th>Prob(Omnibus):</th> <td> 0.000</td>  <th>  Jarque-Bera (JB):  </th> <td> 412.686</td>\n",
       "</tr>\n",
       "<tr>\n",
       "  <th>Skew:</th>          <td>-0.178</td>  <th>  Prob(JB):          </th> <td>2.43e-90</td>\n",
       "</tr>\n",
       "<tr>\n",
       "  <th>Kurtosis:</th>      <td> 5.306</td>  <th>  Cond. No.          </th> <td>2.88e+19</td>\n",
       "</tr>\n",
       "</table><br/><br/>Notes:<br/>[1] Standard Errors assume that the covariance matrix of the errors is correctly specified.<br/>[2] The smallest eigenvalue is 1.16e-29. This might indicate that there are<br/>strong multicollinearity problems or that the design matrix is singular."
      ],
      "text/plain": [
       "<class 'statsmodels.iolib.summary.Summary'>\n",
       "\"\"\"\n",
       "                            OLS Regression Results                            \n",
       "==============================================================================\n",
       "Dep. Variable:                  price   R-squared:                       0.801\n",
       "Model:                            OLS   Adj. R-squared:                  0.799\n",
       "Method:                 Least Squares   F-statistic:                     483.6\n",
       "Date:                Fri, 27 Nov 2020   Prob (F-statistic):               0.00\n",
       "Time:                        17:38:19   Log-Likelihood:                -5752.3\n",
       "No. Observations:                1819   AIC:                         1.154e+04\n",
       "Df Residuals:                    1803   BIC:                         1.162e+04\n",
       "Df Model:                          15                                         \n",
       "Covariance Type:            nonrobust                                         \n",
       "================================================================================\n",
       "                   coef    std err          t      P>|t|      [0.025      0.975]\n",
       "--------------------------------------------------------------------------------\n",
       "Intercept       19.3845      3.755      5.162      0.000      12.020      26.749\n",
       "load            -0.0008      0.001     -0.857      0.392      -0.003       0.001\n",
       "mon              7.0704      0.675     10.474      0.000       5.747       8.394\n",
       "tue              4.0812      0.690      5.918      0.000       2.729       5.434\n",
       "wed              3.8793      0.692      5.606      0.000       2.522       5.236\n",
       "thur             3.7656      0.699      5.389      0.000       2.395       5.136\n",
       "fri              3.2109      0.645      4.980      0.000       1.946       4.475\n",
       "sat             -1.8838      0.583     -3.232      0.001      -3.027      -0.741\n",
       "sun             -0.7391      0.575     -1.287      0.198      -1.866       0.388\n",
       "holiday_bool    -5.1646      0.830     -6.223      0.000      -6.792      -3.537\n",
       "coal_price       0.2022      0.014     14.176      0.000       0.174       0.230\n",
       "humidity        -0.0773      0.028     -2.807      0.005      -0.131      -0.023\n",
       "temp            -1.5104      0.706     -2.141      0.032      -2.894      -0.127\n",
       "wind_speed      -1.8333      0.416     -4.405      0.000      -2.650      -1.017\n",
       "feels_like       1.1190      0.581      1.925      0.054      -0.021       2.259\n",
       "price_t_1        0.4652      0.016     28.795      0.000       0.434       0.497\n",
       "price_t_7        0.1704      0.015     11.327      0.000       0.141       0.200\n",
       "==============================================================================\n",
       "Omnibus:                      111.783   Durbin-Watson:                   1.700\n",
       "Prob(Omnibus):                  0.000   Jarque-Bera (JB):              412.686\n",
       "Skew:                          -0.178   Prob(JB):                     2.43e-90\n",
       "Kurtosis:                       5.306   Cond. No.                     2.88e+19\n",
       "==============================================================================\n",
       "\n",
       "Notes:\n",
       "[1] Standard Errors assume that the covariance matrix of the errors is correctly specified.\n",
       "[2] The smallest eigenvalue is 1.16e-29. This might indicate that there are\n",
       "strong multicollinearity problems or that the design matrix is singular.\n",
       "\"\"\""
      ]
     },
     "execution_count": 99,
     "metadata": {},
     "output_type": "execute_result"
    }
   ],
   "source": [
    "model_3 = smf.ols('price ~ load + mon + tue + wed + thur + fri + sat + sun + holiday_bool + coal_price + humidity  + temp + wind_speed + feels_like + price_t_1 + price_t_7', data=df).fit()\n",
    "model_3.summary()"
   ]
  },
  {
   "cell_type": "code",
   "execution_count": 97,
   "metadata": {
    "ExecuteTime": {
     "end_time": "2020-11-27T16:37:05.843383Z",
     "start_time": "2020-11-27T16:37:05.799384Z"
    },
    "collapsed": true
   },
   "outputs": [
    {
     "data": {
      "text/html": [
       "<table class=\"simpletable\">\n",
       "<caption>OLS Regression Results</caption>\n",
       "<tr>\n",
       "  <th>Dep. Variable:</th>          <td>price</td>      <th>  R-squared:         </th> <td>   0.589</td> \n",
       "</tr>\n",
       "<tr>\n",
       "  <th>Model:</th>                   <td>OLS</td>       <th>  Adj. R-squared:    </th> <td>   0.588</td> \n",
       "</tr>\n",
       "<tr>\n",
       "  <th>Method:</th>             <td>Least Squares</td>  <th>  F-statistic:       </th> <td>   519.3</td> \n",
       "</tr>\n",
       "<tr>\n",
       "  <th>Date:</th>             <td>Fri, 27 Nov 2020</td> <th>  Prob (F-statistic):</th>  <td>  0.00</td>  \n",
       "</tr>\n",
       "<tr>\n",
       "  <th>Time:</th>                 <td>17:37:05</td>     <th>  Log-Likelihood:    </th> <td> -6411.9</td> \n",
       "</tr>\n",
       "<tr>\n",
       "  <th>No. Observations:</th>      <td>  1819</td>      <th>  AIC:               </th> <td>1.284e+04</td>\n",
       "</tr>\n",
       "<tr>\n",
       "  <th>Df Residuals:</th>          <td>  1813</td>      <th>  BIC:               </th> <td>1.287e+04</td>\n",
       "</tr>\n",
       "<tr>\n",
       "  <th>Df Model:</th>              <td>     5</td>      <th>                     </th>     <td> </td>    \n",
       "</tr>\n",
       "<tr>\n",
       "  <th>Covariance Type:</th>      <td>nonrobust</td>    <th>                     </th>     <td> </td>    \n",
       "</tr>\n",
       "</table>\n",
       "<table class=\"simpletable\">\n",
       "<tr>\n",
       "        <td></td>          <th>coef</th>     <th>std err</th>      <th>t</th>      <th>P>|t|</th>  <th>[0.025</th>    <th>0.975]</th>  \n",
       "</tr>\n",
       "<tr>\n",
       "  <th>Intercept</th>    <td>    9.8719</td> <td>    1.142</td> <td>    8.643</td> <td> 0.000</td> <td>    7.632</td> <td>   12.112</td>\n",
       "</tr>\n",
       "<tr>\n",
       "  <th>holiday_bool</th> <td>   -7.1088</td> <td>    1.086</td> <td>   -6.548</td> <td> 0.000</td> <td>   -9.238</td> <td>   -4.980</td>\n",
       "</tr>\n",
       "<tr>\n",
       "  <th>feels_like</th>   <td>   -0.0076</td> <td>    0.028</td> <td>   -0.270</td> <td> 0.787</td> <td>   -0.063</td> <td>    0.047</td>\n",
       "</tr>\n",
       "<tr>\n",
       "  <th>coal_price</th>   <td>    0.5391</td> <td>    0.015</td> <td>   36.772</td> <td> 0.000</td> <td>    0.510</td> <td>    0.568</td>\n",
       "</tr>\n",
       "<tr>\n",
       "  <th>clouds_all</th>   <td>    0.0455</td> <td>    0.008</td> <td>    5.381</td> <td> 0.000</td> <td>    0.029</td> <td>    0.062</td>\n",
       "</tr>\n",
       "<tr>\n",
       "  <th>wind_speed</th>   <td>   -3.6094</td> <td>    0.124</td> <td>  -29.091</td> <td> 0.000</td> <td>   -3.853</td> <td>   -3.366</td>\n",
       "</tr>\n",
       "</table>\n",
       "<table class=\"simpletable\">\n",
       "<tr>\n",
       "  <th>Omnibus:</th>       <td>35.646</td> <th>  Durbin-Watson:     </th> <td>   0.752</td>\n",
       "</tr>\n",
       "<tr>\n",
       "  <th>Prob(Omnibus):</th> <td> 0.000</td> <th>  Jarque-Bera (JB):  </th> <td>  70.286</td>\n",
       "</tr>\n",
       "<tr>\n",
       "  <th>Skew:</th>          <td>-0.059</td> <th>  Prob(JB):          </th> <td>5.46e-16</td>\n",
       "</tr>\n",
       "<tr>\n",
       "  <th>Kurtosis:</th>      <td> 3.956</td> <th>  Cond. No.          </th> <td>    544.</td>\n",
       "</tr>\n",
       "</table><br/><br/>Notes:<br/>[1] Standard Errors assume that the covariance matrix of the errors is correctly specified."
      ],
      "text/plain": [
       "<class 'statsmodels.iolib.summary.Summary'>\n",
       "\"\"\"\n",
       "                            OLS Regression Results                            \n",
       "==============================================================================\n",
       "Dep. Variable:                  price   R-squared:                       0.589\n",
       "Model:                            OLS   Adj. R-squared:                  0.588\n",
       "Method:                 Least Squares   F-statistic:                     519.3\n",
       "Date:                Fri, 27 Nov 2020   Prob (F-statistic):               0.00\n",
       "Time:                        17:37:05   Log-Likelihood:                -6411.9\n",
       "No. Observations:                1819   AIC:                         1.284e+04\n",
       "Df Residuals:                    1813   BIC:                         1.287e+04\n",
       "Df Model:                           5                                         \n",
       "Covariance Type:            nonrobust                                         \n",
       "================================================================================\n",
       "                   coef    std err          t      P>|t|      [0.025      0.975]\n",
       "--------------------------------------------------------------------------------\n",
       "Intercept        9.8719      1.142      8.643      0.000       7.632      12.112\n",
       "holiday_bool    -7.1088      1.086     -6.548      0.000      -9.238      -4.980\n",
       "feels_like      -0.0076      0.028     -0.270      0.787      -0.063       0.047\n",
       "coal_price       0.5391      0.015     36.772      0.000       0.510       0.568\n",
       "clouds_all       0.0455      0.008      5.381      0.000       0.029       0.062\n",
       "wind_speed      -3.6094      0.124    -29.091      0.000      -3.853      -3.366\n",
       "==============================================================================\n",
       "Omnibus:                       35.646   Durbin-Watson:                   0.752\n",
       "Prob(Omnibus):                  0.000   Jarque-Bera (JB):               70.286\n",
       "Skew:                          -0.059   Prob(JB):                     5.46e-16\n",
       "Kurtosis:                       3.956   Cond. No.                         544.\n",
       "==============================================================================\n",
       "\n",
       "Notes:\n",
       "[1] Standard Errors assume that the covariance matrix of the errors is correctly specified.\n",
       "\"\"\""
      ]
     },
     "execution_count": 97,
     "metadata": {},
     "output_type": "execute_result"
    }
   ],
   "source": [
    "model_3_1 = smf.ols('price ~  holiday_bool + feels_like + coal_price  + clouds_all + wind_speed', data=df).fit()\n",
    "model_3_1.summary()"
   ]
  },
  {
   "cell_type": "code",
   "execution_count": 82,
   "metadata": {
    "ExecuteTime": {
     "end_time": "2020-11-27T16:16:00.040895Z",
     "start_time": "2020-11-27T16:16:00.028895Z"
    }
   },
   "outputs": [],
   "source": [
    "train = df.iloc[: 1796,:]\n",
    "test = df.iloc[1796:, :]"
   ]
  },
  {
   "cell_type": "code",
   "execution_count": 87,
   "metadata": {
    "ExecuteTime": {
     "end_time": "2020-11-27T16:16:57.097053Z",
     "start_time": "2020-11-27T16:16:57.030050Z"
    },
    "collapsed": true
   },
   "outputs": [
    {
     "data": {
      "text/html": [
       "<table class=\"simpletable\">\n",
       "<caption>OLS Regression Results</caption>\n",
       "<tr>\n",
       "  <th>Dep. Variable:</th>          <td>price</td>      <th>  R-squared:         </th> <td>   0.803</td> \n",
       "</tr>\n",
       "<tr>\n",
       "  <th>Model:</th>                   <td>OLS</td>       <th>  Adj. R-squared:    </th> <td>   0.802</td> \n",
       "</tr>\n",
       "<tr>\n",
       "  <th>Method:</th>             <td>Least Squares</td>  <th>  F-statistic:       </th> <td>   519.1</td> \n",
       "</tr>\n",
       "<tr>\n",
       "  <th>Date:</th>             <td>Fri, 27 Nov 2020</td> <th>  Prob (F-statistic):</th>  <td>  0.00</td>  \n",
       "</tr>\n",
       "<tr>\n",
       "  <th>Time:</th>                 <td>17:16:57</td>     <th>  Log-Likelihood:    </th> <td> -5647.0</td> \n",
       "</tr>\n",
       "<tr>\n",
       "  <th>No. Observations:</th>      <td>  1796</td>      <th>  AIC:               </th> <td>1.132e+04</td>\n",
       "</tr>\n",
       "<tr>\n",
       "  <th>Df Residuals:</th>          <td>  1781</td>      <th>  BIC:               </th> <td>1.141e+04</td>\n",
       "</tr>\n",
       "<tr>\n",
       "  <th>Df Model:</th>              <td>    14</td>      <th>                     </th>     <td> </td>    \n",
       "</tr>\n",
       "<tr>\n",
       "  <th>Covariance Type:</th>      <td>nonrobust</td>    <th>                     </th>     <td> </td>    \n",
       "</tr>\n",
       "</table>\n",
       "<table class=\"simpletable\">\n",
       "<tr>\n",
       "        <td></td>          <th>coef</th>     <th>std err</th>      <th>t</th>      <th>P>|t|</th>  <th>[0.025</th>    <th>0.975]</th>  \n",
       "</tr>\n",
       "<tr>\n",
       "  <th>Intercept</th>    <td>   11.8813</td> <td>    2.223</td> <td>    5.345</td> <td> 0.000</td> <td>    7.521</td> <td>   16.241</td>\n",
       "</tr>\n",
       "<tr>\n",
       "  <th>load</th>         <td>-4.807e-05</td> <td>    0.001</td> <td>   -0.053</td> <td> 0.958</td> <td>   -0.002</td> <td>    0.002</td>\n",
       "</tr>\n",
       "<tr>\n",
       "  <th>mon</th>          <td>    5.8641</td> <td>    0.523</td> <td>   11.215</td> <td> 0.000</td> <td>    4.839</td> <td>    6.890</td>\n",
       "</tr>\n",
       "<tr>\n",
       "  <th>tue</th>          <td>    2.8957</td> <td>    0.527</td> <td>    5.499</td> <td> 0.000</td> <td>    1.863</td> <td>    3.929</td>\n",
       "</tr>\n",
       "<tr>\n",
       "  <th>wed</th>          <td>    2.7120</td> <td>    0.535</td> <td>    5.069</td> <td> 0.000</td> <td>    1.663</td> <td>    3.761</td>\n",
       "</tr>\n",
       "<tr>\n",
       "  <th>thur</th>         <td>    2.5901</td> <td>    0.537</td> <td>    4.822</td> <td> 0.000</td> <td>    1.537</td> <td>    3.644</td>\n",
       "</tr>\n",
       "<tr>\n",
       "  <th>fri</th>          <td>    1.9468</td> <td>    0.472</td> <td>    4.128</td> <td> 0.000</td> <td>    1.022</td> <td>    2.872</td>\n",
       "</tr>\n",
       "<tr>\n",
       "  <th>sat</th>          <td>   -2.6662</td> <td>    0.389</td> <td>   -6.851</td> <td> 0.000</td> <td>   -3.430</td> <td>   -1.903</td>\n",
       "</tr>\n",
       "<tr>\n",
       "  <th>sun</th>          <td>   -1.4611</td> <td>    0.398</td> <td>   -3.670</td> <td> 0.000</td> <td>   -2.242</td> <td>   -0.680</td>\n",
       "</tr>\n",
       "<tr>\n",
       "  <th>holiday_bool</th> <td>   -5.0659</td> <td>    0.815</td> <td>   -6.218</td> <td> 0.000</td> <td>   -6.664</td> <td>   -3.468</td>\n",
       "</tr>\n",
       "<tr>\n",
       "  <th>coal_price</th>   <td>    0.1955</td> <td>    0.014</td> <td>   13.992</td> <td> 0.000</td> <td>    0.168</td> <td>    0.223</td>\n",
       "</tr>\n",
       "<tr>\n",
       "  <th>humidity</th>     <td>   -0.0299</td> <td>    0.015</td> <td>   -1.992</td> <td> 0.047</td> <td>   -0.059</td> <td>   -0.000</td>\n",
       "</tr>\n",
       "<tr>\n",
       "  <th>temp</th>         <td>   -0.1341</td> <td>    0.030</td> <td>   -4.519</td> <td> 0.000</td> <td>   -0.192</td> <td>   -0.076</td>\n",
       "</tr>\n",
       "<tr>\n",
       "  <th>wind_speed</th>   <td>   -2.5844</td> <td>    0.088</td> <td>  -29.332</td> <td> 0.000</td> <td>   -2.757</td> <td>   -2.412</td>\n",
       "</tr>\n",
       "<tr>\n",
       "  <th>price_t_1</th>    <td>    0.4563</td> <td>    0.016</td> <td>   28.111</td> <td> 0.000</td> <td>    0.424</td> <td>    0.488</td>\n",
       "</tr>\n",
       "<tr>\n",
       "  <th>price_t_7</th>    <td>    0.1856</td> <td>    0.015</td> <td>   12.298</td> <td> 0.000</td> <td>    0.156</td> <td>    0.215</td>\n",
       "</tr>\n",
       "</table>\n",
       "<table class=\"simpletable\">\n",
       "<tr>\n",
       "  <th>Omnibus:</th>       <td>111.791</td> <th>  Durbin-Watson:     </th> <td>   1.706</td>\n",
       "</tr>\n",
       "<tr>\n",
       "  <th>Prob(Omnibus):</th> <td> 0.000</td>  <th>  Jarque-Bera (JB):  </th> <td> 425.313</td>\n",
       "</tr>\n",
       "<tr>\n",
       "  <th>Skew:</th>          <td>-0.167</td>  <th>  Prob(JB):          </th> <td>4.41e-93</td>\n",
       "</tr>\n",
       "<tr>\n",
       "  <th>Kurtosis:</th>      <td> 5.360</td>  <th>  Cond. No.          </th> <td>1.77e+19</td>\n",
       "</tr>\n",
       "</table><br/><br/>Notes:<br/>[1] Standard Errors assume that the covariance matrix of the errors is correctly specified.<br/>[2] The smallest eigenvalue is 3.03e-29. This might indicate that there are<br/>strong multicollinearity problems or that the design matrix is singular."
      ],
      "text/plain": [
       "<class 'statsmodels.iolib.summary.Summary'>\n",
       "\"\"\"\n",
       "                            OLS Regression Results                            \n",
       "==============================================================================\n",
       "Dep. Variable:                  price   R-squared:                       0.803\n",
       "Model:                            OLS   Adj. R-squared:                  0.802\n",
       "Method:                 Least Squares   F-statistic:                     519.1\n",
       "Date:                Fri, 27 Nov 2020   Prob (F-statistic):               0.00\n",
       "Time:                        17:16:57   Log-Likelihood:                -5647.0\n",
       "No. Observations:                1796   AIC:                         1.132e+04\n",
       "Df Residuals:                    1781   BIC:                         1.141e+04\n",
       "Df Model:                          14                                         \n",
       "Covariance Type:            nonrobust                                         \n",
       "================================================================================\n",
       "                   coef    std err          t      P>|t|      [0.025      0.975]\n",
       "--------------------------------------------------------------------------------\n",
       "Intercept       11.8813      2.223      5.345      0.000       7.521      16.241\n",
       "load         -4.807e-05      0.001     -0.053      0.958      -0.002       0.002\n",
       "mon              5.8641      0.523     11.215      0.000       4.839       6.890\n",
       "tue              2.8957      0.527      5.499      0.000       1.863       3.929\n",
       "wed              2.7120      0.535      5.069      0.000       1.663       3.761\n",
       "thur             2.5901      0.537      4.822      0.000       1.537       3.644\n",
       "fri              1.9468      0.472      4.128      0.000       1.022       2.872\n",
       "sat             -2.6662      0.389     -6.851      0.000      -3.430      -1.903\n",
       "sun             -1.4611      0.398     -3.670      0.000      -2.242      -0.680\n",
       "holiday_bool    -5.0659      0.815     -6.218      0.000      -6.664      -3.468\n",
       "coal_price       0.1955      0.014     13.992      0.000       0.168       0.223\n",
       "humidity        -0.0299      0.015     -1.992      0.047      -0.059      -0.000\n",
       "temp            -0.1341      0.030     -4.519      0.000      -0.192      -0.076\n",
       "wind_speed      -2.5844      0.088    -29.332      0.000      -2.757      -2.412\n",
       "price_t_1        0.4563      0.016     28.111      0.000       0.424       0.488\n",
       "price_t_7        0.1856      0.015     12.298      0.000       0.156       0.215\n",
       "==============================================================================\n",
       "Omnibus:                      111.791   Durbin-Watson:                   1.706\n",
       "Prob(Omnibus):                  0.000   Jarque-Bera (JB):              425.313\n",
       "Skew:                          -0.167   Prob(JB):                     4.41e-93\n",
       "Kurtosis:                       5.360   Cond. No.                     1.77e+19\n",
       "==============================================================================\n",
       "\n",
       "Notes:\n",
       "[1] Standard Errors assume that the covariance matrix of the errors is correctly specified.\n",
       "[2] The smallest eigenvalue is 3.03e-29. This might indicate that there are\n",
       "strong multicollinearity problems or that the design matrix is singular.\n",
       "\"\"\""
      ]
     },
     "execution_count": 87,
     "metadata": {},
     "output_type": "execute_result"
    }
   ],
   "source": [
    "model_4 = smf.ols('price ~ load + mon + tue + wed + thur + fri + sat + sun + holiday_bool + coal_price + humidity  + temp + wind_speed + price_t_1 + price_t_7', data=train).fit()\n",
    "model_4.summary()"
   ]
  },
  {
   "cell_type": "code",
   "execution_count": 88,
   "metadata": {
    "ExecuteTime": {
     "end_time": "2020-11-27T16:17:03.835212Z",
     "start_time": "2020-11-27T16:17:03.791098Z"
    },
    "scrolled": false
   },
   "outputs": [
    {
     "name": "stderr",
     "output_type": "stream",
     "text": [
      "c:\\users\\gesi\\.venvs\\energy_price\\lib\\site-packages\\ipykernel_launcher.py:1: SettingWithCopyWarning: \n",
      "A value is trying to be set on a copy of a slice from a DataFrame.\n",
      "Try using .loc[row_indexer,col_indexer] = value instead\n",
      "\n",
      "See the caveats in the documentation: https://pandas.pydata.org/pandas-docs/stable/user_guide/indexing.html#returning-a-view-versus-a-copy\n",
      "  \"\"\"Entry point for launching an IPython kernel.\n"
     ]
    }
   ],
   "source": [
    "test['pred_price'] =  model_4.predict(test)"
   ]
  },
  {
   "cell_type": "code",
   "execution_count": 89,
   "metadata": {
    "ExecuteTime": {
     "end_time": "2020-11-27T16:17:08.208478Z",
     "start_time": "2020-11-27T16:17:08.196988Z"
    }
   },
   "outputs": [],
   "source": [
    "MAPE = ((abs(test['price'] - test['pred_price']))/(test['price'])).mean()*100"
   ]
  },
  {
   "cell_type": "code",
   "execution_count": 90,
   "metadata": {
    "ExecuteTime": {
     "end_time": "2020-11-27T16:17:11.248063Z",
     "start_time": "2020-11-27T16:17:11.237797Z"
    }
   },
   "outputs": [
    {
     "data": {
      "text/plain": [
       "310.52391884464276"
      ]
     },
     "execution_count": 90,
     "metadata": {},
     "output_type": "execute_result"
    }
   ],
   "source": [
    "MAPE"
   ]
  },
  {
   "cell_type": "code",
   "execution_count": 30,
   "metadata": {
    "ExecuteTime": {
     "end_time": "2020-11-27T15:42:48.155936Z",
     "start_time": "2020-11-27T15:42:48.144306Z"
    }
   },
   "outputs": [
    {
     "data": {
      "text/plain": [
       "Index(['price', 'load', 'coal_price', 'holiday_bool', 'mon', 'tue', 'wed',\n",
       "       'thur', 'fri', 'sat', 'sun', 'temp', 'feels_like', 'humidity',\n",
       "       'clouds_all', 'wind_speed', 'price_t_1', 'price_t_7'],\n",
       "      dtype='object')"
      ]
     },
     "execution_count": 30,
     "metadata": {},
     "output_type": "execute_result"
    }
   ],
   "source": [
    "df.columns"
   ]
  },
  {
   "cell_type": "code",
   "execution_count": 28,
   "metadata": {
    "ExecuteTime": {
     "end_time": "2020-11-27T15:40:09.023023Z",
     "start_time": "2020-11-27T15:40:09.008981Z"
    }
   },
   "outputs": [
    {
     "data": {
      "text/plain": [
       "array([23.32500443, 25.11682251, 13.2450796 , ..., 21.00238685,\n",
       "        3.61053035, 14.3492496 ])"
      ]
     },
     "execution_count": 28,
     "metadata": {},
     "output_type": "execute_result"
    }
   ],
   "source": [
    "model_3.predict()"
   ]
  },
  {
   "cell_type": "code",
   "execution_count": null,
   "metadata": {
    "ExecuteTime": {
     "end_time": "2020-11-27T14:51:19.567393Z",
     "start_time": "2020-11-27T14:51:19.248270Z"
    }
   },
   "outputs": [],
   "source": [
    "residuals = model_3.resid\n",
    "sns.distplot(model_3.resid)"
   ]
  },
  {
   "cell_type": "code",
   "execution_count": null,
   "metadata": {
    "ExecuteTime": {
     "end_time": "2020-11-27T14:51:23.076738Z",
     "start_time": "2020-11-27T14:51:23.060753Z"
    }
   },
   "outputs": [],
   "source": [
    "predictions = model_3.predict()"
   ]
  },
  {
   "cell_type": "code",
   "execution_count": null,
   "metadata": {
    "ExecuteTime": {
     "end_time": "2020-11-27T14:51:25.594922Z",
     "start_time": "2020-11-27T14:51:25.389387Z"
    }
   },
   "outputs": [],
   "source": [
    "# Check with Residuals vs. Fitted scatterplot\n",
    "sns.scatterplot(predictions, residuals)\n",
    "plt.xlabel('Predicted weight')\n",
    "plt.ylabel('Residual weight')"
   ]
  },
  {
   "cell_type": "code",
   "execution_count": null,
   "metadata": {
    "ExecuteTime": {
     "end_time": "2020-11-27T14:30:27.397268Z",
     "start_time": "2020-11-27T14:30:27.383198Z"
    },
    "scrolled": true
   },
   "outputs": [],
   "source": [
    "from pandas.plotting import lag_plot\n",
    "from pandas.plotting import autocorrelation_plot\n"
   ]
  },
  {
   "cell_type": "code",
   "execution_count": null,
   "metadata": {
    "ExecuteTime": {
     "end_time": "2020-11-27T14:38:40.565595Z",
     "start_time": "2020-11-27T14:38:40.393563Z"
    }
   },
   "outputs": [],
   "source": [
    "lag_plot(df['price'], lag=1)"
   ]
  },
  {
   "cell_type": "code",
   "execution_count": 72,
   "metadata": {
    "ExecuteTime": {
     "end_time": "2020-11-27T16:01:38.808469Z",
     "start_time": "2020-11-27T16:01:38.533838Z"
    },
    "scrolled": true
   },
   "outputs": [
    {
     "data": {
      "text/plain": [
       "<AxesSubplot:>"
      ]
     },
     "execution_count": 72,
     "metadata": {},
     "output_type": "execute_result"
    },
    {
     "data": {
      "image/png": "[encoded data removed]",
      "text/plain": [
       "<Figure size 432x288 with 1 Axes>"
      ]
     },
     "metadata": {
      "needs_background": "light"
     },
     "output_type": "display_data"
    }
   ],
   "source": [
    "df['price'].plot()"
   ]
  },
  {
   "cell_type": "code",
   "execution_count": 73,
   "metadata": {
    "ExecuteTime": {
     "end_time": "2020-11-27T16:01:40.672859Z",
     "start_time": "2020-11-27T16:01:40.422642Z"
    },
    "scrolled": false
   },
   "outputs": [
    {
     "data": {
      "text/plain": [
       "<AxesSubplot:>"
      ]
     },
     "execution_count": 73,
     "metadata": {},
     "output_type": "execute_result"
    },
    {
     "data": {
      "image/png": "[encoded data removed]",
      "text/plain": [
       "<Figure size 432x288 with 1 Axes>"
      ]
     },
     "metadata": {
      "needs_background": "light"
     },
     "output_type": "display_data"
    }
   ],
   "source": [
    "df['coal_price'].plot()"
   ]
  },
  {
   "cell_type": "code",
   "execution_count": null,
   "metadata": {
    "ExecuteTime": {
     "end_time": "2020-11-27T14:30:29.177542Z",
     "start_time": "2020-11-27T14:30:28.980993Z"
    },
    "scrolled": true
   },
   "outputs": [],
   "source": [
    "autocorrelation_plot(df['temp'])"
   ]
  },
  {
   "cell_type": "code",
   "execution_count": null,
   "metadata": {
    "ExecuteTime": {
     "end_time": "2020-11-27T14:51:41.947007Z",
     "start_time": "2020-11-27T14:51:39.412267Z"
    },
    "scrolled": true
   },
   "outputs": [],
   "source": [
    "fig = plt.figure(figsize=(10,36))\n",
    "fig = sm.graphics.plot_partregress_grid(model_3, fig=fig)"
   ]
  },
  {
   "cell_type": "code",
   "execution_count": null,
   "metadata": {
    "ExecuteTime": {
     "end_time": "2020-11-27T14:51:35.837431Z",
     "start_time": "2020-11-27T14:51:35.779267Z"
    }
   },
   "outputs": [],
   "source": [
    "model = smf.ols(formula=formula, data=df).fit()"
   ]
  },
  {
   "cell_type": "code",
   "execution_count": null,
   "metadata": {
    "ExecuteTime": {
     "end_time": "2020-11-27T14:51:37.358241Z",
     "start_time": "2020-11-27T14:51:37.324055Z"
    }
   },
   "outputs": [],
   "source": [
    "model.summary()"
   ]
  },
  {
   "cell_type": "code",
   "execution_count": null,
   "metadata": {},
   "outputs": [],
   "source": [
    "data_train, data_test = train_test_split"
   ]
  },
  {
   "cell_type": "code",
   "execution_count": null,
   "metadata": {
    "ExecuteTime": {
     "end_time": "2020-11-27T15:02:38.925306Z",
     "start_time": "2020-11-27T15:02:38.905276Z"
    }
   },
   "outputs": [],
   "source": [
    "# from sklearn.model_selection import train_test_split\n",
    "\n",
    "# # Ready X and y\n",
    "# X = df.drop(['price', 'feels_like'], axis=1)\n",
    "# y = df['price']\n",
    "\n",
    "# # Split into Train/Test\n",
    "# X_train, X_test, y_train, y_test = train_test_split(X, y, test_size=0.3,random_state = 4)"
   ]
  },
  {
   "cell_type": "code",
   "execution_count": null,
   "metadata": {
    "ExecuteTime": {
     "end_time": "2020-11-27T15:05:05.827130Z",
     "start_time": "2020-11-27T15:05:05.793628Z"
    }
   },
   "outputs": [],
   "source": [
    "lin_model = LinearRegression()\n",
    "\n",
    "# Train the model on the Training data\n",
    "lin_model.fit(X_train, y_train)\n",
    "\n",
    "# Score the model on the Training data\n",
    "lin_model.score(X_train,y_train)"
   ]
  },
  {
   "cell_type": "code",
   "execution_count": null,
   "metadata": {
    "ExecuteTime": {
     "end_time": "2020-11-27T15:05:19.676403Z",
     "start_time": "2020-11-27T15:05:19.657638Z"
    }
   },
   "outputs": [],
   "source": [
    "# Score the model on the Testing data\n",
    "lin_model.score(X_test,y_test)"
   ]
  },
  {
   "cell_type": "code",
   "execution_count": 91,
   "metadata": {
    "ExecuteTime": {
     "end_time": "2020-11-27T16:29:14.210397Z",
     "start_time": "2020-11-27T16:29:14.192345Z"
    }
   },
   "outputs": [],
   "source": [
    "from sklearn.metrics import mean_squared_error"
   ]
  },
  {
   "cell_type": "code",
   "execution_count": 119,
   "metadata": {
    "ExecuteTime": {
     "end_time": "2020-11-27T16:49:05.916915Z",
     "start_time": "2020-11-27T16:49:05.902393Z"
    }
   },
   "outputs": [],
   "source": [
    "y_pred = model_3.predict()"
   ]
  },
  {
   "cell_type": "code",
   "execution_count": 120,
   "metadata": {
    "ExecuteTime": {
     "end_time": "2020-11-27T16:49:07.661308Z",
     "start_time": "2020-11-27T16:49:07.644992Z"
    }
   },
   "outputs": [],
   "source": [
    "import math\n",
    "\n",
    "mse = mean_squared_error(y, y_pred)\n",
    "\n",
    "rmse = math.sqrt(mse)"
   ]
  },
  {
   "cell_type": "code",
   "execution_count": 121,
   "metadata": {
    "ExecuteTime": {
     "end_time": "2020-11-27T16:49:08.621143Z",
     "start_time": "2020-11-27T16:49:08.611066Z"
    }
   },
   "outputs": [
    {
     "data": {
      "text/plain": [
       "5.716790555726477"
      ]
     },
     "execution_count": 121,
     "metadata": {},
     "output_type": "execute_result"
    }
   ],
   "source": [
    "rmse"
   ]
  }
 ],
 "metadata": {
  "kernelspec": {
   "display_name": "Python 3",
   "language": "python",
   "name": "python3"
  },
  "language_info": {
   "codemirror_mode": {
    "name": "ipython",
    "version": 3
   },
   "file_extension": ".py",
   "mimetype": "text/x-python",
   "name": "python",
   "nbconvert_exporter": "python",
   "pygments_lexer": "ipython3",
   "version": "3.7.7"
  },
  "toc": {
   "base_numbering": 1,
   "nav_menu": {},
   "number_sections": true,
   "sideBar": true,
   "skip_h1_title": false,
   "title_cell": "Table of Contents",
   "title_sidebar": "Contents",
   "toc_cell": false,
   "toc_position": {},
   "toc_section_display": true,
   "toc_window_display": false
  },
  "varInspector": {
   "cols": {
    "lenName": 16,
    "lenType": 16,
    "lenVar": 40
   },
   "kernels_config": {
    "python": {
     "delete_cmd_postfix": "",
     "delete_cmd_prefix": "del ",
     "library": "var_list.py",
     "varRefreshCmd": "print(var_dic_list())"
    },
    "r": {
     "delete_cmd_postfix": ") ",
     "delete_cmd_prefix": "rm(",
     "library": "var_list.r",
     "varRefreshCmd": "cat(var_dic_list()) "
    }
   },
   "types_to_exclude": [
    "module",
    "function",
    "builtin_function_or_method",
    "instance",
    "_Feature"
   ],
   "window_display": false
  }
 },
 "nbformat": 4,
 "nbformat_minor": 4
}
