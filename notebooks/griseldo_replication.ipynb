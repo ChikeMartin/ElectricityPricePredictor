{
 "cells": [
  {
   "cell_type": "markdown",
   "metadata": {},
   "source": [
    "## Replication of electricity price forecasting"
   ]
  },
  {
   "cell_type": "markdown",
   "metadata": {},
   "source": [
    "### Days of the week/ Holidays"
   ]
  },
  {
   "cell_type": "code",
   "execution_count": null,
   "metadata": {
    "ExecuteTime": {
     "end_time": "2020-11-27T10:51:42.268694Z",
     "start_time": "2020-11-27T10:51:40.340873Z"
    }
   },
   "outputs": [],
   "source": [
    "from electricity_price_predictor.data import get_shifted_load, get_shifted_price, get_weather, get_holidays, get_days_dummies\n",
    "from sklearn.preprocessing import MinMaxScaler\n",
    "from sklearn.linear_model import LinearRegression\n",
    "import statsmodels.formula.api as smf\n",
    "import pandas as pd\n",
    "from statsmodels.stats.outliers_influence import variance_inflation_factor as vif"
   ]
  },
  {
   "cell_type": "code",
   "execution_count": null,
   "metadata": {
    "ExecuteTime": {
     "end_time": "2020-11-27T10:51:42.488228Z",
     "start_time": "2020-11-27T10:51:42.478702Z"
    }
   },
   "outputs": [],
   "source": [
    "last_date = '2020-11-23 16:00:00'"
   ]
  },
  {
   "cell_type": "code",
   "execution_count": null,
   "metadata": {
    "ExecuteTime": {
     "end_time": "2020-11-27T10:52:36.070572Z",
     "start_time": "2020-11-27T10:51:42.668785Z"
    }
   },
   "outputs": [],
   "source": [
    "dayofweek = get_days_dummies()\n",
    "holidays = get_holidays()\n",
    "weather = get_weather().loc[:last_date]\n",
    "price = get_shifted_price().loc[:last_date]\n",
    "load = get_shifted_load()"
   ]
  },
  {
   "cell_type": "code",
   "execution_count": null,
   "metadata": {
    "ExecuteTime": {
     "end_time": "2020-11-27T10:52:36.866922Z",
     "start_time": "2020-11-27T10:52:36.782388Z"
    }
   },
   "outputs": [],
   "source": [
    "# price and load into one df\n",
    "df = price.merge(load, on='time')"
   ]
  },
  {
   "cell_type": "markdown",
   "metadata": {},
   "source": [
    "## Downsample"
   ]
  },
  {
   "cell_type": "code",
   "execution_count": null,
   "metadata": {
    "ExecuteTime": {
     "end_time": "2020-11-27T10:52:38.206483Z",
     "start_time": "2020-11-27T10:52:38.166489Z"
    }
   },
   "outputs": [],
   "source": [
    "weather = weather.resample('D').mean()\n",
    "weather = weather.reset_index().drop('dt', axis=1)"
   ]
  },
  {
   "cell_type": "code",
   "execution_count": null,
   "metadata": {
    "ExecuteTime": {
     "end_time": "2020-11-27T10:52:39.579144Z",
     "start_time": "2020-11-27T10:52:39.551143Z"
    }
   },
   "outputs": [],
   "source": [
    "df = df.resample('D').mean()\n",
    "df = df.reset_index().drop('time', axis=1)"
   ]
  },
  {
   "cell_type": "code",
   "execution_count": null,
   "metadata": {
    "ExecuteTime": {
     "end_time": "2020-11-27T10:52:40.478143Z",
     "start_time": "2020-11-27T10:52:40.437143Z"
    }
   },
   "outputs": [],
   "source": [
    "dayofweek = dayofweek.reset_index().drop('index', axis=1)\n",
    "holidays = holidays.reset_index().drop('index', axis=1)"
   ]
  },
  {
   "cell_type": "code",
   "execution_count": null,
   "metadata": {
    "ExecuteTime": {
     "end_time": "2020-11-27T10:52:41.181139Z",
     "start_time": "2020-11-27T10:52:41.172143Z"
    }
   },
   "outputs": [],
   "source": [
    "print(holidays.shape)\n",
    "print(dayofweek.shape)\n",
    "print(weather.shape)\n",
    "print(df.shape)"
   ]
  },
  {
   "cell_type": "markdown",
   "metadata": {},
   "source": [
    "## Merging dataframes"
   ]
  },
  {
   "cell_type": "code",
   "execution_count": null,
   "metadata": {
    "ExecuteTime": {
     "end_time": "2020-11-27T10:52:42.064942Z",
     "start_time": "2020-11-27T10:52:42.036883Z"
    }
   },
   "outputs": [],
   "source": [
    "df = df.merge(\n",
    "    holidays, right_index= True, left_index=True).merge(\n",
    "    dayofweek, right_index= True, left_index=True).merge(\n",
    "    weather, right_index= True, left_index= True).drop('holiday_name', axis=1)\n",
    "\n",
    "df['holiday_bool'] = df['holiday_bool'].astype('int64')"
   ]
  },
  {
   "cell_type": "code",
   "execution_count": null,
   "metadata": {
    "ExecuteTime": {
     "end_time": "2020-11-27T10:58:01.554787Z",
     "start_time": "2020-11-27T10:58:01.545786Z"
    }
   },
   "outputs": [],
   "source": [
    "def shift_by_days(data, num_days):\n",
    "    \"\"\"\n",
    "    Input a timeseries of the form 24 hourly measurements per day\n",
    "    \n",
    "    Output returns \n",
    "    \n",
    "    \"\"\"\n",
    "    data_shifted = data.shift(num_days)\n",
    "    \n",
    "    return data_shifted"
   ]
  },
  {
   "cell_type": "code",
   "execution_count": null,
   "metadata": {
    "ExecuteTime": {
     "end_time": "2020-11-27T10:52:45.470158Z",
     "start_time": "2020-11-27T10:52:45.446168Z"
    }
   },
   "outputs": [],
   "source": [
    "df.columns"
   ]
  },
  {
   "cell_type": "code",
   "execution_count": null,
   "metadata": {
    "ExecuteTime": {
     "end_time": "2020-11-27T10:58:09.633751Z",
     "start_time": "2020-11-27T10:58:09.614705Z"
    }
   },
   "outputs": [],
   "source": [
    "df_new = df[['load', 'holiday_bool', 'feels_like', 'wind_speed', ]]"
   ]
  },
  {
   "cell_type": "code",
   "execution_count": null,
   "metadata": {
    "ExecuteTime": {
     "end_time": "2020-11-27T10:58:05.406866Z",
     "start_time": "2020-11-27T10:58:05.387269Z"
    }
   },
   "outputs": [],
   "source": [
    "df['price_t_1'] = shift_by_days(df['price'], 1)"
   ]
  },
  {
   "cell_type": "code",
   "execution_count": null,
   "metadata": {
    "ExecuteTime": {
     "end_time": "2020-11-27T10:58:06.373249Z",
     "start_time": "2020-11-27T10:58:06.363266Z"
    }
   },
   "outputs": [],
   "source": [
    "df['price_t_7'] = shift_by_days(df['price'], 7)"
   ]
  },
  {
   "cell_type": "code",
   "execution_count": null,
   "metadata": {
    "ExecuteTime": {
     "end_time": "2020-11-27T10:58:07.423156Z",
     "start_time": "2020-11-27T10:58:07.396167Z"
    }
   },
   "outputs": [],
   "source": [
    "df = df.dropna()"
   ]
  },
  {
   "cell_type": "code",
   "execution_count": null,
   "metadata": {
    "ExecuteTime": {
     "end_time": "2020-11-27T10:48:52.119474Z",
     "start_time": "2020-11-27T10:48:52.096413Z"
    }
   },
   "outputs": [],
   "source": [
    "df.columns"
   ]
  },
  {
   "cell_type": "code",
   "execution_count": null,
   "metadata": {
    "ExecuteTime": {
     "end_time": "2020-11-27T10:49:18.250776Z",
     "start_time": "2020-11-27T10:49:18.237134Z"
    }
   },
   "outputs": [],
   "source": [
    "df=df.drop(columns=['mon', 'tue', 'wed', 'thur', 'fri',\n",
    "       'sat', 'sun'])"
   ]
  },
  {
   "cell_type": "code",
   "execution_count": null,
   "metadata": {
    "ExecuteTime": {
     "end_time": "2020-11-27T10:49:33.921010Z",
     "start_time": "2020-11-27T10:49:33.913856Z"
    }
   },
   "outputs": [],
   "source": [
    "df = df.drop(columns=['price'])"
   ]
  },
  {
   "cell_type": "code",
   "execution_count": null,
   "metadata": {
    "ExecuteTime": {
     "end_time": "2020-11-27T10:50:00.503558Z",
     "start_time": "2020-11-27T10:50:00.492567Z"
    }
   },
   "outputs": [],
   "source": [
    "df = df.drop(columns=['temp'])"
   ]
  },
  {
   "cell_type": "code",
   "execution_count": null,
   "metadata": {
    "ExecuteTime": {
     "end_time": "2020-11-27T10:51:04.763058Z",
     "start_time": "2020-11-27T10:51:04.753060Z"
    }
   },
   "outputs": [],
   "source": [
    "df = df.drop(columns=['humidity'])"
   ]
  },
  {
   "cell_type": "code",
   "execution_count": null,
   "metadata": {
    "ExecuteTime": {
     "end_time": "2020-11-27T10:50:01.579671Z",
     "start_time": "2020-11-27T10:50:01.549564Z"
    },
    "scrolled": true
   },
   "outputs": [],
   "source": [
    "df.head()"
   ]
  },
  {
   "cell_type": "code",
   "execution_count": null,
   "metadata": {
    "ExecuteTime": {
     "end_time": "2020-11-27T10:30:50.881779Z",
     "start_time": "2020-11-27T10:30:50.090221Z"
    },
    "scrolled": false
   },
   "outputs": [],
   "source": [
    "df.corr().style.background_gradient(cmap='coolwarm')"
   ]
  },
  {
   "cell_type": "code",
   "execution_count": null,
   "metadata": {
    "ExecuteTime": {
     "end_time": "2020-11-27T10:18:43.105490Z",
     "start_time": "2020-11-27T10:18:43.092458Z"
    }
   },
   "outputs": [],
   "source": [
    "df.shape"
   ]
  },
  {
   "cell_type": "code",
   "execution_count": null,
   "metadata": {
    "ExecuteTime": {
     "end_time": "2020-11-27T10:58:11.911812Z",
     "start_time": "2020-11-27T10:58:11.862770Z"
    }
   },
   "outputs": [],
   "source": [
    "df1 = pd.DataFrame()\n",
    "df1[\"vif_index\"] = [vif(df_new.values, i) for i in range(df_new.shape[1])]\n",
    "df1[\"features\"] = df_new.columns\n",
    "df1[['features', 'vif_index']].sort_values(by='vif_index', ascending=False)"
   ]
  },
  {
   "cell_type": "markdown",
   "metadata": {},
   "source": [
    "## Define features and scale"
   ]
  },
  {
   "cell_type": "code",
   "execution_count": null,
   "metadata": {
    "ExecuteTime": {
     "end_time": "2020-11-27T09:52:09.967591Z",
     "start_time": "2020-11-27T09:52:09.956051Z"
    }
   },
   "outputs": [],
   "source": [
    "X = df.drop('price', axis=1)\n",
    "y = df.price"
   ]
  },
  {
   "cell_type": "code",
   "execution_count": null,
   "metadata": {
    "ExecuteTime": {
     "end_time": "2020-11-27T09:52:12.968671Z",
     "start_time": "2020-11-27T09:52:12.941137Z"
    }
   },
   "outputs": [],
   "source": [
    "scaler = MinMaxScaler()\n",
    "X_scaled = scaler.fit_transform(X)"
   ]
  },
  {
   "cell_type": "markdown",
   "metadata": {},
   "source": [
    "## Model\n"
   ]
  },
  {
   "cell_type": "markdown",
   "metadata": {},
   "source": [
    "### LinearReg Sklearn"
   ]
  },
  {
   "cell_type": "code",
   "execution_count": null,
   "metadata": {
    "ExecuteTime": {
     "end_time": "2020-11-27T09:52:14.323356Z",
     "start_time": "2020-11-27T09:52:14.296160Z"
    }
   },
   "outputs": [],
   "source": [
    "model_2 = LinearRegression()\n",
    "model_2.fit(X_scaled, y)\n",
    "model_2.score(X_scaled, y)  # R2"
   ]
  },
  {
   "cell_type": "code",
   "execution_count": null,
   "metadata": {
    "ExecuteTime": {
     "end_time": "2020-11-27T10:03:41.947522Z",
     "start_time": "2020-11-27T10:03:41.925377Z"
    }
   },
   "outputs": [],
   "source": [
    "model_2.intercept_"
   ]
  },
  {
   "cell_type": "markdown",
   "metadata": {},
   "source": [
    "### smf statsmodels"
   ]
  },
  {
   "cell_type": "code",
   "execution_count": null,
   "metadata": {
    "ExecuteTime": {
     "end_time": "2020-11-27T10:32:10.391785Z",
     "start_time": "2020-11-27T10:32:10.384785Z"
    }
   },
   "outputs": [],
   "source": [
    "col = df.columns[1:]"
   ]
  },
  {
   "cell_type": "code",
   "execution_count": null,
   "metadata": {
    "ExecuteTime": {
     "end_time": "2020-11-27T10:32:12.381947Z",
     "start_time": "2020-11-27T10:32:12.363838Z"
    }
   },
   "outputs": [],
   "source": [
    "formula = ' + '.join(col)\n",
    "formula = f\"price ~ {formula}\"\n",
    "formula"
   ]
  },
  {
   "cell_type": "code",
   "execution_count": null,
   "metadata": {
    "ExecuteTime": {
     "end_time": "2020-11-27T10:34:02.726771Z",
     "start_time": "2020-11-27T10:34:02.602697Z"
    }
   },
   "outputs": [],
   "source": [
    "model_3 = smf.ols('price ~ load + holiday_bool + mon + tue + wed + thur + fri + sat + sun + temp + feels_like + humidity + clouds_all + wind_speed + price_t_1 + price_t_7', data=df).fit()\n",
    "model_3.summary()"
   ]
  },
  {
   "cell_type": "code",
   "execution_count": null,
   "metadata": {
    "ExecuteTime": {
     "end_time": "2020-11-27T10:03:07.915696Z",
     "start_time": "2020-11-27T10:03:07.827539Z"
    }
   },
   "outputs": [],
   "source": [
    "model = smf.ols(formula=formula, data=df).fit()"
   ]
  },
  {
   "cell_type": "code",
   "execution_count": null,
   "metadata": {
    "ExecuteTime": {
     "end_time": "2020-11-27T10:03:09.621846Z",
     "start_time": "2020-11-27T10:03:09.550895Z"
    }
   },
   "outputs": [],
   "source": [
    "model.summary()"
   ]
  },
  {
   "cell_type": "code",
   "execution_count": null,
   "metadata": {
    "ExecuteTime": {
     "end_time": "2020-11-27T09:02:30.090997Z",
     "start_time": "2020-11-27T09:02:30.077776Z"
    }
   },
   "outputs": [],
   "source": []
  },
  {
   "cell_type": "code",
   "execution_count": null,
   "metadata": {
    "ExecuteTime": {
     "end_time": "2020-11-27T09:03:32.605830Z",
     "start_time": "2020-11-27T09:03:32.580739Z"
    }
   },
   "outputs": [],
   "source": [
    "shift_by_days(merged_D.price, -1).head(10)"
   ]
  },
  {
   "cell_type": "code",
   "execution_count": null,
   "metadata": {
    "ExecuteTime": {
     "end_time": "2020-11-27T08:34:50.303827Z",
     "start_time": "2020-11-27T08:34:42.822Z"
    }
   },
   "outputs": [],
   "source": [
    "#create an object with all the holidays in denmakr\n",
    "denmark_holidays = holidays.CountryHoliday('DK')"
   ]
  },
  {
   "cell_type": "code",
   "execution_count": null,
   "metadata": {
    "ExecuteTime": {
     "end_time": "2020-11-27T08:34:50.305829Z",
     "start_time": "2020-11-27T08:34:42.825Z"
    }
   },
   "outputs": [],
   "source": [
    "def get_holidays(start='1/1/2015', stop='31/12/2020', country='DK', frequency='D'):\n",
    "    \"\"\"\n",
    "    Takes in a start and stop date and a country.\n",
    "    \n",
    "    Produces a dataframe with a daily date time index and columns:\n",
    "    day_of_week - numerical day of the week identifier 0 for monday\n",
    "    holiday_bool - boolean true or false for holiday\n",
    "    holiday_name - name of the holiday if holiday_bool is true\n",
    "    \n",
    "    Returns a dataframe\n",
    "    \"\"\"\n",
    "    \n",
    "    #generate the range of daily dates\n",
    "    dates = pd.date_range(start=start, end=stop, freq=frequency)\n",
    "    \n",
    "    #create the holiday object\n",
    "    country_holidays = holidays.CountryHoliday(country)\n",
    "\n",
    "    #create a list for the holiday bool and name\n",
    "    holiday_list = []\n",
    "    \n",
    "    #loop through the dates\n",
    "    for date in dates:\n",
    "        #true if holiday in object, false otherwise\n",
    "        holiday_bool = date in country_holidays\n",
    "        holiday_names = country_holidays.get(date)\n",
    "        \n",
    "        holiday_list.append([holiday_bool, holiday_names])\n",
    "        \n",
    "    #create return dataframe\n",
    "    holidays_data = pd.DataFrame(holiday_list, index=dates, columns=['holiday_bool', 'holiday_name'])\n",
    "                  \n",
    "    return holidays_data"
   ]
  },
  {
   "cell_type": "code",
   "execution_count": null,
   "metadata": {
    "ExecuteTime": {
     "end_time": "2020-11-27T08:34:50.307829Z",
     "start_time": "2020-11-27T08:34:42.829Z"
    }
   },
   "outputs": [],
   "source": [
    "hld_df = get_holidays()"
   ]
  },
  {
   "cell_type": "code",
   "execution_count": null,
   "metadata": {
    "ExecuteTime": {
     "end_time": "2020-11-27T08:34:50.309830Z",
     "start_time": "2020-11-27T08:34:42.831Z"
    }
   },
   "outputs": [],
   "source": [
    "hld_df = hld_df.loc[: '2020-11-23']"
   ]
  },
  {
   "cell_type": "code",
   "execution_count": null,
   "metadata": {
    "ExecuteTime": {
     "end_time": "2020-11-27T08:34:50.311832Z",
     "start_time": "2020-11-27T08:34:42.833Z"
    }
   },
   "outputs": [],
   "source": [
    "hld_df"
   ]
  },
  {
   "cell_type": "code",
   "execution_count": null,
   "metadata": {
    "ExecuteTime": {
     "end_time": "2020-11-27T08:34:50.312829Z",
     "start_time": "2020-11-27T08:34:42.835Z"
    }
   },
   "outputs": [],
   "source": [
    "# def get_holidays(start='1/1/2015', stop='31/12/2020', country='DK'):\n",
    "#     \"\"\"\n",
    "#     Takes in a start and stop date and a country.\n",
    "    \n",
    "#     Produces a dataframe with a daily date time index and columns:\n",
    "#     day_of_week - numerical day of the week identifier 0 for monday\n",
    "#     holiday_bool - boolean true or false for holiday\n",
    "#     holiday_name - name of the holiday if holiday_bool is true\n",
    "    \n",
    "#     Returns a dataframe\n",
    "#     \"\"\"\n",
    "    \n",
    "#     #generate the range of daily dates\n",
    "#     dates = pd.date_range(start=start, end=stop)\n",
    "    \n",
    "#     #create the holiday object\n",
    "#     country_holidays = holidays.CountryHoliday(country)\n",
    "    \n",
    "#     #create a dataframe of weekday categories\n",
    "#     days = pd.DataFrame(list(dates.weekday), index=dates, columns=['weekday_id'])\n",
    "\n",
    "#     #create a list for the holiday bool and name\n",
    "#     holiday_list = []\n",
    "    \n",
    "#     #loop through the dates\n",
    "#     for date in dates:\n",
    "#         #true if holiday in object, false otherwise\n",
    "#         holiday_bool = date in country_holidays\n",
    "#         holiday_names = country_holidays.get(date)\n",
    "        \n",
    "#         holiday_list.append([holiday_bool, holiday_names])\n",
    "        \n",
    "#     #create return dataframe\n",
    "#     holidays_data = pd.DataFrame(holiday_list, index=dates, columns=['holiday_bool', 'holiday_name'])\n",
    "          \n",
    "#     #join the days and the holidays_data dataframes\n",
    "#     data = pd.concat([days, holidays_data], axis=1)\n",
    "                 \n",
    "                    \n",
    "#     return data"
   ]
  },
  {
   "cell_type": "code",
   "execution_count": null,
   "metadata": {
    "ExecuteTime": {
     "end_time": "2020-11-27T08:34:50.314830Z",
     "start_time": "2020-11-27T08:34:42.837Z"
    }
   },
   "outputs": [],
   "source": [
    "# holiday_df = get_holidays()"
   ]
  },
  {
   "cell_type": "code",
   "execution_count": null,
   "metadata": {
    "ExecuteTime": {
     "end_time": "2020-11-27T08:34:50.315833Z",
     "start_time": "2020-11-27T08:34:42.840Z"
    }
   },
   "outputs": [],
   "source": [
    "# holiday_df = holiday_df.loc[: '2020-11-23']"
   ]
  },
  {
   "cell_type": "code",
   "execution_count": null,
   "metadata": {
    "ExecuteTime": {
     "end_time": "2020-11-27T08:34:50.317838Z",
     "start_time": "2020-11-27T08:34:42.842Z"
    }
   },
   "outputs": [],
   "source": [
    "def get_days_dummies(start='1/1/2015', stop='31/12/2020', frequency='D'):\n",
    "    \"\"\"\n",
    "    Takes in a start and stop date and frequency.\n",
    "    \n",
    "    Produces a dataframe with a date time index at the frequency input and columns:\n",
    "    weekday_id - numerical day of the week identifier 0 for monday\n",
    "    \n",
    "    Returns a dataframe\n",
    "    \"\"\"\n",
    "    \n",
    "    #generate the range of daily dates\n",
    "    dates = pd.date_range(start=start, end=stop, freq=frequency)\n",
    "    \n",
    "    #create a dataframe of weekday categories\n",
    "    days = pd.DataFrame(list(dates.weekday), index=dates, columns=['weekday_id'])\n",
    "    \n",
    "    days = pd.get_dummies(days['weekday_id'])\n",
    "    \n",
    "    columns = ['mon', 'tue', 'wed', 'thur', 'fri', 'sat', 'sun']\n",
    "    \n",
    "    days.columns = columns\n",
    "    \n",
    "    return days"
   ]
  },
  {
   "cell_type": "code",
   "execution_count": null,
   "metadata": {
    "ExecuteTime": {
     "end_time": "2020-11-27T08:34:50.319838Z",
     "start_time": "2020-11-27T08:34:42.845Z"
    }
   },
   "outputs": [],
   "source": [
    "dow_df = get_days_dummies(start='2015-01-01', stop='2020-12-31')"
   ]
  },
  {
   "cell_type": "code",
   "execution_count": null,
   "metadata": {
    "ExecuteTime": {
     "end_time": "2020-11-27T08:34:50.323833Z",
     "start_time": "2020-11-27T08:34:42.847Z"
    }
   },
   "outputs": [],
   "source": [
    "dow_df = dow_df.loc[: '2020-11-23']"
   ]
  },
  {
   "cell_type": "code",
   "execution_count": null,
   "metadata": {
    "ExecuteTime": {
     "end_time": "2020-11-27T08:34:50.326829Z",
     "start_time": "2020-11-27T08:34:42.849Z"
    }
   },
   "outputs": [],
   "source": [
    "dow_df"
   ]
  },
  {
   "cell_type": "code",
   "execution_count": null,
   "metadata": {
    "ExecuteTime": {
     "end_time": "2020-11-27T08:34:50.328828Z",
     "start_time": "2020-11-27T08:34:42.852Z"
    }
   },
   "outputs": [],
   "source": [
    "# merged_all = merged_D.merge(holiday_df, how='left',left_index=True, right_index=True)"
   ]
  },
  {
   "cell_type": "code",
   "execution_count": null,
   "metadata": {
    "ExecuteTime": {
     "end_time": "2020-11-27T08:34:50.330830Z",
     "start_time": "2020-11-27T08:34:42.854Z"
    }
   },
   "outputs": [],
   "source": [
    "merged_all = merged_D.merge(dow_df, how='left',left_index=True, right_index=True)"
   ]
  },
  {
   "cell_type": "code",
   "execution_count": null,
   "metadata": {
    "ExecuteTime": {
     "end_time": "2020-11-27T08:34:50.333836Z",
     "start_time": "2020-11-27T08:34:42.857Z"
    }
   },
   "outputs": [],
   "source": [
    "merged_all_1 = merged_all.merge(hld_df, how='left',left_index=True, right_index=True)"
   ]
  },
  {
   "cell_type": "code",
   "execution_count": null,
   "metadata": {
    "ExecuteTime": {
     "end_time": "2020-11-27T08:34:50.335829Z",
     "start_time": "2020-11-27T08:34:42.859Z"
    }
   },
   "outputs": [],
   "source": [
    " merged_all_1['holiday_bool'] = merged_all_1['holiday_bool'].astype('int')"
   ]
  },
  {
   "cell_type": "code",
   "execution_count": null,
   "metadata": {
    "ExecuteTime": {
     "end_time": "2020-11-27T08:34:50.337833Z",
     "start_time": "2020-11-27T08:34:42.861Z"
    }
   },
   "outputs": [],
   "source": [
    "merged_all_1"
   ]
  },
  {
   "cell_type": "code",
   "execution_count": null,
   "metadata": {
    "ExecuteTime": {
     "end_time": "2020-11-27T08:34:50.339834Z",
     "start_time": "2020-11-27T08:34:42.863Z"
    }
   },
   "outputs": [],
   "source": [
    "# X = merged_all_1.drop(columns=['price','holiday_name', 'holiday_bool'])\n",
    "\n",
    "# df['weather/temp/snow'], df['coal_price'], df['dow'], df['holidays'], df['month']"
   ]
  },
  {
   "cell_type": "code",
   "execution_count": null,
   "metadata": {
    "ExecuteTime": {
     "end_time": "2020-11-27T08:34:50.341834Z",
     "start_time": "2020-11-27T08:34:42.865Z"
    }
   },
   "outputs": [],
   "source": [
    "model2 = smf.ols(formula='price ~ load_norm + mon + tue + wed + thur + fri + sat + sun + holiday_bool', data=merged_all_1).fit()"
   ]
  },
  {
   "cell_type": "markdown",
   "metadata": {},
   "source": [
    "check VIF "
   ]
  },
  {
   "cell_type": "code",
   "execution_count": null,
   "metadata": {
    "ExecuteTime": {
     "end_time": "2020-11-27T08:34:50.342834Z",
     "start_time": "2020-11-27T08:34:42.868Z"
    }
   },
   "outputs": [],
   "source": [
    "model2.summary()"
   ]
  },
  {
   "cell_type": "code",
   "execution_count": null,
   "metadata": {
    "ExecuteTime": {
     "end_time": "2020-11-27T08:34:50.343832Z",
     "start_time": "2020-11-27T08:34:42.870Z"
    }
   },
   "outputs": [],
   "source": [
    "X = merged_all_1['load']\n",
    "y = merged_all_1['price']"
   ]
  },
  {
   "cell_type": "code",
   "execution_count": null,
   "metadata": {
    "ExecuteTime": {
     "end_time": "2020-11-27T08:34:50.346833Z",
     "start_time": "2020-11-27T08:34:42.872Z"
    },
    "scrolled": true
   },
   "outputs": [],
   "source": [
    "model = sm.OLS(y,X).fit()\n",
    "model.summary()"
   ]
  },
  {
   "cell_type": "code",
   "execution_count": null,
   "metadata": {
    "ExecuteTime": {
     "end_time": "2020-11-27T08:34:50.347832Z",
     "start_time": "2020-11-27T08:34:42.874Z"
    }
   },
   "outputs": [],
   "source": [
    "model.params"
   ]
  },
  {
   "cell_type": "code",
   "execution_count": null,
   "metadata": {
    "ExecuteTime": {
     "end_time": "2020-11-27T08:34:50.348828Z",
     "start_time": "2020-11-27T08:34:42.876Z"
    }
   },
   "outputs": [],
   "source": [
    "from sklearn.preprocessing import MinMaxScaler\n",
    "from sklearn.linear_model import LinearRegression\n",
    "# from sklearn.metrics import "
   ]
  },
  {
   "cell_type": "code",
   "execution_count": null,
   "metadata": {
    "ExecuteTime": {
     "end_time": "2020-11-27T08:34:50.350827Z",
     "start_time": "2020-11-27T08:34:42.880Z"
    }
   },
   "outputs": [],
   "source": [
    "normalizer = MinMaxScaler()\n",
    "normalizer.fit(merged_all_1[['load']])\n",
    "merged_all_1['load_norm'] = normalizer.transform(merged_all_1[['load']])"
   ]
  },
  {
   "cell_type": "code",
   "execution_count": null,
   "metadata": {
    "ExecuteTime": {
     "end_time": "2020-11-27T08:34:50.351826Z",
     "start_time": "2020-11-27T08:34:42.882Z"
    }
   },
   "outputs": [],
   "source": [
    "merged_all_1"
   ]
  },
  {
   "cell_type": "code",
   "execution_count": null,
   "metadata": {
    "ExecuteTime": {
     "end_time": "2020-11-27T08:34:50.352834Z",
     "start_time": "2020-11-27T08:34:42.884Z"
    }
   },
   "outputs": [],
   "source": [
    "X=merged_all_1[['load', 'mon', 'tue', 'wed', 'thur','fri','sat','sun','holiday_bool']]\n",
    "y = merged_all_1['price']"
   ]
  },
  {
   "cell_type": "code",
   "execution_count": null,
   "metadata": {
    "ExecuteTime": {
     "end_time": "2020-11-27T08:34:50.353832Z",
     "start_time": "2020-11-27T08:34:42.886Z"
    }
   },
   "outputs": [],
   "source": [
    "X.values"
   ]
  },
  {
   "cell_type": "code",
   "execution_count": null,
   "metadata": {
    "ExecuteTime": {
     "end_time": "2020-11-27T08:34:50.354827Z",
     "start_time": "2020-11-27T08:34:42.889Z"
    },
    "scrolled": true
   },
   "outputs": [],
   "source": [
    "reg = LinearRegression().fit(X.values, y.values)"
   ]
  },
  {
   "cell_type": "code",
   "execution_count": null,
   "metadata": {
    "ExecuteTime": {
     "end_time": "2020-11-27T08:34:50.355828Z",
     "start_time": "2020-11-27T08:34:42.895Z"
    }
   },
   "outputs": [],
   "source": [
    "reg.score(X, y.values)"
   ]
  },
  {
   "cell_type": "code",
   "execution_count": null,
   "metadata": {
    "ExecuteTime": {
     "end_time": "2020-11-27T08:34:50.356827Z",
     "start_time": "2020-11-27T08:34:42.897Z"
    }
   },
   "outputs": [],
   "source": [
    "predictions = reg.predict(X)"
   ]
  },
  {
   "cell_type": "code",
   "execution_count": null,
   "metadata": {
    "ExecuteTime": {
     "end_time": "2020-11-27T08:34:50.358828Z",
     "start_time": "2020-11-27T08:34:42.900Z"
    }
   },
   "outputs": [],
   "source": [
    "predictions"
   ]
  },
  {
   "cell_type": "code",
   "execution_count": null,
   "metadata": {
    "ExecuteTime": {
     "end_time": "2020-11-27T08:34:50.359826Z",
     "start_time": "2020-11-27T08:34:42.903Z"
    }
   },
   "outputs": [],
   "source": [
    "y.values-predictions"
   ]
  },
  {
   "cell_type": "code",
   "execution_count": null,
   "metadata": {
    "ExecuteTime": {
     "end_time": "2020-11-27T08:34:50.360826Z",
     "start_time": "2020-11-27T08:34:42.905Z"
    }
   },
   "outputs": [],
   "source": [
    "for x, y in zip()"
   ]
  },
  {
   "cell_type": "markdown",
   "metadata": {},
   "source": [
    "transform_to_windows\n",
    "converts the data from row data into windowed rows where each row is a day with 24 columns representing each hour of the day."
   ]
  }
 ],
 "metadata": {
  "kernelspec": {
   "display_name": "Python 3",
   "language": "python",
   "name": "python3"
  },
  "language_info": {
   "codemirror_mode": {
    "name": "ipython",
    "version": 3
   },
   "file_extension": ".py",
   "mimetype": "text/x-python",
   "name": "python",
   "nbconvert_exporter": "python",
   "pygments_lexer": "ipython3",
   "version": "3.7.7"
  },
  "toc": {
   "base_numbering": 1,
   "nav_menu": {},
   "number_sections": true,
   "sideBar": true,
   "skip_h1_title": false,
   "title_cell": "Table of Contents",
   "title_sidebar": "Contents",
   "toc_cell": false,
   "toc_position": {},
   "toc_section_display": true,
   "toc_window_display": false
  },
  "varInspector": {
   "cols": {
    "lenName": 16,
    "lenType": 16,
    "lenVar": 40
   },
   "kernels_config": {
    "python": {
     "delete_cmd_postfix": "",
     "delete_cmd_prefix": "del ",
     "library": "var_list.py",
     "varRefreshCmd": "print(var_dic_list())"
    },
    "r": {
     "delete_cmd_postfix": ") ",
     "delete_cmd_prefix": "rm(",
     "library": "var_list.r",
     "varRefreshCmd": "cat(var_dic_list()) "
    }
   },
   "types_to_exclude": [
    "module",
    "function",
    "builtin_function_or_method",
    "instance",
    "_Feature"
   ],
   "window_display": false
  }
 },
 "nbformat": 4,
 "nbformat_minor": 4
}
