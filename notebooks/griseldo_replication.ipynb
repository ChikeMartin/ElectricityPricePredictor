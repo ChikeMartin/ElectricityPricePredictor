{
 "cells": [
  {
   "cell_type": "markdown",
   "metadata": {},
   "source": [
    "## Replication of electricity price forecasting"
   ]
  },
  {
   "cell_type": "markdown",
   "metadata": {},
   "source": [
    "### Days of the week/ Holidays"
   ]
  },
  {
   "cell_type": "code",
   "execution_count": 1,
   "metadata": {
    "ExecuteTime": {
     "end_time": "2020-11-25T16:48:19.391053Z",
     "start_time": "2020-11-25T16:48:16.910232Z"
    }
   },
   "outputs": [],
   "source": [
    "import pandas as pd\n",
    "import matplotlib.pyplot as plt\n",
    "import seaborn as sns\n",
    "from datetime import date\n",
    "import holidays"
   ]
  },
  {
   "cell_type": "code",
   "execution_count": 3,
   "metadata": {
    "ExecuteTime": {
     "end_time": "2020-11-26T10:32:18.843925Z",
     "start_time": "2020-11-26T10:32:12.921224Z"
    },
    "scrolled": true
   },
   "outputs": [],
   "source": [
    "import statsmodels.api as sm\n",
    "import statsmodels.formula.api as smf"
   ]
  },
  {
   "cell_type": "code",
   "execution_count": null,
   "metadata": {},
   "outputs": [],
   "source": [
    "y = df['price']"
   ]
  },
  {
   "cell_type": "code",
   "execution_count": null,
   "metadata": {},
   "outputs": [],
   "source": [
    "X = df['load'], df['weather/temp/snow'], df['coal_price'], df['dow'], df['holidays'], df['month']"
   ]
  },
  {
   "cell_type": "code",
   "execution_count": null,
   "metadata": {},
   "outputs": [],
   "source": [
    "model = sm.OLS(y,X).fit()\n",
    "model.summary()"
   ]
  },
  {
   "cell_type": "markdown",
   "metadata": {},
   "source": [
    "transform_to_windows\n",
    "converts the data from row data into windowed rows where each row is a day with 24 columns representing each hour of the day."
   ]
  },
  {
   "cell_type": "code",
   "execution_count": 11,
   "metadata": {
    "ExecuteTime": {
     "end_time": "2020-11-25T17:00:33.899335Z",
     "start_time": "2020-11-25T17:00:33.894298Z"
    }
   },
   "outputs": [],
   "source": [
    "from electricity_price_predictor.data import fetch_data"
   ]
  },
  {
   "cell_type": "code",
   "execution_count": 12,
   "metadata": {
    "ExecuteTime": {
     "end_time": "2020-11-25T17:00:41.215298Z",
     "start_time": "2020-11-25T17:00:35.653210Z"
    }
   },
   "outputs": [],
   "source": [
    "data = fetch_data('../raw_data/price')"
   ]
  },
  {
   "cell_type": "code",
   "execution_count": 13,
   "metadata": {
    "ExecuteTime": {
     "end_time": "2020-11-25T17:00:45.323635Z",
     "start_time": "2020-11-25T17:00:45.314108Z"
    }
   },
   "outputs": [
    {
     "data": {
      "text/plain": [
       "time     datetime64[ns]\n",
       "price            object\n",
       "dtype: object"
      ]
     },
     "execution_count": 13,
     "metadata": {},
     "output_type": "execute_result"
    }
   ],
   "source": [
    "data.dtypes"
   ]
  },
  {
   "cell_type": "code",
   "execution_count": null,
   "metadata": {
    "ExecuteTime": {
     "end_time": "2020-11-25T16:07:09.576787Z",
     "start_time": "2020-11-25T16:07:09.498645Z"
    }
   },
   "outputs": [],
   "source": [
    "# df = pd.read_csv('../raw_data/final_load.csv')"
   ]
  },
  {
   "cell_type": "code",
   "execution_count": 14,
   "metadata": {
    "ExecuteTime": {
     "end_time": "2020-11-25T17:00:48.773912Z",
     "start_time": "2020-11-25T17:00:48.754347Z"
    }
   },
   "outputs": [],
   "source": [
    "data = data.set_index('time')"
   ]
  },
  {
   "cell_type": "code",
   "execution_count": 15,
   "metadata": {
    "ExecuteTime": {
     "end_time": "2020-11-25T17:00:49.832284Z",
     "start_time": "2020-11-25T17:00:49.814241Z"
    }
   },
   "outputs": [
    {
     "data": {
      "text/plain": [
       "Int64Index([2015, 2015, 2015, 2015, 2015, 2015, 2015, 2015, 2015, 2015,\n",
       "            ...\n",
       "            2020, 2020, 2020, 2020, 2020, 2020, 2020, 2020, 2020, 2020],\n",
       "           dtype='int64', name='time', length=51702)"
      ]
     },
     "execution_count": 15,
     "metadata": {},
     "output_type": "execute_result"
    }
   ],
   "source": [
    "data.index.year"
   ]
  },
  {
   "cell_type": "code",
   "execution_count": null,
   "metadata": {
    "ExecuteTime": {
     "end_time": "2020-11-25T16:00:35.447260Z",
     "start_time": "2020-11-25T16:00:35.322086Z"
    }
   },
   "outputs": [],
   "source": [
    "# load = get_load()"
   ]
  },
  {
   "cell_type": "code",
   "execution_count": null,
   "metadata": {
    "ExecuteTime": {
     "end_time": "2020-11-25T16:04:33.222649Z",
     "start_time": "2020-11-25T16:04:33.203061Z"
    }
   },
   "outputs": [],
   "source": [
    "# load.index"
   ]
  },
  {
   "cell_type": "code",
   "execution_count": 7,
   "metadata": {
    "ExecuteTime": {
     "end_time": "2020-11-25T16:48:37.389944Z",
     "start_time": "2020-11-25T16:48:37.372439Z"
    }
   },
   "outputs": [
    {
     "data": {
      "text/html": [
       "<div>\n",
       "<style scoped>\n",
       "    .dataframe tbody tr th:only-of-type {\n",
       "        vertical-align: middle;\n",
       "    }\n",
       "\n",
       "    .dataframe tbody tr th {\n",
       "        vertical-align: top;\n",
       "    }\n",
       "\n",
       "    .dataframe thead th {\n",
       "        text-align: right;\n",
       "    }\n",
       "</style>\n",
       "<table border=\"1\" class=\"dataframe\">\n",
       "  <thead>\n",
       "    <tr style=\"text-align: right;\">\n",
       "      <th></th>\n",
       "      <th>price</th>\n",
       "    </tr>\n",
       "    <tr>\n",
       "      <th>time</th>\n",
       "      <th></th>\n",
       "    </tr>\n",
       "  </thead>\n",
       "  <tbody>\n",
       "    <tr>\n",
       "      <th>2015-01-01 00:00:00</th>\n",
       "      <td>25.02</td>\n",
       "    </tr>\n",
       "    <tr>\n",
       "      <th>2015-01-01 01:00:00</th>\n",
       "      <td>18.29</td>\n",
       "    </tr>\n",
       "    <tr>\n",
       "      <th>2015-01-01 02:00:00</th>\n",
       "      <td>16.04</td>\n",
       "    </tr>\n",
       "    <tr>\n",
       "      <th>2015-01-01 03:00:00</th>\n",
       "      <td>14.6</td>\n",
       "    </tr>\n",
       "    <tr>\n",
       "      <th>2015-01-01 04:00:00</th>\n",
       "      <td>14.95</td>\n",
       "    </tr>\n",
       "  </tbody>\n",
       "</table>\n",
       "</div>"
      ],
      "text/plain": [
       "                     price\n",
       "time                      \n",
       "2015-01-01 00:00:00  25.02\n",
       "2015-01-01 01:00:00  18.29\n",
       "2015-01-01 02:00:00  16.04\n",
       "2015-01-01 03:00:00   14.6\n",
       "2015-01-01 04:00:00  14.95"
      ]
     },
     "execution_count": 7,
     "metadata": {},
     "output_type": "execute_result"
    }
   ],
   "source": [
    "data.head()"
   ]
  },
  {
   "cell_type": "code",
   "execution_count": null,
   "metadata": {},
   "outputs": [],
   "source": [
    "# def get_persistence_dataset(path='./data/cleaned_data/energy_loads_2015_2019.csv', index='time', start='2015', stop='2018', shift=0):\n",
    "#     #load the preprocessed data\n",
    "#     data = pd.read_csv('./data/cleaned_data/energy_loads_2015_2019.csv', parse_dates=True, index_col=index)\n",
    "\n",
    "#     #use features preprocessing library to transform data into day and hour slice format.\n",
    "#     data = transform_to_windows(data)\n",
    "\n",
    "#     #rename the columns\n",
    "#     data = rename_cols(data, shift=shift)\n",
    "\n",
    "#     #standardize the data from 2015-2018\n",
    "#     data = data[start:stop]\n",
    "\n",
    "#     return data"
   ]
  },
  {
   "cell_type": "markdown",
   "metadata": {},
   "source": [
    "## Previous day hour by hour"
   ]
  },
  {
   "cell_type": "markdown",
   "metadata": {},
   "source": [
    "The previous day hour by hour model will use the energy loads/price from the previous day to forecast the next days' load/price on an hour by hour basis"
   ]
  },
  {
   "cell_type": "code",
   "execution_count": null,
   "metadata": {
    "ExecuteTime": {
     "end_time": "2020-11-25T15:42:31.308133Z",
     "start_time": "2020-11-25T15:42:31.289513Z"
    }
   },
   "outputs": [],
   "source": [
    "def day_hbh(history, days=1):\n",
    "    \"\"\"\n",
    "    History is a dataframe with index as days, and columns hours in the day. \n",
    "    \n",
    "    \"\"\"\n",
    "    #retrns the last week in the history data set as the forecast for the next week.\n",
    "    return history.iloc[-days,:]"
   ]
  },
  {
   "cell_type": "code",
   "execution_count": null,
   "metadata": {
    "ExecuteTime": {
     "end_time": "2020-11-25T14:25:34.525493Z",
     "start_time": "2020-11-25T14:25:34.508666Z"
    }
   },
   "outputs": [],
   "source": [
    "from electricity_price_predictor.data_2 import get_shifted_price, get_load"
   ]
  },
  {
   "cell_type": "code",
   "execution_count": null,
   "metadata": {
    "ExecuteTime": {
     "end_time": "2020-11-25T14:32:36.950798Z",
     "start_time": "2020-11-25T14:32:31.622628Z"
    }
   },
   "outputs": [],
   "source": [
    "prices = get_shifted_price()"
   ]
  },
  {
   "cell_type": "code",
   "execution_count": null,
   "metadata": {
    "ExecuteTime": {
     "end_time": "2020-11-25T14:32:37.075558Z",
     "start_time": "2020-11-25T14:32:37.016854Z"
    }
   },
   "outputs": [],
   "source": [
    "load = get_load()"
   ]
  },
  {
   "cell_type": "markdown",
   "metadata": {},
   "source": [
    "## Feature engineering"
   ]
  },
  {
   "cell_type": "code",
   "execution_count": null,
   "metadata": {},
   "outputs": [],
   "source": [
    "# Generate 'hour', 'weekday' and 'month' features\n",
    "\n",
    "for i in range(len(df_final)):\n",
    "    position = df_final.index[i]\n",
    "    hour = position.hour\n",
    "    weekday = position.weekday()\n",
    "    month = position.month\n",
    "    df_final.loc[position, 'hour'] = hour\n",
    "    df_final.loc[position, 'weekday'] = weekday\n",
    "    df_final.loc[position, 'month'] = month"
   ]
  },
  {
   "cell_type": "code",
   "execution_count": null,
   "metadata": {},
   "outputs": [],
   "source": [
    "# Generate 'business hour' feature\n",
    "\n",
    "for i in range(len(df_final)):\n",
    "    position = df_final.index[i]\n",
    "    hour = position.hour\n",
    "    if ((hour > 8 and hour < 14) or (hour > 16 and hour < 21)):\n",
    "        df_final.loc[position, 'business hour'] = 2\n",
    "    elif (hour >= 14 and hour <= 16):\n",
    "        df_final.loc[position, 'business hour'] = 1\n",
    "    else:\n",
    "        df_final.loc[position, 'business hour'] = 0"
   ]
  },
  {
   "cell_type": "code",
   "execution_count": null,
   "metadata": {},
   "outputs": [],
   "source": [
    "# Generate 'weekend' feature\n",
    "\n",
    "for i in range(len(df_final)):\n",
    "    position = df_final.index[i]\n",
    "    weekday = position.weekday()\n",
    "    if (weekday == 6):\n",
    "        df_final.loc[position, 'weekday'] = 2\n",
    "    elif (weekday == 5):\n",
    "        df_final.loc[position, 'weekday'] = 1\n",
    "    else:\n",
    "        df_final.loc[position, 'weekday'] = 0"
   ]
  },
  {
   "cell_type": "code",
   "execution_count": null,
   "metadata": {},
   "outputs": [],
   "source": [
    "# Generate 'temp_range' for each city\n",
    "\n",
    "cities = ['Barcelona', 'Bilbao', 'Madrid', 'Seville', 'Valencia']\n",
    "\n",
    "for i in range(len(df_final)):\n",
    "    position = df_final.index[i]\n",
    "    for city in cities:\n",
    "        temp_max = df_final.loc[position, 'temp_max_{}'.format(city)]\n",
    "        temp_min = df_final.loc[position, 'temp_min_{}'.format(city)]\n",
    "        df_final.loc[position, 'temp_range_{}'.format(city)] = abs(temp_max - temp_min)"
   ]
  },
  {
   "cell_type": "code",
   "execution_count": null,
   "metadata": {},
   "outputs": [],
   "source": [
    "# Calculate the weight of every city\n",
    "\n",
    "total_pop = 6155116 + 5179243 + 1645342 + 1305342 + 987000\n",
    "\n",
    "weight_Madrid = 6155116 / total_pop\n",
    "weight_Barcelona = 5179243 / total_pop\n",
    "weight_Valencia = 1645342 / total_pop\n",
    "weight_Seville = 1305342 / total_pop\n",
    "weight_Bilbao = 987000 / total_pop"
   ]
  },
  {
   "cell_type": "code",
   "execution_count": null,
   "metadata": {},
   "outputs": [],
   "source": [
    "cities_weights = {'Madrid': weight_Madrid, \n",
    "                  'Barcelona': weight_Barcelona,\n",
    "                  'Valencia': weight_Valencia,\n",
    "                  'Seville': weight_Seville,\n",
    "                  'Bilbao': weight_Bilbao}"
   ]
  },
  {
   "cell_type": "code",
   "execution_count": null,
   "metadata": {},
   "outputs": [],
   "source": [
    "# Generate 'temp_weighted' feature\n",
    "\n",
    "for i in range(len(df_final)):\n",
    "    position = df_final.index[i]\n",
    "    temp_weighted = 0\n",
    "    for city in cities:\n",
    "        temp = df_final.loc[position, 'temp_{}'.format(city)]\n",
    "        temp_weighted += temp * cities_weights.get('{}'.format(city))\n",
    "    df_final.loc[position, 'temp_weighted'] = temp_weighted"
   ]
  }
 ],
 "metadata": {
  "kernelspec": {
   "display_name": "Python 3",
   "language": "python",
   "name": "python3"
  },
  "language_info": {
   "codemirror_mode": {
    "name": "ipython",
    "version": 3
   },
   "file_extension": ".py",
   "mimetype": "text/x-python",
   "name": "python",
   "nbconvert_exporter": "python",
   "pygments_lexer": "ipython3",
   "version": "3.7.7"
  },
  "toc": {
   "base_numbering": 1,
   "nav_menu": {},
   "number_sections": true,
   "sideBar": true,
   "skip_h1_title": false,
   "title_cell": "Table of Contents",
   "title_sidebar": "Contents",
   "toc_cell": false,
   "toc_position": {},
   "toc_section_display": true,
   "toc_window_display": false
  },
  "varInspector": {
   "cols": {
    "lenName": 16,
    "lenType": 16,
    "lenVar": 40
   },
   "kernels_config": {
    "python": {
     "delete_cmd_postfix": "",
     "delete_cmd_prefix": "del ",
     "library": "var_list.py",
     "varRefreshCmd": "print(var_dic_list())"
    },
    "r": {
     "delete_cmd_postfix": ") ",
     "delete_cmd_prefix": "rm(",
     "library": "var_list.r",
     "varRefreshCmd": "cat(var_dic_list()) "
    }
   },
   "types_to_exclude": [
    "module",
    "function",
    "builtin_function_or_method",
    "instance",
    "_Feature"
   ],
   "window_display": false
  }
 },
 "nbformat": 4,
 "nbformat_minor": 4
}
