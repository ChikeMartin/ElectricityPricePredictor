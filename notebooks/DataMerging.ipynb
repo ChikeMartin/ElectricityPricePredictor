{
 "cells": [
  {
   "cell_type": "markdown",
   "metadata": {},
   "source": [
    "# Data Merging"
   ]
  },
  {
   "cell_type": "code",
   "execution_count": 1,
   "metadata": {},
   "outputs": [
    {
     "ename": "RuntimeError",
     "evalue": "The current Numpy installation ('c:\\\\users\\\\guli\\\\.venvs\\\\lewagon_project\\\\lib\\\\site-packages\\\\numpy\\\\__init__.py') fails to pass a sanity check due to a bug in the windows runtime. See this issue for more information: https://tinyurl.com/y3dm3h86",
     "output_type": "error",
     "traceback": [
      "\u001b[1;31m---------------------------------------------------------------------------\u001b[0m",
      "\u001b[1;31mRuntimeError\u001b[0m                              Traceback (most recent call last)",
      "\u001b[1;32m<ipython-input-1-292477f17a40>\u001b[0m in \u001b[0;36m<module>\u001b[1;34m\u001b[0m\n\u001b[0;32m      1\u001b[0m \u001b[1;32mimport\u001b[0m \u001b[0mos\u001b[0m\u001b[1;33m\u001b[0m\u001b[1;33m\u001b[0m\u001b[0m\n\u001b[1;32m----> 2\u001b[1;33m \u001b[1;32mimport\u001b[0m \u001b[0mnumpy\u001b[0m \u001b[1;32mas\u001b[0m \u001b[0mnp\u001b[0m\u001b[1;33m\u001b[0m\u001b[1;33m\u001b[0m\u001b[0m\n\u001b[0m\u001b[0;32m      3\u001b[0m \u001b[1;32mimport\u001b[0m \u001b[0mpandas\u001b[0m \u001b[1;32mas\u001b[0m \u001b[0mpd\u001b[0m\u001b[1;33m\u001b[0m\u001b[1;33m\u001b[0m\u001b[0m\n",
      "\u001b[1;32mc:\\users\\guli\\.venvs\\lewagon_project\\lib\\site-packages\\numpy\\__init__.py\u001b[0m in \u001b[0;36m<module>\u001b[1;34m\u001b[0m\n\u001b[0;32m    303\u001b[0m \u001b[1;33m\u001b[0m\u001b[0m\n\u001b[0;32m    304\u001b[0m     \u001b[1;32mif\u001b[0m \u001b[0msys\u001b[0m\u001b[1;33m.\u001b[0m\u001b[0mplatform\u001b[0m \u001b[1;33m==\u001b[0m \u001b[1;34m\"win32\"\u001b[0m \u001b[1;32mand\u001b[0m \u001b[0msys\u001b[0m\u001b[1;33m.\u001b[0m\u001b[0mmaxsize\u001b[0m \u001b[1;33m>\u001b[0m \u001b[1;36m2\u001b[0m\u001b[1;33m**\u001b[0m\u001b[1;36m32\u001b[0m\u001b[1;33m:\u001b[0m\u001b[1;33m\u001b[0m\u001b[1;33m\u001b[0m\u001b[0m\n\u001b[1;32m--> 305\u001b[1;33m         \u001b[0m_win_os_check\u001b[0m\u001b[1;33m(\u001b[0m\u001b[1;33m)\u001b[0m\u001b[1;33m\u001b[0m\u001b[1;33m\u001b[0m\u001b[0m\n\u001b[0m\u001b[0;32m    306\u001b[0m \u001b[1;33m\u001b[0m\u001b[0m\n\u001b[0;32m    307\u001b[0m     \u001b[1;32mdel\u001b[0m \u001b[0m_win_os_check\u001b[0m\u001b[1;33m\u001b[0m\u001b[1;33m\u001b[0m\u001b[0m\n",
      "\u001b[1;32mc:\\users\\guli\\.venvs\\lewagon_project\\lib\\site-packages\\numpy\\__init__.py\u001b[0m in \u001b[0;36m_win_os_check\u001b[1;34m()\u001b[0m\n\u001b[0;32m    300\u001b[0m                    \u001b[1;34m\"See this issue for more information: \"\u001b[0m\u001b[1;33m\u001b[0m\u001b[1;33m\u001b[0m\u001b[0m\n\u001b[0;32m    301\u001b[0m                    \"https://tinyurl.com/y3dm3h86\")\n\u001b[1;32m--> 302\u001b[1;33m             \u001b[1;32mraise\u001b[0m \u001b[0mRuntimeError\u001b[0m\u001b[1;33m(\u001b[0m\u001b[0mmsg\u001b[0m\u001b[1;33m.\u001b[0m\u001b[0mformat\u001b[0m\u001b[1;33m(\u001b[0m\u001b[0m__file__\u001b[0m\u001b[1;33m)\u001b[0m\u001b[1;33m)\u001b[0m \u001b[1;32mfrom\u001b[0m \u001b[1;32mNone\u001b[0m\u001b[1;33m\u001b[0m\u001b[1;33m\u001b[0m\u001b[0m\n\u001b[0m\u001b[0;32m    303\u001b[0m \u001b[1;33m\u001b[0m\u001b[0m\n\u001b[0;32m    304\u001b[0m     \u001b[1;32mif\u001b[0m \u001b[0msys\u001b[0m\u001b[1;33m.\u001b[0m\u001b[0mplatform\u001b[0m \u001b[1;33m==\u001b[0m \u001b[1;34m\"win32\"\u001b[0m \u001b[1;32mand\u001b[0m \u001b[0msys\u001b[0m\u001b[1;33m.\u001b[0m\u001b[0mmaxsize\u001b[0m \u001b[1;33m>\u001b[0m \u001b[1;36m2\u001b[0m\u001b[1;33m**\u001b[0m\u001b[1;36m32\u001b[0m\u001b[1;33m:\u001b[0m\u001b[1;33m\u001b[0m\u001b[1;33m\u001b[0m\u001b[0m\n",
      "\u001b[1;31mRuntimeError\u001b[0m: The current Numpy installation ('c:\\\\users\\\\guli\\\\.venvs\\\\lewagon_project\\\\lib\\\\site-packages\\\\numpy\\\\__init__.py') fails to pass a sanity check due to a bug in the windows runtime. See this issue for more information: https://tinyurl.com/y3dm3h86"
     ]
    }
   ],
   "source": [
    "import os\n",
    "import numpy as np\n",
    "import pandas as pd\n",
    "from sklearn.impute import SimpleImputer"
   ]
  },
  {
   "cell_type": "code",
   "execution_count": 2,
   "metadata": {},
   "outputs": [],
   "source": [
    "%load_ext autoreload\n",
    "\n",
    "%autoreload 2"
   ]
  },
  {
   "cell_type": "markdown",
   "metadata": {},
   "source": [
    "## Fetch data from file path"
   ]
  },
  {
   "cell_type": "markdown",
   "metadata": {},
   "source": [
    "Get the csv file names from a given directory"
   ]
  },
  {
   "cell_type": "code",
   "execution_count": 3,
   "metadata": {},
   "outputs": [],
   "source": [
    "def get_file_names(directory):\n",
    "    \"\"\"returns the csv files in the given string directory path\"\"\"\n",
    "    file_names = []\n",
    "    for filename in os.listdir(directory):\n",
    "        if filename.endswith(\".csv\"):\n",
    "            file_names.append(os.path.join(directory, filename))\n",
    "    return file_names"
   ]
  },
  {
   "cell_type": "markdown",
   "metadata": {},
   "source": [
    "Create a dictionary from the files where the keys are the yearly intervals and the values are the respective dataframes."
   ]
  },
  {
   "cell_type": "code",
   "execution_count": 4,
   "metadata": {},
   "outputs": [],
   "source": [
    "def get_dataframes(file_names):\n",
    "    \"\"\"Takes in a list of csv file paths.\n",
    "    Returns a dictionary whose keys are the years\n",
    "    and values are the corresponding dataframes.\"\"\"\n",
    "    df_years = {}\n",
    "    for file in file_names:\n",
    "        df_years[file[-29:]] = pd.read_csv(file) # [-29:] Indexes the years.csv eg '201501010000-201601010000.csv'\n",
    "    return df_years\n",
    "    "
   ]
  },
  {
   "cell_type": "markdown",
   "metadata": {},
   "source": [
    "Can be used as follows:"
   ]
  },
  {
   "cell_type": "code",
   "execution_count": 5,
   "metadata": {},
   "outputs": [
    {
     "name": "stdout",
     "output_type": "stream",
     "text": [
      "dict_keys(['201501010000-201601010000.csv', '201601010000-201701010000.csv', '201701010000-201801010000.csv', '201801010000-201901010000.csv', '201901010000-202001010000.csv', '202001010000-202101010000.csv'])\n"
     ]
    }
   ],
   "source": [
    "directory = r'../raw_data/load/'\n",
    "file_names = get_file_names(directory)\n",
    "df_years = get_dataframes(file_names)\n",
    "\n",
    "print(df_years.keys())"
   ]
  },
  {
   "cell_type": "code",
   "execution_count": 6,
   "metadata": {
    "scrolled": false
   },
   "outputs": [
    {
     "data": {
      "text/html": [
       "<div>\n",
       "<style scoped>\n",
       "    .dataframe tbody tr th:only-of-type {\n",
       "        vertical-align: middle;\n",
       "    }\n",
       "\n",
       "    .dataframe tbody tr th {\n",
       "        vertical-align: top;\n",
       "    }\n",
       "\n",
       "    .dataframe thead th {\n",
       "        text-align: right;\n",
       "    }\n",
       "</style>\n",
       "<table border=\"1\" class=\"dataframe\">\n",
       "  <thead>\n",
       "    <tr style=\"text-align: right;\">\n",
       "      <th></th>\n",
       "      <th>Time (CET)</th>\n",
       "      <th>Day-ahead Total Load Forecast [MW] - BZN|DK1</th>\n",
       "      <th>Actual Total Load [MW] - BZN|DK1</th>\n",
       "    </tr>\n",
       "  </thead>\n",
       "  <tbody>\n",
       "    <tr>\n",
       "      <th>0</th>\n",
       "      <td>01.01.2015 00:00 - 01.01.2015 01:00</td>\n",
       "      <td>1870.0</td>\n",
       "      <td>1877.0</td>\n",
       "    </tr>\n",
       "    <tr>\n",
       "      <th>1</th>\n",
       "      <td>01.01.2015 01:00 - 01.01.2015 02:00</td>\n",
       "      <td>1841.0</td>\n",
       "      <td>1843.0</td>\n",
       "    </tr>\n",
       "    <tr>\n",
       "      <th>2</th>\n",
       "      <td>01.01.2015 02:00 - 01.01.2015 03:00</td>\n",
       "      <td>1785.0</td>\n",
       "      <td>1795.0</td>\n",
       "    </tr>\n",
       "  </tbody>\n",
       "</table>\n",
       "</div>"
      ],
      "text/plain": [
       "                            Time (CET)  \\\n",
       "0  01.01.2015 00:00 - 01.01.2015 01:00   \n",
       "1  01.01.2015 01:00 - 01.01.2015 02:00   \n",
       "2  01.01.2015 02:00 - 01.01.2015 03:00   \n",
       "\n",
       "   Day-ahead Total Load Forecast [MW] - BZN|DK1  \\\n",
       "0                                        1870.0   \n",
       "1                                        1841.0   \n",
       "2                                        1785.0   \n",
       "\n",
       "   Actual Total Load [MW] - BZN|DK1  \n",
       "0                            1877.0  \n",
       "1                            1843.0  \n",
       "2                            1795.0  "
      ]
     },
     "execution_count": 6,
     "metadata": {},
     "output_type": "execute_result"
    }
   ],
   "source": [
    "df_years['201501010000-201601010000.csv'].head(3)"
   ]
  },
  {
   "cell_type": "markdown",
   "metadata": {},
   "source": [
    "Function to get the path per feature e.g price, load"
   ]
  },
  {
   "cell_type": "code",
   "execution_count": 7,
   "metadata": {},
   "outputs": [],
   "source": [
    "def get_feature_path(feature_name, main_directory):\n",
    "    for root, dirs_, files in os.walk(main_directory):\n",
    "        if feature_name in (root):\n",
    "            return root"
   ]
  },
  {
   "cell_type": "markdown",
   "metadata": {},
   "source": [
    "Function to bring it together and return a tuple containing a nested dictionary of the features and the corresponding dictionary of per year dataframes. "
   ]
  },
  {
   "cell_type": "code",
   "execution_count": 8,
   "metadata": {},
   "outputs": [],
   "source": [
    "def get_features_df(main_path):\n",
    "    feats = ['price', 'load']\n",
    "    feat_dict = {}\n",
    "    for feat in feats:\n",
    "        path = get_feature_path(feat, main_path)\n",
    "        names = get_file_names(path)\n",
    "        feat_dict[feat] = get_dataframes(names)\n",
    "        \n",
    "    return feat_dict[feats[0]], feat_dict[feats[1]]"
   ]
  },
  {
   "cell_type": "markdown",
   "metadata": {},
   "source": [
    "Used as follows..."
   ]
  },
  {
   "cell_type": "code",
   "execution_count": 9,
   "metadata": {
    "scrolled": true
   },
   "outputs": [],
   "source": [
    "path = r'../raw_data/'\n",
    "price, load = get_features_df(main_path=path) # unpack tuple "
   ]
  },
  {
   "cell_type": "markdown",
   "metadata": {},
   "source": [
    "## Create DataFrames from data"
   ]
  },
  {
   "cell_type": "code",
   "execution_count": 10,
   "metadata": {},
   "outputs": [],
   "source": [
    "test_df = price['202001010000-202101010000.csv']"
   ]
  },
  {
   "cell_type": "code",
   "execution_count": 11,
   "metadata": {},
   "outputs": [
    {
     "data": {
      "text/html": [
       "<div>\n",
       "<style scoped>\n",
       "    .dataframe tbody tr th:only-of-type {\n",
       "        vertical-align: middle;\n",
       "    }\n",
       "\n",
       "    .dataframe tbody tr th {\n",
       "        vertical-align: top;\n",
       "    }\n",
       "\n",
       "    .dataframe thead th {\n",
       "        text-align: right;\n",
       "    }\n",
       "</style>\n",
       "<table border=\"1\" class=\"dataframe\">\n",
       "  <thead>\n",
       "    <tr style=\"text-align: right;\">\n",
       "      <th></th>\n",
       "      <th>MTU (CET)</th>\n",
       "      <th>Day-ahead Price [EUR/MWh]</th>\n",
       "    </tr>\n",
       "  </thead>\n",
       "  <tbody>\n",
       "    <tr>\n",
       "      <th>7897</th>\n",
       "      <td>25.11.2020 00:00 - 25.11.2020 01:00</td>\n",
       "      <td>-</td>\n",
       "    </tr>\n",
       "  </tbody>\n",
       "</table>\n",
       "</div>"
      ],
      "text/plain": [
       "                                MTU (CET) Day-ahead Price [EUR/MWh]\n",
       "7897  25.11.2020 00:00 - 25.11.2020 01:00                         -"
      ]
     },
     "execution_count": 11,
     "metadata": {},
     "output_type": "execute_result"
    }
   ],
   "source": [
    "test_df[test_df['MTU (CET)'] == '25.11.2020 00:00 - 25.11.2020 01:00']"
   ]
  },
  {
   "cell_type": "markdown",
   "metadata": {},
   "source": [
    "### Concatenate dataframes"
   ]
  },
  {
   "cell_type": "code",
   "execution_count": 12,
   "metadata": {},
   "outputs": [],
   "source": [
    "def concat_dataframes(feat):\n",
    "    keys = list(feat.keys())\n",
    "    df = pd.concat([\n",
    "        feat[keys[0]],  # year 2015\n",
    "        feat[keys[1]],  # year 2016\n",
    "        feat[keys[2]],  # year 2017\n",
    "        feat[keys[3]],  # year 2018\n",
    "        feat[keys[4]],  # year 2019\n",
    "        feat[keys[5]]   # year 2020\n",
    "    ]).reset_index(drop=True)\n",
    "    return df"
   ]
  },
  {
   "cell_type": "code",
   "execution_count": 13,
   "metadata": {},
   "outputs": [],
   "source": [
    "prices_data = concat_dataframes(price)\n",
    "load_data = concat_dataframes(load)"
   ]
  },
  {
   "cell_type": "code",
   "execution_count": 14,
   "metadata": {},
   "outputs": [
    {
     "data": {
      "text/html": [
       "<div>\n",
       "<style scoped>\n",
       "    .dataframe tbody tr th:only-of-type {\n",
       "        vertical-align: middle;\n",
       "    }\n",
       "\n",
       "    .dataframe tbody tr th {\n",
       "        vertical-align: top;\n",
       "    }\n",
       "\n",
       "    .dataframe thead th {\n",
       "        text-align: right;\n",
       "    }\n",
       "</style>\n",
       "<table border=\"1\" class=\"dataframe\">\n",
       "  <thead>\n",
       "    <tr style=\"text-align: right;\">\n",
       "      <th></th>\n",
       "      <th>MTU (CET)</th>\n",
       "      <th>Day-ahead Price [EUR/MWh]</th>\n",
       "    </tr>\n",
       "  </thead>\n",
       "  <tbody>\n",
       "    <tr>\n",
       "      <th>51702</th>\n",
       "      <td>24.11.2020 00:00 - 24.11.2020 01:00</td>\n",
       "      <td>0.11</td>\n",
       "    </tr>\n",
       "  </tbody>\n",
       "</table>\n",
       "</div>"
      ],
      "text/plain": [
       "                                 MTU (CET) Day-ahead Price [EUR/MWh]\n",
       "51702  24.11.2020 00:00 - 24.11.2020 01:00                      0.11"
      ]
     },
     "execution_count": 14,
     "metadata": {},
     "output_type": "execute_result"
    }
   ],
   "source": [
    "prices_data[prices_data['MTU (CET)'] == '24.11.2020 00:00 - 24.11.2020 01:00']"
   ]
  },
  {
   "cell_type": "code",
   "execution_count": 15,
   "metadata": {},
   "outputs": [
    {
     "data": {
      "text/plain": [
       "MTU (CET)                    0\n",
       "Day-ahead Price [EUR/MWh]    6\n",
       "dtype: int64"
      ]
     },
     "execution_count": 15,
     "metadata": {},
     "output_type": "execute_result"
    }
   ],
   "source": [
    "prices_data.isnull().sum()"
   ]
  },
  {
   "cell_type": "markdown",
   "metadata": {},
   "source": [
    "### Convert to datetime"
   ]
  },
  {
   "cell_type": "markdown",
   "metadata": {},
   "source": [
    "On peeking through the dataframes nested in the dictionaries `price` and `load`, the columns showing the time display them as time ranges e.g `31.12.2020 19:00 - 31.12.2020 20:00`. A function is created to make a new column called _time_ that will strip the string down to the initial timestamp e.g `31.12.2020 19:00` and then convert the series to datetime objects"
   ]
  },
  {
   "cell_type": "code",
   "execution_count": 16,
   "metadata": {},
   "outputs": [],
   "source": [
    "def get_datetime(df):\n",
    "    try:\n",
    "        column = df['MTU (CET)'] # column with time values in price df\n",
    "    except:\n",
    "        column = df['Time (CET)']  # load time\n",
    "    \n",
    "    # create new column 'time' by formatting the original time column to get single timepoint instead of a range\n",
    "    df['time'] = column.apply(lambda _: _[:16])\n",
    "    # convert new time column from str to timestamp\n",
    "    df['time'] = pd.to_datetime(df['time'])\n",
    "        \n",
    "    return df"
   ]
  },
  {
   "cell_type": "code",
   "execution_count": 17,
   "metadata": {},
   "outputs": [],
   "source": [
    "load_data = get_datetime(load_data)\n",
    "prices_data = get_datetime(prices_data)"
   ]
  },
  {
   "cell_type": "code",
   "execution_count": 18,
   "metadata": {},
   "outputs": [
    {
     "data": {
      "text/plain": [
       "0       2015-01-01 00:00:00\n",
       "1       2015-01-01 01:00:00\n",
       "2       2015-01-01 02:00:00\n",
       "3       2015-01-01 03:00:00\n",
       "4       2015-01-01 04:00:00\n",
       "                ...        \n",
       "52609   2020-12-31 19:00:00\n",
       "52610   2020-12-31 20:00:00\n",
       "52611   2020-12-31 21:00:00\n",
       "52612   2020-12-31 22:00:00\n",
       "52613   2020-12-31 23:00:00\n",
       "Name: time, Length: 52614, dtype: datetime64[ns]"
      ]
     },
     "execution_count": 18,
     "metadata": {},
     "output_type": "execute_result"
    }
   ],
   "source": [
    "prices_data['time']"
   ]
  },
  {
   "cell_type": "markdown",
   "metadata": {},
   "source": [
    "### Merge datasets"
   ]
  },
  {
   "cell_type": "code",
   "execution_count": 19,
   "metadata": {
    "scrolled": true
   },
   "outputs": [
    {
     "name": "stdout",
     "output_type": "stream",
     "text": [
      "52614\n",
      "52614\n"
     ]
    }
   ],
   "source": [
    "print(len(prices_data))\n",
    "print(len(load_data))"
   ]
  },
  {
   "cell_type": "code",
   "execution_count": 20,
   "metadata": {},
   "outputs": [],
   "source": [
    "df = prices_data.merge(load_data, on='time').reset_index(drop=True)  # merge both"
   ]
  },
  {
   "cell_type": "code",
   "execution_count": 35,
   "metadata": {},
   "outputs": [],
   "source": [
    "def merge_data(feat_1, feat_2):\n",
    "    df = feat_1.merge(feat_2, on='time').reset_index(drop=True)\n",
    "    return df"
   ]
  },
  {
   "cell_type": "markdown",
   "metadata": {},
   "source": [
    "### Select valid time range"
   ]
  },
  {
   "cell_type": "code",
   "execution_count": 21,
   "metadata": {},
   "outputs": [],
   "source": [
    "idx_p = prices_data[prices_data['time'] == '2020-11-23 23:00:00'].index  # date up until\n",
    "idx_l = load_data[load_data['time'] == '2020-11-23 23:00:00'].index\n",
    "\n",
    "assert(idx_p == idx_l) # to check if same index on both dataframes\n",
    "\n",
    "idx = idx_l[0] + 1  # to slice from dataframe\n",
    "\n",
    "del idx_l\n",
    "del idx_p"
   ]
  },
  {
   "cell_type": "code",
   "execution_count": 22,
   "metadata": {},
   "outputs": [],
   "source": [
    "df = df.iloc[:idx]"
   ]
  },
  {
   "cell_type": "markdown",
   "metadata": {},
   "source": [
    "### Drop unnecessary columns"
   ]
  },
  {
   "cell_type": "code",
   "execution_count": 23,
   "metadata": {},
   "outputs": [],
   "source": [
    "to_drop = ['MTU (CET)', 'Time (CET)', 'Day-ahead Total Load Forecast [MW] - BZN|DK1']\n",
    "df.drop(columns=to_drop, inplace=True)"
   ]
  },
  {
   "cell_type": "code",
   "execution_count": 24,
   "metadata": {},
   "outputs": [
    {
     "data": {
      "text/plain": [
       "Index(['Day-ahead Price [EUR/MWh]', 'time',\n",
       "       'Actual Total Load [MW] - BZN|DK1'],\n",
       "      dtype='object')"
      ]
     },
     "execution_count": 24,
     "metadata": {},
     "output_type": "execute_result"
    }
   ],
   "source": [
    "df.columns"
   ]
  },
  {
   "cell_type": "markdown",
   "metadata": {},
   "source": [
    "### Handle missing data"
   ]
  },
  {
   "cell_type": "code",
   "execution_count": 25,
   "metadata": {},
   "outputs": [
    {
     "data": {
      "text/plain": [
       "Day-ahead Price [EUR/MWh]           6\n",
       "time                                0\n",
       "Actual Total Load [MW] - BZN|DK1    8\n",
       "dtype: int64"
      ]
     },
     "execution_count": 25,
     "metadata": {},
     "output_type": "execute_result"
    }
   ],
   "source": [
    "df.isnull().sum()"
   ]
  },
  {
   "cell_type": "code",
   "execution_count": 26,
   "metadata": {},
   "outputs": [
    {
     "data": {
      "text/plain": [
       "2090     NaN\n",
       "10829    NaN\n",
       "19568    NaN\n",
       "28307    NaN\n",
       "37214    NaN\n",
       "45953    NaN\n",
       "Name: Day-ahead Price [EUR/MWh], dtype: object"
      ]
     },
     "execution_count": 26,
     "metadata": {},
     "output_type": "execute_result"
    }
   ],
   "source": [
    "df['Day-ahead Price [EUR/MWh]'][df['Day-ahead Price [EUR/MWh]'].isnull() == True]"
   ]
  },
  {
   "cell_type": "code",
   "execution_count": 27,
   "metadata": {},
   "outputs": [
    {
     "data": {
      "text/plain": [
       "2090     NaN\n",
       "10829    NaN\n",
       "16038    NaN\n",
       "16040    NaN\n",
       "19568    NaN\n",
       "28307    NaN\n",
       "37214    NaN\n",
       "45953    NaN\n",
       "Name: Actual Total Load [MW] - BZN|DK1, dtype: object"
      ]
     },
     "execution_count": 27,
     "metadata": {},
     "output_type": "execute_result"
    }
   ],
   "source": [
    "df['Actual Total Load [MW] - BZN|DK1'][df['Actual Total Load [MW] - BZN|DK1'].isnull() == True]"
   ]
  },
  {
   "cell_type": "code",
   "execution_count": 28,
   "metadata": {},
   "outputs": [],
   "source": [
    "imputer = SimpleImputer()\n",
    "\n",
    "df[['Day-ahead Price [EUR/MWh]','Actual Total Load [MW] - BZN|DK1']] = imputer.fit_transform(df[['Day-ahead Price [EUR/MWh]',\n",
    "                                                                                                 'Actual Total Load [MW] - BZN|DK1']])"
   ]
  },
  {
   "cell_type": "code",
   "execution_count": 29,
   "metadata": {},
   "outputs": [
    {
     "data": {
      "text/plain": [
       "Day-ahead Price [EUR/MWh]           0\n",
       "time                                0\n",
       "Actual Total Load [MW] - BZN|DK1    0\n",
       "dtype: int64"
      ]
     },
     "execution_count": 29,
     "metadata": {},
     "output_type": "execute_result"
    }
   ],
   "source": [
    "df.isnull().sum()"
   ]
  },
  {
   "cell_type": "code",
   "execution_count": 30,
   "metadata": {},
   "outputs": [],
   "source": [
    "# total_df['hour'] = total_df['time'].apply(lambda x: x.hour)\n",
    "# total_df = total_df[total_df['hour']==0].reset_index(drop=True)  # index by "
   ]
  },
  {
   "cell_type": "code",
   "execution_count": 31,
   "metadata": {
    "scrolled": true
   },
   "outputs": [
    {
     "data": {
      "text/html": [
       "<div>\n",
       "<style scoped>\n",
       "    .dataframe tbody tr th:only-of-type {\n",
       "        vertical-align: middle;\n",
       "    }\n",
       "\n",
       "    .dataframe tbody tr th {\n",
       "        vertical-align: top;\n",
       "    }\n",
       "\n",
       "    .dataframe thead th {\n",
       "        text-align: right;\n",
       "    }\n",
       "</style>\n",
       "<table border=\"1\" class=\"dataframe\">\n",
       "  <thead>\n",
       "    <tr style=\"text-align: right;\">\n",
       "      <th></th>\n",
       "      <th>Day-ahead Price [EUR/MWh]</th>\n",
       "      <th>time</th>\n",
       "      <th>Actual Total Load [MW] - BZN|DK1</th>\n",
       "    </tr>\n",
       "  </thead>\n",
       "  <tbody>\n",
       "    <tr>\n",
       "      <th>0</th>\n",
       "      <td>25.02</td>\n",
       "      <td>2015-01-01 00:00:00</td>\n",
       "      <td>1877.0</td>\n",
       "    </tr>\n",
       "    <tr>\n",
       "      <th>1</th>\n",
       "      <td>18.29</td>\n",
       "      <td>2015-01-01 01:00:00</td>\n",
       "      <td>1843.0</td>\n",
       "    </tr>\n",
       "    <tr>\n",
       "      <th>2</th>\n",
       "      <td>16.04</td>\n",
       "      <td>2015-01-01 02:00:00</td>\n",
       "      <td>1795.0</td>\n",
       "    </tr>\n",
       "    <tr>\n",
       "      <th>3</th>\n",
       "      <td>14.60</td>\n",
       "      <td>2015-01-01 03:00:00</td>\n",
       "      <td>1745.0</td>\n",
       "    </tr>\n",
       "    <tr>\n",
       "      <th>4</th>\n",
       "      <td>14.95</td>\n",
       "      <td>2015-01-01 04:00:00</td>\n",
       "      <td>1743.0</td>\n",
       "    </tr>\n",
       "  </tbody>\n",
       "</table>\n",
       "</div>"
      ],
      "text/plain": [
       "   Day-ahead Price [EUR/MWh]                time  \\\n",
       "0                      25.02 2015-01-01 00:00:00   \n",
       "1                      18.29 2015-01-01 01:00:00   \n",
       "2                      16.04 2015-01-01 02:00:00   \n",
       "3                      14.60 2015-01-01 03:00:00   \n",
       "4                      14.95 2015-01-01 04:00:00   \n",
       "\n",
       "   Actual Total Load [MW] - BZN|DK1  \n",
       "0                            1877.0  \n",
       "1                            1843.0  \n",
       "2                            1795.0  \n",
       "3                            1745.0  \n",
       "4                            1743.0  "
      ]
     },
     "execution_count": 31,
     "metadata": {},
     "output_type": "execute_result"
    }
   ],
   "source": [
    "df.head()"
   ]
  },
  {
   "cell_type": "markdown",
   "metadata": {},
   "source": [
    "## Final function"
   ]
  },
  {
   "cell_type": "code",
   "execution_count": 38,
   "metadata": {},
   "outputs": [],
   "source": [
    "def fetch_data(path):\n",
    "    \n",
    "    price, load = get_features_df(main_path=path) # unpack tuple\n",
    "    \n",
    "    prices_data = concat_dataframes(price)\n",
    "    load_data = concat_dataframes(load)\n",
    "\n",
    "    load_data = get_datetime(load_data)\n",
    "    prices_data = get_datetime(prices_data)\n",
    "\n",
    "    # date up until\n",
    "    idx_p = prices_data[prices_data['time'] == '2020-11-23 23:00:00'].index\n",
    "    idx_l = load_data[load_data['time'] == '2020-11-23 23:00:00'].index\n",
    "    assert(idx_p == idx_l)\n",
    "    idx = idx_l[0] + 1\n",
    "    \n",
    "    df = merge_data(prices_data, load_data)\n",
    "    df = df.iloc[:idx]\n",
    "\n",
    "    # drop unused columns\n",
    "    to_drop = ['MTU (CET)', 'Time (CET)', 'Day-ahead Total Load Forecast [MW] - BZN|DK1']\n",
    "    df.drop(columns=to_drop, inplace=True)\n",
    "\n",
    "    # handle missing data\n",
    "    imputer = SimpleImputer()\n",
    "\n",
    "    df[['Day-ahead Price [EUR/MWh]','Actual Total Load [MW] - BZN|DK1']] \\\n",
    "        = imputer.fit_transform(df[['Day-ahead Price [EUR/MWh]','Actual Total Load [MW] - BZN|DK1']])\n",
    "\n",
    "    return df"
   ]
  },
  {
   "cell_type": "markdown",
   "metadata": {},
   "source": [
    "### Test"
   ]
  },
  {
   "cell_type": "code",
   "execution_count": 40,
   "metadata": {},
   "outputs": [
    {
     "data": {
      "text/html": [
       "<div>\n",
       "<style scoped>\n",
       "    .dataframe tbody tr th:only-of-type {\n",
       "        vertical-align: middle;\n",
       "    }\n",
       "\n",
       "    .dataframe tbody tr th {\n",
       "        vertical-align: top;\n",
       "    }\n",
       "\n",
       "    .dataframe thead th {\n",
       "        text-align: right;\n",
       "    }\n",
       "</style>\n",
       "<table border=\"1\" class=\"dataframe\">\n",
       "  <thead>\n",
       "    <tr style=\"text-align: right;\">\n",
       "      <th></th>\n",
       "      <th>Day-ahead Price [EUR/MWh]</th>\n",
       "      <th>time</th>\n",
       "      <th>Actual Total Load [MW] - BZN|DK1</th>\n",
       "    </tr>\n",
       "  </thead>\n",
       "  <tbody>\n",
       "    <tr>\n",
       "      <th>0</th>\n",
       "      <td>25.02</td>\n",
       "      <td>2015-01-01 00:00:00</td>\n",
       "      <td>1877.0</td>\n",
       "    </tr>\n",
       "    <tr>\n",
       "      <th>1</th>\n",
       "      <td>18.29</td>\n",
       "      <td>2015-01-01 01:00:00</td>\n",
       "      <td>1843.0</td>\n",
       "    </tr>\n",
       "    <tr>\n",
       "      <th>2</th>\n",
       "      <td>16.04</td>\n",
       "      <td>2015-01-01 02:00:00</td>\n",
       "      <td>1795.0</td>\n",
       "    </tr>\n",
       "    <tr>\n",
       "      <th>3</th>\n",
       "      <td>14.60</td>\n",
       "      <td>2015-01-01 03:00:00</td>\n",
       "      <td>1745.0</td>\n",
       "    </tr>\n",
       "    <tr>\n",
       "      <th>4</th>\n",
       "      <td>14.95</td>\n",
       "      <td>2015-01-01 04:00:00</td>\n",
       "      <td>1743.0</td>\n",
       "    </tr>\n",
       "    <tr>\n",
       "      <th>...</th>\n",
       "      <td>...</td>\n",
       "      <td>...</td>\n",
       "      <td>...</td>\n",
       "    </tr>\n",
       "    <tr>\n",
       "      <th>51697</th>\n",
       "      <td>4.08</td>\n",
       "      <td>2020-11-23 07:00:00</td>\n",
       "      <td>3182.0</td>\n",
       "    </tr>\n",
       "    <tr>\n",
       "      <th>51698</th>\n",
       "      <td>6.99</td>\n",
       "      <td>2020-11-23 08:00:00</td>\n",
       "      <td>3255.0</td>\n",
       "    </tr>\n",
       "    <tr>\n",
       "      <th>51699</th>\n",
       "      <td>6.95</td>\n",
       "      <td>2020-11-23 09:00:00</td>\n",
       "      <td>3213.0</td>\n",
       "    </tr>\n",
       "    <tr>\n",
       "      <th>51700</th>\n",
       "      <td>5.92</td>\n",
       "      <td>2020-11-23 10:00:00</td>\n",
       "      <td>3181.0</td>\n",
       "    </tr>\n",
       "    <tr>\n",
       "      <th>51701</th>\n",
       "      <td>4.95</td>\n",
       "      <td>2020-11-23 11:00:00</td>\n",
       "      <td>3167.0</td>\n",
       "    </tr>\n",
       "  </tbody>\n",
       "</table>\n",
       "<p>51702 rows × 3 columns</p>\n",
       "</div>"
      ],
      "text/plain": [
       "       Day-ahead Price [EUR/MWh]                time  \\\n",
       "0                          25.02 2015-01-01 00:00:00   \n",
       "1                          18.29 2015-01-01 01:00:00   \n",
       "2                          16.04 2015-01-01 02:00:00   \n",
       "3                          14.60 2015-01-01 03:00:00   \n",
       "4                          14.95 2015-01-01 04:00:00   \n",
       "...                          ...                 ...   \n",
       "51697                       4.08 2020-11-23 07:00:00   \n",
       "51698                       6.99 2020-11-23 08:00:00   \n",
       "51699                       6.95 2020-11-23 09:00:00   \n",
       "51700                       5.92 2020-11-23 10:00:00   \n",
       "51701                       4.95 2020-11-23 11:00:00   \n",
       "\n",
       "       Actual Total Load [MW] - BZN|DK1  \n",
       "0                                1877.0  \n",
       "1                                1843.0  \n",
       "2                                1795.0  \n",
       "3                                1745.0  \n",
       "4                                1743.0  \n",
       "...                                 ...  \n",
       "51697                            3182.0  \n",
       "51698                            3255.0  \n",
       "51699                            3213.0  \n",
       "51700                            3181.0  \n",
       "51701                            3167.0  \n",
       "\n",
       "[51702 rows x 3 columns]"
      ]
     },
     "execution_count": 40,
     "metadata": {},
     "output_type": "execute_result"
    }
   ],
   "source": [
    "df = fetch_data(path)"
   ]
  },
  {
   "cell_type": "code",
   "execution_count": 32,
   "metadata": {},
   "outputs": [],
   "source": [
    "\n",
    "    # return merged and cleaned dataframe   \n",
    "    \n",
    "    # get path per feature\n",
    "    #get_feature_path(feat, main_path)\n",
    "    \n",
    "    # get filenames per feature per path\n",
    "\n",
    "    # get dataframes per feature\n",
    "\n",
    "    # concatenate dataframes per feature dropping duplicate times\n",
    "\n",
    "    # merge features on time index or column\n",
    "\n",
    "    # return merged dataframe"
   ]
  },
  {
   "cell_type": "code",
   "execution_count": null,
   "metadata": {},
   "outputs": [],
   "source": []
  },
  {
   "cell_type": "code",
   "execution_count": null,
   "metadata": {},
   "outputs": [],
   "source": []
  }
 ],
 "metadata": {
  "kernelspec": {
   "display_name": "Python 3",
   "language": "python",
   "name": "python3"
  },
  "language_info": {
   "codemirror_mode": {
    "name": "ipython",
    "version": 3
   },
   "file_extension": ".py",
   "mimetype": "text/x-python",
   "name": "python",
   "nbconvert_exporter": "python",
   "pygments_lexer": "ipython3",
   "version": "3.7.7"
  },
  "toc": {
   "base_numbering": 1,
   "nav_menu": {},
   "number_sections": true,
   "sideBar": true,
   "skip_h1_title": false,
   "title_cell": "Table of Contents",
   "title_sidebar": "Contents",
   "toc_cell": false,
   "toc_position": {},
   "toc_section_display": true,
   "toc_window_display": false
  },
  "varInspector": {
   "cols": {
    "lenName": 16,
    "lenType": 16,
    "lenVar": 40
   },
   "kernels_config": {
    "python": {
     "delete_cmd_postfix": "",
     "delete_cmd_prefix": "del ",
     "library": "var_list.py",
     "varRefreshCmd": "print(var_dic_list())"
    },
    "r": {
     "delete_cmd_postfix": ") ",
     "delete_cmd_prefix": "rm(",
     "library": "var_list.r",
     "varRefreshCmd": "cat(var_dic_list()) "
    }
   },
   "types_to_exclude": [
    "module",
    "function",
    "builtin_function_or_method",
    "instance",
    "_Feature"
   ],
   "window_display": false
  }
 },
 "nbformat": 4,
 "nbformat_minor": 4
}
