{
 "cells": [
  {
   "cell_type": "markdown",
   "metadata": {},
   "source": [
    "# Data Merging"
   ]
  },
  {
   "cell_type": "code",
   "execution_count": 1,
   "metadata": {},
   "outputs": [],
   "source": [
    "import os\n",
    "import numpy as np\n",
    "import pandas as pd"
   ]
  },
  {
   "cell_type": "markdown",
   "metadata": {},
   "source": [
    "## Fetch data from file path"
   ]
  },
  {
   "cell_type": "markdown",
   "metadata": {},
   "source": [
    "Get the csv file names from a given directory"
   ]
  },
  {
   "cell_type": "code",
   "execution_count": 2,
   "metadata": {},
   "outputs": [],
   "source": [
    "def get_file_names(directory):\n",
    "    \"\"\"returns the csv files in the given string directory path\"\"\"\n",
    "    file_names = []\n",
    "    for filename in os.listdir(directory):\n",
    "        if filename.endswith(\".csv\"):\n",
    "            file_names.append(os.path.join(directory, filename))\n",
    "    return file_names"
   ]
  },
  {
   "cell_type": "markdown",
   "metadata": {},
   "source": [
    "Create a dictionary from the files where the keys are the yearly intervals and the values are the respective dataframes."
   ]
  },
  {
   "cell_type": "code",
   "execution_count": 3,
   "metadata": {},
   "outputs": [],
   "source": [
    "def get_dataframes(file_names):\n",
    "    \"\"\"Takes in a list of csv file paths.\n",
    "    Returns a dictionary whose keys are the years\n",
    "    and values are the corresponding dataframes.\"\"\"\n",
    "    df_years = {}\n",
    "    for file in file_names:\n",
    "        df_years[file[-29:]] = pd.read_csv(file) # [-29:] Indexes the years.csv eg '201501010000-201601010000.csv'\n",
    "    return df_years\n",
    "    "
   ]
  },
  {
   "cell_type": "markdown",
   "metadata": {},
   "source": [
    "Can be used as follows:"
   ]
  },
  {
   "cell_type": "code",
   "execution_count": 4,
   "metadata": {},
   "outputs": [
    {
     "name": "stdout",
     "output_type": "stream",
     "text": [
      "dict_keys(['201501010000-201601010000.csv', '201601010000-201701010000.csv', '201701010000-201801010000.csv', '201801010000-201901010000.csv', '201901010000-202001010000.csv', '202001010000-202101010000.csv'])\n"
     ]
    }
   ],
   "source": [
    "directory = r'../raw_data/load/'\n",
    "file_names = get_file_names(directory)\n",
    "df_years = get_dataframes(file_names)\n",
    "\n",
    "print(df_years.keys())"
   ]
  },
  {
   "cell_type": "code",
   "execution_count": 5,
   "metadata": {
    "scrolled": false
   },
   "outputs": [
    {
     "data": {
      "text/html": [
       "<div>\n",
       "<style scoped>\n",
       "    .dataframe tbody tr th:only-of-type {\n",
       "        vertical-align: middle;\n",
       "    }\n",
       "\n",
       "    .dataframe tbody tr th {\n",
       "        vertical-align: top;\n",
       "    }\n",
       "\n",
       "    .dataframe thead th {\n",
       "        text-align: right;\n",
       "    }\n",
       "</style>\n",
       "<table border=\"1\" class=\"dataframe\">\n",
       "  <thead>\n",
       "    <tr style=\"text-align: right;\">\n",
       "      <th></th>\n",
       "      <th>Time (CET)</th>\n",
       "      <th>Day-ahead Total Load Forecast [MW] - BZN|DK1</th>\n",
       "      <th>Actual Total Load [MW] - BZN|DK1</th>\n",
       "    </tr>\n",
       "  </thead>\n",
       "  <tbody>\n",
       "    <tr>\n",
       "      <th>0</th>\n",
       "      <td>01.01.2015 00:00 - 01.01.2015 01:00</td>\n",
       "      <td>1870.0</td>\n",
       "      <td>1877.0</td>\n",
       "    </tr>\n",
       "    <tr>\n",
       "      <th>1</th>\n",
       "      <td>01.01.2015 01:00 - 01.01.2015 02:00</td>\n",
       "      <td>1841.0</td>\n",
       "      <td>1843.0</td>\n",
       "    </tr>\n",
       "    <tr>\n",
       "      <th>2</th>\n",
       "      <td>01.01.2015 02:00 - 01.01.2015 03:00</td>\n",
       "      <td>1785.0</td>\n",
       "      <td>1795.0</td>\n",
       "    </tr>\n",
       "  </tbody>\n",
       "</table>\n",
       "</div>"
      ],
      "text/plain": [
       "                            Time (CET)  \\\n",
       "0  01.01.2015 00:00 - 01.01.2015 01:00   \n",
       "1  01.01.2015 01:00 - 01.01.2015 02:00   \n",
       "2  01.01.2015 02:00 - 01.01.2015 03:00   \n",
       "\n",
       "   Day-ahead Total Load Forecast [MW] - BZN|DK1  \\\n",
       "0                                        1870.0   \n",
       "1                                        1841.0   \n",
       "2                                        1785.0   \n",
       "\n",
       "   Actual Total Load [MW] - BZN|DK1  \n",
       "0                            1877.0  \n",
       "1                            1843.0  \n",
       "2                            1795.0  "
      ]
     },
     "execution_count": 5,
     "metadata": {},
     "output_type": "execute_result"
    }
   ],
   "source": [
    "df_years['201501010000-201601010000.csv'].head(3)"
   ]
  },
  {
   "cell_type": "markdown",
   "metadata": {},
   "source": [
    "Function to get the path per feature e.g price, load"
   ]
  },
  {
   "cell_type": "code",
   "execution_count": 6,
   "metadata": {},
   "outputs": [],
   "source": [
    "def get_feature_path(feature_name, main_directory):\n",
    "    for root, dirs_, files in os.walk(main_directory):\n",
    "        if feature_name in (root):\n",
    "            return root"
   ]
  },
  {
   "cell_type": "markdown",
   "metadata": {},
   "source": [
    "Function to bring it together and return a tuple containing a nested dictionary of the features and the corresponding dictionary of per year dataframes. "
   ]
  },
  {
   "cell_type": "code",
   "execution_count": 7,
   "metadata": {},
   "outputs": [],
   "source": [
    "def get_features_df(main_path):\n",
    "    feats = ['price', 'load']\n",
    "    feat_dict = {}\n",
    "    for feat in feats:\n",
    "        path = get_feature_path(feat, main_path)\n",
    "        names = get_file_names(path)\n",
    "        feat_dict[feat] = get_dataframes(names)\n",
    "        \n",
    "    return feat_dict[feats[0]], feat_dict[feats[1]]"
   ]
  },
  {
   "cell_type": "markdown",
   "metadata": {},
   "source": [
    "Used as follows..."
   ]
  },
  {
   "cell_type": "code",
   "execution_count": 50,
   "metadata": {
    "scrolled": true
   },
   "outputs": [],
   "source": [
    "path = r'../raw_data/'\n",
    "price, load = get_features_df(main_path=path) # unpack tuple "
   ]
  },
  {
   "cell_type": "markdown",
   "metadata": {},
   "source": [
    "## Create DataFrames from data"
   ]
  },
  {
   "cell_type": "markdown",
   "metadata": {},
   "source": [
    "### Concatenate dataframes"
   ]
  },
  {
   "cell_type": "code",
   "execution_count": 51,
   "metadata": {},
   "outputs": [],
   "source": [
    "def concat_dataframes(feat):\n",
    "    keys = list(feat.keys())\n",
    "    df = pd.concat([\n",
    "        feat[keys[0]],\n",
    "        feat[keys[1]],\n",
    "        feat[keys[2]],\n",
    "        feat[keys[3]],\n",
    "        feat[keys[4]],\n",
    "        feat[keys[5]]\n",
    "    ])\n",
    "    return df"
   ]
  },
  {
   "cell_type": "code",
   "execution_count": 54,
   "metadata": {},
   "outputs": [],
   "source": [
    "prices_data = concat_dataframes(price)\n",
    "load_data = concat_dataframes(load)"
   ]
  },
  {
   "cell_type": "code",
   "execution_count": null,
   "metadata": {},
   "outputs": [],
   "source": [
    "prices_data['time'] = price[]"
   ]
  },
  {
   "cell_type": "markdown",
   "metadata": {},
   "source": [
    "### Convert to datetime"
   ]
  },
  {
   "cell_type": "markdown",
   "metadata": {},
   "source": [
    "On peeking through the dataframes nested in the dictionaries `price` and `load`, the columns showing the time display them as time ranges e.g `31.12.2020 19:00 - 31.12.2020 20:00`. A function is created to make a new column called _time_ that will strip the string down to the initial timestamp e.g `31.12.2020 19:00` and then convert the series to datetime objects"
   ]
  },
  {
   "cell_type": "code",
   "execution_count": 27,
   "metadata": {},
   "outputs": [],
   "source": [
    "def get_datetime(column):\n",
    "    colu\n",
    "    \n",
    "    \n",
    "\n",
    "    for i in range(0,6):\n",
    "        # create new column 'time' by formatting the original time column to get single timepoint instead of a range\n",
    "        price[years_price[i]]['time'] = price[years_price[i]]['MTU (CET)'].apply(lambda _: _[:16])\n",
    "        # convert new time column from str to timestamp\n",
    "        price[years_price[i]]['time'] = pd.to_datetime(price[years_price[i]]['time'])\n",
    "\n",
    "    # do the same for the load\n",
    "    for i in range(0,6):\n",
    "        load[years_load[i]]['time'] = load[years_load[i]]['Time (CET)'].apply(lambda _: _[:16])\n",
    "        load[years_load[i]]['time'] = pd.to_datetime(load[years_load[i]]['time'])\n",
    "        \n",
    "    return price, load\n"
   ]
  },
  {
   "cell_type": "code",
   "execution_count": 45,
   "metadata": {},
   "outputs": [],
   "source": [
    "price, load = get_datetime(price, load)"
   ]
  },
  {
   "cell_type": "code",
   "execution_count": 49,
   "metadata": {
    "scrolled": true
   },
   "outputs": [
    {
     "data": {
      "text/html": [
       "<div>\n",
       "<style scoped>\n",
       "    .dataframe tbody tr th:only-of-type {\n",
       "        vertical-align: middle;\n",
       "    }\n",
       "\n",
       "    .dataframe tbody tr th {\n",
       "        vertical-align: top;\n",
       "    }\n",
       "\n",
       "    .dataframe thead th {\n",
       "        text-align: right;\n",
       "    }\n",
       "</style>\n",
       "<table border=\"1\" class=\"dataframe\">\n",
       "  <thead>\n",
       "    <tr style=\"text-align: right;\">\n",
       "      <th></th>\n",
       "      <th>MTU (CET)</th>\n",
       "      <th>Day-ahead Price [EUR/MWh]</th>\n",
       "      <th>time</th>\n",
       "    </tr>\n",
       "  </thead>\n",
       "  <tbody>\n",
       "    <tr>\n",
       "      <th>8780</th>\n",
       "      <td>31.12.2020 19:00 - 31.12.2020 20:00</td>\n",
       "      <td>-</td>\n",
       "      <td>2020-12-31 19:00:00</td>\n",
       "    </tr>\n",
       "    <tr>\n",
       "      <th>8781</th>\n",
       "      <td>31.12.2020 20:00 - 31.12.2020 21:00</td>\n",
       "      <td>-</td>\n",
       "      <td>2020-12-31 20:00:00</td>\n",
       "    </tr>\n",
       "    <tr>\n",
       "      <th>8782</th>\n",
       "      <td>31.12.2020 21:00 - 31.12.2020 22:00</td>\n",
       "      <td>-</td>\n",
       "      <td>2020-12-31 21:00:00</td>\n",
       "    </tr>\n",
       "    <tr>\n",
       "      <th>8783</th>\n",
       "      <td>31.12.2020 22:00 - 31.12.2020 23:00</td>\n",
       "      <td>-</td>\n",
       "      <td>2020-12-31 22:00:00</td>\n",
       "    </tr>\n",
       "    <tr>\n",
       "      <th>8784</th>\n",
       "      <td>31.12.2020 23:00 - 01.01.2021 00:00</td>\n",
       "      <td>-</td>\n",
       "      <td>2020-12-31 23:00:00</td>\n",
       "    </tr>\n",
       "  </tbody>\n",
       "</table>\n",
       "</div>"
      ],
      "text/plain": [
       "                                MTU (CET) Day-ahead Price [EUR/MWh]  \\\n",
       "8780  31.12.2020 19:00 - 31.12.2020 20:00                         -   \n",
       "8781  31.12.2020 20:00 - 31.12.2020 21:00                         -   \n",
       "8782  31.12.2020 21:00 - 31.12.2020 22:00                         -   \n",
       "8783  31.12.2020 22:00 - 31.12.2020 23:00                         -   \n",
       "8784  31.12.2020 23:00 - 01.01.2021 00:00                         -   \n",
       "\n",
       "                    time  \n",
       "8780 2020-12-31 19:00:00  \n",
       "8781 2020-12-31 20:00:00  \n",
       "8782 2020-12-31 21:00:00  \n",
       "8783 2020-12-31 22:00:00  \n",
       "8784 2020-12-31 23:00:00  "
      ]
     },
     "execution_count": 49,
     "metadata": {},
     "output_type": "execute_result"
    }
   ],
   "source": [
    "prices_data.tail()"
   ]
  },
  {
   "cell_type": "code",
   "execution_count": 44,
   "metadata": {},
   "outputs": [
    {
     "data": {
      "text/html": [
       "<div>\n",
       "<style scoped>\n",
       "    .dataframe tbody tr th:only-of-type {\n",
       "        vertical-align: middle;\n",
       "    }\n",
       "\n",
       "    .dataframe tbody tr th {\n",
       "        vertical-align: top;\n",
       "    }\n",
       "\n",
       "    .dataframe thead th {\n",
       "        text-align: right;\n",
       "    }\n",
       "</style>\n",
       "<table border=\"1\" class=\"dataframe\">\n",
       "  <thead>\n",
       "    <tr style=\"text-align: right;\">\n",
       "      <th></th>\n",
       "      <th>Time (CET)</th>\n",
       "      <th>Day-ahead Total Load Forecast [MW] - BZN|DK1</th>\n",
       "      <th>Actual Total Load [MW] - BZN|DK1</th>\n",
       "      <th>time</th>\n",
       "    </tr>\n",
       "  </thead>\n",
       "  <tbody>\n",
       "    <tr>\n",
       "      <th>8780</th>\n",
       "      <td>31.12.2020 19:00 - 31.12.2020 20:00</td>\n",
       "      <td>-</td>\n",
       "      <td>-</td>\n",
       "      <td>2020-12-31 19:00:00</td>\n",
       "    </tr>\n",
       "    <tr>\n",
       "      <th>8781</th>\n",
       "      <td>31.12.2020 20:00 - 31.12.2020 21:00</td>\n",
       "      <td>-</td>\n",
       "      <td>-</td>\n",
       "      <td>2020-12-31 20:00:00</td>\n",
       "    </tr>\n",
       "    <tr>\n",
       "      <th>8782</th>\n",
       "      <td>31.12.2020 21:00 - 31.12.2020 22:00</td>\n",
       "      <td>-</td>\n",
       "      <td>-</td>\n",
       "      <td>2020-12-31 21:00:00</td>\n",
       "    </tr>\n",
       "    <tr>\n",
       "      <th>8783</th>\n",
       "      <td>31.12.2020 22:00 - 31.12.2020 23:00</td>\n",
       "      <td>-</td>\n",
       "      <td>-</td>\n",
       "      <td>2020-12-31 22:00:00</td>\n",
       "    </tr>\n",
       "    <tr>\n",
       "      <th>8784</th>\n",
       "      <td>31.12.2020 23:00 - 01.01.2021 00:00</td>\n",
       "      <td>-</td>\n",
       "      <td>-</td>\n",
       "      <td>2020-12-31 23:00:00</td>\n",
       "    </tr>\n",
       "  </tbody>\n",
       "</table>\n",
       "</div>"
      ],
      "text/plain": [
       "                               Time (CET)  \\\n",
       "8780  31.12.2020 19:00 - 31.12.2020 20:00   \n",
       "8781  31.12.2020 20:00 - 31.12.2020 21:00   \n",
       "8782  31.12.2020 21:00 - 31.12.2020 22:00   \n",
       "8783  31.12.2020 22:00 - 31.12.2020 23:00   \n",
       "8784  31.12.2020 23:00 - 01.01.2021 00:00   \n",
       "\n",
       "     Day-ahead Total Load Forecast [MW] - BZN|DK1  \\\n",
       "8780                                            -   \n",
       "8781                                            -   \n",
       "8782                                            -   \n",
       "8783                                            -   \n",
       "8784                                            -   \n",
       "\n",
       "     Actual Total Load [MW] - BZN|DK1                time  \n",
       "8780                                - 2020-12-31 19:00:00  \n",
       "8781                                - 2020-12-31 20:00:00  \n",
       "8782                                - 2020-12-31 21:00:00  \n",
       "8783                                - 2020-12-31 22:00:00  \n",
       "8784                                - 2020-12-31 23:00:00  "
      ]
     },
     "execution_count": 44,
     "metadata": {},
     "output_type": "execute_result"
    }
   ],
   "source": [
    "load_data.tail()"
   ]
  },
  {
   "cell_type": "code",
   "execution_count": 13,
   "metadata": {},
   "outputs": [],
   "source": [
    "class load_data():\n",
    "    # return merged and cleaned dataframe\n",
    "    \n",
    "    def __init__(self, main_path):\n",
    "        pass\n",
    "        \n",
    "    \n",
    "    # get path per feature\n",
    "    #get_feature_path(feat, main_path)\n",
    "    \n",
    "    # get filenames per feature per path\n",
    "\n",
    "    # get dataframes per feature\n",
    "\n",
    "    # concatenate dataframes per feature dropping duplicate times\n",
    "\n",
    "    # merge features on time index or column\n",
    "\n",
    "    # return merged dataframe"
   ]
  },
  {
   "cell_type": "code",
   "execution_count": null,
   "metadata": {},
   "outputs": [],
   "source": []
  },
  {
   "cell_type": "code",
   "execution_count": null,
   "metadata": {},
   "outputs": [],
   "source": []
  },
  {
   "cell_type": "code",
   "execution_count": null,
   "metadata": {},
   "outputs": [],
   "source": []
  },
  {
   "cell_type": "code",
   "execution_count": null,
   "metadata": {},
   "outputs": [],
   "source": []
  }
 ],
 "metadata": {
  "kernelspec": {
   "display_name": "Python 3",
   "language": "python",
   "name": "python3"
  },
  "language_info": {
   "codemirror_mode": {
    "name": "ipython",
    "version": 3
   },
   "file_extension": ".py",
   "mimetype": "text/x-python",
   "name": "python",
   "nbconvert_exporter": "python",
   "pygments_lexer": "ipython3",
   "version": "3.7.4"
  },
  "toc": {
   "base_numbering": 1,
   "nav_menu": {},
   "number_sections": true,
   "sideBar": true,
   "skip_h1_title": false,
   "title_cell": "Table of Contents",
   "title_sidebar": "Contents",
   "toc_cell": false,
   "toc_position": {},
   "toc_section_display": true,
   "toc_window_display": false
  },
  "varInspector": {
   "cols": {
    "lenName": 16,
    "lenType": 16,
    "lenVar": 40
   },
   "kernels_config": {
    "python": {
     "delete_cmd_postfix": "",
     "delete_cmd_prefix": "del ",
     "library": "var_list.py",
     "varRefreshCmd": "print(var_dic_list())"
    },
    "r": {
     "delete_cmd_postfix": ") ",
     "delete_cmd_prefix": "rm(",
     "library": "var_list.r",
     "varRefreshCmd": "cat(var_dic_list()) "
    }
   },
   "types_to_exclude": [
    "module",
    "function",
    "builtin_function_or_method",
    "instance",
    "_Feature"
   ],
   "window_display": false
  }
 },
 "nbformat": 4,
 "nbformat_minor": 4
}
