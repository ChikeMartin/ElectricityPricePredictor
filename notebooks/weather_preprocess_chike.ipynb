{
 "cells": [
  {
   "cell_type": "code",
   "execution_count": 11,
   "metadata": {},
   "outputs": [],
   "source": [
    "import pandas as pd\n",
    "import numpy as np\n",
    "from datetime import timedelta\n",
    "from electricity_price_predictor.data import get_shifted_load, get_shifted_price"
   ]
  },
  {
   "cell_type": "markdown",
   "metadata": {},
   "source": [
    "## Function to retrieve weather data"
   ]
  },
  {
   "cell_type": "code",
   "execution_count": 5,
   "metadata": {},
   "outputs": [],
   "source": [
    "def get_weather(path='../raw_data/weather_2015_2020.csv'):\n",
    "    df = pd.read_csv(path)\n",
    "    \n",
    "    df['dt'] = pd.to_datetime(df.dt)\n",
    "    \n",
    "    # drop unnecessary columns\n",
    "    to_drop = ['dt_iso','timezone','lat', 'lon','sea_level','grnd_level',\n",
    "               'rain_1h','rain_3h', 'pressure', 'snow_1h', 'snow_3h', \n",
    "               'temp_min','temp_max','weather_id', 'weather_description', \n",
    "               'weather_icon']\n",
    "    df = df.drop(to_drop, axis=1)\n",
    "    \n",
    "    # population of each city in the df \n",
    "    pop = {'Aarhus': 349_983,\n",
    "        'Odense': 204_895,\n",
    "        'Aalborg': 217_075,\n",
    "        'Esbjerg': 115_748,\n",
    "        'Vejle': 111_743,\n",
    "        'Randers': 96_559,\n",
    "        'Viborg': 93_819,\n",
    "        'Kolding': 89_412,\n",
    "        'Silkeborg': 89_328,\n",
    "        'Herning': 86_348,\n",
    "        'Horsens': 83_598}\n",
    "    \n",
    "    df['population'] = [pop[city] for city in df.city_name]\n",
    "    \n",
    "    # numeric weather values as affects demand or supply\n",
    "    numeric_cols = ['temp', 'feels_like', 'humidity',  'clouds_all','wind_speed', 'wind_deg']\n",
    "    \n",
    "    weather_df = pd.DataFrame()\n",
    "    \n",
    "    #for the numeric columns, group by datetime and average according to their population weight\n",
    "    for col in numeric_cols:\n",
    "    #group by the datecolumn for each element in the column average it by it's weight\n",
    "        weather_df[col] = df.groupby(df.dt).apply(lambda x : np.average(x[col], weights=x.population))\n",
    "        \n",
    "    \n",
    "    # check for missing indices\n",
    "    missing_idx = pd.date_range(start = '2015-01-01', end = '2020-11-24', freq='H' ).difference(weather_df.index)\n",
    "    \n",
    "    # impute missing indices with average of bounding rows\n",
    "    for idx in missing_idx:\n",
    "        weather_df.loc[idx] = weather_df.loc[pd.to_datetime(idx) - timedelta(hours= 1)] + \\\n",
    "                      weather_df.loc[pd.to_datetime(idx) + timedelta(hours= 1)] / 2 \n",
    "    \n",
    "    return weather_df"
   ]
  },
  {
   "cell_type": "code",
   "execution_count": 6,
   "metadata": {},
   "outputs": [],
   "source": [
    "df = get_weather()"
   ]
  },
  {
   "cell_type": "code",
   "execution_count": 7,
   "metadata": {
    "scrolled": true
   },
   "outputs": [
    {
     "data": {
      "text/html": [
       "<div>\n",
       "<style scoped>\n",
       "    .dataframe tbody tr th:only-of-type {\n",
       "        vertical-align: middle;\n",
       "    }\n",
       "\n",
       "    .dataframe tbody tr th {\n",
       "        vertical-align: top;\n",
       "    }\n",
       "\n",
       "    .dataframe thead th {\n",
       "        text-align: right;\n",
       "    }\n",
       "</style>\n",
       "<table border=\"1\" class=\"dataframe\">\n",
       "  <thead>\n",
       "    <tr style=\"text-align: right;\">\n",
       "      <th></th>\n",
       "      <th>temp</th>\n",
       "      <th>feels_like</th>\n",
       "      <th>humidity</th>\n",
       "      <th>clouds_all</th>\n",
       "      <th>wind_speed</th>\n",
       "      <th>wind_deg</th>\n",
       "    </tr>\n",
       "    <tr>\n",
       "      <th>dt</th>\n",
       "      <th></th>\n",
       "      <th></th>\n",
       "      <th></th>\n",
       "      <th></th>\n",
       "      <th></th>\n",
       "      <th></th>\n",
       "    </tr>\n",
       "  </thead>\n",
       "  <tbody>\n",
       "    <tr>\n",
       "      <th>2015-01-01 00:00:00</th>\n",
       "      <td>5.432478</td>\n",
       "      <td>-0.154827</td>\n",
       "      <td>86.758700</td>\n",
       "      <td>83.913979</td>\n",
       "      <td>5.937703</td>\n",
       "      <td>240.418412</td>\n",
       "    </tr>\n",
       "    <tr>\n",
       "      <th>2015-01-01 01:00:00</th>\n",
       "      <td>5.488014</td>\n",
       "      <td>0.354168</td>\n",
       "      <td>87.139723</td>\n",
       "      <td>91.950524</td>\n",
       "      <td>5.322343</td>\n",
       "      <td>234.663941</td>\n",
       "    </tr>\n",
       "    <tr>\n",
       "      <th>2015-01-01 02:00:00</th>\n",
       "      <td>5.599633</td>\n",
       "      <td>0.307204</td>\n",
       "      <td>87.786899</td>\n",
       "      <td>89.471946</td>\n",
       "      <td>5.605773</td>\n",
       "      <td>237.303816</td>\n",
       "    </tr>\n",
       "    <tr>\n",
       "      <th>2015-01-01 03:00:00</th>\n",
       "      <td>6.234380</td>\n",
       "      <td>0.991530</td>\n",
       "      <td>87.241639</td>\n",
       "      <td>88.896068</td>\n",
       "      <td>5.681109</td>\n",
       "      <td>237.164090</td>\n",
       "    </tr>\n",
       "    <tr>\n",
       "      <th>2015-01-01 04:00:00</th>\n",
       "      <td>6.305504</td>\n",
       "      <td>1.011242</td>\n",
       "      <td>88.078906</td>\n",
       "      <td>92.107249</td>\n",
       "      <td>5.809829</td>\n",
       "      <td>236.333760</td>\n",
       "    </tr>\n",
       "  </tbody>\n",
       "</table>\n",
       "</div>"
      ],
      "text/plain": [
       "                         temp  feels_like   humidity  clouds_all  wind_speed  \\\n",
       "dt                                                                             \n",
       "2015-01-01 00:00:00  5.432478   -0.154827  86.758700   83.913979    5.937703   \n",
       "2015-01-01 01:00:00  5.488014    0.354168  87.139723   91.950524    5.322343   \n",
       "2015-01-01 02:00:00  5.599633    0.307204  87.786899   89.471946    5.605773   \n",
       "2015-01-01 03:00:00  6.234380    0.991530  87.241639   88.896068    5.681109   \n",
       "2015-01-01 04:00:00  6.305504    1.011242  88.078906   92.107249    5.809829   \n",
       "\n",
       "                       wind_deg  \n",
       "dt                               \n",
       "2015-01-01 00:00:00  240.418412  \n",
       "2015-01-01 01:00:00  234.663941  \n",
       "2015-01-01 02:00:00  237.303816  \n",
       "2015-01-01 03:00:00  237.164090  \n",
       "2015-01-01 04:00:00  236.333760  "
      ]
     },
     "execution_count": 7,
     "metadata": {},
     "output_type": "execute_result"
    }
   ],
   "source": [
    "df.head()"
   ]
  },
  {
   "cell_type": "markdown",
   "metadata": {},
   "source": [
    "## Test after package"
   ]
  },
  {
   "cell_type": "code",
   "execution_count": 2,
   "metadata": {},
   "outputs": [],
   "source": [
    "from electricity_price_predictor.data import get_weather"
   ]
  },
  {
   "cell_type": "code",
   "execution_count": 1,
   "metadata": {},
   "outputs": [],
   "source": [
    "import pandas as pd"
   ]
  },
  {
   "cell_type": "code",
   "execution_count": 7,
   "metadata": {},
   "outputs": [
    {
     "data": {
      "text/html": [
       "<div>\n",
       "<style scoped>\n",
       "    .dataframe tbody tr th:only-of-type {\n",
       "        vertical-align: middle;\n",
       "    }\n",
       "\n",
       "    .dataframe tbody tr th {\n",
       "        vertical-align: top;\n",
       "    }\n",
       "\n",
       "    .dataframe thead th {\n",
       "        text-align: right;\n",
       "    }\n",
       "</style>\n",
       "<table border=\"1\" class=\"dataframe\">\n",
       "  <thead>\n",
       "    <tr style=\"text-align: right;\">\n",
       "      <th></th>\n",
       "      <th>dt</th>\n",
       "      <th>temp</th>\n",
       "      <th>humidity</th>\n",
       "      <th>wind_speed</th>\n",
       "    </tr>\n",
       "  </thead>\n",
       "  <tbody>\n",
       "    <tr>\n",
       "      <th>0</th>\n",
       "      <td>2020-11-25 01:00:00</td>\n",
       "      <td>9.218136</td>\n",
       "      <td>88.541674</td>\n",
       "      <td>4.046357</td>\n",
       "    </tr>\n",
       "    <tr>\n",
       "      <th>1</th>\n",
       "      <td>2020-11-25 02:00:00</td>\n",
       "      <td>8.845358</td>\n",
       "      <td>89.452965</td>\n",
       "      <td>3.966888</td>\n",
       "    </tr>\n",
       "    <tr>\n",
       "      <th>2</th>\n",
       "      <td>2020-11-25 03:00:00</td>\n",
       "      <td>8.294952</td>\n",
       "      <td>90.971981</td>\n",
       "      <td>4.041120</td>\n",
       "    </tr>\n",
       "    <tr>\n",
       "      <th>3</th>\n",
       "      <td>2020-11-25 04:00:00</td>\n",
       "      <td>7.593209</td>\n",
       "      <td>91.272988</td>\n",
       "      <td>3.463064</td>\n",
       "    </tr>\n",
       "    <tr>\n",
       "      <th>4</th>\n",
       "      <td>2020-11-25 05:00:00</td>\n",
       "      <td>7.004944</td>\n",
       "      <td>93.699781</td>\n",
       "      <td>3.255737</td>\n",
       "    </tr>\n",
       "    <tr>\n",
       "      <th>...</th>\n",
       "      <td>...</td>\n",
       "      <td>...</td>\n",
       "      <td>...</td>\n",
       "      <td>...</td>\n",
       "    </tr>\n",
       "    <tr>\n",
       "      <th>115</th>\n",
       "      <td>2020-11-29 20:00:00</td>\n",
       "      <td>0.718468</td>\n",
       "      <td>89.993295</td>\n",
       "      <td>0.993587</td>\n",
       "    </tr>\n",
       "    <tr>\n",
       "      <th>116</th>\n",
       "      <td>2020-11-29 21:00:00</td>\n",
       "      <td>0.671744</td>\n",
       "      <td>89.882188</td>\n",
       "      <td>0.872799</td>\n",
       "    </tr>\n",
       "    <tr>\n",
       "      <th>117</th>\n",
       "      <td>2020-11-29 22:00:00</td>\n",
       "      <td>0.667119</td>\n",
       "      <td>89.610830</td>\n",
       "      <td>1.440935</td>\n",
       "    </tr>\n",
       "    <tr>\n",
       "      <th>118</th>\n",
       "      <td>2020-11-29 23:00:00</td>\n",
       "      <td>0.484776</td>\n",
       "      <td>89.635635</td>\n",
       "      <td>1.408570</td>\n",
       "    </tr>\n",
       "    <tr>\n",
       "      <th>119</th>\n",
       "      <td>2020-11-30 00:00:00</td>\n",
       "      <td>0.527534</td>\n",
       "      <td>89.398071</td>\n",
       "      <td>1.704123</td>\n",
       "    </tr>\n",
       "  </tbody>\n",
       "</table>\n",
       "<p>120 rows × 4 columns</p>\n",
       "</div>"
      ],
      "text/plain": [
       "                      dt      temp   humidity  wind_speed\n",
       "0    2020-11-25 01:00:00  9.218136  88.541674    4.046357\n",
       "1    2020-11-25 02:00:00  8.845358  89.452965    3.966888\n",
       "2    2020-11-25 03:00:00  8.294952  90.971981    4.041120\n",
       "3    2020-11-25 04:00:00  7.593209  91.272988    3.463064\n",
       "4    2020-11-25 05:00:00  7.004944  93.699781    3.255737\n",
       "..                   ...       ...        ...         ...\n",
       "115  2020-11-29 20:00:00  0.718468  89.993295    0.993587\n",
       "116  2020-11-29 21:00:00  0.671744  89.882188    0.872799\n",
       "117  2020-11-29 22:00:00  0.667119  89.610830    1.440935\n",
       "118  2020-11-29 23:00:00  0.484776  89.635635    1.408570\n",
       "119  2020-11-30 00:00:00  0.527534  89.398071    1.704123\n",
       "\n",
       "[120 rows x 4 columns]"
      ]
     },
     "execution_count": 7,
     "metadata": {},
     "output_type": "execute_result"
    }
   ],
   "source": [
    "df_past"
   ]
  },
  {
   "cell_type": "code",
   "execution_count": 6,
   "metadata": {},
   "outputs": [],
   "source": [
    "df_past = pd.read_csv('../raw_data/past_weather.csv')"
   ]
  },
  {
   "cell_type": "code",
   "execution_count": 14,
   "metadata": {},
   "outputs": [],
   "source": [
    "df = get_weather()"
   ]
  },
  {
   "cell_type": "code",
   "execution_count": 18,
   "metadata": {},
   "outputs": [],
   "source": [
    "df = df.drop(columns=['feels_like', 'clouds_all' ])"
   ]
  },
  {
   "cell_type": "code",
   "execution_count": 15,
   "metadata": {},
   "outputs": [
    {
     "data": {
      "text/html": [
       "<div>\n",
       "<style scoped>\n",
       "    .dataframe tbody tr th:only-of-type {\n",
       "        vertical-align: middle;\n",
       "    }\n",
       "\n",
       "    .dataframe tbody tr th {\n",
       "        vertical-align: top;\n",
       "    }\n",
       "\n",
       "    .dataframe thead th {\n",
       "        text-align: right;\n",
       "    }\n",
       "</style>\n",
       "<table border=\"1\" class=\"dataframe\">\n",
       "  <thead>\n",
       "    <tr style=\"text-align: right;\">\n",
       "      <th></th>\n",
       "      <th>dt</th>\n",
       "      <th>temp</th>\n",
       "      <th>humidity</th>\n",
       "      <th>wind_speed</th>\n",
       "    </tr>\n",
       "  </thead>\n",
       "  <tbody>\n",
       "    <tr>\n",
       "      <th>0</th>\n",
       "      <td>2020-11-25 01:00:00</td>\n",
       "      <td>9.218136</td>\n",
       "      <td>88.541674</td>\n",
       "      <td>4.046357</td>\n",
       "    </tr>\n",
       "    <tr>\n",
       "      <th>1</th>\n",
       "      <td>2020-11-25 02:00:00</td>\n",
       "      <td>8.845358</td>\n",
       "      <td>89.452965</td>\n",
       "      <td>3.966888</td>\n",
       "    </tr>\n",
       "    <tr>\n",
       "      <th>2</th>\n",
       "      <td>2020-11-25 03:00:00</td>\n",
       "      <td>8.294952</td>\n",
       "      <td>90.971981</td>\n",
       "      <td>4.041120</td>\n",
       "    </tr>\n",
       "    <tr>\n",
       "      <th>3</th>\n",
       "      <td>2020-11-25 04:00:00</td>\n",
       "      <td>7.593209</td>\n",
       "      <td>91.272988</td>\n",
       "      <td>3.463064</td>\n",
       "    </tr>\n",
       "    <tr>\n",
       "      <th>4</th>\n",
       "      <td>2020-11-25 05:00:00</td>\n",
       "      <td>7.004944</td>\n",
       "      <td>93.699781</td>\n",
       "      <td>3.255737</td>\n",
       "    </tr>\n",
       "    <tr>\n",
       "      <th>...</th>\n",
       "      <td>...</td>\n",
       "      <td>...</td>\n",
       "      <td>...</td>\n",
       "      <td>...</td>\n",
       "    </tr>\n",
       "    <tr>\n",
       "      <th>115</th>\n",
       "      <td>2020-11-29 20:00:00</td>\n",
       "      <td>0.718468</td>\n",
       "      <td>89.993295</td>\n",
       "      <td>0.993587</td>\n",
       "    </tr>\n",
       "    <tr>\n",
       "      <th>116</th>\n",
       "      <td>2020-11-29 21:00:00</td>\n",
       "      <td>0.671744</td>\n",
       "      <td>89.882188</td>\n",
       "      <td>0.872799</td>\n",
       "    </tr>\n",
       "    <tr>\n",
       "      <th>117</th>\n",
       "      <td>2020-11-29 22:00:00</td>\n",
       "      <td>0.667119</td>\n",
       "      <td>89.610830</td>\n",
       "      <td>1.440935</td>\n",
       "    </tr>\n",
       "    <tr>\n",
       "      <th>118</th>\n",
       "      <td>2020-11-29 23:00:00</td>\n",
       "      <td>0.484776</td>\n",
       "      <td>89.635635</td>\n",
       "      <td>1.408570</td>\n",
       "    </tr>\n",
       "    <tr>\n",
       "      <th>119</th>\n",
       "      <td>2020-11-30 00:00:00</td>\n",
       "      <td>0.527534</td>\n",
       "      <td>89.398071</td>\n",
       "      <td>1.704123</td>\n",
       "    </tr>\n",
       "  </tbody>\n",
       "</table>\n",
       "<p>120 rows × 4 columns</p>\n",
       "</div>"
      ],
      "text/plain": [
       "                      dt      temp   humidity  wind_speed\n",
       "0    2020-11-25 01:00:00  9.218136  88.541674    4.046357\n",
       "1    2020-11-25 02:00:00  8.845358  89.452965    3.966888\n",
       "2    2020-11-25 03:00:00  8.294952  90.971981    4.041120\n",
       "3    2020-11-25 04:00:00  7.593209  91.272988    3.463064\n",
       "4    2020-11-25 05:00:00  7.004944  93.699781    3.255737\n",
       "..                   ...       ...        ...         ...\n",
       "115  2020-11-29 20:00:00  0.718468  89.993295    0.993587\n",
       "116  2020-11-29 21:00:00  0.671744  89.882188    0.872799\n",
       "117  2020-11-29 22:00:00  0.667119  89.610830    1.440935\n",
       "118  2020-11-29 23:00:00  0.484776  89.635635    1.408570\n",
       "119  2020-11-30 00:00:00  0.527534  89.398071    1.704123\n",
       "\n",
       "[120 rows x 4 columns]"
      ]
     },
     "execution_count": 15,
     "metadata": {},
     "output_type": "execute_result"
    }
   ],
   "source": [
    "df_past"
   ]
  },
  {
   "cell_type": "code",
   "execution_count": 22,
   "metadata": {},
   "outputs": [],
   "source": [
    "df_past['dt'] = pd.to_datetime(df_past.dt)\n",
    "df_past = df_past.set_index('dt')"
   ]
  },
  {
   "cell_type": "code",
   "execution_count": 25,
   "metadata": {},
   "outputs": [],
   "source": [
    "trial = pd.concat([df, df_past])"
   ]
  },
  {
   "cell_type": "code",
   "execution_count": 26,
   "metadata": {},
   "outputs": [
    {
     "data": {
      "text/plain": [
       "DatetimeIndex(['2020-11-25'], dtype='datetime64[ns]', freq=None)"
      ]
     },
     "execution_count": 26,
     "metadata": {},
     "output_type": "execute_result"
    }
   ],
   "source": [
    "pd.date_range(start = '2015-01-01', end = '2020-11-29', freq='H' ).difference(trial.index)"
   ]
  },
  {
   "cell_type": "code",
   "execution_count": 31,
   "metadata": {},
   "outputs": [],
   "source": [
    "def get_weather(path='../raw_data/weather_2015_2020.csv'):\n",
    "    df = pd.read_csv(path)\n",
    "\n",
    "    df['dt'] = pd.to_datetime(df.dt)\n",
    "\n",
    "    # drop unnecessary columns\n",
    "    to_drop = ['dt_iso','timezone','lat', 'lon','sea_level','grnd_level',\n",
    "               'rain_1h','rain_3h', 'pressure', 'snow_1h', 'snow_3h',\n",
    "               'temp_min','temp_max','weather_id', 'weather_description',\n",
    "               'weather_icon', 'wind_deg', 'feels_like','clouds_all']\n",
    "    df = df.drop(to_drop, axis=1)\n",
    "\n",
    "    # population of each city in the df\n",
    "    pop = {'Aarhus': 349_983,\n",
    "        'Odense': 204_895,\n",
    "        'Aalborg': 217_075,\n",
    "        'Esbjerg': 115_748,\n",
    "        'Vejle': 111_743,\n",
    "        'Randers': 96_559,\n",
    "        'Viborg': 93_819,\n",
    "        'Kolding': 89_412,\n",
    "        'Silkeborg': 89_328,\n",
    "        'Herning': 86_348,\n",
    "        'Horsens': 83_598}\n",
    "\n",
    "    df['population'] = [pop[city] for city in df.city_name]\n",
    "\n",
    "    # numeric weather values as affects demand or supply\n",
    "    numeric_cols = ['temp', 'humidity', 'wind_speed']\n",
    "\n",
    "    weather_df = pd.DataFrame()\n",
    "\n",
    "    #for the numeric columns, group by datetime and average according to their population weight\n",
    "    for col in numeric_cols:\n",
    "    #group by the datecolumn for each element in the column average it by it's weight\n",
    "        weather_df[col] = df.groupby(df.dt).apply(lambda x : np.average(x[col], weights=x.population))\n",
    "        \n",
    "    \n",
    "    # 25 - 30 nov\n",
    "    df_past = pd.read_csv('../raw_data/past_weather.csv')\n",
    "    df_past['dt'] = pd.to_datetime(df_past.dt)\n",
    "    df_past = df_past.set_index('dt')\n",
    "    \n",
    "    #concat data\n",
    "    weather_df = pd.concat([weather_df, df_past])\n",
    "\n",
    "    # check for missing indices\n",
    "    missing_idx = pd.date_range(start = '2015-01-01', end = '2020-11-29', freq='H' ).difference(weather_df.index)\n",
    "\n",
    "    # impute missing indices with average of bounding rows\n",
    "    for idx in missing_idx:\n",
    "        weather_df.loc[idx] = weather_df.loc[pd.to_datetime(idx) - timedelta(hours= 1)] + \\\n",
    "                      weather_df.loc[pd.to_datetime(idx) + timedelta(hours= 1)] / 2\n",
    "\n",
    "    weather_df = weather_df.sort_index()\n",
    "\n",
    "    return weather_df"
   ]
  },
  {
   "cell_type": "code",
   "execution_count": 32,
   "metadata": {},
   "outputs": [],
   "source": [
    "test = get_weather_2()"
   ]
  },
  {
   "cell_type": "code",
   "execution_count": 33,
   "metadata": {},
   "outputs": [
    {
     "data": {
      "text/plain": [
       "DatetimeIndex([], dtype='datetime64[ns]', freq=None)"
      ]
     },
     "execution_count": 33,
     "metadata": {},
     "output_type": "execute_result"
    }
   ],
   "source": [
    "pd.date_range(start = '2015-01-01', end = '2020-11-29', freq='H' ).difference(test.index)"
   ]
  },
  {
   "cell_type": "code",
   "execution_count": null,
   "metadata": {},
   "outputs": [],
   "source": []
  }
 ],
 "metadata": {
  "kernelspec": {
   "display_name": "Python 3",
   "language": "python",
   "name": "python3"
  },
  "language_info": {
   "codemirror_mode": {
    "name": "ipython",
    "version": 3
   },
   "file_extension": ".py",
   "mimetype": "text/x-python",
   "name": "python",
   "nbconvert_exporter": "python",
   "pygments_lexer": "ipython3",
   "version": "3.7.4"
  },
  "toc": {
   "base_numbering": 1,
   "nav_menu": {},
   "number_sections": true,
   "sideBar": true,
   "skip_h1_title": false,
   "title_cell": "Table of Contents",
   "title_sidebar": "Contents",
   "toc_cell": false,
   "toc_position": {},
   "toc_section_display": true,
   "toc_window_display": false
  },
  "varInspector": {
   "cols": {
    "lenName": 16,
    "lenType": 16,
    "lenVar": 40
   },
   "kernels_config": {
    "python": {
     "delete_cmd_postfix": "",
     "delete_cmd_prefix": "del ",
     "library": "var_list.py",
     "varRefreshCmd": "print(var_dic_list())"
    },
    "r": {
     "delete_cmd_postfix": ") ",
     "delete_cmd_prefix": "rm(",
     "library": "var_list.r",
     "varRefreshCmd": "cat(var_dic_list()) "
    }
   },
   "types_to_exclude": [
    "module",
    "function",
    "builtin_function_or_method",
    "instance",
    "_Feature"
   ],
   "window_display": false
  }
 },
 "nbformat": 4,
 "nbformat_minor": 4
}
