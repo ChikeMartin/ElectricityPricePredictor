{
 "cells": [
  {
   "cell_type": "code",
   "execution_count": 16,
   "metadata": {},
   "outputs": [],
   "source": [
    "from electricity_price_predictor.data import get_shifted_load, get_shifted_price, get_weather, get_holidays, get_days_dummies\n",
    "from sklearn.preprocessing import MinMaxScaler\n",
    "from sklearn.linear_model import LinearRegression\n",
    "import statsmodels.formula.api as smf\n",
    "import pandas as pd"
   ]
  },
  {
   "cell_type": "markdown",
   "metadata": {},
   "source": [
    "## Load datasets"
   ]
  },
  {
   "cell_type": "code",
   "execution_count": 2,
   "metadata": {},
   "outputs": [],
   "source": [
    "last_date = '2020-11-23 16:00:00'"
   ]
  },
  {
   "cell_type": "code",
   "execution_count": 3,
   "metadata": {},
   "outputs": [],
   "source": [
    "dayofweek = get_days_dummies()\n",
    "holidays = get_holidays()\n",
    "weather = get_weather().loc[:last_date]\n",
    "price = get_shifted_price().loc[:last_date]\n",
    "load = get_shifted_load()"
   ]
  },
  {
   "cell_type": "code",
   "execution_count": 5,
   "metadata": {},
   "outputs": [],
   "source": [
    "# price and load into one df\n",
    "df = price.merge(load, on='time')"
   ]
  },
  {
   "cell_type": "markdown",
   "metadata": {},
   "source": [
    "## Downsample"
   ]
  },
  {
   "cell_type": "code",
   "execution_count": 6,
   "metadata": {},
   "outputs": [],
   "source": [
    "weather = weather.resample('D').mean()\n",
    "weather = weather.reset_index().drop('dt', axis=1)"
   ]
  },
  {
   "cell_type": "code",
   "execution_count": 7,
   "metadata": {},
   "outputs": [],
   "source": [
    "df = df.resample('D').mean()\n",
    "df = df.reset_index().drop('time', axis=1)"
   ]
  },
  {
   "cell_type": "code",
   "execution_count": 8,
   "metadata": {},
   "outputs": [],
   "source": [
    "dayofweek = dayofweek.reset_index().drop('index', axis=1)\n",
    "holidays = holidays.reset_index().drop('index', axis=1)"
   ]
  },
  {
   "cell_type": "code",
   "execution_count": 9,
   "metadata": {
    "scrolled": true
   },
   "outputs": [
    {
     "name": "stdout",
     "output_type": "stream",
     "text": [
      "(2154, 2)\n",
      "(2154, 7)\n",
      "(2154, 5)\n",
      "(2154, 2)\n"
     ]
    }
   ],
   "source": [
    "print(holidays.shape)\n",
    "print(dayofweek.shape)\n",
    "print(weather.shape)\n",
    "print(df.shape)"
   ]
  },
  {
   "cell_type": "markdown",
   "metadata": {},
   "source": [
    "## Merging dataframes"
   ]
  },
  {
   "cell_type": "code",
   "execution_count": 10,
   "metadata": {},
   "outputs": [],
   "source": [
    "df = df.merge(\n",
    "    holidays, right_index= True, left_index=True).merge(\n",
    "    dayofweek, right_index= True, left_index=True).merge(\n",
    "    weather, right_index= True, left_index= True).drop('holiday_name', axis=1)\n",
    "\n",
    "df['holiday_bool'] = df['holiday_bool'].astype('int64')"
   ]
  },
  {
   "cell_type": "code",
   "execution_count": 11,
   "metadata": {
    "scrolled": true
   },
   "outputs": [
    {
     "data": {
      "text/html": [
       "<div>\n",
       "<style scoped>\n",
       "    .dataframe tbody tr th:only-of-type {\n",
       "        vertical-align: middle;\n",
       "    }\n",
       "\n",
       "    .dataframe tbody tr th {\n",
       "        vertical-align: top;\n",
       "    }\n",
       "\n",
       "    .dataframe thead th {\n",
       "        text-align: right;\n",
       "    }\n",
       "</style>\n",
       "<table border=\"1\" class=\"dataframe\">\n",
       "  <thead>\n",
       "    <tr style=\"text-align: right;\">\n",
       "      <th></th>\n",
       "      <th>price</th>\n",
       "      <th>load</th>\n",
       "      <th>holiday_bool</th>\n",
       "      <th>mon</th>\n",
       "      <th>tue</th>\n",
       "      <th>wed</th>\n",
       "      <th>thur</th>\n",
       "      <th>fri</th>\n",
       "      <th>sat</th>\n",
       "      <th>sun</th>\n",
       "      <th>temp</th>\n",
       "      <th>feels_like</th>\n",
       "      <th>humidity</th>\n",
       "      <th>clouds_all</th>\n",
       "      <th>wind_speed</th>\n",
       "    </tr>\n",
       "  </thead>\n",
       "  <tbody>\n",
       "    <tr>\n",
       "      <th>0</th>\n",
       "      <td>16.310417</td>\n",
       "      <td>2114.208333</td>\n",
       "      <td>1</td>\n",
       "      <td>0</td>\n",
       "      <td>0</td>\n",
       "      <td>0</td>\n",
       "      <td>1</td>\n",
       "      <td>0</td>\n",
       "      <td>0</td>\n",
       "      <td>0</td>\n",
       "      <td>6.531499</td>\n",
       "      <td>0.070990</td>\n",
       "      <td>92.857741</td>\n",
       "      <td>91.531577</td>\n",
       "      <td>7.762724</td>\n",
       "    </tr>\n",
       "    <tr>\n",
       "      <th>1</th>\n",
       "      <td>4.970417</td>\n",
       "      <td>2360.416667</td>\n",
       "      <td>0</td>\n",
       "      <td>0</td>\n",
       "      <td>0</td>\n",
       "      <td>0</td>\n",
       "      <td>0</td>\n",
       "      <td>1</td>\n",
       "      <td>0</td>\n",
       "      <td>0</td>\n",
       "      <td>6.516418</td>\n",
       "      <td>-2.268839</td>\n",
       "      <td>84.475949</td>\n",
       "      <td>68.241743</td>\n",
       "      <td>10.727671</td>\n",
       "    </tr>\n",
       "    <tr>\n",
       "      <th>2</th>\n",
       "      <td>15.291667</td>\n",
       "      <td>2196.791667</td>\n",
       "      <td>0</td>\n",
       "      <td>0</td>\n",
       "      <td>0</td>\n",
       "      <td>0</td>\n",
       "      <td>0</td>\n",
       "      <td>0</td>\n",
       "      <td>1</td>\n",
       "      <td>0</td>\n",
       "      <td>4.117653</td>\n",
       "      <td>-2.365009</td>\n",
       "      <td>84.460324</td>\n",
       "      <td>42.119344</td>\n",
       "      <td>6.808548</td>\n",
       "    </tr>\n",
       "    <tr>\n",
       "      <th>3</th>\n",
       "      <td>21.064167</td>\n",
       "      <td>2142.250000</td>\n",
       "      <td>0</td>\n",
       "      <td>0</td>\n",
       "      <td>0</td>\n",
       "      <td>0</td>\n",
       "      <td>0</td>\n",
       "      <td>0</td>\n",
       "      <td>0</td>\n",
       "      <td>1</td>\n",
       "      <td>3.413488</td>\n",
       "      <td>-1.761679</td>\n",
       "      <td>80.915235</td>\n",
       "      <td>36.723827</td>\n",
       "      <td>4.657854</td>\n",
       "    </tr>\n",
       "    <tr>\n",
       "      <th>4</th>\n",
       "      <td>37.997500</td>\n",
       "      <td>2601.625000</td>\n",
       "      <td>0</td>\n",
       "      <td>1</td>\n",
       "      <td>0</td>\n",
       "      <td>0</td>\n",
       "      <td>0</td>\n",
       "      <td>0</td>\n",
       "      <td>0</td>\n",
       "      <td>0</td>\n",
       "      <td>4.752763</td>\n",
       "      <td>1.423782</td>\n",
       "      <td>94.189036</td>\n",
       "      <td>89.442873</td>\n",
       "      <td>2.842280</td>\n",
       "    </tr>\n",
       "  </tbody>\n",
       "</table>\n",
       "</div>"
      ],
      "text/plain": [
       "       price         load  holiday_bool  mon  tue  wed  thur  fri  sat  sun  \\\n",
       "0  16.310417  2114.208333             1    0    0    0     1    0    0    0   \n",
       "1   4.970417  2360.416667             0    0    0    0     0    1    0    0   \n",
       "2  15.291667  2196.791667             0    0    0    0     0    0    1    0   \n",
       "3  21.064167  2142.250000             0    0    0    0     0    0    0    1   \n",
       "4  37.997500  2601.625000             0    1    0    0     0    0    0    0   \n",
       "\n",
       "       temp  feels_like   humidity  clouds_all  wind_speed  \n",
       "0  6.531499    0.070990  92.857741   91.531577    7.762724  \n",
       "1  6.516418   -2.268839  84.475949   68.241743   10.727671  \n",
       "2  4.117653   -2.365009  84.460324   42.119344    6.808548  \n",
       "3  3.413488   -1.761679  80.915235   36.723827    4.657854  \n",
       "4  4.752763    1.423782  94.189036   89.442873    2.842280  "
      ]
     },
     "execution_count": 11,
     "metadata": {},
     "output_type": "execute_result"
    }
   ],
   "source": [
    "df.head()"
   ]
  },
  {
   "cell_type": "markdown",
   "metadata": {},
   "source": [
    "## Define features and scale"
   ]
  },
  {
   "cell_type": "code",
   "execution_count": 12,
   "metadata": {},
   "outputs": [],
   "source": [
    "X = df.drop('price', axis=1)\n",
    "y = df.price"
   ]
  },
  {
   "cell_type": "code",
   "execution_count": 14,
   "metadata": {},
   "outputs": [],
   "source": [
    "scaler = MinMaxScaler()\n",
    "X_scaled = scaler.fit_transform(X)"
   ]
  },
  {
   "cell_type": "markdown",
   "metadata": {},
   "source": [
    "## Model"
   ]
  },
  {
   "cell_type": "markdown",
   "metadata": {},
   "source": [
    "### LinearReg sklearn"
   ]
  },
  {
   "cell_type": "code",
   "execution_count": 15,
   "metadata": {
    "scrolled": true
   },
   "outputs": [
    {
     "data": {
      "text/plain": [
       "0.374667541977606"
      ]
     },
     "execution_count": 15,
     "metadata": {},
     "output_type": "execute_result"
    }
   ],
   "source": [
    "model_2 = LinearRegression()\n",
    "model_2.fit(X_scaled, y)\n",
    "model_2.score(X_scaled, y)  # R2"
   ]
  },
  {
   "cell_type": "markdown",
   "metadata": {},
   "source": [
    "### smf statsmodels"
   ]
  },
  {
   "cell_type": "code",
   "execution_count": 18,
   "metadata": {
    "scrolled": true
   },
   "outputs": [],
   "source": [
    "col = df.columns[1:]"
   ]
  },
  {
   "cell_type": "code",
   "execution_count": 22,
   "metadata": {},
   "outputs": [
    {
     "data": {
      "text/plain": [
       "'price ~ load + holiday_bool + mon + tue + wed + thur + fri + sat + sun + temp + feels_like + humidity + clouds_all + wind_speed'"
      ]
     },
     "execution_count": 22,
     "metadata": {},
     "output_type": "execute_result"
    }
   ],
   "source": [
    "formula = ' + '.join(col)\n",
    "formula = f\"price ~ {formula}\"\n",
    "formula"
   ]
  },
  {
   "cell_type": "code",
   "execution_count": 23,
   "metadata": {},
   "outputs": [],
   "source": [
    "model = smf.ols(formula=formula, data=df).fit()"
   ]
  },
  {
   "cell_type": "code",
   "execution_count": 24,
   "metadata": {},
   "outputs": [
    {
     "data": {
      "text/html": [
       "<table class=\"simpletable\">\n",
       "<caption>OLS Regression Results</caption>\n",
       "<tr>\n",
       "  <th>Dep. Variable:</th>          <td>price</td>      <th>  R-squared:         </th> <td>   0.375</td> \n",
       "</tr>\n",
       "<tr>\n",
       "  <th>Model:</th>                   <td>OLS</td>       <th>  Adj. R-squared:    </th> <td>   0.371</td> \n",
       "</tr>\n",
       "<tr>\n",
       "  <th>Method:</th>             <td>Least Squares</td>  <th>  F-statistic:       </th> <td>   98.83</td> \n",
       "</tr>\n",
       "<tr>\n",
       "  <th>Date:</th>             <td>Fri, 27 Nov 2020</td> <th>  Prob (F-statistic):</th> <td>2.30e-207</td>\n",
       "</tr>\n",
       "<tr>\n",
       "  <th>Time:</th>                 <td>09:17:00</td>     <th>  Log-Likelihood:    </th> <td> -8017.9</td> \n",
       "</tr>\n",
       "<tr>\n",
       "  <th>No. Observations:</th>      <td>  2154</td>      <th>  AIC:               </th> <td>1.606e+04</td>\n",
       "</tr>\n",
       "<tr>\n",
       "  <th>Df Residuals:</th>          <td>  2140</td>      <th>  BIC:               </th> <td>1.614e+04</td>\n",
       "</tr>\n",
       "<tr>\n",
       "  <th>Df Model:</th>              <td>    13</td>      <th>                     </th>     <td> </td>    \n",
       "</tr>\n",
       "<tr>\n",
       "  <th>Covariance Type:</th>      <td>nonrobust</td>    <th>                     </th>     <td> </td>    \n",
       "</tr>\n",
       "</table>\n",
       "<table class=\"simpletable\">\n",
       "<tr>\n",
       "        <td></td>          <th>coef</th>     <th>std err</th>      <th>t</th>      <th>P>|t|</th>  <th>[0.025</th>    <th>0.975]</th>  \n",
       "</tr>\n",
       "<tr>\n",
       "  <th>Intercept</th>    <td>   36.9093</td> <td>    6.276</td> <td>    5.881</td> <td> 0.000</td> <td>   24.602</td> <td>   49.217</td>\n",
       "</tr>\n",
       "<tr>\n",
       "  <th>load</th>         <td>    0.0141</td> <td>    0.001</td> <td>    9.472</td> <td> 0.000</td> <td>    0.011</td> <td>    0.017</td>\n",
       "</tr>\n",
       "<tr>\n",
       "  <th>holiday_bool</th> <td>   -2.5585</td> <td>    1.345</td> <td>   -1.902</td> <td> 0.057</td> <td>   -5.196</td> <td>    0.079</td>\n",
       "</tr>\n",
       "<tr>\n",
       "  <th>mon</th>          <td>    5.7008</td> <td>    1.110</td> <td>    5.134</td> <td> 0.000</td> <td>    3.523</td> <td>    7.878</td>\n",
       "</tr>\n",
       "<tr>\n",
       "  <th>tue</th>          <td>    5.4811</td> <td>    1.143</td> <td>    4.796</td> <td> 0.000</td> <td>    3.240</td> <td>    7.722</td>\n",
       "</tr>\n",
       "<tr>\n",
       "  <th>wed</th>          <td>    5.6921</td> <td>    1.148</td> <td>    4.957</td> <td> 0.000</td> <td>    3.440</td> <td>    7.944</td>\n",
       "</tr>\n",
       "<tr>\n",
       "  <th>thur</th>         <td>    5.6502</td> <td>    1.157</td> <td>    4.885</td> <td> 0.000</td> <td>    3.382</td> <td>    7.919</td>\n",
       "</tr>\n",
       "<tr>\n",
       "  <th>fri</th>          <td>    6.2233</td> <td>    1.066</td> <td>    5.837</td> <td> 0.000</td> <td>    4.132</td> <td>    8.314</td>\n",
       "</tr>\n",
       "<tr>\n",
       "  <th>sat</th>          <td>    4.7057</td> <td>    0.943</td> <td>    4.988</td> <td> 0.000</td> <td>    2.856</td> <td>    6.556</td>\n",
       "</tr>\n",
       "<tr>\n",
       "  <th>sun</th>          <td>    3.4562</td> <td>    0.937</td> <td>    3.690</td> <td> 0.000</td> <td>    1.619</td> <td>    5.293</td>\n",
       "</tr>\n",
       "<tr>\n",
       "  <th>temp</th>         <td>   -2.7873</td> <td>    1.167</td> <td>   -2.388</td> <td> 0.017</td> <td>   -5.076</td> <td>   -0.498</td>\n",
       "</tr>\n",
       "<tr>\n",
       "  <th>feels_like</th>   <td>    2.4837</td> <td>    0.960</td> <td>    2.588</td> <td> 0.010</td> <td>    0.602</td> <td>    4.365</td>\n",
       "</tr>\n",
       "<tr>\n",
       "  <th>humidity</th>     <td>   -0.3896</td> <td>    0.050</td> <td>   -7.798</td> <td> 0.000</td> <td>   -0.488</td> <td>   -0.292</td>\n",
       "</tr>\n",
       "<tr>\n",
       "  <th>clouds_all</th>   <td>    0.1770</td> <td>    0.013</td> <td>   13.916</td> <td> 0.000</td> <td>    0.152</td> <td>    0.202</td>\n",
       "</tr>\n",
       "<tr>\n",
       "  <th>wind_speed</th>   <td>   -2.3265</td> <td>    0.694</td> <td>   -3.353</td> <td> 0.001</td> <td>   -3.687</td> <td>   -0.966</td>\n",
       "</tr>\n",
       "</table>\n",
       "<table class=\"simpletable\">\n",
       "<tr>\n",
       "  <th>Omnibus:</th>       <td>53.740</td> <th>  Durbin-Watson:     </th> <td>   0.438</td>\n",
       "</tr>\n",
       "<tr>\n",
       "  <th>Prob(Omnibus):</th> <td> 0.000</td> <th>  Jarque-Bera (JB):  </th> <td>  58.195</td>\n",
       "</tr>\n",
       "<tr>\n",
       "  <th>Skew:</th>          <td> 0.370</td> <th>  Prob(JB):          </th> <td>2.31e-13</td>\n",
       "</tr>\n",
       "<tr>\n",
       "  <th>Kurtosis:</th>      <td> 3.318</td> <th>  Cond. No.          </th> <td>9.33e+18</td>\n",
       "</tr>\n",
       "</table><br/><br/>Notes:<br/>[1] Standard Errors assume that the covariance matrix of the errors is correctly specified.<br/>[2] The smallest eigenvalue is 1.3e-28. This might indicate that there are<br/>strong multicollinearity problems or that the design matrix is singular."
      ],
      "text/plain": [
       "<class 'statsmodels.iolib.summary.Summary'>\n",
       "\"\"\"\n",
       "                            OLS Regression Results                            \n",
       "==============================================================================\n",
       "Dep. Variable:                  price   R-squared:                       0.375\n",
       "Model:                            OLS   Adj. R-squared:                  0.371\n",
       "Method:                 Least Squares   F-statistic:                     98.83\n",
       "Date:                Fri, 27 Nov 2020   Prob (F-statistic):          2.30e-207\n",
       "Time:                        09:17:00   Log-Likelihood:                -8017.9\n",
       "No. Observations:                2154   AIC:                         1.606e+04\n",
       "Df Residuals:                    2140   BIC:                         1.614e+04\n",
       "Df Model:                          13                                         \n",
       "Covariance Type:            nonrobust                                         \n",
       "================================================================================\n",
       "                   coef    std err          t      P>|t|      [0.025      0.975]\n",
       "--------------------------------------------------------------------------------\n",
       "Intercept       36.9093      6.276      5.881      0.000      24.602      49.217\n",
       "load             0.0141      0.001      9.472      0.000       0.011       0.017\n",
       "holiday_bool    -2.5585      1.345     -1.902      0.057      -5.196       0.079\n",
       "mon              5.7008      1.110      5.134      0.000       3.523       7.878\n",
       "tue              5.4811      1.143      4.796      0.000       3.240       7.722\n",
       "wed              5.6921      1.148      4.957      0.000       3.440       7.944\n",
       "thur             5.6502      1.157      4.885      0.000       3.382       7.919\n",
       "fri              6.2233      1.066      5.837      0.000       4.132       8.314\n",
       "sat              4.7057      0.943      4.988      0.000       2.856       6.556\n",
       "sun              3.4562      0.937      3.690      0.000       1.619       5.293\n",
       "temp            -2.7873      1.167     -2.388      0.017      -5.076      -0.498\n",
       "feels_like       2.4837      0.960      2.588      0.010       0.602       4.365\n",
       "humidity        -0.3896      0.050     -7.798      0.000      -0.488      -0.292\n",
       "clouds_all       0.1770      0.013     13.916      0.000       0.152       0.202\n",
       "wind_speed      -2.3265      0.694     -3.353      0.001      -3.687      -0.966\n",
       "==============================================================================\n",
       "Omnibus:                       53.740   Durbin-Watson:                   0.438\n",
       "Prob(Omnibus):                  0.000   Jarque-Bera (JB):               58.195\n",
       "Skew:                           0.370   Prob(JB):                     2.31e-13\n",
       "Kurtosis:                       3.318   Cond. No.                     9.33e+18\n",
       "==============================================================================\n",
       "\n",
       "Notes:\n",
       "[1] Standard Errors assume that the covariance matrix of the errors is correctly specified.\n",
       "[2] The smallest eigenvalue is 1.3e-28. This might indicate that there are\n",
       "strong multicollinearity problems or that the design matrix is singular.\n",
       "\"\"\""
      ]
     },
     "execution_count": 24,
     "metadata": {},
     "output_type": "execute_result"
    }
   ],
   "source": [
    "model.summary()"
   ]
  }
 ],
 "metadata": {
  "kernelspec": {
   "display_name": "Python 3",
   "language": "python",
   "name": "python3"
  },
  "language_info": {
   "codemirror_mode": {
    "name": "ipython",
    "version": 3
   },
   "file_extension": ".py",
   "mimetype": "text/x-python",
   "name": "python",
   "nbconvert_exporter": "python",
   "pygments_lexer": "ipython3",
   "version": "3.7.4"
  },
  "toc": {
   "base_numbering": 1,
   "nav_menu": {},
   "number_sections": true,
   "sideBar": true,
   "skip_h1_title": false,
   "title_cell": "Table of Contents",
   "title_sidebar": "Contents",
   "toc_cell": false,
   "toc_position": {},
   "toc_section_display": true,
   "toc_window_display": false
  },
  "varInspector": {
   "cols": {
    "lenName": 16,
    "lenType": 16,
    "lenVar": 40
   },
   "kernels_config": {
    "python": {
     "delete_cmd_postfix": "",
     "delete_cmd_prefix": "del ",
     "library": "var_list.py",
     "varRefreshCmd": "print(var_dic_list())"
    },
    "r": {
     "delete_cmd_postfix": ") ",
     "delete_cmd_prefix": "rm(",
     "library": "var_list.r",
     "varRefreshCmd": "cat(var_dic_list()) "
    }
   },
   "types_to_exclude": [
    "module",
    "function",
    "builtin_function_or_method",
    "instance",
    "_Feature"
   ],
   "window_display": false
  }
 },
 "nbformat": 4,
 "nbformat_minor": 4
}
