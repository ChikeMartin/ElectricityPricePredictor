{
 "cells": [
  {
   "cell_type": "code",
   "execution_count": 1,
   "metadata": {},
   "outputs": [],
   "source": [
    "from electricity_price_predictor.data import get_shifted_load, get_shifted_price, get_weather\n",
    "import holidays\n",
    "import pandas as pd"
   ]
  },
  {
   "cell_type": "code",
   "execution_count": 2,
   "metadata": {},
   "outputs": [],
   "source": [
    "def get_holidays(start='1/1/2015', stop='23/11/2020', country='DK', frequency='D'):\n",
    "    \"\"\"\n",
    "    Takes in a start and stop date and a country.\n",
    "    Produces a dataframe with a daily date time index and columns:\n",
    "    day_of_week - numerical day of the week identifier 0 for monday\n",
    "    holiday_bool - boolean true or false for holiday\n",
    "    holiday_name - name of the holiday if holiday_bool is true\n",
    "    Returns a dataframe\n",
    "    \"\"\"\n",
    "    #generate the range of daily dates\n",
    "    dates = pd.date_range(start=start, end=stop, freq=frequency)\n",
    "    #create the holiday object\n",
    "    country_holidays = holidays.CountryHoliday(country)\n",
    "    #create a list for the holiday bool and name\n",
    "    holiday_list = []\n",
    "    #loop through the dates\n",
    "    for date in dates:\n",
    "        #true if holiday in object, false otherwise\n",
    "        holiday_bool = date in country_holidays\n",
    "        holiday_names = country_holidays.get(date)\n",
    "        holiday_list.append([holiday_bool, holiday_names])\n",
    "    #create return dataframe\n",
    "    holidays_data = pd.DataFrame(holiday_list, index=dates, columns=['holiday_bool', 'holiday_name'])\n",
    "    return holidays_data\n",
    "\n",
    "\n",
    "def get_days_dummies(start='1/1/2015', stop='23/11/2020', frequency='D'):\n",
    "    \"\"\"\n",
    "    Takes in a start and stop date and frequency.\n",
    "    Produces a dataframe with a date time index at the frequency input and columns:\n",
    "    weekday_id - numerical day of the week identifier 0 for monday\n",
    "    Returns a dataframe\n",
    "    \"\"\"\n",
    "    #generate the range of daily dates\n",
    "    dates = pd.date_range(start=start, end=stop, freq=frequency)\n",
    "    #create a dataframe of weekday categories\n",
    "    days = pd.DataFrame(list(dates.weekday), index=dates, columns=['weekday_id'])\n",
    "    days = pd.get_dummies(days['weekday_id'])\n",
    "    columns = ['mon', 'tue', 'wed', 'thur', 'fri', 'sat', 'sun']\n",
    "    days.columns = columns\n",
    "    return days"
   ]
  },
  {
   "cell_type": "code",
   "execution_count": 3,
   "metadata": {},
   "outputs": [],
   "source": [
    "price = get_shifted_price()\n",
    "load = get_shifted_load()"
   ]
  },
  {
   "cell_type": "code",
   "execution_count": 4,
   "metadata": {},
   "outputs": [],
   "source": [
    "price = price.loc[:'2020-11-23 16:00:00']"
   ]
  },
  {
   "cell_type": "code",
   "execution_count": 5,
   "metadata": {},
   "outputs": [],
   "source": [
    "df = price.merge(load, on='time')\n",
    "df = df.resample('D').mean()\n",
    "df = df.reset_index().drop('time', axis=1)"
   ]
  },
  {
   "cell_type": "code",
   "execution_count": 8,
   "metadata": {},
   "outputs": [
    {
     "data": {
      "text/html": [
       "<div>\n",
       "<style scoped>\n",
       "    .dataframe tbody tr th:only-of-type {\n",
       "        vertical-align: middle;\n",
       "    }\n",
       "\n",
       "    .dataframe tbody tr th {\n",
       "        vertical-align: top;\n",
       "    }\n",
       "\n",
       "    .dataframe thead th {\n",
       "        text-align: right;\n",
       "    }\n",
       "</style>\n",
       "<table border=\"1\" class=\"dataframe\">\n",
       "  <thead>\n",
       "    <tr style=\"text-align: right;\">\n",
       "      <th></th>\n",
       "      <th>price</th>\n",
       "      <th>load</th>\n",
       "    </tr>\n",
       "  </thead>\n",
       "  <tbody>\n",
       "    <tr>\n",
       "      <th>2149</th>\n",
       "      <td>1.047083</td>\n",
       "      <td>2705.500000</td>\n",
       "    </tr>\n",
       "    <tr>\n",
       "      <th>2150</th>\n",
       "      <td>33.003750</td>\n",
       "      <td>2715.333333</td>\n",
       "    </tr>\n",
       "    <tr>\n",
       "      <th>2151</th>\n",
       "      <td>1.046250</td>\n",
       "      <td>2429.583333</td>\n",
       "    </tr>\n",
       "    <tr>\n",
       "      <th>2152</th>\n",
       "      <td>1.158333</td>\n",
       "      <td>2330.458333</td>\n",
       "    </tr>\n",
       "    <tr>\n",
       "      <th>2153</th>\n",
       "      <td>7.206471</td>\n",
       "      <td>2766.000000</td>\n",
       "    </tr>\n",
       "  </tbody>\n",
       "</table>\n",
       "</div>"
      ],
      "text/plain": [
       "          price         load\n",
       "2149   1.047083  2705.500000\n",
       "2150  33.003750  2715.333333\n",
       "2151   1.046250  2429.583333\n",
       "2152   1.158333  2330.458333\n",
       "2153   7.206471  2766.000000"
      ]
     },
     "execution_count": 8,
     "metadata": {},
     "output_type": "execute_result"
    }
   ],
   "source": [
    "df.tail()"
   ]
  },
  {
   "cell_type": "code",
   "execution_count": 9,
   "metadata": {},
   "outputs": [],
   "source": [
    "weather = get_weather()\n",
    "holidays = get_holidays()\n",
    "dayofweek = get_days_dummies()"
   ]
  },
  {
   "cell_type": "code",
   "execution_count": 18,
   "metadata": {},
   "outputs": [],
   "source": [
    "weather = weather.sort_index()\n",
    "weather = weather.loc[:'2020-11-23 16:00:00']"
   ]
  },
  {
   "cell_type": "code",
   "execution_count": 20,
   "metadata": {},
   "outputs": [],
   "source": [
    "weather = weather.resample('D').mean()\n",
    "weather = weather.reset_index().drop('dt', axis=1)\n",
    "dayofweek = dayofweek.reset_index().drop('index', axis=1)\n",
    "holidays = holidays.reset_index().drop('index', axis=1)"
   ]
  },
  {
   "cell_type": "code",
   "execution_count": 21,
   "metadata": {},
   "outputs": [
    {
     "name": "stdout",
     "output_type": "stream",
     "text": [
      "(2154, 2)\n",
      "(2154, 7)\n",
      "(2154, 6)\n",
      "(2154, 2)\n"
     ]
    }
   ],
   "source": [
    "print(holidays.shape)\n",
    "print(dayofweek.shape)\n",
    "print(weather.shape)\n",
    "print(df.shape)"
   ]
  },
  {
   "cell_type": "code",
   "execution_count": 22,
   "metadata": {},
   "outputs": [],
   "source": [
    "df = df.merge(holidays, \n",
    "              right_index=True, left_index=True).merge(dayofweek, right_index=True, left_index=True).drop('holiday_name', axis=1)"
   ]
  },
  {
   "cell_type": "code",
   "execution_count": 23,
   "metadata": {},
   "outputs": [],
   "source": [
    "df['holiday_bool'] = df['holiday_bool'].astype('int64')"
   ]
  },
  {
   "cell_type": "code",
   "execution_count": 28,
   "metadata": {},
   "outputs": [],
   "source": [
    "df = df.merge(weather, right_index=True, left_index=True)"
   ]
  },
  {
   "cell_type": "code",
   "execution_count": 29,
   "metadata": {},
   "outputs": [],
   "source": [
    "X = df.drop('price', axis=1)\n",
    "y = df.price"
   ]
  },
  {
   "cell_type": "code",
   "execution_count": 33,
   "metadata": {},
   "outputs": [],
   "source": [
    "from sklearn.preprocessing import MinMaxScaler\n",
    "from sklearn.linear_model import LinearRegression"
   ]
  },
  {
   "cell_type": "code",
   "execution_count": 34,
   "metadata": {},
   "outputs": [],
   "source": [
    "scaler = MinMaxScaler()\n",
    "X_scaled = scaler.fit_transform(X)"
   ]
  },
  {
   "cell_type": "code",
   "execution_count": 35,
   "metadata": {},
   "outputs": [
    {
     "data": {
      "text/plain": [
       "0.37461512330976243"
      ]
     },
     "execution_count": 35,
     "metadata": {},
     "output_type": "execute_result"
    }
   ],
   "source": [
    "model_2 = LinearRegression()\n",
    "model_2.fit(X_scaled, y)\n",
    "model_2.score(X_scaled, y)"
   ]
  },
  {
   "cell_type": "code",
   "execution_count": 36,
   "metadata": {
    "scrolled": true
   },
   "outputs": [
    {
     "data": {
      "text/html": [
       "<div>\n",
       "<style scoped>\n",
       "    .dataframe tbody tr th:only-of-type {\n",
       "        vertical-align: middle;\n",
       "    }\n",
       "\n",
       "    .dataframe tbody tr th {\n",
       "        vertical-align: top;\n",
       "    }\n",
       "\n",
       "    .dataframe thead th {\n",
       "        text-align: right;\n",
       "    }\n",
       "</style>\n",
       "<table border=\"1\" class=\"dataframe\">\n",
       "  <thead>\n",
       "    <tr style=\"text-align: right;\">\n",
       "      <th></th>\n",
       "      <th>temp</th>\n",
       "      <th>feels_like</th>\n",
       "      <th>humidity</th>\n",
       "      <th>clouds_all</th>\n",
       "      <th>wind_speed</th>\n",
       "      <th>wind_deg</th>\n",
       "    </tr>\n",
       "  </thead>\n",
       "  <tbody>\n",
       "    <tr>\n",
       "      <th>0</th>\n",
       "      <td>6.531499</td>\n",
       "      <td>0.070990</td>\n",
       "      <td>92.857741</td>\n",
       "      <td>91.531577</td>\n",
       "      <td>7.762724</td>\n",
       "      <td>230.669642</td>\n",
       "    </tr>\n",
       "    <tr>\n",
       "      <th>1</th>\n",
       "      <td>6.516418</td>\n",
       "      <td>-2.268839</td>\n",
       "      <td>84.475949</td>\n",
       "      <td>68.241743</td>\n",
       "      <td>10.727671</td>\n",
       "      <td>256.258159</td>\n",
       "    </tr>\n",
       "    <tr>\n",
       "      <th>2</th>\n",
       "      <td>4.117653</td>\n",
       "      <td>-2.365009</td>\n",
       "      <td>84.460324</td>\n",
       "      <td>42.119344</td>\n",
       "      <td>6.808548</td>\n",
       "      <td>269.906298</td>\n",
       "    </tr>\n",
       "    <tr>\n",
       "      <th>3</th>\n",
       "      <td>3.413488</td>\n",
       "      <td>-1.761679</td>\n",
       "      <td>80.915235</td>\n",
       "      <td>36.723827</td>\n",
       "      <td>4.657854</td>\n",
       "      <td>289.299073</td>\n",
       "    </tr>\n",
       "    <tr>\n",
       "      <th>4</th>\n",
       "      <td>4.752763</td>\n",
       "      <td>1.423782</td>\n",
       "      <td>94.189036</td>\n",
       "      <td>89.442873</td>\n",
       "      <td>2.842280</td>\n",
       "      <td>222.575805</td>\n",
       "    </tr>\n",
       "    <tr>\n",
       "      <th>...</th>\n",
       "      <td>...</td>\n",
       "      <td>...</td>\n",
       "      <td>...</td>\n",
       "      <td>...</td>\n",
       "      <td>...</td>\n",
       "      <td>...</td>\n",
       "    </tr>\n",
       "    <tr>\n",
       "      <th>2149</th>\n",
       "      <td>7.011803</td>\n",
       "      <td>0.472592</td>\n",
       "      <td>75.156521</td>\n",
       "      <td>28.890113</td>\n",
       "      <td>7.285472</td>\n",
       "      <td>265.325664</td>\n",
       "    </tr>\n",
       "    <tr>\n",
       "      <th>2150</th>\n",
       "      <td>4.028544</td>\n",
       "      <td>-0.088680</td>\n",
       "      <td>78.171198</td>\n",
       "      <td>21.466404</td>\n",
       "      <td>3.165625</td>\n",
       "      <td>247.966775</td>\n",
       "    </tr>\n",
       "    <tr>\n",
       "      <th>2151</th>\n",
       "      <td>8.117413</td>\n",
       "      <td>3.327187</td>\n",
       "      <td>93.313982</td>\n",
       "      <td>50.146651</td>\n",
       "      <td>5.922855</td>\n",
       "      <td>213.375186</td>\n",
       "    </tr>\n",
       "    <tr>\n",
       "      <th>2152</th>\n",
       "      <td>7.777668</td>\n",
       "      <td>2.726794</td>\n",
       "      <td>82.615943</td>\n",
       "      <td>28.811757</td>\n",
       "      <td>5.605095</td>\n",
       "      <td>249.433786</td>\n",
       "    </tr>\n",
       "    <tr>\n",
       "      <th>2153</th>\n",
       "      <td>6.801682</td>\n",
       "      <td>1.989907</td>\n",
       "      <td>84.026915</td>\n",
       "      <td>28.955145</td>\n",
       "      <td>5.060591</td>\n",
       "      <td>260.017774</td>\n",
       "    </tr>\n",
       "  </tbody>\n",
       "</table>\n",
       "<p>2154 rows × 6 columns</p>\n",
       "</div>"
      ],
      "text/plain": [
       "          temp  feels_like   humidity  clouds_all  wind_speed    wind_deg\n",
       "0     6.531499    0.070990  92.857741   91.531577    7.762724  230.669642\n",
       "1     6.516418   -2.268839  84.475949   68.241743   10.727671  256.258159\n",
       "2     4.117653   -2.365009  84.460324   42.119344    6.808548  269.906298\n",
       "3     3.413488   -1.761679  80.915235   36.723827    4.657854  289.299073\n",
       "4     4.752763    1.423782  94.189036   89.442873    2.842280  222.575805\n",
       "...        ...         ...        ...         ...         ...         ...\n",
       "2149  7.011803    0.472592  75.156521   28.890113    7.285472  265.325664\n",
       "2150  4.028544   -0.088680  78.171198   21.466404    3.165625  247.966775\n",
       "2151  8.117413    3.327187  93.313982   50.146651    5.922855  213.375186\n",
       "2152  7.777668    2.726794  82.615943   28.811757    5.605095  249.433786\n",
       "2153  6.801682    1.989907  84.026915   28.955145    5.060591  260.017774\n",
       "\n",
       "[2154 rows x 6 columns]"
      ]
     },
     "execution_count": 36,
     "metadata": {},
     "output_type": "execute_result"
    }
   ],
   "source": [
    "weather"
   ]
  },
  {
   "cell_type": "code",
   "execution_count": 56,
   "metadata": {
    "scrolled": true
   },
   "outputs": [
    {
     "data": {
      "text/plain": [
       "Index(['load', 'holiday_bool', 'mon', 'tue', 'wed', 'thur', 'fri', 'sat',\n",
       "       'sun', 'temp', 'feels_like', 'humidity', 'clouds_all', 'wind_speed',\n",
       "       'wind_deg'],\n",
       "      dtype='object')"
      ]
     },
     "execution_count": 56,
     "metadata": {},
     "output_type": "execute_result"
    }
   ],
   "source": [
    "df.columns[1:]"
   ]
  },
  {
   "cell_type": "code",
   "execution_count": 59,
   "metadata": {},
   "outputs": [],
   "source": [
    "to_drop =['holiday_bool', 'wind_deg', 'clouds_all', 'humidity']\n",
    "new_df = df.drop(columns=to_drop)\n",
    "new_x = new_df.drop('price', axis=1)"
   ]
  },
  {
   "cell_type": "code",
   "execution_count": 61,
   "metadata": {},
   "outputs": [],
   "source": [
    "col = new_df.columns"
   ]
  },
  {
   "cell_type": "code",
   "execution_count": 66,
   "metadata": {},
   "outputs": [],
   "source": [
    "formula = ' + '.join(col[1:])\n",
    "formula = f\"price ~ {formula}\""
   ]
  },
  {
   "cell_type": "code",
   "execution_count": 67,
   "metadata": {},
   "outputs": [
    {
     "data": {
      "text/plain": [
       "'price ~ load + mon + tue + wed + thur + fri + sat + sun + temp + feels_like + wind_speed'"
      ]
     },
     "execution_count": 67,
     "metadata": {},
     "output_type": "execute_result"
    }
   ],
   "source": [
    "formula"
   ]
  },
  {
   "cell_type": "code",
   "execution_count": 68,
   "metadata": {},
   "outputs": [],
   "source": [
    "import statsmodels.api as sm\n",
    "import statsmodels.formula.api as smf"
   ]
  },
  {
   "cell_type": "code",
   "execution_count": 69,
   "metadata": {},
   "outputs": [],
   "source": [
    "model2 = smf.ols(formula=formula, data=df).fit()"
   ]
  },
  {
   "cell_type": "code",
   "execution_count": 70,
   "metadata": {},
   "outputs": [
    {
     "data": {
      "text/html": [
       "<table class=\"simpletable\">\n",
       "<caption>OLS Regression Results</caption>\n",
       "<tr>\n",
       "  <th>Dep. Variable:</th>          <td>price</td>      <th>  R-squared:         </th> <td>   0.315</td> \n",
       "</tr>\n",
       "<tr>\n",
       "  <th>Model:</th>                   <td>OLS</td>       <th>  Adj. R-squared:    </th> <td>   0.312</td> \n",
       "</tr>\n",
       "<tr>\n",
       "  <th>Method:</th>             <td>Least Squares</td>  <th>  F-statistic:       </th> <td>   98.54</td> \n",
       "</tr>\n",
       "<tr>\n",
       "  <th>Date:</th>             <td>Thu, 26 Nov 2020</td> <th>  Prob (F-statistic):</th> <td>4.94e-168</td>\n",
       "</tr>\n",
       "<tr>\n",
       "  <th>Time:</th>                 <td>18:12:00</td>     <th>  Log-Likelihood:    </th> <td> -8116.9</td> \n",
       "</tr>\n",
       "<tr>\n",
       "  <th>No. Observations:</th>      <td>  2154</td>      <th>  AIC:               </th> <td>1.626e+04</td>\n",
       "</tr>\n",
       "<tr>\n",
       "  <th>Df Residuals:</th>          <td>  2143</td>      <th>  BIC:               </th> <td>1.632e+04</td>\n",
       "</tr>\n",
       "<tr>\n",
       "  <th>Df Model:</th>              <td>    10</td>      <th>                     </th>     <td> </td>    \n",
       "</tr>\n",
       "<tr>\n",
       "  <th>Covariance Type:</th>      <td>nonrobust</td>    <th>                     </th>     <td> </td>    \n",
       "</tr>\n",
       "</table>\n",
       "<table class=\"simpletable\">\n",
       "<tr>\n",
       "       <td></td>         <th>coef</th>     <th>std err</th>      <th>t</th>      <th>P>|t|</th>  <th>[0.025</th>    <th>0.975]</th>  \n",
       "</tr>\n",
       "<tr>\n",
       "  <th>Intercept</th>  <td>   17.6591</td> <td>    3.565</td> <td>    4.954</td> <td> 0.000</td> <td>   10.668</td> <td>   24.650</td>\n",
       "</tr>\n",
       "<tr>\n",
       "  <th>load</th>       <td>    0.0122</td> <td>    0.001</td> <td>    8.537</td> <td> 0.000</td> <td>    0.009</td> <td>    0.015</td>\n",
       "</tr>\n",
       "<tr>\n",
       "  <th>mon</th>        <td>    3.0086</td> <td>    0.846</td> <td>    3.557</td> <td> 0.000</td> <td>    1.350</td> <td>    4.667</td>\n",
       "</tr>\n",
       "<tr>\n",
       "  <th>tue</th>        <td>    3.3097</td> <td>    0.900</td> <td>    3.679</td> <td> 0.000</td> <td>    1.545</td> <td>    5.074</td>\n",
       "</tr>\n",
       "<tr>\n",
       "  <th>wed</th>        <td>    3.2765</td> <td>    0.905</td> <td>    3.620</td> <td> 0.000</td> <td>    1.502</td> <td>    5.052</td>\n",
       "</tr>\n",
       "<tr>\n",
       "  <th>thur</th>       <td>    3.0914</td> <td>    0.889</td> <td>    3.476</td> <td> 0.001</td> <td>    1.348</td> <td>    4.835</td>\n",
       "</tr>\n",
       "<tr>\n",
       "  <th>fri</th>        <td>    3.4130</td> <td>    0.782</td> <td>    4.364</td> <td> 0.000</td> <td>    1.879</td> <td>    4.947</td>\n",
       "</tr>\n",
       "<tr>\n",
       "  <th>sat</th>        <td>    1.6794</td> <td>    0.587</td> <td>    2.860</td> <td> 0.004</td> <td>    0.528</td> <td>    2.831</td>\n",
       "</tr>\n",
       "<tr>\n",
       "  <th>sun</th>        <td>   -0.1197</td> <td>    0.585</td> <td>   -0.205</td> <td> 0.838</td> <td>   -1.266</td> <td>    1.027</td>\n",
       "</tr>\n",
       "<tr>\n",
       "  <th>temp</th>       <td>   -1.6058</td> <td>    0.657</td> <td>   -2.443</td> <td> 0.015</td> <td>   -2.895</td> <td>   -0.317</td>\n",
       "</tr>\n",
       "<tr>\n",
       "  <th>feels_like</th> <td>    1.4933</td> <td>    0.546</td> <td>    2.735</td> <td> 0.006</td> <td>    0.423</td> <td>    2.564</td>\n",
       "</tr>\n",
       "<tr>\n",
       "  <th>wind_speed</th> <td>   -2.5306</td> <td>    0.417</td> <td>   -6.065</td> <td> 0.000</td> <td>   -3.349</td> <td>   -1.712</td>\n",
       "</tr>\n",
       "</table>\n",
       "<table class=\"simpletable\">\n",
       "<tr>\n",
       "  <th>Omnibus:</th>       <td>52.836</td> <th>  Durbin-Watson:     </th> <td>   0.331</td>\n",
       "</tr>\n",
       "<tr>\n",
       "  <th>Prob(Omnibus):</th> <td> 0.000</td> <th>  Jarque-Bera (JB):  </th> <td>  58.279</td>\n",
       "</tr>\n",
       "<tr>\n",
       "  <th>Skew:</th>          <td> 0.355</td> <th>  Prob(JB):          </th> <td>2.21e-13</td>\n",
       "</tr>\n",
       "<tr>\n",
       "  <th>Kurtosis:</th>      <td> 3.382</td> <th>  Cond. No.          </th> <td>1.01e+19</td>\n",
       "</tr>\n",
       "</table><br/><br/>Notes:<br/>[1] Standard Errors assume that the covariance matrix of the errors is correctly specified.<br/>[2] The smallest eigenvalue is 1.11e-28. This might indicate that there are<br/>strong multicollinearity problems or that the design matrix is singular."
      ],
      "text/plain": [
       "<class 'statsmodels.iolib.summary.Summary'>\n",
       "\"\"\"\n",
       "                            OLS Regression Results                            \n",
       "==============================================================================\n",
       "Dep. Variable:                  price   R-squared:                       0.315\n",
       "Model:                            OLS   Adj. R-squared:                  0.312\n",
       "Method:                 Least Squares   F-statistic:                     98.54\n",
       "Date:                Thu, 26 Nov 2020   Prob (F-statistic):          4.94e-168\n",
       "Time:                        18:12:00   Log-Likelihood:                -8116.9\n",
       "No. Observations:                2154   AIC:                         1.626e+04\n",
       "Df Residuals:                    2143   BIC:                         1.632e+04\n",
       "Df Model:                          10                                         \n",
       "Covariance Type:            nonrobust                                         \n",
       "==============================================================================\n",
       "                 coef    std err          t      P>|t|      [0.025      0.975]\n",
       "------------------------------------------------------------------------------\n",
       "Intercept     17.6591      3.565      4.954      0.000      10.668      24.650\n",
       "load           0.0122      0.001      8.537      0.000       0.009       0.015\n",
       "mon            3.0086      0.846      3.557      0.000       1.350       4.667\n",
       "tue            3.3097      0.900      3.679      0.000       1.545       5.074\n",
       "wed            3.2765      0.905      3.620      0.000       1.502       5.052\n",
       "thur           3.0914      0.889      3.476      0.001       1.348       4.835\n",
       "fri            3.4130      0.782      4.364      0.000       1.879       4.947\n",
       "sat            1.6794      0.587      2.860      0.004       0.528       2.831\n",
       "sun           -0.1197      0.585     -0.205      0.838      -1.266       1.027\n",
       "temp          -1.6058      0.657     -2.443      0.015      -2.895      -0.317\n",
       "feels_like     1.4933      0.546      2.735      0.006       0.423       2.564\n",
       "wind_speed    -2.5306      0.417     -6.065      0.000      -3.349      -1.712\n",
       "==============================================================================\n",
       "Omnibus:                       52.836   Durbin-Watson:                   0.331\n",
       "Prob(Omnibus):                  0.000   Jarque-Bera (JB):               58.279\n",
       "Skew:                           0.355   Prob(JB):                     2.21e-13\n",
       "Kurtosis:                       3.382   Cond. No.                     1.01e+19\n",
       "==============================================================================\n",
       "\n",
       "Notes:\n",
       "[1] Standard Errors assume that the covariance matrix of the errors is correctly specified.\n",
       "[2] The smallest eigenvalue is 1.11e-28. This might indicate that there are\n",
       "strong multicollinearity problems or that the design matrix is singular.\n",
       "\"\"\""
      ]
     },
     "execution_count": 70,
     "metadata": {},
     "output_type": "execute_result"
    }
   ],
   "source": [
    "model2.summary()"
   ]
  },
  {
   "cell_type": "code",
   "execution_count": 71,
   "metadata": {},
   "outputs": [],
   "source": [
    "from statsmodels.stats.outliers_influence import variance_inflation_factor as vif"
   ]
  },
  {
   "cell_type": "code",
   "execution_count": 55,
   "metadata": {},
   "outputs": [
    {
     "data": {
      "text/plain": [
       "(2155, 6)"
      ]
     },
     "execution_count": 55,
     "metadata": {},
     "output_type": "execute_result"
    }
   ],
   "source": [
    "vif()"
   ]
  }
 ],
 "metadata": {
  "kernelspec": {
   "display_name": "Python 3",
   "language": "python",
   "name": "python3"
  },
  "language_info": {
   "codemirror_mode": {
    "name": "ipython",
    "version": 3
   },
   "file_extension": ".py",
   "mimetype": "text/x-python",
   "name": "python",
   "nbconvert_exporter": "python",
   "pygments_lexer": "ipython3",
   "version": "3.7.4"
  },
  "toc": {
   "base_numbering": 1,
   "nav_menu": {},
   "number_sections": true,
   "sideBar": true,
   "skip_h1_title": false,
   "title_cell": "Table of Contents",
   "title_sidebar": "Contents",
   "toc_cell": false,
   "toc_position": {},
   "toc_section_display": true,
   "toc_window_display": false
  },
  "varInspector": {
   "cols": {
    "lenName": 16,
    "lenType": 16,
    "lenVar": 40
   },
   "kernels_config": {
    "python": {
     "delete_cmd_postfix": "",
     "delete_cmd_prefix": "del ",
     "library": "var_list.py",
     "varRefreshCmd": "print(var_dic_list())"
    },
    "r": {
     "delete_cmd_postfix": ") ",
     "delete_cmd_prefix": "rm(",
     "library": "var_list.r",
     "varRefreshCmd": "cat(var_dic_list()) "
    }
   },
   "types_to_exclude": [
    "module",
    "function",
    "builtin_function_or_method",
    "instance",
    "_Feature"
   ],
   "window_display": false
  }
 },
 "nbformat": 4,
 "nbformat_minor": 4
}
