{
 "cells": [
  {
   "cell_type": "markdown",
   "metadata": {},
   "source": [
    "# Data Merging"
   ]
  },
  {
   "cell_type": "code",
   "execution_count": 1,
   "metadata": {},
   "outputs": [],
   "source": [
    "import os\n",
    "import numpy as np\n",
    "import pandas as pd"
   ]
  },
  {
   "cell_type": "code",
   "execution_count": 2,
   "metadata": {},
   "outputs": [],
   "source": [
    "%load_ext autoreload\n",
    "%autoreload 2"
   ]
  },
  {
   "cell_type": "markdown",
   "metadata": {},
   "source": [
    "## Fetch data from file path"
   ]
  },
  {
   "cell_type": "markdown",
   "metadata": {},
   "source": [
    "Get the csv file names from a given directory"
   ]
  },
  {
   "cell_type": "code",
   "execution_count": 3,
   "metadata": {},
   "outputs": [],
   "source": [
    "def get_file_names(directory):\n",
    "    \"\"\"returns the csv files in the given string directory path\"\"\"\n",
    "    file_names = []\n",
    "    for filename in os.listdir(directory):\n",
    "        if filename.endswith(\".csv\"):\n",
    "            file_names.append(os.path.join(directory, filename))\n",
    "    return file_names"
   ]
  },
  {
   "cell_type": "markdown",
   "metadata": {},
   "source": [
    "Create a dictionary from the files where the keys are the yearly intervals and the values are the respective dataframes."
   ]
  },
  {
   "cell_type": "code",
   "execution_count": 4,
   "metadata": {},
   "outputs": [],
   "source": [
    "def get_dataframes(file_names):\n",
    "    \"\"\"Takes in a list of csv file paths.\n",
    "    Returns a dictionary whose keys are the years\n",
    "    and values are the corresponding dataframes.\"\"\"\n",
    "    df_years = {}\n",
    "    for file in file_names:\n",
    "        df_years[file[-29:]] = pd.read_csv(file) # [-29:] Indexes the years.csv eg '201501010000-201601010000.csv'\n",
    "    return df_years\n",
    "    "
   ]
  },
  {
   "cell_type": "markdown",
   "metadata": {},
   "source": [
    "Function to get the path per feature e.g price, load"
   ]
  },
  {
   "cell_type": "code",
   "execution_count": 5,
   "metadata": {},
   "outputs": [],
   "source": [
    "def get_feature_path(feature_name, main_directory):\n",
    "    for root, dirs_, files in os.walk(main_directory):\n",
    "        if feature_name in (root):\n",
    "            return root"
   ]
  },
  {
   "cell_type": "markdown",
   "metadata": {},
   "source": [
    "Function to bring it together and return a tuple containing a nested dictionary of the features and the corresponding dictionary of per year dataframes. "
   ]
  },
  {
   "cell_type": "code",
   "execution_count": 6,
   "metadata": {},
   "outputs": [],
   "source": [
    "def get_features_df(main_path):\n",
    "    feats = ['price', 'load']\n",
    "    feat_dict = {}\n",
    "    for feat in feats:\n",
    "        path = get_feature_path(feat, main_path)\n",
    "        names = get_file_names(path)\n",
    "        feat_dict[feat] = get_dataframes(names)\n",
    "        \n",
    "    return feat_dict[feats[0]], feat_dict[feats[1]]"
   ]
  },
  {
   "cell_type": "markdown",
   "metadata": {},
   "source": [
    "Used as follows..."
   ]
  },
  {
   "cell_type": "code",
   "execution_count": 7,
   "metadata": {
    "scrolled": true
   },
   "outputs": [],
   "source": [
    "path = r'../raw_data/'\n",
    "price, load = get_features_df(main_path=path) # unpack tuple "
   ]
  },
  {
   "cell_type": "markdown",
   "metadata": {},
   "source": [
    "## Create DataFrames from data"
   ]
  },
  {
   "cell_type": "markdown",
   "metadata": {},
   "source": [
    "### Concatenate dataframes"
   ]
  },
  {
   "cell_type": "code",
   "execution_count": 8,
   "metadata": {},
   "outputs": [],
   "source": [
    "def concat_dataframes(feat):\n",
    "    keys = list(feat.keys())\n",
    "    df = pd.concat([\n",
    "        feat[keys[0]],  # year 2015\n",
    "        feat[keys[1]],  # year 2016\n",
    "        feat[keys[2]],  # year 2017\n",
    "        feat[keys[3]],  # year 2018\n",
    "        feat[keys[4]],  # year 2019\n",
    "        feat[keys[5]]   # year 2020\n",
    "    ]).reset_index(drop=True)\n",
    "    return df"
   ]
  },
  {
   "cell_type": "markdown",
   "metadata": {},
   "source": [
    "### Convert to datetime"
   ]
  },
  {
   "cell_type": "markdown",
   "metadata": {},
   "source": [
    "On peeking through the dataframes nested in the dictionaries `price` and `load`, the columns showing the time display them as time ranges e.g `31.12.2020 19:00 - 31.12.2020 20:00`. A function is created to make a new column called _time_ that will strip the string down to the initial timestamp e.g `31.12.2020 19:00` and then convert the series to datetime objects"
   ]
  },
  {
   "cell_type": "code",
   "execution_count": 9,
   "metadata": {},
   "outputs": [],
   "source": [
    "def get_datetime(df):\n",
    "    try:\n",
    "        column = df['MTU (CET)'] # column with time values in price df\n",
    "    except:\n",
    "        column = df['Time (CET)']  # load time\n",
    "    \n",
    "    # create new column 'time' by formatting the original time column to get single timepoint instead of a range\n",
    "    df['time'] = column.apply(lambda _: _[:16])\n",
    "    # convert new time column from str to timestamp\n",
    "    df['time'] = pd.to_datetime(df['time'])\n",
    "        \n",
    "    return df"
   ]
  },
  {
   "cell_type": "markdown",
   "metadata": {},
   "source": [
    "### Merge datasets"
   ]
  },
  {
   "cell_type": "code",
   "execution_count": 10,
   "metadata": {},
   "outputs": [],
   "source": [
    "def merge_data(feat_1, feat_2):\n",
    "    df = feat_1.merge(feat_2, on='time').reset_index(drop=True)\n",
    "    return df"
   ]
  },
  {
   "cell_type": "markdown",
   "metadata": {},
   "source": [
    "## Final function"
   ]
  },
  {
   "cell_type": "code",
   "execution_count": 11,
   "metadata": {},
   "outputs": [],
   "source": [
    "def fetch_data(path):\n",
    "    \n",
    "    price, load = get_features_df(main_path=path) # unpack tuple\n",
    "    \n",
    "    prices_data = concat_dataframes(price)\n",
    "    load_data = concat_dataframes(load)\n",
    "\n",
    "    load_data = get_datetime(load_data)\n",
    "    prices_data = get_datetime(prices_data)\n",
    "\n",
    "    # date up until\n",
    "    idx_p = prices_data[prices_data['time'] == '2020-11-23 23:00:00'].index # valid time frame\n",
    "    idx_l = load_data[load_data['time'] == '2020-11-23 23:00:00'].index\n",
    "    assert(idx_p == idx_l)\n",
    "    idx = idx_l[0] + 1\n",
    "    \n",
    "    df = merge_data(prices_data, load_data)\n",
    "    df = df.iloc[:idx]\n",
    "\n",
    "    # drop unused columns\n",
    "    to_drop = ['MTU (CET)', 'Time (CET)', 'Day-ahead Total Load Forecast [MW] - BZN|DK1']\n",
    "    df.drop(columns=to_drop, inplace=True)\n",
    "    \n",
    "    df = df.rename(columns={'Day-ahead Price [EUR/MWh]':'price',\n",
    "                   'Actual Total Load [MW] - BZN|DK1':'load'})\n",
    "    \n",
    "    df = df[['time','price','load']] # reorder columns\n",
    "\n",
    "    return df"
   ]
  },
  {
   "cell_type": "markdown",
   "metadata": {},
   "source": [
    "### Test"
   ]
  },
  {
   "cell_type": "code",
   "execution_count": 12,
   "metadata": {},
   "outputs": [],
   "source": [
    "df = fetch_data(path)"
   ]
  },
  {
   "cell_type": "code",
   "execution_count": 13,
   "metadata": {
    "scrolled": true
   },
   "outputs": [
    {
     "data": {
      "text/html": [
       "<div>\n",
       "<style scoped>\n",
       "    .dataframe tbody tr th:only-of-type {\n",
       "        vertical-align: middle;\n",
       "    }\n",
       "\n",
       "    .dataframe tbody tr th {\n",
       "        vertical-align: top;\n",
       "    }\n",
       "\n",
       "    .dataframe thead th {\n",
       "        text-align: right;\n",
       "    }\n",
       "</style>\n",
       "<table border=\"1\" class=\"dataframe\">\n",
       "  <thead>\n",
       "    <tr style=\"text-align: right;\">\n",
       "      <th></th>\n",
       "      <th>time</th>\n",
       "      <th>price</th>\n",
       "      <th>load</th>\n",
       "    </tr>\n",
       "  </thead>\n",
       "  <tbody>\n",
       "    <tr>\n",
       "      <th>0</th>\n",
       "      <td>2015-01-01 00:00:00</td>\n",
       "      <td>25.02</td>\n",
       "      <td>1877</td>\n",
       "    </tr>\n",
       "    <tr>\n",
       "      <th>1</th>\n",
       "      <td>2015-01-01 01:00:00</td>\n",
       "      <td>18.29</td>\n",
       "      <td>1843</td>\n",
       "    </tr>\n",
       "    <tr>\n",
       "      <th>2</th>\n",
       "      <td>2015-01-01 02:00:00</td>\n",
       "      <td>16.04</td>\n",
       "      <td>1795</td>\n",
       "    </tr>\n",
       "  </tbody>\n",
       "</table>\n",
       "</div>"
      ],
      "text/plain": [
       "                 time  price  load\n",
       "0 2015-01-01 00:00:00  25.02  1877\n",
       "1 2015-01-01 01:00:00  18.29  1843\n",
       "2 2015-01-01 02:00:00  16.04  1795"
      ]
     },
     "execution_count": 13,
     "metadata": {},
     "output_type": "execute_result"
    }
   ],
   "source": [
    "df.head(3)"
   ]
  },
  {
   "cell_type": "code",
   "execution_count": null,
   "metadata": {},
   "outputs": [],
   "source": []
  }
 ],
 "metadata": {
  "kernelspec": {
   "display_name": "Python 3",
   "language": "python",
   "name": "python3"
  },
  "language_info": {
   "codemirror_mode": {
    "name": "ipython",
    "version": 3
   },
   "file_extension": ".py",
   "mimetype": "text/x-python",
   "name": "python",
   "nbconvert_exporter": "python",
   "pygments_lexer": "ipython3",
   "version": "3.7.4"
  },
  "toc": {
   "base_numbering": 1,
   "nav_menu": {},
   "number_sections": true,
   "sideBar": true,
   "skip_h1_title": false,
   "title_cell": "Table of Contents",
   "title_sidebar": "Contents",
   "toc_cell": false,
   "toc_position": {},
   "toc_section_display": true,
   "toc_window_display": false
  },
  "varInspector": {
   "cols": {
    "lenName": 16,
    "lenType": 16,
    "lenVar": 40
   },
   "kernels_config": {
    "python": {
     "delete_cmd_postfix": "",
     "delete_cmd_prefix": "del ",
     "library": "var_list.py",
     "varRefreshCmd": "print(var_dic_list())"
    },
    "r": {
     "delete_cmd_postfix": ") ",
     "delete_cmd_prefix": "rm(",
     "library": "var_list.r",
     "varRefreshCmd": "cat(var_dic_list()) "
    }
   },
   "types_to_exclude": [
    "module",
    "function",
    "builtin_function_or_method",
    "instance",
    "_Feature"
   ],
   "window_display": false
  }
 },
 "nbformat": 4,
 "nbformat_minor": 4
}
