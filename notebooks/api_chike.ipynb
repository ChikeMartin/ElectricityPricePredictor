{
 "cells": [
  {
   "cell_type": "markdown",
   "metadata": {},
   "source": [
    "## Build and Test API with dummy model"
   ]
  },
  {
   "cell_type": "code",
   "execution_count": 5,
   "metadata": {},
   "outputs": [],
   "source": [
    "from electricity_price_predictor.data import get_all\n",
    "from sklearn.preprocessing import MinMaxScaler\n",
    "from sklearn.linear_model import LinearRegression\n",
    "from sklearn.pipeline import Pipeline\n",
    "import joblib"
   ]
  },
  {
   "cell_type": "markdown",
   "metadata": {},
   "source": [
    "Load data"
   ]
  },
  {
   "cell_type": "code",
   "execution_count": 6,
   "metadata": {},
   "outputs": [],
   "source": [
    "df = get_all()"
   ]
  },
  {
   "cell_type": "markdown",
   "metadata": {},
   "source": [
    "### Features and target defined"
   ]
  },
  {
   "cell_type": "code",
   "execution_count": 7,
   "metadata": {},
   "outputs": [],
   "source": [
    "train = df.iloc[:-1]\n",
    "test = df.iloc[-1:]"
   ]
  },
  {
   "cell_type": "code",
   "execution_count": 8,
   "metadata": {},
   "outputs": [],
   "source": [
    "X_train = train.drop('price', axis=1)\n",
    "y_train = train.price.values\n",
    "\n",
    "X_test = test.drop('price', axis=1)\n",
    "y_test = test.price.values"
   ]
  },
  {
   "cell_type": "markdown",
   "metadata": {},
   "source": [
    "### Model"
   ]
  },
  {
   "cell_type": "code",
   "execution_count": 9,
   "metadata": {},
   "outputs": [],
   "source": [
    "pipe = Pipeline([\n",
    "    ('scaler', MinMaxScaler()),\n",
    "    ('estimator', LinearRegression())\n",
    "])"
   ]
  },
  {
   "cell_type": "code",
   "execution_count": 10,
   "metadata": {},
   "outputs": [
    {
     "data": {
      "text/plain": [
       "Pipeline(steps=[('scaler', MinMaxScaler()), ('estimator', LinearRegression())])"
      ]
     },
     "execution_count": 10,
     "metadata": {},
     "output_type": "execute_result"
    }
   ],
   "source": [
    "pipe.fit(X_train, y_train)"
   ]
  },
  {
   "cell_type": "code",
   "execution_count": 11,
   "metadata": {},
   "outputs": [
    {
     "data": {
      "text/plain": [
       "array([27.55633669])"
      ]
     },
     "execution_count": 11,
     "metadata": {},
     "output_type": "execute_result"
    }
   ],
   "source": [
    "pipe.predict(X_test)"
   ]
  },
  {
   "cell_type": "markdown",
   "metadata": {},
   "source": [
    "#### Save model"
   ]
  },
  {
   "cell_type": "markdown",
   "metadata": {},
   "source": [
    "Model saved"
   ]
  },
  {
   "cell_type": "code",
   "execution_count": 12,
   "metadata": {},
   "outputs": [],
   "source": [
    "#model_name = '../test_model.joblib'\n",
    "#joblib.dump(pipe, model_name)"
   ]
  },
  {
   "cell_type": "markdown",
   "metadata": {},
   "source": [
    "Test set saved"
   ]
  },
  {
   "cell_type": "code",
   "execution_count": 17,
   "metadata": {},
   "outputs": [],
   "source": [
    "#dummy_test = '../test_testset.joblib'\n",
    "#joblib.dump(X_test, dummy_test)"
   ]
  },
  {
   "cell_type": "markdown",
   "metadata": {},
   "source": [
    "## App api"
   ]
  },
  {
   "cell_type": "code",
   "execution_count": 1,
   "metadata": {},
   "outputs": [],
   "source": [
    "from flask import Flask, escape, request\n",
    "app = Flask(__name__)"
   ]
  },
  {
   "cell_type": "code",
   "execution_count": 2,
   "metadata": {},
   "outputs": [],
   "source": [
    "@app.route('/')\n",
    "def hello():\n",
    "    # get param from http://127.0.0.1:5000/?name=value\n",
    "    name = request.args.get(\"name\", \"World\")\n",
    "    return f'Hello, {escape(name)}!'"
   ]
  },
  {
   "cell_type": "code",
   "execution_count": 25,
   "metadata": {},
   "outputs": [],
   "source": [
    "@app.route('/predict_day_ahead')\n",
    "def day_head():\n",
    "    test = joblib.load('../test_testset.joblib')\n",
    "\n",
    "    model = joblib.load('../test_model.joblib')\n",
    "    pred = model.predict(test)[0]\n",
    "    \n",
    "    return {'test_values': test, 'day-ahead prediction': pred}"
   ]
  },
  {
   "cell_type": "code",
   "execution_count": 22,
   "metadata": {},
   "outputs": [
    {
     "data": {
      "text/plain": [
       "array([datetime.date(2020, 11, 18)], dtype=object)"
      ]
     },
     "execution_count": 22,
     "metadata": {},
     "output_type": "execute_result"
    }
   ],
   "source": []
  },
  {
   "cell_type": "code",
   "execution_count": 15,
   "metadata": {},
   "outputs": [
    {
     "data": {
      "text/plain": [
       "27.556336686450823"
      ]
     },
     "execution_count": 15,
     "metadata": {},
     "output_type": "execute_result"
    }
   ],
   "source": []
  },
  {
   "cell_type": "code",
   "execution_count": 14,
   "metadata": {},
   "outputs": [
    {
     "data": {
      "text/html": [
       "<div>\n",
       "<style scoped>\n",
       "    .dataframe tbody tr th:only-of-type {\n",
       "        vertical-align: middle;\n",
       "    }\n",
       "\n",
       "    .dataframe tbody tr th {\n",
       "        vertical-align: top;\n",
       "    }\n",
       "\n",
       "    .dataframe thead th {\n",
       "        text-align: right;\n",
       "    }\n",
       "</style>\n",
       "<table border=\"1\" class=\"dataframe\">\n",
       "  <thead>\n",
       "    <tr style=\"text-align: right;\">\n",
       "      <th></th>\n",
       "      <th>load</th>\n",
       "      <th>temp</th>\n",
       "      <th>feels_like</th>\n",
       "      <th>humidity</th>\n",
       "      <th>clouds_all</th>\n",
       "      <th>wind_speed</th>\n",
       "      <th>total_prod</th>\n",
       "      <th>wind_prod</th>\n",
       "      <th>wind_share</th>\n",
       "      <th>holiday</th>\n",
       "    </tr>\n",
       "  </thead>\n",
       "  <tbody>\n",
       "    <tr>\n",
       "      <th>2020-11-18 11:00:00</th>\n",
       "      <td>3131.0</td>\n",
       "      <td>11.666766</td>\n",
       "      <td>6.851161</td>\n",
       "      <td>93.254343</td>\n",
       "      <td>85.390839</td>\n",
       "      <td>7.185988</td>\n",
       "      <td>3427.818226</td>\n",
       "      <td>2947.974034</td>\n",
       "      <td>0.860015</td>\n",
       "      <td>0.0</td>\n",
       "    </tr>\n",
       "  </tbody>\n",
       "</table>\n",
       "</div>"
      ],
      "text/plain": [
       "                       load       temp  feels_like   humidity  clouds_all  \\\n",
       "2020-11-18 11:00:00  3131.0  11.666766    6.851161  93.254343   85.390839   \n",
       "\n",
       "                     wind_speed   total_prod    wind_prod  wind_share  holiday  \n",
       "2020-11-18 11:00:00    7.185988  3427.818226  2947.974034    0.860015      0.0  "
      ]
     },
     "execution_count": 14,
     "metadata": {},
     "output_type": "execute_result"
    }
   ],
   "source": [
    "X_test"
   ]
  },
  {
   "cell_type": "code",
   "execution_count": 32,
   "metadata": {},
   "outputs": [],
   "source": [
    "import streamlit as st"
   ]
  },
  {
   "cell_type": "code",
   "execution_count": 33,
   "metadata": {},
   "outputs": [
    {
     "data": {
      "text/html": [
       "<div>\n",
       "<style scoped>\n",
       "    .dataframe tbody tr th:only-of-type {\n",
       "        vertical-align: middle;\n",
       "    }\n",
       "\n",
       "    .dataframe tbody tr th {\n",
       "        vertical-align: top;\n",
       "    }\n",
       "\n",
       "    .dataframe thead th {\n",
       "        text-align: right;\n",
       "    }\n",
       "</style>\n",
       "<table border=\"1\" class=\"dataframe\">\n",
       "  <thead>\n",
       "    <tr style=\"text-align: right;\">\n",
       "      <th></th>\n",
       "      <th>first column</th>\n",
       "      <th>second column</th>\n",
       "    </tr>\n",
       "  </thead>\n",
       "  <tbody>\n",
       "    <tr>\n",
       "      <th>0</th>\n",
       "      <td>1</td>\n",
       "      <td>10</td>\n",
       "    </tr>\n",
       "    <tr>\n",
       "      <th>1</th>\n",
       "      <td>2</td>\n",
       "      <td>20</td>\n",
       "    </tr>\n",
       "    <tr>\n",
       "      <th>2</th>\n",
       "      <td>3</td>\n",
       "      <td>30</td>\n",
       "    </tr>\n",
       "  </tbody>\n",
       "</table>\n",
       "</div>"
      ],
      "text/plain": [
       "   first column  second column\n",
       "0             1             10\n",
       "1             2             20\n",
       "2             3             30"
      ]
     },
     "execution_count": 33,
     "metadata": {},
     "output_type": "execute_result"
    }
   ],
   "source": [
    "import numpy as np\n",
    "import pandas as pd\n",
    "\n",
    "st.markdown(\"\"\"# This is a header\n",
    "## This is a sub header\n",
    "This is text\"\"\")\n",
    "\n",
    "df = pd.DataFrame({\n",
    "          'first column': list(range(1, 11)),\n",
    "          'second column': np.arange(10, 101, 10)\n",
    "        })\n",
    "\n",
    "# this slider allows the user to select a number of lines\n",
    "# to display in the dataframe\n",
    "# the selected value is returned by st.slider\n",
    "line_count = st.slider('Select a line count', 1, 10, 3)\n",
    "\n",
    "# and used in order to select the displayed lines\n",
    "head_df = df.head(line_count)\n",
    "\n",
    "head_df"
   ]
  },
  {
   "cell_type": "code",
   "execution_count": 1,
   "metadata": {},
   "outputs": [],
   "source": [
    "from electricity_price_predictor.data import get_weather"
   ]
  },
  {
   "cell_type": "code",
   "execution_count": null,
   "metadata": {},
   "outputs": [],
   "source": [
    "def get_weather(path='../raw_data/weather_2015_2020.csv'):\n",
    "    df = pd.read_csv(path)\n",
    "\n",
    "    df['dt'] = pd.to_datetime(df.dt)\n",
    "\n",
    "    # drop unnecessary columns\n",
    "    to_drop = ['dt_iso','timezone','lat', 'lon','sea_level','grnd_level',\n",
    "               'rain_1h','rain_3h', 'pressure', 'snow_1h', 'snow_3h',\n",
    "               'temp_min','temp_max','weather_id', 'weather_description',\n",
    "               'weather_icon', 'wind_deg']\n",
    "    df = df.drop(to_drop, axis=1)\n",
    "\n",
    "    # population of each city in the df\n",
    "    pop = {'Aarhus': 349_983,\n",
    "        'Odense': 204_895,\n",
    "        'Aalborg': 217_075,\n",
    "        'Esbjerg': 115_748,\n",
    "        'Vejle': 111_743,\n",
    "        'Randers': 96_559,\n",
    "        'Viborg': 93_819,\n",
    "        'Kolding': 89_412,\n",
    "        'Silkeborg': 89_328,\n",
    "        'Herning': 86_348,\n",
    "        'Horsens': 83_598}\n",
    "\n",
    "    df['population'] = [pop[city] for city in df.city_name]\n",
    "\n",
    "    # numeric weather values as affects demand or supply\n",
    "    numeric_cols = ['temp', 'feels_like', 'humidity',  'clouds_all','wind_speed']\n",
    "\n",
    "    weather_df = pd.DataFrame()\n",
    "\n",
    "    #for the numeric columns, group by datetime and average according to their population weight\n",
    "    for col in numeric_cols:\n",
    "    #group by the datecolumn for each element in the column average it by it's weight\n",
    "        weather_df[col] = df.groupby(df.dt).apply(lambda x : np.average(x[col], weights=x.population))\n",
    "\n",
    "    # check for missing indices\n",
    "    missing_idx = pd.date_range(start = '2015-01-01', end = '2020-11-24', freq='H' ).difference(weather_df.index)\n",
    "\n",
    "    # impute missing indices with average of bounding rows\n",
    "    for idx in missing_idx:\n",
    "        weather_df.loc[idx] = weather_df.loc[pd.to_datetime(idx) - timedelta(hours= 1)] + \\\n",
    "                      weather_df.loc[pd.to_datetime(idx) + timedelta(hours= 1)] / 2\n",
    "\n",
    "    weather_df = weather_df.sort_index()\n",
    "\n",
    "    return weather_df"
   ]
  },
  {
   "cell_type": "code",
   "execution_count": 2,
   "metadata": {},
   "outputs": [],
   "source": [
    "weather = get_weather()"
   ]
  },
  {
   "cell_type": "code",
   "execution_count": 3,
   "metadata": {},
   "outputs": [
    {
     "data": {
      "text/html": [
       "<div>\n",
       "<style scoped>\n",
       "    .dataframe tbody tr th:only-of-type {\n",
       "        vertical-align: middle;\n",
       "    }\n",
       "\n",
       "    .dataframe tbody tr th {\n",
       "        vertical-align: top;\n",
       "    }\n",
       "\n",
       "    .dataframe thead th {\n",
       "        text-align: right;\n",
       "    }\n",
       "</style>\n",
       "<table border=\"1\" class=\"dataframe\">\n",
       "  <thead>\n",
       "    <tr style=\"text-align: right;\">\n",
       "      <th></th>\n",
       "      <th>temp</th>\n",
       "      <th>feels_like</th>\n",
       "      <th>humidity</th>\n",
       "      <th>clouds_all</th>\n",
       "      <th>wind_speed</th>\n",
       "    </tr>\n",
       "    <tr>\n",
       "      <th>dt</th>\n",
       "      <th></th>\n",
       "      <th></th>\n",
       "      <th></th>\n",
       "      <th></th>\n",
       "      <th></th>\n",
       "    </tr>\n",
       "  </thead>\n",
       "  <tbody>\n",
       "    <tr>\n",
       "      <th>2015-01-01 00:00:00</th>\n",
       "      <td>5.432478</td>\n",
       "      <td>-0.154827</td>\n",
       "      <td>86.758700</td>\n",
       "      <td>83.913979</td>\n",
       "      <td>5.937703</td>\n",
       "    </tr>\n",
       "    <tr>\n",
       "      <th>2015-01-01 01:00:00</th>\n",
       "      <td>5.488014</td>\n",
       "      <td>0.354168</td>\n",
       "      <td>87.139723</td>\n",
       "      <td>91.950524</td>\n",
       "      <td>5.322343</td>\n",
       "    </tr>\n",
       "    <tr>\n",
       "      <th>2015-01-01 02:00:00</th>\n",
       "      <td>5.599633</td>\n",
       "      <td>0.307204</td>\n",
       "      <td>87.786899</td>\n",
       "      <td>89.471946</td>\n",
       "      <td>5.605773</td>\n",
       "    </tr>\n",
       "    <tr>\n",
       "      <th>2015-01-01 03:00:00</th>\n",
       "      <td>6.234380</td>\n",
       "      <td>0.991530</td>\n",
       "      <td>87.241639</td>\n",
       "      <td>88.896068</td>\n",
       "      <td>5.681109</td>\n",
       "    </tr>\n",
       "    <tr>\n",
       "      <th>2015-01-01 04:00:00</th>\n",
       "      <td>6.305504</td>\n",
       "      <td>1.011242</td>\n",
       "      <td>88.078906</td>\n",
       "      <td>92.107249</td>\n",
       "      <td>5.809829</td>\n",
       "    </tr>\n",
       "    <tr>\n",
       "      <th>...</th>\n",
       "      <td>...</td>\n",
       "      <td>...</td>\n",
       "      <td>...</td>\n",
       "      <td>...</td>\n",
       "      <td>...</td>\n",
       "    </tr>\n",
       "    <tr>\n",
       "      <th>2020-11-24 19:00:00</th>\n",
       "      <td>9.668990</td>\n",
       "      <td>6.424743</td>\n",
       "      <td>91.838936</td>\n",
       "      <td>25.753311</td>\n",
       "      <td>4.114354</td>\n",
       "    </tr>\n",
       "    <tr>\n",
       "      <th>2020-11-24 20:00:00</th>\n",
       "      <td>9.572480</td>\n",
       "      <td>6.469465</td>\n",
       "      <td>91.755059</td>\n",
       "      <td>9.988330</td>\n",
       "      <td>3.873568</td>\n",
       "    </tr>\n",
       "    <tr>\n",
       "      <th>2020-11-24 21:00:00</th>\n",
       "      <td>9.470660</td>\n",
       "      <td>6.446793</td>\n",
       "      <td>92.304427</td>\n",
       "      <td>98.077469</td>\n",
       "      <td>3.756631</td>\n",
       "    </tr>\n",
       "    <tr>\n",
       "      <th>2020-11-24 22:00:00</th>\n",
       "      <td>9.270236</td>\n",
       "      <td>6.128806</td>\n",
       "      <td>90.318378</td>\n",
       "      <td>98.077469</td>\n",
       "      <td>3.747880</td>\n",
       "    </tr>\n",
       "    <tr>\n",
       "      <th>2020-11-24 23:00:00</th>\n",
       "      <td>9.173383</td>\n",
       "      <td>6.279188</td>\n",
       "      <td>90.459472</td>\n",
       "      <td>99.347147</td>\n",
       "      <td>3.371049</td>\n",
       "    </tr>\n",
       "  </tbody>\n",
       "</table>\n",
       "<p>51720 rows × 5 columns</p>\n",
       "</div>"
      ],
      "text/plain": [
       "                         temp  feels_like   humidity  clouds_all  wind_speed\n",
       "dt                                                                          \n",
       "2015-01-01 00:00:00  5.432478   -0.154827  86.758700   83.913979    5.937703\n",
       "2015-01-01 01:00:00  5.488014    0.354168  87.139723   91.950524    5.322343\n",
       "2015-01-01 02:00:00  5.599633    0.307204  87.786899   89.471946    5.605773\n",
       "2015-01-01 03:00:00  6.234380    0.991530  87.241639   88.896068    5.681109\n",
       "2015-01-01 04:00:00  6.305504    1.011242  88.078906   92.107249    5.809829\n",
       "...                       ...         ...        ...         ...         ...\n",
       "2020-11-24 19:00:00  9.668990    6.424743  91.838936   25.753311    4.114354\n",
       "2020-11-24 20:00:00  9.572480    6.469465  91.755059    9.988330    3.873568\n",
       "2020-11-24 21:00:00  9.470660    6.446793  92.304427   98.077469    3.756631\n",
       "2020-11-24 22:00:00  9.270236    6.128806  90.318378   98.077469    3.747880\n",
       "2020-11-24 23:00:00  9.173383    6.279188  90.459472   99.347147    3.371049\n",
       "\n",
       "[51720 rows x 5 columns]"
      ]
     },
     "execution_count": 3,
     "metadata": {},
     "output_type": "execute_result"
    }
   ],
   "source": [
    "weather"
   ]
  },
  {
   "cell_type": "code",
   "execution_count": null,
   "metadata": {},
   "outputs": [],
   "source": []
  }
 ],
 "metadata": {
  "kernelspec": {
   "display_name": "Python 3",
   "language": "python",
   "name": "python3"
  },
  "language_info": {
   "codemirror_mode": {
    "name": "ipython",
    "version": 3
   },
   "file_extension": ".py",
   "mimetype": "text/x-python",
   "name": "python",
   "nbconvert_exporter": "python",
   "pygments_lexer": "ipython3",
   "version": "3.7.4"
  },
  "toc": {
   "base_numbering": 1,
   "nav_menu": {},
   "number_sections": true,
   "sideBar": true,
   "skip_h1_title": false,
   "title_cell": "Table of Contents",
   "title_sidebar": "Contents",
   "toc_cell": false,
   "toc_position": {},
   "toc_section_display": true,
   "toc_window_display": false
  },
  "varInspector": {
   "cols": {
    "lenName": 16,
    "lenType": 16,
    "lenVar": 40
   },
   "kernels_config": {
    "python": {
     "delete_cmd_postfix": "",
     "delete_cmd_prefix": "del ",
     "library": "var_list.py",
     "varRefreshCmd": "print(var_dic_list())"
    },
    "r": {
     "delete_cmd_postfix": ") ",
     "delete_cmd_prefix": "rm(",
     "library": "var_list.r",
     "varRefreshCmd": "cat(var_dic_list()) "
    }
   },
   "types_to_exclude": [
    "module",
    "function",
    "builtin_function_or_method",
    "instance",
    "_Feature"
   ],
   "window_display": false
  }
 },
 "nbformat": 4,
 "nbformat_minor": 4
}
