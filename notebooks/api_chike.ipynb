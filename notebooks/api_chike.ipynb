{
 "cells": [
  {
   "cell_type": "markdown",
   "metadata": {},
   "source": [
    "## Build and Test API with dummy model"
   ]
  },
  {
   "cell_type": "code",
   "execution_count": null,
   "metadata": {},
   "outputs": [],
   "source": [
    "from electricity_price_predictor.data import get_all, get_weather\n",
    "from sklearn.preprocessing import MinMaxScaler\n",
    "from sklearn.linear_model import LinearRegression\n",
    "from sklearn.pipeline import Pipeline\n",
    "import joblib"
   ]
  },
  {
   "cell_type": "markdown",
   "metadata": {},
   "source": [
    "Load data"
   ]
  },
  {
   "cell_type": "code",
   "execution_count": null,
   "metadata": {},
   "outputs": [],
   "source": [
    "df = get_all()"
   ]
  },
  {
   "cell_type": "markdown",
   "metadata": {},
   "source": [
    "### Features and target defined"
   ]
  },
  {
   "cell_type": "code",
   "execution_count": null,
   "metadata": {},
   "outputs": [],
   "source": [
    "train = df.iloc[:-1]\n",
    "test = df.iloc[-1:]"
   ]
  },
  {
   "cell_type": "code",
   "execution_count": null,
   "metadata": {},
   "outputs": [],
   "source": [
    "X_train = train.drop('price', axis=1)\n",
    "y_train = train.price.values\n",
    "\n",
    "X_test = test.drop('price', axis=1)\n",
    "y_test = test.price.values"
   ]
  },
  {
   "cell_type": "markdown",
   "metadata": {},
   "source": [
    "### Model"
   ]
  },
  {
   "cell_type": "code",
   "execution_count": null,
   "metadata": {},
   "outputs": [],
   "source": [
    "pipe = Pipeline([\n",
    "    ('scaler', MinMaxScaler()),\n",
    "    ('estimator', LinearRegression())\n",
    "])"
   ]
  },
  {
   "cell_type": "code",
   "execution_count": null,
   "metadata": {},
   "outputs": [],
   "source": [
    "pipe.fit(X_train, y_train)"
   ]
  },
  {
   "cell_type": "code",
   "execution_count": null,
   "metadata": {},
   "outputs": [],
   "source": [
    "pipe.predict(X_test)"
   ]
  },
  {
   "cell_type": "markdown",
   "metadata": {},
   "source": [
    "#### Save model"
   ]
  },
  {
   "cell_type": "markdown",
   "metadata": {},
   "source": [
    "Model saved"
   ]
  },
  {
   "cell_type": "code",
   "execution_count": null,
   "metadata": {},
   "outputs": [],
   "source": [
    "#model_name = '../test_model.joblib'\n",
    "#joblib.dump(pipe, model_name)"
   ]
  },
  {
   "cell_type": "markdown",
   "metadata": {},
   "source": [
    "Test set saved"
   ]
  },
  {
   "cell_type": "code",
   "execution_count": null,
   "metadata": {},
   "outputs": [],
   "source": [
    "#dummy_test = '../test_testset.joblib'\n",
    "#joblib.dump(X_test, dummy_test)"
   ]
  },
  {
   "cell_type": "markdown",
   "metadata": {},
   "source": [
    "## App api"
   ]
  },
  {
   "cell_type": "code",
   "execution_count": null,
   "metadata": {},
   "outputs": [],
   "source": [
    "from flask import Flask, escape, request\n",
    "app = Flask(__name__)"
   ]
  },
  {
   "cell_type": "code",
   "execution_count": null,
   "metadata": {},
   "outputs": [],
   "source": [
    "@app.route('/')\n",
    "def hello():\n",
    "    # get param from http://127.0.0.1:5000/?name=value\n",
    "    name = request.args.get(\"name\", \"World\")\n",
    "    return f'Hello, {escape(name)}!'"
   ]
  },
  {
   "cell_type": "code",
   "execution_count": null,
   "metadata": {},
   "outputs": [],
   "source": [
    "@app.route('/predict_day_ahead')\n",
    "def day_head():\n",
    "    test = joblib.load('../test_testset.joblib')\n",
    "\n",
    "    model = joblib.load('../test_model.joblib')\n",
    "    pred = model.predict(test)[0]\n",
    "    \n",
    "    return {'test_values': test, 'day-ahead prediction': pred}"
   ]
  },
  {
   "cell_type": "code",
   "execution_count": null,
   "metadata": {},
   "outputs": [],
   "source": []
  },
  {
   "cell_type": "code",
   "execution_count": null,
   "metadata": {},
   "outputs": [],
   "source": []
  },
  {
   "cell_type": "code",
   "execution_count": null,
   "metadata": {},
   "outputs": [],
   "source": [
    "X_test"
   ]
  },
  {
   "cell_type": "code",
   "execution_count": null,
   "metadata": {},
   "outputs": [],
   "source": [
    "import streamlit as st"
   ]
  },
  {
   "cell_type": "code",
   "execution_count": null,
   "metadata": {},
   "outputs": [],
   "source": [
    "import numpy as np\n",
    "import pandas as pd\n",
    "\n",
    "st.markdown(\"\"\"# This is a header\n",
    "## This is a sub header\n",
    "This is text\"\"\")\n",
    "\n",
    "df = pd.DataFrame({\n",
    "          'first column': list(range(1, 11)),\n",
    "          'second column': np.arange(10, 101, 10)\n",
    "        })\n",
    "\n",
    "# this slider allows the user to select a number of lines\n",
    "# to display in the dataframe\n",
    "# the selected value is returned by st.slider\n",
    "line_count = st.slider('Select a line count', 1, 10, 3)\n",
    "\n",
    "# and used in order to select the displayed lines\n",
    "head_df = df.head(line_count)\n",
    "\n",
    "head_df"
   ]
  },
  {
   "cell_type": "code",
   "execution_count": null,
   "metadata": {},
   "outputs": [],
   "source": [
    "from electricity_price_predictor.data import get_weather"
   ]
  },
  {
   "cell_type": "code",
   "execution_count": null,
   "metadata": {},
   "outputs": [],
   "source": [
    "def get_weather(path='../raw_data/weather_2015_2020.csv'):\n",
    "    df = pd.read_csv(path)\n",
    "\n",
    "    df['dt'] = pd.to_datetime(df.dt)\n",
    "\n",
    "    # drop unnecessary columns\n",
    "    to_drop = ['dt_iso','timezone','lat', 'lon','sea_level','grnd_level',\n",
    "               'rain_1h','rain_3h', 'pressure', 'snow_1h', 'snow_3h',\n",
    "               'temp_min','temp_max','weather_id', 'weather_description',\n",
    "               'weather_icon', 'wind_deg']\n",
    "    df = df.drop(to_drop, axis=1)\n",
    "\n",
    "    # population of each city in the df\n",
    "    pop = {'Aarhus': 349_983,\n",
    "        'Odense': 204_895,\n",
    "        'Aalborg': 217_075,\n",
    "        'Esbjerg': 115_748,\n",
    "        'Vejle': 111_743,\n",
    "        'Randers': 96_559,\n",
    "        'Viborg': 93_819,\n",
    "        'Kolding': 89_412,\n",
    "        'Silkeborg': 89_328,\n",
    "        'Herning': 86_348,\n",
    "        'Horsens': 83_598}\n",
    "\n",
    "    df['population'] = [pop[city] for city in df.city_name]\n",
    "\n",
    "    # numeric weather values as affects demand or supply\n",
    "    numeric_cols = ['temp', 'feels_like', 'humidity',  'clouds_all','wind_speed']\n",
    "\n",
    "    weather_df = pd.DataFrame()\n",
    "\n",
    "    #for the numeric columns, group by datetime and average according to their population weight\n",
    "    for col in numeric_cols:\n",
    "    #group by the datecolumn for each element in the column average it by it's weight\n",
    "        weather_df[col] = df.groupby(df.dt).apply(lambda x : np.average(x[col], weights=x.population))\n",
    "\n",
    "    # check for missing indices\n",
    "    missing_idx = pd.date_range(start = '2015-01-01', end = '2020-11-24', freq='H' ).difference(weather_df.index)\n",
    "\n",
    "    # impute missing indices with average of bounding rows\n",
    "    for idx in missing_idx:\n",
    "        weather_df.loc[idx] = weather_df.loc[pd.to_datetime(idx) - timedelta(hours= 1)] + \\\n",
    "                      weather_df.loc[pd.to_datetime(idx) + timedelta(hours= 1)] / 2\n",
    "\n",
    "    weather_df = weather_df.sort_index()\n",
    "\n",
    "    return weather_df"
   ]
  },
  {
   "cell_type": "code",
   "execution_count": null,
   "metadata": {},
   "outputs": [],
   "source": [
    "weather = get_weather()"
   ]
  },
  {
   "cell_type": "code",
   "execution_count": null,
   "metadata": {},
   "outputs": [],
   "source": [
    "weather"
   ]
  },
  {
   "cell_type": "code",
   "execution_count": null,
   "metadata": {},
   "outputs": [],
   "source": [
    "!pwd"
   ]
  },
  {
   "cell_type": "code",
   "execution_count": null,
   "metadata": {},
   "outputs": [],
   "source": [
    "from electricity_price_predictor.data import get_all"
   ]
  },
  {
   "cell_type": "code",
   "execution_count": null,
   "metadata": {},
   "outputs": [],
   "source": [
    "df = get_all()"
   ]
  },
  {
   "cell_type": "code",
   "execution_count": null,
   "metadata": {},
   "outputs": [],
   "source": [
    "df.head()"
   ]
  },
  {
   "cell_type": "code",
   "execution_count": null,
   "metadata": {},
   "outputs": [],
   "source": [
    "X = df.price.values"
   ]
  },
  {
   "cell_type": "code",
   "execution_count": null,
   "metadata": {},
   "outputs": [],
   "source": [
    "y = df.wind_prod.values"
   ]
  },
  {
   "cell_type": "code",
   "execution_count": null,
   "metadata": {},
   "outputs": [],
   "source": [
    "import matplotlib.pyplot as plt"
   ]
  },
  {
   "cell_type": "code",
   "execution_count": null,
   "metadata": {},
   "outputs": [],
   "source": [
    "plt.scatter(y, X)"
   ]
  },
  {
   "cell_type": "code",
   "execution_count": null,
   "metadata": {},
   "outputs": [],
   "source": [
    "df = get_weather()"
   ]
  },
  {
   "cell_type": "code",
   "execution_count": null,
   "metadata": {},
   "outputs": [],
   "source": [
    "df"
   ]
  },
  {
   "cell_type": "code",
   "execution_count": 1,
   "metadata": {},
   "outputs": [],
   "source": [
    "\n",
    "\n",
    "\n",
    "df.to_csv('../raw_data/updated_data.csv')\n",
    "    return df"
   ]
  },
  {
   "cell_type": "markdown",
   "metadata": {},
   "source": [
    "## Testing API for new prices generation"
   ]
  },
  {
   "cell_type": "code",
   "execution_count": 2,
   "metadata": {},
   "outputs": [],
   "source": [
    "#import requests\n",
    "# import json\n",
    "# import xmltodict\n",
    "# import pandas as pd\n",
    "import time\n",
    "from datetime import date, timezone, datetime, timedelta\n",
    "from electricity_price_predictor.data import *\n",
    "import pandas as pd"
   ]
  },
  {
   "cell_type": "code",
   "execution_count": 3,
   "metadata": {},
   "outputs": [
    {
     "ename": "ValueError",
     "evalue": "Length mismatch: Expected axis has 4 elements, new values have 2 elements",
     "output_type": "error",
     "traceback": [
      "\u001b[1;31m---------------------------------------------------------------------------\u001b[0m",
      "\u001b[1;31mValueError\u001b[0m                                Traceback (most recent call last)",
      "\u001b[1;32m<ipython-input-3-d8f9bf21daf8>\u001b[0m in \u001b[0;36m<module>\u001b[1;34m\u001b[0m\n\u001b[1;32m----> 1\u001b[1;33m \u001b[0mget_shifted_price\u001b[0m\u001b[1;33m(\u001b[0m\u001b[1;33m)\u001b[0m\u001b[1;33m\u001b[0m\u001b[1;33m\u001b[0m\u001b[0m\n\u001b[0m",
      "\u001b[1;32mc:\\users\\cezea\\.venvs\\electricity_price_predictor\\lib\\site-packages\\electricity_price_predictor\\data.py\u001b[0m in \u001b[0;36mget_shifted_price\u001b[1;34m()\u001b[0m\n\u001b[0;32m     61\u001b[0m \u001b[1;32mdef\u001b[0m \u001b[0mget_shifted_price\u001b[0m\u001b[1;33m(\u001b[0m\u001b[1;33m)\u001b[0m\u001b[1;33m:\u001b[0m\u001b[1;33m\u001b[0m\u001b[1;33m\u001b[0m\u001b[0m\n\u001b[0;32m     62\u001b[0m     \u001b[1;34m\"\"\"Takes in dataframe and performs shift to compensate for daylight saving\"\"\"\u001b[0m\u001b[1;33m\u001b[0m\u001b[1;33m\u001b[0m\u001b[0m\n\u001b[1;32m---> 63\u001b[1;33m     \u001b[0mdf\u001b[0m \u001b[1;33m=\u001b[0m \u001b[0mget_updated_price\u001b[0m\u001b[1;33m(\u001b[0m\u001b[1;33m)\u001b[0m\u001b[1;33m\u001b[0m\u001b[1;33m\u001b[0m\u001b[0m\n\u001b[0m\u001b[0;32m     64\u001b[0m     \u001b[0mdf_1\u001b[0m \u001b[1;33m=\u001b[0m \u001b[0mdf\u001b[0m\u001b[1;33m.\u001b[0m\u001b[0mloc\u001b[0m\u001b[1;33m[\u001b[0m\u001b[1;34m'2015-01-01 00:00:00'\u001b[0m\u001b[1;33m:\u001b[0m\u001b[1;34m'2015-03-29 01:00:00'\u001b[0m\u001b[1;33m]\u001b[0m\u001b[1;33m\u001b[0m\u001b[1;33m\u001b[0m\u001b[0m\n\u001b[0;32m     65\u001b[0m     \u001b[0mdf_2\u001b[0m \u001b[1;33m=\u001b[0m \u001b[0mdf\u001b[0m\u001b[1;33m.\u001b[0m\u001b[0mloc\u001b[0m\u001b[1;33m[\u001b[0m\u001b[1;34m'2015-03-29 02:00:00'\u001b[0m\u001b[1;33m:\u001b[0m\u001b[1;34m'2015-10-25 02:00:00'\u001b[0m\u001b[1;33m]\u001b[0m\u001b[1;33m\u001b[0m\u001b[1;33m\u001b[0m\u001b[0m\n",
      "\u001b[1;32mc:\\users\\cezea\\.venvs\\electricity_price_predictor\\lib\\site-packages\\electricity_price_predictor\\data.py\u001b[0m in \u001b[0;36mget_updated_price\u001b[1;34m()\u001b[0m\n\u001b[0;32m     41\u001b[0m     \u001b[0mstop\u001b[0m \u001b[1;33m=\u001b[0m \u001b[0mstart\u001b[0m \u001b[1;33m+\u001b[0m \u001b[0mtimedelta\u001b[0m\u001b[1;33m(\u001b[0m\u001b[0mdays\u001b[0m\u001b[1;33m=\u001b[0m\u001b[1;36m1\u001b[0m\u001b[1;33m)\u001b[0m\u001b[1;33m\u001b[0m\u001b[1;33m\u001b[0m\u001b[0m\n\u001b[0;32m     42\u001b[0m \u001b[1;33m\u001b[0m\u001b[0m\n\u001b[1;32m---> 43\u001b[1;33m     \u001b[0mold_price\u001b[0m \u001b[1;33m=\u001b[0m \u001b[0mget_price\u001b[0m\u001b[1;33m(\u001b[0m\u001b[1;33m)\u001b[0m\u001b[1;33m\u001b[0m\u001b[1;33m\u001b[0m\u001b[0m\n\u001b[0m\u001b[0;32m     44\u001b[0m     \u001b[0mnew_price\u001b[0m \u001b[1;33m=\u001b[0m \u001b[0mget_new_price\u001b[0m\u001b[1;33m(\u001b[0m\u001b[0mstart\u001b[0m\u001b[1;33m,\u001b[0m \u001b[0mstop\u001b[0m\u001b[1;33m)\u001b[0m\u001b[1;33m\u001b[0m\u001b[1;33m\u001b[0m\u001b[0m\n\u001b[0;32m     45\u001b[0m     \u001b[0mnew_price\u001b[0m\u001b[1;33m.\u001b[0m\u001b[0mindex\u001b[0m\u001b[1;33m.\u001b[0m\u001b[0mname\u001b[0m \u001b[1;33m=\u001b[0m \u001b[1;34m'time'\u001b[0m\u001b[1;33m\u001b[0m\u001b[1;33m\u001b[0m\u001b[0m\n",
      "\u001b[1;32mc:\\users\\cezea\\.venvs\\electricity_price_predictor\\lib\\site-packages\\electricity_price_predictor\\data.py\u001b[0m in \u001b[0;36mget_price\u001b[1;34m(path)\u001b[0m\n\u001b[0;32m     25\u001b[0m         \u001b[0mdf\u001b[0m \u001b[1;33m=\u001b[0m \u001b[0mpd\u001b[0m\u001b[1;33m.\u001b[0m\u001b[0mconcat\u001b[0m\u001b[1;33m(\u001b[0m\u001b[1;33m[\u001b[0m\u001b[0mdf\u001b[0m\u001b[1;33m,\u001b[0m \u001b[0mdf_2\u001b[0m\u001b[1;33m]\u001b[0m\u001b[1;33m)\u001b[0m\u001b[1;33m\u001b[0m\u001b[1;33m\u001b[0m\u001b[0m\n\u001b[0;32m     26\u001b[0m     \u001b[0mdf\u001b[0m \u001b[1;33m=\u001b[0m \u001b[0mdf\u001b[0m\u001b[1;33m.\u001b[0m\u001b[0mreset_index\u001b[0m\u001b[1;33m(\u001b[0m\u001b[0mdrop\u001b[0m\u001b[1;33m=\u001b[0m\u001b[1;32mTrue\u001b[0m\u001b[1;33m)\u001b[0m\u001b[1;33m\u001b[0m\u001b[1;33m\u001b[0m\u001b[0m\n\u001b[1;32m---> 27\u001b[1;33m     \u001b[0mdf\u001b[0m\u001b[1;33m.\u001b[0m\u001b[0mcolumns\u001b[0m \u001b[1;33m=\u001b[0m \u001b[1;33m[\u001b[0m\u001b[1;34m'time'\u001b[0m\u001b[1;33m,\u001b[0m \u001b[1;34m'price'\u001b[0m\u001b[1;33m]\u001b[0m\u001b[1;33m\u001b[0m\u001b[1;33m\u001b[0m\u001b[0m\n\u001b[0m\u001b[0;32m     28\u001b[0m     \u001b[0mdf\u001b[0m\u001b[1;33m[\u001b[0m\u001b[1;34m'time'\u001b[0m\u001b[1;33m]\u001b[0m \u001b[1;33m=\u001b[0m \u001b[0mdf\u001b[0m\u001b[1;33m.\u001b[0m\u001b[0mtime\u001b[0m\u001b[1;33m.\u001b[0m\u001b[0mstr\u001b[0m\u001b[1;33m[\u001b[0m\u001b[1;33m:\u001b[0m\u001b[1;36m16\u001b[0m\u001b[1;33m]\u001b[0m\u001b[1;33m\u001b[0m\u001b[1;33m\u001b[0m\u001b[0m\n\u001b[0;32m     29\u001b[0m     \u001b[0mdf\u001b[0m \u001b[1;33m=\u001b[0m \u001b[0mdf\u001b[0m\u001b[1;33m[\u001b[0m\u001b[0mdf\u001b[0m\u001b[1;33m.\u001b[0m\u001b[0mprice\u001b[0m\u001b[1;33m!=\u001b[0m\u001b[1;34m'-'\u001b[0m\u001b[1;33m]\u001b[0m \u001b[1;31m# filtering the timestamps till 24.11.2020\u001b[0m\u001b[1;33m\u001b[0m\u001b[1;33m\u001b[0m\u001b[0m\n",
      "\u001b[1;32mc:\\users\\cezea\\.venvs\\electricity_price_predictor\\lib\\site-packages\\pandas\\core\\generic.py\u001b[0m in \u001b[0;36m__setattr__\u001b[1;34m(self, name, value)\u001b[0m\n\u001b[0;32m   5150\u001b[0m         \u001b[1;32mtry\u001b[0m\u001b[1;33m:\u001b[0m\u001b[1;33m\u001b[0m\u001b[1;33m\u001b[0m\u001b[0m\n\u001b[0;32m   5151\u001b[0m             \u001b[0mobject\u001b[0m\u001b[1;33m.\u001b[0m\u001b[0m__getattribute__\u001b[0m\u001b[1;33m(\u001b[0m\u001b[0mself\u001b[0m\u001b[1;33m,\u001b[0m \u001b[0mname\u001b[0m\u001b[1;33m)\u001b[0m\u001b[1;33m\u001b[0m\u001b[1;33m\u001b[0m\u001b[0m\n\u001b[1;32m-> 5152\u001b[1;33m             \u001b[1;32mreturn\u001b[0m \u001b[0mobject\u001b[0m\u001b[1;33m.\u001b[0m\u001b[0m__setattr__\u001b[0m\u001b[1;33m(\u001b[0m\u001b[0mself\u001b[0m\u001b[1;33m,\u001b[0m \u001b[0mname\u001b[0m\u001b[1;33m,\u001b[0m \u001b[0mvalue\u001b[0m\u001b[1;33m)\u001b[0m\u001b[1;33m\u001b[0m\u001b[1;33m\u001b[0m\u001b[0m\n\u001b[0m\u001b[0;32m   5153\u001b[0m         \u001b[1;32mexcept\u001b[0m \u001b[0mAttributeError\u001b[0m\u001b[1;33m:\u001b[0m\u001b[1;33m\u001b[0m\u001b[1;33m\u001b[0m\u001b[0m\n\u001b[0;32m   5154\u001b[0m             \u001b[1;32mpass\u001b[0m\u001b[1;33m\u001b[0m\u001b[1;33m\u001b[0m\u001b[0m\n",
      "\u001b[1;32mpandas\\_libs\\properties.pyx\u001b[0m in \u001b[0;36mpandas._libs.properties.AxisProperty.__set__\u001b[1;34m()\u001b[0m\n",
      "\u001b[1;32mc:\\users\\cezea\\.venvs\\electricity_price_predictor\\lib\\site-packages\\pandas\\core\\generic.py\u001b[0m in \u001b[0;36m_set_axis\u001b[1;34m(self, axis, labels)\u001b[0m\n\u001b[0;32m    562\u001b[0m     \u001b[1;32mdef\u001b[0m \u001b[0m_set_axis\u001b[0m\u001b[1;33m(\u001b[0m\u001b[0mself\u001b[0m\u001b[1;33m,\u001b[0m \u001b[0maxis\u001b[0m\u001b[1;33m:\u001b[0m \u001b[0mint\u001b[0m\u001b[1;33m,\u001b[0m \u001b[0mlabels\u001b[0m\u001b[1;33m:\u001b[0m \u001b[0mIndex\u001b[0m\u001b[1;33m)\u001b[0m \u001b[1;33m->\u001b[0m \u001b[1;32mNone\u001b[0m\u001b[1;33m:\u001b[0m\u001b[1;33m\u001b[0m\u001b[1;33m\u001b[0m\u001b[0m\n\u001b[0;32m    563\u001b[0m         \u001b[0mlabels\u001b[0m \u001b[1;33m=\u001b[0m \u001b[0mensure_index\u001b[0m\u001b[1;33m(\u001b[0m\u001b[0mlabels\u001b[0m\u001b[1;33m)\u001b[0m\u001b[1;33m\u001b[0m\u001b[1;33m\u001b[0m\u001b[0m\n\u001b[1;32m--> 564\u001b[1;33m         \u001b[0mself\u001b[0m\u001b[1;33m.\u001b[0m\u001b[0m_mgr\u001b[0m\u001b[1;33m.\u001b[0m\u001b[0mset_axis\u001b[0m\u001b[1;33m(\u001b[0m\u001b[0maxis\u001b[0m\u001b[1;33m,\u001b[0m \u001b[0mlabels\u001b[0m\u001b[1;33m)\u001b[0m\u001b[1;33m\u001b[0m\u001b[1;33m\u001b[0m\u001b[0m\n\u001b[0m\u001b[0;32m    565\u001b[0m         \u001b[0mself\u001b[0m\u001b[1;33m.\u001b[0m\u001b[0m_clear_item_cache\u001b[0m\u001b[1;33m(\u001b[0m\u001b[1;33m)\u001b[0m\u001b[1;33m\u001b[0m\u001b[1;33m\u001b[0m\u001b[0m\n\u001b[0;32m    566\u001b[0m \u001b[1;33m\u001b[0m\u001b[0m\n",
      "\u001b[1;32mc:\\users\\cezea\\.venvs\\electricity_price_predictor\\lib\\site-packages\\pandas\\core\\internals\\managers.py\u001b[0m in \u001b[0;36mset_axis\u001b[1;34m(self, axis, new_labels)\u001b[0m\n\u001b[0;32m    225\u001b[0m         \u001b[1;32mif\u001b[0m \u001b[0mnew_len\u001b[0m \u001b[1;33m!=\u001b[0m \u001b[0mold_len\u001b[0m\u001b[1;33m:\u001b[0m\u001b[1;33m\u001b[0m\u001b[1;33m\u001b[0m\u001b[0m\n\u001b[0;32m    226\u001b[0m             raise ValueError(\n\u001b[1;32m--> 227\u001b[1;33m                 \u001b[1;34mf\"Length mismatch: Expected axis has {old_len} elements, new \"\u001b[0m\u001b[1;33m\u001b[0m\u001b[1;33m\u001b[0m\u001b[0m\n\u001b[0m\u001b[0;32m    228\u001b[0m                 \u001b[1;34mf\"values have {new_len} elements\"\u001b[0m\u001b[1;33m\u001b[0m\u001b[1;33m\u001b[0m\u001b[0m\n\u001b[0;32m    229\u001b[0m             )\n",
      "\u001b[1;31mValueError\u001b[0m: Length mismatch: Expected axis has 4 elements, new values have 2 elements"
     ]
    }
   ],
   "source": [
    "get_shifted_price()"
   ]
  },
  {
   "cell_type": "code",
   "execution_count": 57,
   "metadata": {},
   "outputs": [],
   "source": [
    "df= get_updated_price()"
   ]
  },
  {
   "cell_type": "code",
   "execution_count": 60,
   "metadata": {},
   "outputs": [
    {
     "data": {
      "text/html": [
       "<div>\n",
       "<style scoped>\n",
       "    .dataframe tbody tr th:only-of-type {\n",
       "        vertical-align: middle;\n",
       "    }\n",
       "\n",
       "    .dataframe tbody tr th {\n",
       "        vertical-align: top;\n",
       "    }\n",
       "\n",
       "    .dataframe thead th {\n",
       "        text-align: right;\n",
       "    }\n",
       "</style>\n",
       "<table border=\"1\" class=\"dataframe\">\n",
       "  <thead>\n",
       "    <tr style=\"text-align: right;\">\n",
       "      <th></th>\n",
       "      <th>price</th>\n",
       "    </tr>\n",
       "    <tr>\n",
       "      <th>time</th>\n",
       "      <th></th>\n",
       "    </tr>\n",
       "  </thead>\n",
       "  <tbody>\n",
       "    <tr>\n",
       "      <th>2015-10-25 02:00:00</th>\n",
       "      <td>20.77</td>\n",
       "    </tr>\n",
       "    <tr>\n",
       "      <th>2016-10-30 02:00:00</th>\n",
       "      <td>32.00</td>\n",
       "    </tr>\n",
       "    <tr>\n",
       "      <th>2017-10-29 02:00:00</th>\n",
       "      <td>-21.06</td>\n",
       "    </tr>\n",
       "    <tr>\n",
       "      <th>2018-10-28 02:00:00</th>\n",
       "      <td>41.59</td>\n",
       "    </tr>\n",
       "    <tr>\n",
       "      <th>2019-10-27 02:00:00</th>\n",
       "      <td>0.05</td>\n",
       "    </tr>\n",
       "    <tr>\n",
       "      <th>2020-10-25 02:00:00</th>\n",
       "      <td>0.09</td>\n",
       "    </tr>\n",
       "  </tbody>\n",
       "</table>\n",
       "</div>"
      ],
      "text/plain": [
       "                     price\n",
       "time                      \n",
       "2015-10-25 02:00:00  20.77\n",
       "2016-10-30 02:00:00  32.00\n",
       "2017-10-29 02:00:00 -21.06\n",
       "2018-10-28 02:00:00  41.59\n",
       "2019-10-27 02:00:00   0.05\n",
       "2020-10-25 02:00:00   0.09"
      ]
     },
     "execution_count": 60,
     "metadata": {},
     "output_type": "execute_result"
    }
   ],
   "source": [
    "df[df.index.duplicated()]"
   ]
  },
  {
   "cell_type": "code",
   "execution_count": 37,
   "metadata": {
    "scrolled": true
   },
   "outputs": [],
   "source": [
    "old = old.sort_index()\n",
    "new = new.sort_index()\n",
    "if old.index[-1] < new.index[0]:\n",
    "    df = pd.concat([old, new])\n",
    "else:\n",
    "    df = old"
   ]
  },
  {
   "cell_type": "code",
   "execution_count": 42,
   "metadata": {},
   "outputs": [
    {
     "data": {
      "text/html": [
       "<div>\n",
       "<style scoped>\n",
       "    .dataframe tbody tr th:only-of-type {\n",
       "        vertical-align: middle;\n",
       "    }\n",
       "\n",
       "    .dataframe tbody tr th {\n",
       "        vertical-align: top;\n",
       "    }\n",
       "\n",
       "    .dataframe thead th {\n",
       "        text-align: right;\n",
       "    }\n",
       "</style>\n",
       "<table border=\"1\" class=\"dataframe\">\n",
       "  <thead>\n",
       "    <tr style=\"text-align: right;\">\n",
       "      <th></th>\n",
       "      <th>price</th>\n",
       "    </tr>\n",
       "    <tr>\n",
       "      <th>time</th>\n",
       "      <th></th>\n",
       "    </tr>\n",
       "  </thead>\n",
       "  <tbody>\n",
       "    <tr>\n",
       "      <th>2015-01-01 00:00:00</th>\n",
       "      <td>25.02</td>\n",
       "    </tr>\n",
       "    <tr>\n",
       "      <th>2015-01-01 01:00:00</th>\n",
       "      <td>18.29</td>\n",
       "    </tr>\n",
       "    <tr>\n",
       "      <th>2015-01-01 02:00:00</th>\n",
       "      <td>16.04</td>\n",
       "    </tr>\n",
       "    <tr>\n",
       "      <th>2015-01-01 03:00:00</th>\n",
       "      <td>14.60</td>\n",
       "    </tr>\n",
       "    <tr>\n",
       "      <th>2015-01-01 04:00:00</th>\n",
       "      <td>14.95</td>\n",
       "    </tr>\n",
       "    <tr>\n",
       "      <th>...</th>\n",
       "      <td>...</td>\n",
       "    </tr>\n",
       "    <tr>\n",
       "      <th>2020-12-03 19:00:00</th>\n",
       "      <td>24.59</td>\n",
       "    </tr>\n",
       "    <tr>\n",
       "      <th>2020-12-03 20:00:00</th>\n",
       "      <td>18.90</td>\n",
       "    </tr>\n",
       "    <tr>\n",
       "      <th>2020-12-03 21:00:00</th>\n",
       "      <td>18.33</td>\n",
       "    </tr>\n",
       "    <tr>\n",
       "      <th>2020-12-03 22:00:00</th>\n",
       "      <td>16.18</td>\n",
       "    </tr>\n",
       "    <tr>\n",
       "      <th>2020-12-03 23:00:00</th>\n",
       "      <td>13.00</td>\n",
       "    </tr>\n",
       "  </tbody>\n",
       "</table>\n",
       "<p>51942 rows × 1 columns</p>\n",
       "</div>"
      ],
      "text/plain": [
       "                     price\n",
       "time                      \n",
       "2015-01-01 00:00:00  25.02\n",
       "2015-01-01 01:00:00  18.29\n",
       "2015-01-01 02:00:00  16.04\n",
       "2015-01-01 03:00:00  14.60\n",
       "2015-01-01 04:00:00  14.95\n",
       "...                    ...\n",
       "2020-12-03 19:00:00  24.59\n",
       "2020-12-03 20:00:00  18.90\n",
       "2020-12-03 21:00:00  18.33\n",
       "2020-12-03 22:00:00  16.18\n",
       "2020-12-03 23:00:00  13.00\n",
       "\n",
       "[51942 rows x 1 columns]"
      ]
     },
     "execution_count": 42,
     "metadata": {},
     "output_type": "execute_result"
    }
   ],
   "source": [
    "get_price()"
   ]
  },
  {
   "cell_type": "code",
   "execution_count": 59,
   "metadata": {},
   "outputs": [
    {
     "data": {
      "text/plain": [
       "(51936, 1)"
      ]
     },
     "execution_count": 59,
     "metadata": {},
     "output_type": "execute_result"
    }
   ],
   "source": [
    "update[~update.index.duplicated()]"
   ]
  },
  {
   "cell_type": "code",
   "execution_count": 44,
   "metadata": {
    "scrolled": true
   },
   "outputs": [],
   "source": [
    "df = pd.read_csv('../raw_data/price/Day-ahead Prices_202001010000-202101010000.csv')"
   ]
  },
  {
   "cell_type": "code",
   "execution_count": 47,
   "metadata": {},
   "outputs": [
    {
     "data": {
      "text/html": [
       "<div>\n",
       "<style scoped>\n",
       "    .dataframe tbody tr th:only-of-type {\n",
       "        vertical-align: middle;\n",
       "    }\n",
       "\n",
       "    .dataframe tbody tr th {\n",
       "        vertical-align: top;\n",
       "    }\n",
       "\n",
       "    .dataframe thead th {\n",
       "        text-align: right;\n",
       "    }\n",
       "</style>\n",
       "<table border=\"1\" class=\"dataframe\">\n",
       "  <thead>\n",
       "    <tr style=\"text-align: right;\">\n",
       "      <th></th>\n",
       "      <th>MTU (CET)</th>\n",
       "      <th>Day-ahead Price [EUR/MWh]</th>\n",
       "    </tr>\n",
       "  </thead>\n",
       "  <tbody>\n",
       "    <tr>\n",
       "      <th>0</th>\n",
       "      <td>01.01.2020 00:00 - 01.01.2020 01:00</td>\n",
       "      <td>33.42</td>\n",
       "    </tr>\n",
       "    <tr>\n",
       "      <th>1</th>\n",
       "      <td>01.01.2020 01:00 - 01.01.2020 02:00</td>\n",
       "      <td>31.77</td>\n",
       "    </tr>\n",
       "    <tr>\n",
       "      <th>2</th>\n",
       "      <td>01.01.2020 02:00 - 01.01.2020 03:00</td>\n",
       "      <td>31.57</td>\n",
       "    </tr>\n",
       "    <tr>\n",
       "      <th>3</th>\n",
       "      <td>01.01.2020 03:00 - 01.01.2020 04:00</td>\n",
       "      <td>31.28</td>\n",
       "    </tr>\n",
       "    <tr>\n",
       "      <th>4</th>\n",
       "      <td>01.01.2020 04:00 - 01.01.2020 05:00</td>\n",
       "      <td>30.85</td>\n",
       "    </tr>\n",
       "    <tr>\n",
       "      <th>...</th>\n",
       "      <td>...</td>\n",
       "      <td>...</td>\n",
       "    </tr>\n",
       "    <tr>\n",
       "      <th>8780</th>\n",
       "      <td>31.12.2020 19:00 - 31.12.2020 20:00</td>\n",
       "      <td>-</td>\n",
       "    </tr>\n",
       "    <tr>\n",
       "      <th>8781</th>\n",
       "      <td>31.12.2020 20:00 - 31.12.2020 21:00</td>\n",
       "      <td>-</td>\n",
       "    </tr>\n",
       "    <tr>\n",
       "      <th>8782</th>\n",
       "      <td>31.12.2020 21:00 - 31.12.2020 22:00</td>\n",
       "      <td>-</td>\n",
       "    </tr>\n",
       "    <tr>\n",
       "      <th>8783</th>\n",
       "      <td>31.12.2020 22:00 - 31.12.2020 23:00</td>\n",
       "      <td>-</td>\n",
       "    </tr>\n",
       "    <tr>\n",
       "      <th>8784</th>\n",
       "      <td>31.12.2020 23:00 - 01.01.2021 00:00</td>\n",
       "      <td>-</td>\n",
       "    </tr>\n",
       "  </tbody>\n",
       "</table>\n",
       "<p>8785 rows × 2 columns</p>\n",
       "</div>"
      ],
      "text/plain": [
       "                                MTU (CET) Day-ahead Price [EUR/MWh]\n",
       "0     01.01.2020 00:00 - 01.01.2020 01:00                     33.42\n",
       "1     01.01.2020 01:00 - 01.01.2020 02:00                     31.77\n",
       "2     01.01.2020 02:00 - 01.01.2020 03:00                     31.57\n",
       "3     01.01.2020 03:00 - 01.01.2020 04:00                     31.28\n",
       "4     01.01.2020 04:00 - 01.01.2020 05:00                     30.85\n",
       "...                                   ...                       ...\n",
       "8780  31.12.2020 19:00 - 31.12.2020 20:00                         -\n",
       "8781  31.12.2020 20:00 - 31.12.2020 21:00                         -\n",
       "8782  31.12.2020 21:00 - 31.12.2020 22:00                         -\n",
       "8783  31.12.2020 22:00 - 31.12.2020 23:00                         -\n",
       "8784  31.12.2020 23:00 - 01.01.2021 00:00                         -\n",
       "\n",
       "[8785 rows x 2 columns]"
      ]
     },
     "execution_count": 47,
     "metadata": {},
     "output_type": "execute_result"
    }
   ],
   "source": [
    "df"
   ]
  },
  {
   "cell_type": "code",
   "execution_count": 49,
   "metadata": {},
   "outputs": [
    {
     "data": {
      "text/plain": [
       "0       False\n",
       "1       False\n",
       "2       False\n",
       "3       False\n",
       "4       False\n",
       "        ...  \n",
       "8108    False\n",
       "8109    False\n",
       "8110    False\n",
       "8111    False\n",
       "8112    False\n",
       "Length: 8113, dtype: bool"
      ]
     },
     "execution_count": 49,
     "metadata": {},
     "output_type": "execute_result"
    }
   ],
   "source": [
    "df[df['Day-ahead Price [EUR/MWh]'] != '-'].duplicated()"
   ]
  },
  {
   "cell_type": "code",
   "execution_count": 44,
   "metadata": {},
   "outputs": [
    {
     "data": {
      "text/plain": [
       "DatetimeIndex(['2015-01-01 00:00:00', '2015-01-01 01:00:00',\n",
       "               '2015-01-01 02:00:00', '2015-01-01 03:00:00',\n",
       "               '2015-01-01 04:00:00', '2015-01-01 05:00:00',\n",
       "               '2015-01-01 06:00:00', '2015-01-01 07:00:00',\n",
       "               '2015-01-01 08:00:00', '2015-01-01 09:00:00',\n",
       "               ...\n",
       "               '2020-12-03 14:00:00', '2020-12-03 15:00:00',\n",
       "               '2020-12-03 16:00:00', '2020-12-03 17:00:00',\n",
       "               '2020-12-03 18:00:00', '2020-12-03 19:00:00',\n",
       "               '2020-12-03 20:00:00', '2020-12-03 21:00:00',\n",
       "               '2020-12-03 22:00:00', '2020-12-03 23:00:00'],\n",
       "              dtype='datetime64[ns]', name='time', length=51936, freq=None)"
      ]
     },
     "execution_count": 44,
     "metadata": {},
     "output_type": "execute_result"
    }
   ],
   "source": [
    "pd.concat([old, new]).index.drop_duplicates()"
   ]
  },
  {
   "cell_type": "code",
   "execution_count": 22,
   "metadata": {},
   "outputs": [],
   "source": [
    "today = date.today()  # today's date\n",
    "start = datetime.combine(today, datetime.min.time())  # initialize to midnight\n",
    "stop = start + timedelta(days=1)\n",
    "df = pd.concat([get_price(), get_new_price(start, stop)])"
   ]
  },
  {
   "cell_type": "code",
   "execution_count": 68,
   "metadata": {},
   "outputs": [],
   "source": [
    "def get_shifted_price_test():\n",
    "    \"\"\"Takes in dataframe and performs shift to compensate for daylight saving\"\"\"\n",
    "    today = date.today()  # today's date\n",
    "    start = datetime.combine(today, datetime.min.time())  # initialize to midnight\n",
    "    stop = start + timedelta(days=1)\n",
    "    \n",
    "    old_price = get_price().loc[:'2020-12-02 23:00:00']\n",
    "    new_price = get_new_price(start, stop)\n",
    "    new_price.index.name = 'time'\n",
    "    \n",
    "    df = pd.concat([old_price, new_price])\n",
    "    df.index = pd.to_datetime(df.index)\n",
    "    \n",
    "    df_1 = df.loc['2015-01-01 00:00:00':'2015-03-29 01:00:00']\n",
    "    df_2 = df.loc['2015-03-29 02:00:00':'2015-10-25 02:00:00']\n",
    "    df_3 = df.loc['2015-10-25 03:00:00':'2016-03-27 01:00:00']\n",
    "    df_4 = df.loc['2016-03-27 02:00:00':'2016-10-30 02:00:00']\n",
    "    df_5 = df.loc['2016-10-30 03:00:00':'2017-03-26 01:00:00']\n",
    "    df_6 = df.loc['2017-03-26 02:00:00':'2017-10-29 02:00:00']\n",
    "    df_7 = df.loc['2017-10-29 03:00:00':'2018-03-25 01:00:00']\n",
    "    df_8 = df.loc['2018-03-25 02:00:00':'2018-10-28 02:00:00']\n",
    "    df_9 = df.loc['2018-10-28 03:00:00':'2019-03-31 01:00:00']\n",
    "    df_10 = df.loc['2019-03-31 02:00:00':'2019-10-27 02:00:00']\n",
    "    df_11 = df.loc['2019-10-27 03:00:00':'2020-03-29 01:00:00']\n",
    "    df_12 = df.loc['2020-03-29 02:00:00':'2020-10-25 02:00:00']\n",
    "    df_13 = df.loc['2020-10-25 03:00:00':]\n",
    "    df_shift = [df_2, df_4, df_6, df_8, df_10, df_12]\n",
    "    no_shift = [df_1, df_3, df_5, df_7, df_9, df_11, df_13]\n",
    "    price_df = df_1\n",
    "    for data in no_shift[1:]:\n",
    "        price_df = pd.concat([price_df, data])\n",
    "    for data in df_shift:\n",
    "        data = data.shift(periods=-1).dropna()\n",
    "        price_df = pd.concat([price_df, data])\n",
    "    price_df = price_df.sort_index()\n",
    "    return price_df"
   ]
  },
  {
   "cell_type": "code",
   "execution_count": 69,
   "metadata": {},
   "outputs": [],
   "source": []
  }
 ],
 "metadata": {
  "kernelspec": {
   "display_name": "Python 3",
   "language": "python",
   "name": "python3"
  },
  "language_info": {
   "codemirror_mode": {
    "name": "ipython",
    "version": 3
   },
   "file_extension": ".py",
   "mimetype": "text/x-python",
   "name": "python",
   "nbconvert_exporter": "python",
   "pygments_lexer": "ipython3",
   "version": "3.7.4"
  },
  "toc": {
   "base_numbering": 1,
   "nav_menu": {},
   "number_sections": true,
   "sideBar": true,
   "skip_h1_title": false,
   "title_cell": "Table of Contents",
   "title_sidebar": "Contents",
   "toc_cell": false,
   "toc_position": {},
   "toc_section_display": true,
   "toc_window_display": false
  },
  "varInspector": {
   "cols": {
    "lenName": 16,
    "lenType": 16,
    "lenVar": 40
   },
   "kernels_config": {
    "python": {
     "delete_cmd_postfix": "",
     "delete_cmd_prefix": "del ",
     "library": "var_list.py",
     "varRefreshCmd": "print(var_dic_list())"
    },
    "r": {
     "delete_cmd_postfix": ") ",
     "delete_cmd_prefix": "rm(",
     "library": "var_list.r",
     "varRefreshCmd": "cat(var_dic_list()) "
    }
   },
   "types_to_exclude": [
    "module",
    "function",
    "builtin_function_or_method",
    "instance",
    "_Feature"
   ],
   "window_display": false
  }
 },
 "nbformat": 4,
 "nbformat_minor": 4
}
